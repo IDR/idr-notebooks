{
 "cells": [
  {
   "cell_type": "markdown",
   "metadata": {},
   "source": [
    "## Compound\n",
    "This notebook explores the metadata and images associated with a set of compounds across all IDR studies.\n",
    "We aim at finding out the range of concentrations used across studies for each compound.\n",
    "We retrieve images associated to each of the compound and offer all the other metadata associated with those images as a CSV.  Using a subset of these images, we further programmatically generate an OMERO.figure that can be viewed in any OMERO.server."
   ]
  },
  {
   "cell_type": "markdown",
   "metadata": {},
   "source": [
    "### Install dependencies if required\n",
    "The cell below will install dependencies if you choose to run the notebook in [Google Colab](https://colab.research.google.com/notebooks/intro.ipynb#recent=true)."
   ]
  },
  {
   "cell_type": "code",
   "execution_count": null,
   "metadata": {},
   "outputs": [],
   "source": [
    "%pip install idr-py"
   ]
  },
  {
   "cell_type": "markdown",
   "metadata": {},
   "source": [
    "### Import libraries "
   ]
  },
  {
   "cell_type": "code",
   "execution_count": 2,
   "metadata": {},
   "outputs": [],
   "source": [
    "import csv\n",
    "import os\n",
    "import pandas as pd\n",
    "from tempfile import NamedTemporaryFile\n",
    "\n",
    "import scipy\n",
    "import numpy\n",
    "from skimage import filters\n",
    "import matplotlib.pyplot as plt\n",
    "from idr import connection\n",
    "\n",
    "import requests\n",
    "import json"
   ]
  },
  {
   "cell_type": "markdown",
   "metadata": {},
   "source": [
    "### Set up where to query and session "
   ]
  },
  {
   "cell_type": "code",
   "execution_count": 3,
   "metadata": {
    "code_folding": [
     3
    ]
   },
   "outputs": [],
   "source": [
    "INDEX_PAGE = \"https://idr.openmicroscopy.org/webclient/?experimenter=-1\"\n",
    "\n",
    "# create http session\n",
    "with requests.Session() as session:\n",
    "    request = requests.Request('GET', INDEX_PAGE)\n",
    "    prepped = session.prepare_request(request)\n",
    "    response = session.send(prepped)\n",
    "    if response.status_code != 200:\n",
    "        response.raise_for_status()"
   ]
  },
  {
   "cell_type": "markdown",
   "metadata": {},
   "source": [
    "### Compounds to query "
   ]
  },
  {
   "cell_type": "code",
   "execution_count": 4,
   "metadata": {},
   "outputs": [],
   "source": [
    "compounds = ['loratadine', 'cycloheximide', 'ML9', 'ML-9']"
   ]
  },
  {
   "cell_type": "markdown",
   "metadata": {},
   "source": [
    "### Set up base URLS so can use shorter variable names later on"
   ]
  },
  {
   "cell_type": "code",
   "execution_count": 5,
   "metadata": {},
   "outputs": [],
   "source": [
    "URL = \"https://idr.openmicroscopy.org/mapr/api/{key}/?value={value}&case_sensitive=false&orphaned=true\"\n",
    "SCREENS_PROJECTS_URL = \"https://idr.openmicroscopy.org/mapr/api/{key}/?value={value}&case_sensitive=false&id={compound_id}\"\n",
    "PLATES_URL = \"https://idr.openmicroscopy.org/mapr/api/{key}/plates/?value={value}&id={screen_id}&case_sensitive=false\"\n",
    "IMAGES_URL = \"https://idr.openmicroscopy.org/mapr/api/{key}/images/?value={value}&node={parent_type}&id={parent_id}&case_sensitive=false\"\n",
    "ATTRIBUTES_URL = \"https://idr.openmicroscopy.org/webclient/api/annotations/?type=map&image={image_id}\""
   ]
  },
  {
   "cell_type": "markdown",
   "metadata": {},
   "source": [
    "### Find images for each compound specified\n",
    "For each compound, search of images in plates then search for annotations associated with the images. The results are saved in a CSV file. "
   ]
  },
  {
   "cell_type": "code",
   "execution_count": 6,
   "metadata": {
    "code_folding": [
     1,
     2
    ]
   },
   "outputs": [],
   "source": [
    "TYPE = \"compound\"\n",
    "KEYS = {TYPE:\n",
    "    (\"InChIKey\",\n",
    "     \"PubChem InChIKey\",\n",
    "     \"Compound Concentration (microMolar)\",\n",
    "     \"Concentration (microMolar)\",\n",
    "     \"Dose\",\n",
    "     \"Compound MoA\",\n",
    "     \"Compound Action\")\n",
    "}"
   ]
  },
  {
   "cell_type": "markdown",
   "metadata": {},
   "source": [
    "#### Helper method\n",
    "Parse the output of the json and save it into the CSV file."
   ]
  },
  {
   "cell_type": "code",
   "execution_count": 7,
   "metadata": {
    "code_folding": [
     0
    ]
   },
   "outputs": [],
   "source": [
    "def parse_annotation(writer, json_data, name, data_type):\n",
    "    plate_name = \"-\"\n",
    "    screen_name = name\n",
    "    for p in json_data[data_type]:\n",
    "        parent_id = p['id']\n",
    "        plate_name = p['name']\n",
    "        qs3 = {'key': TYPE, 'value': compound,\n",
    "                'parent_type': data_type[:-1], 'parent_id': parent_id}\n",
    "        url3 = IMAGES_URL.format(**qs3)\n",
    "        c = compound.lower()\n",
    "        if c.startswith(\"ml\"):\n",
    "            c = 'ml9'\n",
    "        for i in session.get(url3).json()['images']:\n",
    "            image_id = i['id']\n",
    "            url4 = ATTRIBUTES_URL.format(**{'image_id': image_id})\n",
    "            row = {}\n",
    "            inchikey = \"unknown\"\n",
    "            concentration = \"unknown\"\n",
    "            moa = \"unknown\"\n",
    "            for a in session.get(url4).json()['annotations']:\n",
    "                for v in a['values']:\n",
    "                    key = str(v[0])\n",
    "                    if key in KEYS[TYPE]:\n",
    "                        if key in ['InChIKey', 'PubChem InChIKey']:\n",
    "                            inchikey = v[1]\n",
    "                        elif key in ['Dose', 'Compound Concentration (microMolar)', 'Concentration (microMolar)']:\n",
    "                            concentration = float(v[1].replace(' micromolar', ''))\n",
    "                        elif key in ['Compound MoA', 'Compound Action']:\n",
    "                            moa = v[1]\n",
    "            row.update({'Compound': c,\n",
    "                        'Screen': screen_name,\n",
    "                        'Plate': plate_name,\n",
    "                        'Image': image_id,\n",
    "                        'InChIKey': inchikey,\n",
    "                        'Concentration (microMolar)': concentration,\n",
    "                        'MoA': moa})\n",
    "            writer.writerow(row)"
   ]
  },
  {
   "cell_type": "markdown",
   "metadata": {},
   "source": [
    "#### Retrieve data \n",
    "A CSV file is first created in the ``home`` directory. The CSV file can then be downloaded to your local machine. To download it, click ``File > Open``, select the CSV file and open it, then click ``File > Download``.\n",
    "\n",
    "If you are running the notebook in [Google Colab](https://colab.research.google.com/notebooks/intro.ipynb#recent=true), click on the ``Files`` icon on the left-hand side. The files are saved under the ``root`` directory.  "
   ]
  },
  {
   "cell_type": "code",
   "execution_count": 8,
   "metadata": {
    "code_folding": [
     2,
     21
    ]
   },
   "outputs": [],
   "source": [
    "home = os.path.expanduser(\"~\")\n",
    "csvfile = NamedTemporaryFile(\"w\", delete=False, newline='', dir=home, suffix=\".csv\")\n",
    "try:\n",
    "    fieldnames = [\n",
    "        'Compound', 'Screen', 'Plate', 'Image',\n",
    "        'InChIKey', 'Concentration (microMolar)', 'MoA']\n",
    "    writer = csv.DictWriter(csvfile, fieldnames=fieldnames)\n",
    "    writer.writeheader()\n",
    "    for compound in compounds:\n",
    "        qs1 = {'key': TYPE, 'value': compound}\n",
    "        url1 = URL.format(**qs1)\n",
    "        json_data = session.get(url1).json()\n",
    "        for m in json_data['maps']:\n",
    "            qs2 = {'key': TYPE, 'value': compound, 'compound_id': m['id']}\n",
    "            url2 = SCREENS_PROJECTS_URL.format(**qs2)\n",
    "            json_data = session.get(url2).json()\n",
    "            for s in json_data['screens']:\n",
    "                compound = s['extra']['value']\n",
    "                qs3 = {'key': TYPE, 'value': compound, 'screen_id': s['id']}\n",
    "                url3 = PLATES_URL.format(**qs3)\n",
    "                parse_annotation(writer, session.get(url3).json(), s['name'], 'plates')\n",
    "finally:\n",
    "    csvfile.close()"
   ]
  },
  {
   "cell_type": "markdown",
   "metadata": {},
   "source": [
    "### Explore the data\n",
    "Read the generated CSV file into a dataframe."
   ]
  },
  {
   "cell_type": "code",
   "execution_count": 9,
   "metadata": {},
   "outputs": [
    {
     "data": {
      "text/html": [
       "<div>\n",
       "<style scoped>\n",
       "    .dataframe tbody tr th:only-of-type {\n",
       "        vertical-align: middle;\n",
       "    }\n",
       "\n",
       "    .dataframe tbody tr th {\n",
       "        vertical-align: top;\n",
       "    }\n",
       "\n",
       "    .dataframe thead th {\n",
       "        text-align: right;\n",
       "    }\n",
       "</style>\n",
       "<table border=\"1\" class=\"dataframe\">\n",
       "  <thead>\n",
       "    <tr style=\"text-align: right;\">\n",
       "      <th></th>\n",
       "      <th>Compound</th>\n",
       "      <th>Screen</th>\n",
       "      <th>Plate</th>\n",
       "      <th>Image</th>\n",
       "      <th>InChIKey</th>\n",
       "      <th>Concentration (microMolar)</th>\n",
       "      <th>MoA</th>\n",
       "    </tr>\n",
       "  </thead>\n",
       "  <tbody>\n",
       "    <tr>\n",
       "      <th>1940</th>\n",
       "      <td>ml9</td>\n",
       "      <td>idr0094-ellinger-sarscov2/screenB (216)</td>\n",
       "      <td>ESP0025959</td>\n",
       "      <td>10631902</td>\n",
       "      <td>OZSMSRIUUDGTEP-UHFFFAOYSA-N</td>\n",
       "      <td>0.00636</td>\n",
       "      <td>unknown</td>\n",
       "    </tr>\n",
       "    <tr>\n",
       "      <th>2056</th>\n",
       "      <td>ml9</td>\n",
       "      <td>idr0094-ellinger-sarscov2/screenB (216)</td>\n",
       "      <td>ESP0025961</td>\n",
       "      <td>10633852</td>\n",
       "      <td>OZSMSRIUUDGTEP-UHFFFAOYSA-N</td>\n",
       "      <td>0.00636</td>\n",
       "      <td>unknown</td>\n",
       "    </tr>\n",
       "    <tr>\n",
       "      <th>2007</th>\n",
       "      <td>ml9</td>\n",
       "      <td>idr0094-ellinger-sarscov2/screenB (216)</td>\n",
       "      <td>ESP0025960</td>\n",
       "      <td>10633344</td>\n",
       "      <td>OZSMSRIUUDGTEP-UHFFFAOYSA-N</td>\n",
       "      <td>0.00636</td>\n",
       "      <td>unknown</td>\n",
       "    </tr>\n",
       "    <tr>\n",
       "      <th>1991</th>\n",
       "      <td>ml9</td>\n",
       "      <td>idr0094-ellinger-sarscov2/screenB (216)</td>\n",
       "      <td>ESP0025960</td>\n",
       "      <td>10633350</td>\n",
       "      <td>OZSMSRIUUDGTEP-UHFFFAOYSA-N</td>\n",
       "      <td>0.00636</td>\n",
       "      <td>unknown</td>\n",
       "    </tr>\n",
       "    <tr>\n",
       "      <th>2044</th>\n",
       "      <td>ml9</td>\n",
       "      <td>idr0094-ellinger-sarscov2/screenB (216)</td>\n",
       "      <td>ESP0025961</td>\n",
       "      <td>10633848</td>\n",
       "      <td>OZSMSRIUUDGTEP-UHFFFAOYSA-N</td>\n",
       "      <td>0.00636</td>\n",
       "      <td>unknown</td>\n",
       "    </tr>\n",
       "    <tr>\n",
       "      <th>...</th>\n",
       "      <td>...</td>\n",
       "      <td>...</td>\n",
       "      <td>...</td>\n",
       "      <td>...</td>\n",
       "      <td>...</td>\n",
       "      <td>...</td>\n",
       "      <td>...</td>\n",
       "    </tr>\n",
       "    <tr>\n",
       "      <th>1871</th>\n",
       "      <td>ml9</td>\n",
       "      <td>idr0017-breinig-drugscreen/screenA (96)</td>\n",
       "      <td>PTEN-/-_LOPAC_Plate_1_Replicate_2</td>\n",
       "      <td>1741163</td>\n",
       "      <td>unknown</td>\n",
       "      <td>unknown</td>\n",
       "      <td>Inhibitor</td>\n",
       "    </tr>\n",
       "    <tr>\n",
       "      <th>1872</th>\n",
       "      <td>ml9</td>\n",
       "      <td>idr0017-breinig-drugscreen/screenA (96)</td>\n",
       "      <td>PTEN-/-_LOPAC_Plate_1_Replicate_2</td>\n",
       "      <td>1741162</td>\n",
       "      <td>unknown</td>\n",
       "      <td>unknown</td>\n",
       "      <td>Inhibitor</td>\n",
       "    </tr>\n",
       "    <tr>\n",
       "      <th>1873</th>\n",
       "      <td>ml9</td>\n",
       "      <td>idr0017-breinig-drugscreen/screenA (96)</td>\n",
       "      <td>PTEN-/-_LOPAC_Plate_1_Replicate_2</td>\n",
       "      <td>1741160</td>\n",
       "      <td>unknown</td>\n",
       "      <td>unknown</td>\n",
       "      <td>Inhibitor</td>\n",
       "    </tr>\n",
       "    <tr>\n",
       "      <th>1860</th>\n",
       "      <td>ml9</td>\n",
       "      <td>idr0017-breinig-drugscreen/screenA (96)</td>\n",
       "      <td>PI3KCA_mt-/wt+_LOPAC_Plate_1_Replicate_1</td>\n",
       "      <td>1752609</td>\n",
       "      <td>unknown</td>\n",
       "      <td>unknown</td>\n",
       "      <td>Inhibitor</td>\n",
       "    </tr>\n",
       "    <tr>\n",
       "      <th>716</th>\n",
       "      <td>loratadine</td>\n",
       "      <td>idr0094-ellinger-sarscov2/screenA (9)</td>\n",
       "      <td>GUF0000027</td>\n",
       "      <td>10536416</td>\n",
       "      <td>JCCNYMKQOSZNPW-UHFFFAOYSA-N</td>\n",
       "      <td>unknown</td>\n",
       "      <td>unknown</td>\n",
       "    </tr>\n",
       "  </tbody>\n",
       "</table>\n",
       "<p>2099 rows × 7 columns</p>\n",
       "</div>"
      ],
      "text/plain": [
       "        Compound                                   Screen  \\\n",
       "1940         ml9  idr0094-ellinger-sarscov2/screenB (216)   \n",
       "2056         ml9  idr0094-ellinger-sarscov2/screenB (216)   \n",
       "2007         ml9  idr0094-ellinger-sarscov2/screenB (216)   \n",
       "1991         ml9  idr0094-ellinger-sarscov2/screenB (216)   \n",
       "2044         ml9  idr0094-ellinger-sarscov2/screenB (216)   \n",
       "...          ...                                      ...   \n",
       "1871         ml9  idr0017-breinig-drugscreen/screenA (96)   \n",
       "1872         ml9  idr0017-breinig-drugscreen/screenA (96)   \n",
       "1873         ml9  idr0017-breinig-drugscreen/screenA (96)   \n",
       "1860         ml9  idr0017-breinig-drugscreen/screenA (96)   \n",
       "716   loratadine    idr0094-ellinger-sarscov2/screenA (9)   \n",
       "\n",
       "                                         Plate     Image  \\\n",
       "1940                                ESP0025959  10631902   \n",
       "2056                                ESP0025961  10633852   \n",
       "2007                                ESP0025960  10633344   \n",
       "1991                                ESP0025960  10633350   \n",
       "2044                                ESP0025961  10633848   \n",
       "...                                        ...       ...   \n",
       "1871         PTEN-/-_LOPAC_Plate_1_Replicate_2   1741163   \n",
       "1872         PTEN-/-_LOPAC_Plate_1_Replicate_2   1741162   \n",
       "1873         PTEN-/-_LOPAC_Plate_1_Replicate_2   1741160   \n",
       "1860  PI3KCA_mt-/wt+_LOPAC_Plate_1_Replicate_1   1752609   \n",
       "716                                 GUF0000027  10536416   \n",
       "\n",
       "                         InChIKey Concentration (microMolar)        MoA  \n",
       "1940  OZSMSRIUUDGTEP-UHFFFAOYSA-N                    0.00636    unknown  \n",
       "2056  OZSMSRIUUDGTEP-UHFFFAOYSA-N                    0.00636    unknown  \n",
       "2007  OZSMSRIUUDGTEP-UHFFFAOYSA-N                    0.00636    unknown  \n",
       "1991  OZSMSRIUUDGTEP-UHFFFAOYSA-N                    0.00636    unknown  \n",
       "2044  OZSMSRIUUDGTEP-UHFFFAOYSA-N                    0.00636    unknown  \n",
       "...                           ...                        ...        ...  \n",
       "1871                      unknown                    unknown  Inhibitor  \n",
       "1872                      unknown                    unknown  Inhibitor  \n",
       "1873                      unknown                    unknown  Inhibitor  \n",
       "1860                      unknown                    unknown  Inhibitor  \n",
       "716   JCCNYMKQOSZNPW-UHFFFAOYSA-N                    unknown    unknown  \n",
       "\n",
       "[2099 rows x 7 columns]"
      ]
     },
     "execution_count": 9,
     "metadata": {},
     "output_type": "execute_result"
    }
   ],
   "source": [
    "df = pd.read_csv(csvfile.name)\n",
    "df = df.sort_values(by=['Concentration (microMolar)'])\n",
    "df"
   ]
  },
  {
   "cell_type": "markdown",
   "metadata": {},
   "source": [
    "## Determine the number of studies\n",
    "Parse the result returned to determine the number of studies\n",
    "Names like idrXXX/screenA and idrXXX/screenB are counted as one study."
   ]
  },
  {
   "cell_type": "code",
   "execution_count": null,
   "metadata": {
    "code_folding": [
     1
    ]
   },
   "outputs": [],
   "source": [
    "curated = {\"Screen\":[]}\n",
    "for s in pd.unique(df[[\"Screen\"]].values.ravel()):\n",
    "    curated[\"Screen\"].append(s.split(\"/\")[0])\n",
    "\n",
    "df_studies = pd.DataFrame(curated)\n",
    "studies = pd.unique(df_studies[[\"Screen\"]].values.ravel())\n",
    "print(len(studies))"
   ]
  },
  {
   "cell_type": "code",
   "execution_count": 32,
   "metadata": {},
   "outputs": [
    {
     "data": {
      "text/markdown": [
       "The resuls consists of 6 studies and 2099 images."
      ],
      "text/plain": [
       "<IPython.core.display.Markdown object>"
      ]
     },
     "execution_count": 32,
     "metadata": {},
     "output_type": "execute_result"
    }
   ],
   "source": [
    "from IPython.display import Markdown as md\n",
    "md(\"The resuls consists of {} images from {} studies.\".format(len(pd.unique(df[[\"Image\"]].values.ravel())), len(studies)))"
   ]
  },
  {
   "cell_type": "markdown",
   "metadata": {},
   "source": [
    "### Plot histogram\n",
    "Plot the concentration vs the number of images for each compound. \n",
    "A png file ``figure.png`` is created in the ``home`` directory. The file can then be downloaded to your local machine. To download it, select the file by ticking the checkbox on the left-hand side of the file. Then click ``Download``.\n",
    "\n",
    "If you are running the notebook in [Google Colab](https://colab.research.google.com/notebooks/intro.ipynb#recent=true), click on the ``Files`` icon on the left-hand side. The files are saved under the ``root`` directory. "
   ]
  },
  {
   "cell_type": "code",
   "execution_count": 9,
   "metadata": {
    "code_folding": [
     3,
     4
    ]
   },
   "outputs": [
    {
     "data": {
      "image/png": "[encoded data removed]",
      "text/plain": [
       "<Figure size 864x720 with 4 Axes>"
      ]
     },
     "metadata": {
      "needs_background": "light"
     },
     "output_type": "display_data"
    }
   ],
   "source": [
    "from os.path import expanduser\n",
    "home = expanduser(\"~\")\n",
    "ax = df.hist(column='Concentration (microMolar)', by=\"Compound\", bins=25, grid=False, figsize=(12,10), color='#86bf91', zorder=2, rwidth=0.9)\n",
    "for y in ax:\n",
    "    for x in y:\n",
    "        # Set x-axis label\n",
    "        x.set_xlabel(\"Concentration (microMolar)\", labelpad=20, weight='bold', size=12)\n",
    "\n",
    "        # Set y-axis label\n",
    "        x.set_ylabel(\"Number of Images\", labelpad=20, weight='bold', size=12)\n",
    "\n",
    "plt.savefig(home+'/figure.png')"
   ]
  },
  {
   "cell_type": "markdown",
   "metadata": {},
   "source": [
    "### Create an OMERO.figure\n",
    "Create an OMERO.figure programmatically."
   ]
  },
  {
   "cell_type": "markdown",
   "metadata": {},
   "source": [
    "## URL to retrieve IDR data "
   ]
  },
  {
   "cell_type": "code",
   "execution_count": 10,
   "metadata": {},
   "outputs": [],
   "source": [
    "BASE_URL = \"https://idr.openmicroscopy.org/webclient\"\n",
    "IMAGE_DATA_URL = BASE_URL + \"/imgData/{id}\""
   ]
  },
  {
   "cell_type": "markdown",
   "metadata": {},
   "source": [
    "### Helper methods\n",
    "Methods used to generate the json file, see https://github.com/ome/omero-figure/blob/master/docs/figure_file_format.rst"
   ]
  },
  {
   "cell_type": "code",
   "execution_count": 11,
   "metadata": {
    "code_folding": [
     0,
     13,
     33,
     44
    ]
   },
   "outputs": [],
   "source": [
    "def get_image_label(value):\n",
    "    \"\"\"Display the mean as\"\"\"\n",
    "    value = \"%s μM\" % \"{:.2f}\".format(value)\n",
    "    labels = []\n",
    "    labels.append({\n",
    "        \"text\": value,\n",
    "        \"size\": 18,\n",
    "        \"position\": \"topleft\",\n",
    "        \"color\": \"ff0000\"\n",
    "    })\n",
    "    return labels\n",
    "\n",
    "\n",
    "def get_column_label(mean, value):\n",
    "    \"\"\"Display the mean as\"\"\"\n",
    "    mean = \"mean concentration: %s μM\" % \"{:.2f}\".format(mean)\n",
    "    labels = []\n",
    "    labels.append({\n",
    "        \"text\": compound.capitalize(),\n",
    "        \"size\": 24,\n",
    "        \"position\": \"top\",\n",
    "        \"color\": \"000000\"\n",
    "    })\n",
    "    labels.append({\n",
    "        \"text\": mean,\n",
    "        \"size\": 12,\n",
    "        \"position\": \"top\",\n",
    "        \"color\": \"000000\"\n",
    "    })\n",
    "    \n",
    "    return labels\n",
    "\n",
    "\n",
    "def get_scalebar_json():\n",
    "    \"\"\"Return JSON to add a 10 micron scalebar to bottom-right.\"\"\"\n",
    "    return {\"show\": True,\n",
    "            \"length\": 0.5,\n",
    "            \"units\": \"MILLIMETER\",\n",
    "            \"position\": \"bottomright\",\n",
    "            \"color\": \"FFFFFF\",\n",
    "            \"show_label\": True,\n",
    "            \"font_size\": 10}\n",
    "\n",
    "\n",
    "def get_panel_json(image, x, y, width, height):\n",
    "    \"\"\"Get json for a figure panel.\"\"\"\n",
    "    img_json = {\n",
    "        \"imageId\": image['id'],\n",
    "        \"y\": y,\n",
    "        \"x\": x,\n",
    "        \"width\": width,\n",
    "        \"height\": height,\n",
    "        \"orig_width\": image['size']['width'],\n",
    "        \"orig_height\": image['size']['height'],\n",
    "        \"sizeT\": image['size']['z'],\n",
    "        \"sizeZ\": image['size']['t'],\n",
    "        \"channels\": image['channels'],\n",
    "        \"name\": image['meta']['imageName'],\n",
    "        \"theT\": image['rdefs']['defaultT'],\n",
    "        \"theZ\": image['rdefs']['defaultZ'],\n",
    "        \"pixel_size_x\": image['pixel_size']['x'],\n",
    "        \"pixel_size_y\": image['pixel_size']['y'],\n",
    "        \"baseUrl\": BASE_URL,\n",
    "        \"labels\": [],\n",
    "    }\n",
    "    return img_json"
   ]
  },
  {
   "cell_type": "code",
   "execution_count": 14,
   "metadata": {
    "code_folding": [
     0,
     22
    ]
   },
   "outputs": [],
   "source": [
    "def create_column(term, panel_x, panel_y):\n",
    "    df1 = df[df['Compound'].str.contains(term, na=False, case=False)]\n",
    "    if len(df1.index) == 0:\n",
    "        return\n",
    "    count = 0\n",
    "    total = 0\n",
    "    max = float('-inf')\n",
    "    min = float('inf')\n",
    "    for row in df1.index:\n",
    "        concentration = df1['Concentration (microMolar)'][row]\n",
    "        if concentration != \"unknown\":\n",
    "            count = count + 1\n",
    "            c = float(concentration)\n",
    "            total = total + c\n",
    "            if c > max:\n",
    "                max = c\n",
    "            if c < min:\n",
    "                min = c\n",
    "    panel_y = get_images(max, panel_x, panel_y, df1, compound=term, mean=count/total)\n",
    "    get_images(min, panel_x, panel_y, df1)\n",
    "    \n",
    "    \n",
    "def get_images(value, panel_x, panel_y, data, compound=None, mean=-1):\n",
    "    s = str(value)\n",
    "    df1 = data[data['Concentration (microMolar)'] == s]\n",
    "    rows = 0\n",
    "    for row in df1.index:\n",
    "        image_id = df1['Image'][row]\n",
    "        if rows < 2:\n",
    "            qs = {'id': image_id}\n",
    "            url = IMAGE_DATA_URL.format(**qs)\n",
    "            image_data = session.get(url).json()\n",
    "            j = get_panel_json(image_data, panel_x, panel_y,\n",
    "                               panel_width, panel_height)\n",
    "            j['labels'].extend(get_image_label(value))\n",
    "            if rows == 0 and compound is not None:\n",
    "                j['labels'].extend(get_column_label(mean, compound))\n",
    "            panels_json.append(j)\n",
    "            panels_json[-1]['scalebar'] = get_scalebar_json()\n",
    "        else:\n",
    "            break\n",
    "        rows = rows + 1\n",
    "        panel_y += panel_height + spacing\n",
    "    return panel_y          "
   ]
  },
  {
   "cell_type": "markdown",
   "metadata": {},
   "source": [
    "### Create the figure "
   ]
  },
  {
   "cell_type": "code",
   "execution_count": 15,
   "metadata": {},
   "outputs": [],
   "source": [
    "figure_json = {\"version\": 5}\n",
    "panel_width = 150\n",
    "panel_height = panel_width\n",
    "spacing = panel_width/5\n",
    "margin = 40\n",
    "\n",
    "panels_json = []\n",
    "panel_x = margin\n",
    "panel_y = 2*margin\n",
    "for compound in compounds:\n",
    "    create_column(compound.lower(), panel_x, panel_y)\n",
    "    panel_x += panel_width + spacing\n",
    "    panel_y = 2*margin\n",
    "\n",
    "figure_json['panels'] = panels_json\n",
    "figure_json[\"figureName\"] = \"Compounds Concentration\""
   ]
  },
  {
   "cell_type": "markdown",
   "metadata": {},
   "source": [
    "### Save the figure as a json file\n",
    "You can then download the ``.json`` file, by clicking ``File > Open``, selecting it and cliking ``File > Download``. \n",
    "\n",
    "If you are running the notebook in [Google Colab](https://colab.research.google.com/notebooks/intro.ipynb#recent=true), click on the ``Files`` icon on the left-hand side. The files are saved under the ``root`` directory. \n",
    "\n",
    "Alternatively, you can copy the content of the ``json`` file directly from this notebook UI. In OMERO.figure use ``File>Import from JSON...``."
   ]
  },
  {
   "cell_type": "code",
   "execution_count": 16,
   "metadata": {
    "code_folding": []
   },
   "outputs": [],
   "source": [
    "with open(home+'/figure.json', 'w', encoding='utf-8') as f:\n",
    "    json.dump(figure_json, f, ensure_ascii=False, indent=4)"
   ]
  },
  {
   "cell_type": "markdown",
   "metadata": {},
   "source": [
    "### Generated OMERO.figure\n",
    "![OMERO.figure](images/compound_figure.png)"
   ]
  },
  {
   "cell_type": "markdown",
   "metadata": {},
   "source": [
    "Copyright (C) 2021 University of Dundee. All Rights Reserved.\n",
    "This program is free software; you can redistribute it and/or modify it\n",
    "under the terms of the GNU General Public License as published by the\n",
    "Free Software Foundation; either version 2 of the License, or\n",
    "(at your option) any later version.\n",
    "This program is distributed in the hope that it will be useful, but\n",
    "WITHOUT ANY WARRANTY; without even the implied warranty of MERCHANTABILITY\n",
    "or FITNESS FOR A PARTICULAR PURPOSE. See the GNU General Public License for\n",
    "more details. You should have received a copy of the GNU General\n",
    "Public License along with this program; if not, write to the\n",
    "Free Software Foundation,\n",
    "Inc., 51 Franklin Street, Fifth Floor, Boston, MA 02110-1301 USA. "
   ]
  }
 ],
 "metadata": {
  "kernelspec": {
   "display_name": "Python 3",
   "language": "python",
   "name": "python3"
  },
  "language_info": {
   "codemirror_mode": {
    "name": "ipython",
    "version": 3
   },
   "file_extension": ".py",
   "mimetype": "text/x-python",
   "name": "python",
   "nbconvert_exporter": "python",
   "pygments_lexer": "ipython3",
   "version": "3.7.10"
  }
 },
 "nbformat": 4,
 "nbformat_minor": 4
}
