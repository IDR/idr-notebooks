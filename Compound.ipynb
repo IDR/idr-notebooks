{
 "cells": [
  {
   "cell_type": "markdown",
   "metadata": {},
   "source": [
    "## Compound\n",
    "Retrieve images linked to a given set of compounds and check the concentration used."
   ]
  },
  {
   "cell_type": "markdown",
   "metadata": {},
   "source": [
    "### Import libraries "
   ]
  },
  {
   "cell_type": "code",
   "execution_count": 1,
   "metadata": {},
   "outputs": [],
   "source": [
    "import csv\n",
    "import os\n",
    "import pandas as pd\n",
    "from tempfile import NamedTemporaryFile\n",
    "\n",
    "import scipy\n",
    "import numpy\n",
    "from skimage import filters\n",
    "import matplotlib.pyplot as plt\n",
    "from idr import connection\n",
    "\n",
    "import requests"
   ]
  },
  {
   "cell_type": "markdown",
   "metadata": {},
   "source": [
    "### Set up where to query and session "
   ]
  },
  {
   "cell_type": "code",
   "execution_count": 2,
   "metadata": {},
   "outputs": [],
   "source": [
    "INDEX_PAGE = \"https://idr.openmicroscopy.org/webclient/?experimenter=-1\"\n",
    "\n",
    "# create http session\n",
    "with requests.Session() as session:\n",
    "    request = requests.Request('GET', INDEX_PAGE)\n",
    "    prepped = session.prepare_request(request)\n",
    "    response = session.send(prepped)\n",
    "    if response.status_code != 200:\n",
    "        response.raise_for_status()"
   ]
  },
  {
   "cell_type": "markdown",
   "metadata": {},
   "source": [
    "### Compounds to query "
   ]
  },
  {
   "cell_type": "code",
   "execution_count": 3,
   "metadata": {},
   "outputs": [],
   "source": [
    "compounds = ['loratadine', 'cycloheximide', 'ML9', 'ML-9']"
   ]
  },
  {
   "cell_type": "markdown",
   "metadata": {},
   "source": [
    "### Set up base URLS so can use shorter variable names later on"
   ]
  },
  {
   "cell_type": "code",
   "execution_count": 4,
   "metadata": {},
   "outputs": [],
   "source": [
    "URL = \"https://idr.openmicroscopy.org/mapr/api/{key}/?value={value}&case_sensitive=false&orphaned=true\"\n",
    "SCREENS_PROJECTS_URL = \"https://idr.openmicroscopy.org/mapr/api/{key}/?value={value}&case_sensitive=false&id={compound_id}\"\n",
    "PLATES_URL = \"https://idr.openmicroscopy.org/mapr/api/{key}/plates/?value={value}&id={screen_id}&case_sensitive=false\"\n",
    "IMAGES_URL = \"https://idr.openmicroscopy.org/mapr/api/{key}/images/?value={value}&node={parent_type}&id={parent_id}&case_sensitive=false\"\n",
    "ATTRIBUTES_URL = \"https://idr.openmicroscopy.org/webclient/api/annotations/?type=map&image={image_id}\""
   ]
  },
  {
   "cell_type": "markdown",
   "metadata": {},
   "source": [
    "### Find images for each compound specified\n",
    "For each compound, search of images in plates then search for annotations associated with the images. The results are saved in a CSV file. "
   ]
  },
  {
   "cell_type": "code",
   "execution_count": 5,
   "metadata": {},
   "outputs": [],
   "source": [
    "TYPE = \"compound\"\n",
    "KEYS = {TYPE:\n",
    "    (\"InChIKey\",\n",
    "     \"PubChem InChIKey\",\n",
    "     \"Compound Concentration (microMolar)\",\n",
    "     \"Concentration (microMolar)\",\n",
    "     \"Dose\",\n",
    "     \"Compound MoA\",\n",
    "     \"Compound Action\")\n",
    "}"
   ]
  },
  {
   "cell_type": "markdown",
   "metadata": {},
   "source": [
    "#### Helper method\n",
    "Parse the output of the json and save it into the CSV file."
   ]
  },
  {
   "cell_type": "code",
   "execution_count": 19,
   "metadata": {},
   "outputs": [],
   "source": [
    "def parse_annotation(writer, json_data, name, data_type):\n",
    "    plate_name = \"-\"\n",
    "    screen_name = name\n",
    "    for p in json_data[data_type]:\n",
    "        parent_id = p['id']\n",
    "        plate_name = p['name']\n",
    "        qs3 = {'key': TYPE, 'value': compound,\n",
    "                'parent_type': data_type[:-1], 'parent_id': parent_id}\n",
    "        url3 = IMAGES_URL.format(**qs3)\n",
    "        c = compound.lower()\n",
    "        if c.startswith(\"ml\"):\n",
    "            c = 'ml9'\n",
    "        for i in session.get(url3).json()['images']:\n",
    "            image_id = i['id']\n",
    "            url4 = ATTRIBUTES_URL.format(**{'image_id': image_id})\n",
    "            row = {}\n",
    "            inchikey = \"-\"\n",
    "            concentration = \"-\"\n",
    "            moa = \"-\"\n",
    "            for a in session.get(url4).json()['annotations']:\n",
    "                for v in a['values']:\n",
    "                    key = str(v[0])\n",
    "                    if key in KEYS[TYPE]:\n",
    "                        if key in ['InChIKey', 'PubChem InChIKey']:\n",
    "                            inchikey = v[1]\n",
    "                        elif key in ['Dose', 'Compound Concentration (microMolar)', 'Concentration (microMolar)']:\n",
    "                            concentration = float(v[1].replace(' micromolar', ''))\n",
    "                        elif key in ['Compound MoA', 'Compound Action']:\n",
    "                            moa = v[1]\n",
    "            row.update({'Compound': c,\n",
    "                        'Screen': screen_name,\n",
    "                        'Plate': plate_name,\n",
    "                        'Image': image_id,\n",
    "                        'InChIKey': inchikey,\n",
    "                        'Concentration': concentration,\n",
    "                        'MoA': moa})\n",
    "            writer.writerow(row)"
   ]
  },
  {
   "cell_type": "markdown",
   "metadata": {},
   "source": [
    "#### Retrieve data \n",
    "A CSV file is first created in the ``home`` directory. The CSV file can then be downloaded to your local machine. To download it, click ``File > Open``, select the CSV file and open it, then click ``File > Download``."
   ]
  },
  {
   "cell_type": "code",
   "execution_count": 20,
   "metadata": {},
   "outputs": [],
   "source": [
    "home = os.path.expanduser(\"~\")\n",
    "csvfile = NamedTemporaryFile(\"w\", delete=False, newline='', dir=home, suffix=\".csv\")\n",
    "try:\n",
    "    fieldnames = [\n",
    "        'Compound', 'Screen', 'Plate', 'Image',\n",
    "        'InChIKey', 'Concentration', 'MoA']\n",
    "    writer = csv.DictWriter(csvfile, fieldnames=fieldnames)\n",
    "    writer.writeheader()\n",
    "    for compound in compounds:\n",
    "        qs1 = {'key': TYPE, 'value': compound}\n",
    "        url1 = URL.format(**qs1)\n",
    "        json = session.get(url1).json()\n",
    "        for m in json['maps']:\n",
    "            qs2 = {'key': TYPE, 'value': compound, 'compound_id': m['id']}\n",
    "            url2 = SCREENS_PROJECTS_URL.format(**qs2)\n",
    "            json = session.get(url2).json()\n",
    "            for s in json['screens']:\n",
    "                compound = s['extra']['value']\n",
    "                qs3 = {'key': TYPE, 'value': compound, 'screen_id': s['id']}\n",
    "                url3 = PLATES_URL.format(**qs3)\n",
    "                parse_annotation(writer, session.get(url3).json(), s['name'], 'plates')\n",
    "finally:\n",
    "    csvfile.close()"
   ]
  },
  {
   "cell_type": "markdown",
   "metadata": {},
   "source": [
    "### Explore the data\n",
    "Read the generated CSV file into a dataframe."
   ]
  },
  {
   "cell_type": "code",
   "execution_count": 41,
   "metadata": {},
   "outputs": [
    {
     "data": {
      "text/html": [
       "<div>\n",
       "<style scoped>\n",
       "    .dataframe tbody tr th:only-of-type {\n",
       "        vertical-align: middle;\n",
       "    }\n",
       "\n",
       "    .dataframe tbody tr th {\n",
       "        vertical-align: top;\n",
       "    }\n",
       "\n",
       "    .dataframe thead th {\n",
       "        text-align: right;\n",
       "    }\n",
       "</style>\n",
       "<table border=\"1\" class=\"dataframe\">\n",
       "  <thead>\n",
       "    <tr style=\"text-align: right;\">\n",
       "      <th></th>\n",
       "      <th>Compound</th>\n",
       "      <th>Screen</th>\n",
       "      <th>Plate</th>\n",
       "      <th>Image</th>\n",
       "      <th>InChIKey</th>\n",
       "      <th>Concentration</th>\n",
       "      <th>MoA</th>\n",
       "    </tr>\n",
       "  </thead>\n",
       "  <tbody>\n",
       "    <tr>\n",
       "      <th>659</th>\n",
       "      <td>loratadine</td>\n",
       "      <td>idr0017-breinig-drugscreen/screenA (96)</td>\n",
       "      <td>MEK2-/-_LOPAC_Plate_3_Replicate_1</td>\n",
       "      <td>1694384</td>\n",
       "      <td>-</td>\n",
       "      <td>-</td>\n",
       "      <td>Antagonist</td>\n",
       "    </tr>\n",
       "    <tr>\n",
       "      <th>1865</th>\n",
       "      <td>ml9</td>\n",
       "      <td>idr0017-breinig-drugscreen/screenA (96)</td>\n",
       "      <td>PI3KCA_mt-/wt+_LOPAC_Plate_1_Replicate_2</td>\n",
       "      <td>1753645</td>\n",
       "      <td>-</td>\n",
       "      <td>-</td>\n",
       "      <td>Inhibitor</td>\n",
       "    </tr>\n",
       "    <tr>\n",
       "      <th>654</th>\n",
       "      <td>loratadine</td>\n",
       "      <td>idr0017-breinig-drugscreen/screenA (96)</td>\n",
       "      <td>MEK1-/-_LOPAC_Plate_3_Replicate_2</td>\n",
       "      <td>1794680</td>\n",
       "      <td>-</td>\n",
       "      <td>-</td>\n",
       "      <td>Antagonist</td>\n",
       "    </tr>\n",
       "    <tr>\n",
       "      <th>655</th>\n",
       "      <td>loratadine</td>\n",
       "      <td>idr0017-breinig-drugscreen/screenA (96)</td>\n",
       "      <td>MEK1-/-_LOPAC_Plate_3_Replicate_2</td>\n",
       "      <td>1794681</td>\n",
       "      <td>-</td>\n",
       "      <td>-</td>\n",
       "      <td>Antagonist</td>\n",
       "    </tr>\n",
       "    <tr>\n",
       "      <th>1866</th>\n",
       "      <td>ml9</td>\n",
       "      <td>idr0017-breinig-drugscreen/screenA (96)</td>\n",
       "      <td>PTEN-/-_LOPAC_Plate_1_Replicate_1</td>\n",
       "      <td>1739999</td>\n",
       "      <td>-</td>\n",
       "      <td>-</td>\n",
       "      <td>Inhibitor</td>\n",
       "    </tr>\n",
       "    <tr>\n",
       "      <th>...</th>\n",
       "      <td>...</td>\n",
       "      <td>...</td>\n",
       "      <td>...</td>\n",
       "      <td>...</td>\n",
       "      <td>...</td>\n",
       "      <td>...</td>\n",
       "      <td>...</td>\n",
       "    </tr>\n",
       "    <tr>\n",
       "      <th>229</th>\n",
       "      <td>loratadine</td>\n",
       "      <td>idr0088-cox-phenomicprofiling/screenA (560)</td>\n",
       "      <td>110000251707</td>\n",
       "      <td>10810449</td>\n",
       "      <td>JCCNYMKQOSZNPW-UHFFFAOYSA-N</td>\n",
       "      <td>9.0</td>\n",
       "      <td>Histamine receptor antagonist</td>\n",
       "    </tr>\n",
       "    <tr>\n",
       "      <th>227</th>\n",
       "      <td>loratadine</td>\n",
       "      <td>idr0088-cox-phenomicprofiling/screenA (560)</td>\n",
       "      <td>110000251707</td>\n",
       "      <td>10810450</td>\n",
       "      <td>JCCNYMKQOSZNPW-UHFFFAOYSA-N</td>\n",
       "      <td>9.0</td>\n",
       "      <td>Histamine receptor antagonist</td>\n",
       "    </tr>\n",
       "    <tr>\n",
       "      <th>577</th>\n",
       "      <td>loratadine</td>\n",
       "      <td>idr0088-cox-phenomicprofiling/screenA (560)</td>\n",
       "      <td>110000252523</td>\n",
       "      <td>11361781</td>\n",
       "      <td>JCCNYMKQOSZNPW-UHFFFAOYSA-N</td>\n",
       "      <td>9.0</td>\n",
       "      <td>Histamine receptor antagonist</td>\n",
       "    </tr>\n",
       "    <tr>\n",
       "      <th>585</th>\n",
       "      <td>loratadine</td>\n",
       "      <td>idr0088-cox-phenomicprofiling/screenA (560)</td>\n",
       "      <td>110000252601</td>\n",
       "      <td>11402348</td>\n",
       "      <td>JCCNYMKQOSZNPW-UHFFFAOYSA-N</td>\n",
       "      <td>9.0</td>\n",
       "      <td>Histamine receptor antagonist</td>\n",
       "    </tr>\n",
       "    <tr>\n",
       "      <th>1316</th>\n",
       "      <td>cycloheximide</td>\n",
       "      <td>idr0088-cox-phenomicprofiling/screenA (416)</td>\n",
       "      <td>110000252177</td>\n",
       "      <td>11108532</td>\n",
       "      <td>YPHMISFOHDHNIV-FSZOTQKASA-N</td>\n",
       "      <td>9.0</td>\n",
       "      <td>Translation inhibitor</td>\n",
       "    </tr>\n",
       "  </tbody>\n",
       "</table>\n",
       "<p>2099 rows × 7 columns</p>\n",
       "</div>"
      ],
      "text/plain": [
       "           Compound                                       Screen  \\\n",
       "659      loratadine      idr0017-breinig-drugscreen/screenA (96)   \n",
       "1865            ml9      idr0017-breinig-drugscreen/screenA (96)   \n",
       "654      loratadine      idr0017-breinig-drugscreen/screenA (96)   \n",
       "655      loratadine      idr0017-breinig-drugscreen/screenA (96)   \n",
       "1866            ml9      idr0017-breinig-drugscreen/screenA (96)   \n",
       "...             ...                                          ...   \n",
       "229      loratadine  idr0088-cox-phenomicprofiling/screenA (560)   \n",
       "227      loratadine  idr0088-cox-phenomicprofiling/screenA (560)   \n",
       "577      loratadine  idr0088-cox-phenomicprofiling/screenA (560)   \n",
       "585      loratadine  idr0088-cox-phenomicprofiling/screenA (560)   \n",
       "1316  cycloheximide  idr0088-cox-phenomicprofiling/screenA (416)   \n",
       "\n",
       "                                         Plate     Image  \\\n",
       "659          MEK2-/-_LOPAC_Plate_3_Replicate_1   1694384   \n",
       "1865  PI3KCA_mt-/wt+_LOPAC_Plate_1_Replicate_2   1753645   \n",
       "654          MEK1-/-_LOPAC_Plate_3_Replicate_2   1794680   \n",
       "655          MEK1-/-_LOPAC_Plate_3_Replicate_2   1794681   \n",
       "1866         PTEN-/-_LOPAC_Plate_1_Replicate_1   1739999   \n",
       "...                                        ...       ...   \n",
       "229                               110000251707  10810449   \n",
       "227                               110000251707  10810450   \n",
       "577                               110000252523  11361781   \n",
       "585                               110000252601  11402348   \n",
       "1316                              110000252177  11108532   \n",
       "\n",
       "                         InChIKey Concentration                            MoA  \n",
       "659                             -             -                     Antagonist  \n",
       "1865                            -             -                      Inhibitor  \n",
       "654                             -             -                     Antagonist  \n",
       "655                             -             -                     Antagonist  \n",
       "1866                            -             -                      Inhibitor  \n",
       "...                           ...           ...                            ...  \n",
       "229   JCCNYMKQOSZNPW-UHFFFAOYSA-N           9.0  Histamine receptor antagonist  \n",
       "227   JCCNYMKQOSZNPW-UHFFFAOYSA-N           9.0  Histamine receptor antagonist  \n",
       "577   JCCNYMKQOSZNPW-UHFFFAOYSA-N           9.0  Histamine receptor antagonist  \n",
       "585   JCCNYMKQOSZNPW-UHFFFAOYSA-N           9.0  Histamine receptor antagonist  \n",
       "1316  YPHMISFOHDHNIV-FSZOTQKASA-N           9.0          Translation inhibitor  \n",
       "\n",
       "[2099 rows x 7 columns]"
      ]
     },
     "execution_count": 41,
     "metadata": {},
     "output_type": "execute_result"
    }
   ],
   "source": [
    "df = pd.read_csv(csvfile.name)\n",
    "df = df.sort_values(by=['Concentration'])\n",
    "df"
   ]
  },
  {
   "cell_type": "markdown",
   "metadata": {},
   "source": [
    "### Plot histogram\n",
    "Plot the concentration vs the number of images for each compound"
   ]
  },
  {
   "cell_type": "code",
   "execution_count": 42,
   "metadata": {},
   "outputs": [
    {
     "data": {
      "image/png": "[encoded data removed]",
      "text/plain": [
       "<Figure size 864x720 with 4 Axes>"
      ]
     },
     "metadata": {
      "needs_background": "light"
     },
     "output_type": "display_data"
    }
   ],
   "source": [
    "ax = df.hist(column='Concentration', by=\"Compound\", bins=25, grid=False, figsize=(12,10), color='#86bf91', zorder=2, rwidth=0.9)\n",
    "ax = ax[0]\n",
    "for x in ax:\n",
    "    # Set x-axis label\n",
    "    x.set_xlabel(\"Concentration (MicroMolar)\", labelpad=20, weight='bold', size=12)\n",
    "\n",
    "    # Set y-axis label\n",
    "    x.set_ylabel(\"Number of Images\", labelpad=20, weight='bold', size=12)"
   ]
  },
  {
   "cell_type": "markdown",
   "metadata": {},
   "source": [
    "Copyright (C) 2021 University of Dundee. All Rights Reserved.\n",
    "This program is free software; you can redistribute it and/or modify it\n",
    "under the terms of the GNU General Public License as published by the\n",
    "Free Software Foundation; either version 2 of the License, or\n",
    "(at your option) any later version.\n",
    "This program is distributed in the hope that it will be useful, but\n",
    "WITHOUT ANY WARRANTY; without even the implied warranty of MERCHANTABILITY\n",
    "or FITNESS FOR A PARTICULAR PURPOSE. See the GNU General Public License for\n",
    "more details. You should have received a copy of the GNU General\n",
    "Public License along with this program; if not, write to the\n",
    "Free Software Foundation,\n",
    "Inc., 51 Franklin Street, Fifth Floor, Boston, MA 02110-1301 USA. "
   ]
  },
  {
   "cell_type": "code",
   "execution_count": null,
   "metadata": {},
   "outputs": [],
   "source": []
  }
 ],
 "metadata": {
  "kernelspec": {
   "display_name": "Python 3",
   "language": "python",
   "name": "python3"
  },
  "language_info": {
   "codemirror_mode": {
    "name": "ipython",
    "version": 3
   },
   "file_extension": ".py",
   "mimetype": "text/x-python",
   "name": "python",
   "nbconvert_exporter": "python",
   "pygments_lexer": "ipython3",
   "version": "3.7.8"
  }
 },
 "nbformat": 4,
 "nbformat_minor": 4
}
