{
 "cells": [
  {
   "cell_type": "markdown",
   "metadata": {},
   "source": [
    "# Logging in"
   ]
  },
  {
   "cell_type": "markdown",
   "metadata": {},
   "source": [
    "OAuth logins to Jupyter are controlled by membership in the \"[idr-contrib](https://github.com/idr-contrib)\" GitHub organization. **Contact idr at openmicroscopy.org to be added**. Once you've accepted the invitation, you will need to set your membership to \"public\".\n",
    "<table style=\"non\"><tr><td>\n",
    "<img alt=\"oauth login\" src=\"./includes/login_1.png\" width=\"100%\"/></td><td><img alt=\"oauth login\" src=\"./includes/login_2.png\" width=\"100%\"/></tr></table>\n"
   ]
  },
  {
   "cell_type": "markdown",
   "metadata": {},
   "source": [
    "# Running notebooks"
   ]
  },
  {
   "cell_type": "markdown",
   "metadata": {},
   "source": [
    "Once you have connected to https://idr-analysis.openmicroscopy.org/, you can open up an existing notebook and re-run the individual steps. Example notebooks can be found under `notebooks/`, but note that these are read-only."
   ]
  },
  {
   "cell_type": "markdown",
   "metadata": {},
   "source": [
    "# Modifying notebooks"
   ]
  },
  {
   "cell_type": "markdown",
   "metadata": {},
   "source": [
    "Feel free to copy notebooks into the `scratch/` directory or a subdirectory and edit as necessary.\n",
    "\n",
    "** All changes should be considered temporary.** Download a copy of notebooks and results when your session is complete.\n",
    "\n",
    "Server restarts which will likely lose data will be announced on https://twitter.com/IDRstatus"
   ]
  }
 ],
 "metadata": {
  "kernelspec": {
   "display_name": "OMERO Python 2",
   "language": "python",
   "name": "python2"
  },
  "language_info": {
   "codemirror_mode": {
    "name": "ipython",
    "version": 2
   },
   "file_extension": ".py",
   "mimetype": "text/x-python",
   "name": "python",
   "nbconvert_exporter": "python",
   "pygments_lexer": "ipython2",
   "version": "2.7.13"
  }
 },
 "nbformat": 4,
 "nbformat_minor": 2
}
