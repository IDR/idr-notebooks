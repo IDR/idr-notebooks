{
 "cells": [
  {
   "cell_type": "markdown",
   "metadata": {},
   "source": [
    "# Logging in"
   ]
  },
  {
   "cell_type": "markdown",
   "metadata": {},
   "source": [
    "OAuth logins to Jupyter are controlled by membership\n",
    "in the \"[idr-contrib](https://github.com/idr-contrib)\" GitHub organization.\n",
    "**Contact idr at openmicroscopy.org to be added**.\n",
    "Once you have accepted the invitation, you will need to set\n",
    "your membership to \"public\".\n",
    "<table style=\"non\"><tr><td>\n",
    "<img alt=\"oauth login\" src=\"./includes/login_1.png\" width=\"100%\"/></td><td><img alt=\"oauth login\" src=\"./includes/login_2.png\" width=\"100%\"/></tr></table>"
   ]
  },
  {
   "cell_type": "markdown",
   "metadata": {},
   "source": [
    "# Running notebooks"
   ]
  },
  {
   "cell_type": "markdown",
   "metadata": {},
   "source": [
    "Once you have connected to https://idr-analysis.openmicroscopy.org/,\n",
    "you can open up an existing notebook and re-run the individual steps.\n",
    "Example notebooks can be found under `notebooks/`,\n",
    "but note that these are read-only."
   ]
  },
  {
   "cell_type": "markdown",
   "metadata": {},
   "source": [
    "# Modifying notebooks"
   ]
  },
  {
   "cell_type": "markdown",
   "metadata": {},
   "source": [
    "Feel free to copy notebooks into the `scratch/` directory\n",
    "or a subdirectory and edit as necessary.\n",
    "** All changes should be considered temporary.**\n",
    "Download a copy of notebooks and results when your session is complete.\n",
    "Server restarts which will likely lose data will be announced on\n",
    "https://twitter.com/IDRstatus"
   ]
  }
 ],
 "metadata": {
  "kernelspec": {
   "display_name": "Python 3",
   "language": "python",
   "name": "python3"
  },
  "language_info": {
   "codemirror_mode": {
    "name": "ipython",
    "version": 2
   },
   "file_extension": ".py",
   "mimetype": "text/x-python",
   "name": "python",
   "nbconvert_exporter": "python",
   "pygments_lexer": "ipython2",
   "version": "2.7.13"
  }
 },
 "nbformat": 4,
 "nbformat_minor": 2
}
