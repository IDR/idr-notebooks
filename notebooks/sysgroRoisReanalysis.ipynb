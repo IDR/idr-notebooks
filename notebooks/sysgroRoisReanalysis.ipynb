{
 "cells": [
  {
   "cell_type": "code",
   "execution_count": 1,
   "metadata": {
    "collapsed": true
   },
   "outputs": [],
   "source": [
    "\n",
    "from idr import connection\n",
    "import os\n",
    "import numpy as np\n",
    "import matplotlib.pyplot as plt\n",
    "from pandas import Series,DataFrame,read_csv, merge,concat,read_hdf\n",
    "import omero\n",
    "\n",
    "import skimage.measure as skmes\n",
    "import skimage.transform as sktrans\n"
   ]
  },
  {
   "cell_type": "code",
   "execution_count": 2,
   "metadata": {
    "collapsed": true
   },
   "outputs": [],
   "source": [
    "def getBulkAnnotationAsDf(screenID,conn):\n",
    "#    Download the annotation frile from a screen as a Pandas DataFrame\n",
    "    sc=conn.getObject('Screen',screenID)\n",
    "    for ann in sc.listAnnotations():\n",
    "        if isinstance(ann, omero.gateway.FileAnnotationWrapper):\n",
    "            if (ann.getFile().getName()=='bulk_annotations'):\n",
    "                if (ann.getFile().getSize()> 147625090): #about 140Mb?\n",
    "                    print \"that's a big file...\"\n",
    "                    return None\n",
    "                ofId=ann.getFile().getId()\n",
    "                break\n",
    "\n",
    "\n",
    "    original_file = omero.model.OriginalFileI(ofId, False)\n",
    "\n",
    "    openTable = conn.c.sf.sharedResources().openTable(original_file)\n",
    "    rowCount = openTable.getNumberOfRows()\n",
    "\n",
    "    #table to df\n",
    "\n",
    "    column_names = [col.name for col in openTable.getHeaders()]\n",
    "\n",
    "    black_list = []\n",
    "    column_indices = []\n",
    "    for column_name in column_names:\n",
    "        if column_name in black_list:\n",
    "            continue\n",
    "        column_indices.append(column_names.index(column_name))\n",
    "\n",
    "    table_data = openTable.slice(column_indices, None)\n",
    "    data = []\n",
    "    for index in range(rowCount):\n",
    "        row_values = [column.values[index] for column in table_data.columns]\n",
    "        data.append(row_values)\n",
    "\n",
    "    dfAnn=DataFrame(data)\n",
    "    dfAnn.columns=column_names\n",
    "    return dfAnn"
   ]
  },
  {
   "cell_type": "code",
   "execution_count": 3,
   "metadata": {
    "collapsed": true
   },
   "outputs": [],
   "source": [
    "def getLengthsFromStrain(astrain,lenlen=100):\n",
    "    lengths=[]\n",
    "    for we in sysgroba[sysgroba[\"Characteristics [Strain]\"]==astrain].Well.values:\n",
    "        we=conn.getObject('Well',we)\n",
    "        ii=0\n",
    "        while True:\n",
    "            imid=we.getImage(ii)\n",
    "            ii=ii+1\n",
    "            if imid == None:\n",
    "                break\n",
    "            imId=imid.getId()\n",
    "            result = roiService.findByImage(imId, None)\n",
    "            for ii in range(len(result.rois)):\n",
    "\n",
    "                #get the coordinates of the outline of the ROI\n",
    "                s=result.rois[ii].copyShapes()[0]\n",
    "                pts=s.getPoints().getValue()\n",
    "                pts=[int(xx) for x in pts.split(' ') for xx in x.split(',') ]\n",
    "                pts=np.reshape(pts,(len(pts)/2,2))\n",
    "\n",
    "                #from coordinates to mask image\n",
    "                M0,m0,M1,m1=pts[:,0].max(),pts[:,0].min(),pts[:,1].max(),pts[:,1].min()\n",
    "                imroi=np.zeros((M0-m0+1,M1-m1+1))\n",
    "                for i in range(pts.shape[0]):\n",
    "                    imroi[pts[i,0]-m0,pts[i,1]-m1]=1    \n",
    "\n",
    "                iml=skmes.label(1-imroi,connectivity=1)\n",
    "                imroi=1*(iml==iml[iml.shape[0]/2,iml.shape[1]/2])\n",
    "\n",
    "                #length of cell as length of bounding box of rotated image (thanks to the particular shape of yeast cells)\n",
    "                ori=skmes.regionprops(1*imroi)[0].orientation\n",
    "                imroi=sktrans.rotate(1.*imroi,-ori/(np.pi)*180,resize=True, order=0)\n",
    "                bbox=skmes.regionprops(skmes.label(imroi))[0].bbox\n",
    "                lengths.append(bbox[3]-bbox[1])\n",
    "        if len(lengths)>lenlen: #to speed things up when there are a lot of images...\n",
    "            break\n",
    "    return lengths"
   ]
  },
  {
   "cell_type": "code",
   "execution_count": 4,
   "metadata": {
    "collapsed": true
   },
   "outputs": [],
   "source": [
    "conn = connection()\n",
    "roiService = conn.getRoiService()\n"
   ]
  },
  {
   "cell_type": "code",
   "execution_count": 5,
   "metadata": {
    "collapsed": true
   },
   "outputs": [],
   "source": [
    "#get annotation of a screen\n",
    "\n",
    "scId=3 #sysgro\n",
    "sysgroba=getBulkAnnotationAsDf(scId,conn)\n",
    "\n"
   ]
  },
  {
   "cell_type": "code",
   "execution_count": 6,
   "metadata": {},
   "outputs": [],
   "source": [
    "#extract length of cells as stored in ROIs in the IDR\n",
    "\n",
    "WTls=getLengthsFromStrain('MS1404',lenlen=200)\n",
    "ash2ls=getLengthsFromStrain('ash2',lenlen=200)\n",
    "\n",
    "pixsize=.11  #could be taken from IDR metadata\n",
    "ash2ls=[x*pixsize for x in ash2ls]\n",
    "WTls=[x*pixsize for x in WTls]"
   ]
  },
  {
   "cell_type": "code",
   "execution_count": 7,
   "metadata": {},
   "outputs": [
    {
     "data": {
      "image/png": "[encoded data removed]",
      "text/plain": [
       "<matplotlib.figure.Figure at 0x7f2bc32282d0>"
      ]
     },
     "metadata": {},
     "output_type": "display_data"
    }
   ],
   "source": [
    "plt.figure()\n",
    "h1=plt.hist(ash2ls,bins=50, alpha=.5)\n",
    "h2=plt.hist(WTls,bins=50, alpha=.5)\n",
    "    "
   ]
  },
  {
   "cell_type": "code",
   "execution_count": 8,
   "metadata": {},
   "outputs": [
    {
     "data": {
      "text/plain": [
       "Ttest_indResult(statistic=-3.9099766965779321, pvalue=0.00010626848336313707)"
      ]
     },
     "execution_count": 8,
     "metadata": {},
     "output_type": "execute_result"
    }
   ],
   "source": [
    "from scipy.stats import ttest_ind\n",
    "\n",
    "ttest_ind(WTls,ash2ls)"
   ]
  },
  {
   "cell_type": "markdown",
   "metadata": {},
   "source": [
    "# not used"
   ]
  },
  {
   "cell_type": "raw",
   "metadata": {
    "collapsed": true
   },
   "source": [
    "#works for deleted gene but maybe not for control strains? \n",
    "#get images tagged with a given gene using mapr api. (should be able to do it directly without loading annotations?)\n",
    "\n",
    "import requests\n",
    "\n",
    "INDEX_PAGE = \"https://idr.openmicroscopy.org/webclient/?experimenter=-1\"\n",
    "\n",
    "# create http session\n",
    "with requests.Session() as session:\n",
    "    request = requests.Request('GET', INDEX_PAGE)\n",
    "    prepped = session.prepare_request(request)\n",
    "    response = session.send(prepped)\n",
    "    if response.status_code != 200:\n",
    "        response.raise_for_status()\n",
    "\n",
    "\n",
    "agene='tea1'\n",
    "plate_id=sysgroba[sysgroba[\"Characteristics [Strain]\"]==agene].Plate.values[0]\n",
    "\n",
    "IMAGES_URL = \"https://idr.openmicroscopy.org/mapr/api/{key}/images/?value={value}&node={parent_type}&id={parent_id}\"\n",
    "\n",
    "qs = {'key': 'gene', 'value': agene, 'parent_type': 'plate', 'parent_id': plate_id}\n",
    "url = IMAGES_URL.format(**qs)\n",
    "imIds= session.get(url).json()['images']\n",
    "imIds=[x['id'] for x in imIds]"
   ]
  }
 ],
 "metadata": {
  "kernelspec": {
   "display_name": "OMERO Python 2",
   "language": "python",
   "name": "python2"
  },
  "language_info": {
   "codemirror_mode": {
    "name": "ipython",
    "version": 2
   },
   "file_extension": ".py",
   "mimetype": "text/x-python",
   "name": "python",
   "nbconvert_exporter": "python",
   "pygments_lexer": "ipython2",
   "version": "2.7.13"
  }
 },
 "nbformat": 4,
 "nbformat_minor": 2
}
