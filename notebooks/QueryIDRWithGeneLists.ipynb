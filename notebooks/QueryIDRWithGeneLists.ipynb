{
 "cells": [
  {
   "cell_type": "markdown",
   "metadata": {},
   "source": [
    "### Installations of requirements"
   ]
  },
  {
   "cell_type": "markdown",
   "metadata": {},
   "source": [
    "Note: Please restart notebook if you are running this cell. You do not have to rerun this cell everytime, it needs to be only when you need to use a different version of IDR-py library."
   ]
  },
  {
   "cell_type": "code",
   "execution_count": null,
   "metadata": {},
   "outputs": [],
   "source": [
    "!pip2 install --upgrade 'git+https://github.com/bramalingam/idr-py@cleanup_library'"
   ]
  },
  {
   "cell_type": "markdown",
   "metadata": {},
   "source": [
    "### Import libraries and global variables"
   ]
  },
  {
   "cell_type": "code",
   "execution_count": null,
   "metadata": {
    "collapsed": true
   },
   "outputs": [],
   "source": [
    "import pandas\n",
    "\n",
    "from ipywidgets import widgets, interact, fixed\n",
    "from functools import wraps\n",
    "from IPython.display import display, HTML\n",
    "\n",
    "from idr.connections import connection, create_http_session\n",
    "from idr.externalDBs import genes_of_interest_go\n",
    "from idr.widgets import textbox_widget\n",
    "from idr.widgets import dropdown_widget\n",
    "from idr.attributes import get_phenotypes_for_genelist, get_similar_genes\n",
    "\n",
    "from idr.visualizations import plot_idr_attributes, plot_string_interactions\n",
    "from idr.externalDBs import genes_of_interest_from_string\n",
    "\n",
    "import seaborn as sns\n",
    "import matplotlib.pyplot as plt"
   ]
  },
  {
   "cell_type": "markdown",
   "metadata": {},
   "source": [
    "## Querying"
   ]
  },
  {
   "cell_type": "markdown",
   "metadata": {},
   "source": [
    "### Variables:"
   ]
  },
  {
   "cell_type": "code",
   "execution_count": null,
   "metadata": {},
   "outputs": [],
   "source": [
    "idr_url = textbox_widget('http://idr.openmicroscopy.org', 'Enter IDR URL', 'IDR url:', True)\n",
    "idr_username = textbox_widget('', 'Enter Username', 'IDR username:', True)\n",
    "idr_password = textbox_widget('', 'Enter Password', 'IDR password:', True)\n",
    "organisms_list = ['Homo sapiens', 'Saccharomyces cerevisiae']\n",
    "org_sel = dropdown_widget(organisms_list, 'Select Organism:', True)\n",
    "tax_id = textbox_widget('9606', 'Enter Taxonomy Id for Organism', \"Taxonomy Id:\", True)\n",
    "go_term = textbox_widget('', 'Enter GO Id', 'Gene Ontology Id:', True)\n",
    "manual_gene_list = textbox_widget('','Comma seperated gene symbols', 'Manual Gene List:', True)"
   ]
  },
  {
   "cell_type": "markdown",
   "metadata": {},
   "source": [
    "### Import query list"
   ]
  },
  {
   "cell_type": "code",
   "execution_count": null,
   "metadata": {},
   "outputs": [],
   "source": [
    "go_gene_list = []\n",
    "if go_term.value.split(\",\") != ['']:\n",
    "    go_gene_list = genes_of_interest_go(go_term.value, tax_id.value)\n",
    "else:\n",
    "    print 'Please enter a valid Gene Ontology Id'\n",
    "manual_list = manual_gene_list.value.split(\",\")\n",
    "if manual_list != ['']:\n",
    "    go_gene_list = list(set(go_gene_list + manual_list))\n",
    "print \"Query list of genes:\",go_gene_list"
   ]
  },
  {
   "cell_type": "markdown",
   "metadata": {},
   "source": [
    "### Query IDR for Phenotypes"
   ]
  },
  {
   "cell_type": "code",
   "execution_count": null,
   "metadata": {},
   "outputs": [],
   "source": [
    "session = create_http_session(idr_url.value)\n",
    "organism = org_sel.value\n",
    "idr_base_url = idr_url.value\n",
    "\n",
    "[query_genes_dataframe, screen_to_phenotype_dictionary] = get_phenotypes_for_genelist(idr_base_url, session, go_gene_list, organism)\n",
    "display(HTML(query_genes_dataframe.to_html( escape=False)))"
   ]
  },
  {
   "cell_type": "markdown",
   "metadata": {},
   "source": [
    "### Get Other Genes from the phenotypes"
   ]
  },
  {
   "cell_type": "code",
   "execution_count": null,
   "metadata": {},
   "outputs": [],
   "source": [
    "hostname = str(idr_url.value[idr_url.value.index('//')+2:])\n",
    "username = str(idr_username.value)\n",
    "password = str(idr_password.value)\n",
    "\n",
    "conn = connection(hostname, username, password, 4064)\n",
    "try:\n",
    "    query_genes_list = list(query_genes_dataframe['Value'])\n",
    "    [similar_genes, overlap_genes] = get_similar_genes(conn, query_genes_list, screen_to_phenotype_dictionary)\n",
    "    overlap_genes_dataframe = pandas.DataFrame.from_dict(overlap_genes, orient='index')\n",
    "    display(HTML(\"<strong>Query Genes:</strong>\"))\n",
    "    display(HTML(overlap_genes_dataframe.to_html( escape=False)))\n",
    "    \n",
    "    similar_genes_dataframe = pandas.DataFrame.from_dict(similar_genes, orient='index')\n",
    "    display(HTML(\"<strong>Similar Genes:</strong>\"))\n",
    "    display(HTML(similar_genes_dataframe.to_html( escape=False)))\n",
    "finally:\n",
    "    conn.close()    "
   ]
  },
  {
   "cell_type": "markdown",
   "metadata": {},
   "source": [
    "## Visualisation"
   ]
  },
  {
   "cell_type": "markdown",
   "metadata": {},
   "source": [
    "### Plot Query Genes"
   ]
  },
  {
   "cell_type": "code",
   "execution_count": null,
   "metadata": {},
   "outputs": [],
   "source": [
    "%matplotlib inline\n",
    "filter_by_category=widgets.Dropdown(description='Filter_by_category', options=['Phenotypes','Screens'])\n",
    "threshold_for_category = widgets.IntSlider(description='Threshold_for_category', min=1,max=10,step=1,value=1)\n",
    "threshold_for_plot = widgets.IntSlider(description='Threshold_for_plot', min=1,max=10,step=1,value=1)\n",
    "@interact(primary_dictionary=fixed(overlap_genes), secondary_dictionary=fixed(overlap_genes), plot_title=fixed('Query Genes'), filter_by_category = filter_by_category, threshold_for_category = threshold_for_category, threshold_for_plot = threshold_for_plot)\n",
    "@wraps(plot_idr_attributes)\n",
    "def myfun(**kwargs):\n",
    "    global screenids_removed, phenotypes_removed, genes_of_interest\n",
    "    [screenids_removed, phenotypes_removed, genes_of_interest] = plot_idr_attributes(**kwargs)"
   ]
  },
  {
   "cell_type": "markdown",
   "metadata": {},
   "source": [
    "### Plot Similar Genes"
   ]
  },
  {
   "cell_type": "code",
   "execution_count": null,
   "metadata": {},
   "outputs": [],
   "source": [
    "for ids in screenids_removed:\n",
    "    if ids in similar_genes:\n",
    "        del similar_genes[ids]\n",
    "\n",
    "@interact(primary_dictionary=fixed(similar_genes), secondary_dictionary=fixed(overlap_genes), plot_title=fixed('Similar genes'), filter_by_category = fixed(filter_by_category.value), threshold_for_category = fixed(threshold_for_category.value),threshold_for_plot = widgets.IntSlider(min=1,max=10,step=1,value=5))\n",
    "@wraps(plot_idr_attributes)\n",
    "def myfun(**kwargs):\n",
    "    global screenids_removed, phenotypes_removed, genes_of_interest\n",
    "    [screenids_removed, phenotypes_removed, genes_of_interest] = plot_idr_attributes(**kwargs)\n",
    "    \n",
    "similar_genes_list = genes_of_interest"
   ]
  },
  {
   "cell_type": "markdown",
   "metadata": {},
   "source": [
    "### Get String Interactions"
   ]
  },
  {
   "cell_type": "markdown",
   "metadata": {},
   "source": [
    "### Plot string interactions between similar genes and query genes/similar genes"
   ]
  },
  {
   "cell_type": "code",
   "execution_count": null,
   "metadata": {},
   "outputs": [],
   "source": [
    "similar_genes_list = list(set(genes_of_interest) - set(go_gene_list))\n",
    "genes_of_interest1 = list(set(go_gene_list + similar_genes_list))\n",
    "interactions_dataframe = genes_of_interest_from_string(genes_of_interest1, 1, tax_id.value)\n",
    "\n",
    "print 'Primary Interactors:'\n",
    "df = plot_string_interactions(go_gene_list, similar_genes_list, interactions_dataframe)\n",
    "\n",
    "primary_genes = list(df.columns.values)\n",
    "secondary_genes = set(similar_genes_list) - set(primary_genes)\n",
    "print 'Secondary Interactors:'\n",
    "df = plot_string_interactions(secondary_genes, primary_genes, interactions_dataframe)"
   ]
  },
  {
   "cell_type": "code",
   "execution_count": null,
   "metadata": {
    "collapsed": true
   },
   "outputs": [],
   "source": []
  }
 ],
 "metadata": {
  "kernelspec": {
   "display_name": "OMERO Python 2",
   "language": "python",
   "name": "python2"
  },
  "language_info": {
   "codemirror_mode": {
    "name": "ipython",
    "version": 2
   },
   "file_extension": ".py",
   "mimetype": "text/x-python",
   "name": "python",
   "nbconvert_exporter": "python",
   "pygments_lexer": "ipython2",
   "version": "2.7.13"
  }
 },
 "nbformat": 4,
 "nbformat_minor": 2
}
