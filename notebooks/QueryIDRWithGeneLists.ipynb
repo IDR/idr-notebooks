{
 "cells": [
  {
   "cell_type": "markdown",
   "metadata": {},
   "source": [
    "### Import libraries and global variables"
   ]
  },
  {
   "cell_type": "code",
   "execution_count": 1,
   "metadata": {},
   "outputs": [],
   "source": [
    "import pandas\n",
    "\n",
    "from ipywidgets import widgets, interact, fixed\n",
    "from functools import wraps\n",
    "from IPython.display import display, HTML\n",
    "\n",
    "# import idr\n",
    "from idr import connection, create_http_session\n",
    "from idr import genes_of_interest_go\n",
    "from idr.widgets import textbox_widget\n",
    "from idr.widgets import dropdown_widget\n",
    "from idr import get_phenotypes_for_genelist, get_similar_genes\n",
    "\n",
    "from idr.visualizations import plot_idr_attributes, plot_string_interactions\n",
    "from idr.externalDBs import genes_of_interest_from_string\n",
    "\n",
    "import seaborn as sns\n",
    "import matplotlib.pyplot as plt"
   ]
  },
  {
   "cell_type": "markdown",
   "metadata": {},
   "source": [
    "## Querying"
   ]
  },
  {
   "cell_type": "markdown",
   "metadata": {},
   "source": [
    "### Variables:"
   ]
  },
  {
   "cell_type": "code",
   "execution_count": 2,
   "metadata": {},
   "outputs": [
    {
     "data": {
      "application/vnd.jupyter.widget-view+json": {
       "model_id": "917e268b00074b1cbbde089ffacd72b2",
       "version_major": 2,
       "version_minor": 0
      },
      "text/html": [
       "<p>Failed to display Jupyter Widget of type <code>Dropdown</code>.</p>\n",
       "<p>\n",
       "  If you're reading this message in the Jupyter Notebook or JupyterLab Notebook, it may mean\n",
       "  that the widgets JavaScript is still loading. If this message persists, it\n",
       "  likely means that the widgets JavaScript library is either not installed or\n",
       "  not enabled. See the <a href=\"https://ipywidgets.readthedocs.io/en/stable/user_install.html\">Jupyter\n",
       "  Widgets Documentation</a> for setup instructions.\n",
       "</p>\n",
       "<p>\n",
       "  If you're reading this message in another frontend (for example, a static\n",
       "  rendering on GitHub or <a href=\"https://nbviewer.jupyter.org/\">NBViewer</a>),\n",
       "  it may mean that your frontend doesn't currently support widgets.\n",
       "</p>\n"
      ],
      "text/plain": [
       "Dropdown(description=u'Select Organism:', options=('Homo sapiens', 'Saccharomyces cerevisiae'), value='Homo sapiens')"
      ]
     },
     "metadata": {},
     "output_type": "display_data"
    },
    {
     "data": {
      "application/vnd.jupyter.widget-view+json": {
       "model_id": "ca6329bee0424c1fb074ffc6318f0cf6",
       "version_major": 2,
       "version_minor": 0
      },
      "text/html": [
       "<p>Failed to display Jupyter Widget of type <code>Text</code>.</p>\n",
       "<p>\n",
       "  If you're reading this message in the Jupyter Notebook or JupyterLab Notebook, it may mean\n",
       "  that the widgets JavaScript is still loading. If this message persists, it\n",
       "  likely means that the widgets JavaScript library is either not installed or\n",
       "  not enabled. See the <a href=\"https://ipywidgets.readthedocs.io/en/stable/user_install.html\">Jupyter\n",
       "  Widgets Documentation</a> for setup instructions.\n",
       "</p>\n",
       "<p>\n",
       "  If you're reading this message in another frontend (for example, a static\n",
       "  rendering on GitHub or <a href=\"https://nbviewer.jupyter.org/\">NBViewer</a>),\n",
       "  it may mean that your frontend doesn't currently support widgets.\n",
       "</p>\n"
      ],
      "text/plain": [
       "Text(value=u'9606', description=u'Taxonomy Id:', placeholder=u'Enter Taxonomy Id for Organism')"
      ]
     },
     "metadata": {},
     "output_type": "display_data"
    },
    {
     "data": {
      "application/vnd.jupyter.widget-view+json": {
       "model_id": "c81bcd602e2e45fd84af1b1f004c3996",
       "version_major": 2,
       "version_minor": 0
      },
      "text/html": [
       "<p>Failed to display Jupyter Widget of type <code>Text</code>.</p>\n",
       "<p>\n",
       "  If you're reading this message in the Jupyter Notebook or JupyterLab Notebook, it may mean\n",
       "  that the widgets JavaScript is still loading. If this message persists, it\n",
       "  likely means that the widgets JavaScript library is either not installed or\n",
       "  not enabled. See the <a href=\"https://ipywidgets.readthedocs.io/en/stable/user_install.html\">Jupyter\n",
       "  Widgets Documentation</a> for setup instructions.\n",
       "</p>\n",
       "<p>\n",
       "  If you're reading this message in another frontend (for example, a static\n",
       "  rendering on GitHub or <a href=\"https://nbviewer.jupyter.org/\">NBViewer</a>),\n",
       "  it may mean that your frontend doesn't currently support widgets.\n",
       "</p>\n"
      ],
      "text/plain": [
       "Text(value=u'', description=u'Gene Ontology Id:', placeholder=u'Enter GO Id')"
      ]
     },
     "metadata": {},
     "output_type": "display_data"
    },
    {
     "data": {
      "application/vnd.jupyter.widget-view+json": {
       "model_id": "97b3276aa6d94b3b9ce0eba7426acab2",
       "version_major": 2,
       "version_minor": 0
      },
      "text/html": [
       "<p>Failed to display Jupyter Widget of type <code>Text</code>.</p>\n",
       "<p>\n",
       "  If you're reading this message in the Jupyter Notebook or JupyterLab Notebook, it may mean\n",
       "  that the widgets JavaScript is still loading. If this message persists, it\n",
       "  likely means that the widgets JavaScript library is either not installed or\n",
       "  not enabled. See the <a href=\"https://ipywidgets.readthedocs.io/en/stable/user_install.html\">Jupyter\n",
       "  Widgets Documentation</a> for setup instructions.\n",
       "</p>\n",
       "<p>\n",
       "  If you're reading this message in another frontend (for example, a static\n",
       "  rendering on GitHub or <a href=\"https://nbviewer.jupyter.org/\">NBViewer</a>),\n",
       "  it may mean that your frontend doesn't currently support widgets.\n",
       "</p>\n"
      ],
      "text/plain": [
       "Text(value=u'', description=u'Manual Gene List:', placeholder=u'Comma seperated gene symbols')"
      ]
     },
     "metadata": {},
     "output_type": "display_data"
    }
   ],
   "source": [
    "organisms_list = ['Homo sapiens', 'Saccharomyces cerevisiae']\n",
    "org_sel = dropdown_widget(organisms_list, 'Select Organism:', True)\n",
    "tax_id = textbox_widget('9606', 'Enter Taxonomy Id for Organism', \"Taxonomy Id:\", True)\n",
    "go_term = textbox_widget('', 'Enter GO Id', 'Gene Ontology Id:', True)\n",
    "manual_gene_list = textbox_widget('','Comma seperated gene symbols', 'Manual Gene List:', True)"
   ]
  },
  {
   "cell_type": "markdown",
   "metadata": {},
   "source": [
    "### Import query list"
   ]
  },
  {
   "cell_type": "code",
   "execution_count": 5,
   "metadata": {},
   "outputs": [
    {
     "name": "stdout",
     "output_type": "stream",
     "text": [
      "Query list of genes: ['WASHC1', 'FKSG74', 'WASH', 'DKFZp686C24272', 'IQGAP2', 'ARPC4-TTLL3', 'JMY', 'WASH3P', 'WHAMM', 'HEL-S-307', 'ARPC3', 'ARPC2', 'TRIM27', 'WASH6P', 'ARPC5', 'ARPC4', 'HEL-68', 'ARPC1B', 'ARPC1A', 'ARPC5L', 'ACTR3C', 'ACTR3B', 'WASH2P', 'MAGEL2', 'WHAMMP3', 'WASH4P', 'FLJ00075', 'DKFZp434K1323', 'FKSG72', 'FKSG73', 'ACTR3', 'ACTR2']\n"
     ]
    }
   ],
   "source": [
    "go_gene_list = []\n",
    "if go_term.value.split(\",\") != ['']:\n",
    "    go_gene_list = genes_of_interest_go(go_term.value, tax_id.value)\n",
    "else:\n",
    "    print 'Please enter a valid Gene Ontology Id'\n",
    "manual_list = manual_gene_list.value.split(\",\")\n",
    "if manual_list != ['']:\n",
    "    go_gene_list = list(set(go_gene_list + manual_list))\n",
    "print \"Query list of genes:\",go_gene_list"
   ]
  },
  {
   "cell_type": "markdown",
   "metadata": {},
   "source": [
    "### Query IDR for Phenotypes"
   ]
  },
  {
   "cell_type": "code",
   "execution_count": 6,
   "metadata": {},
   "outputs": [
    {
     "name": "stdout",
     "output_type": "stream",
     "text": [
      "[============================================================] 100.0% ...Iterating through gene list\r"
     ]
    },
    {
     "data": {
      "text/html": [
       "<table border=\"1\" class=\"dataframe\">\n",
       "  <thead>\n",
       "    <tr style=\"text-align: right;\">\n",
       "      <th></th>\n",
       "      <th>Entrez</th>\n",
       "      <th>Ensembl</th>\n",
       "      <th>Key</th>\n",
       "      <th>Value</th>\n",
       "      <th>PhenotypeName</th>\n",
       "      <th>PhenotypeAccession</th>\n",
       "      <th>ScreenIds</th>\n",
       "    </tr>\n",
       "  </thead>\n",
       "  <tbody>\n",
       "    <tr>\n",
       "      <th>WASHC1</th>\n",
       "      <td>[100287171]</td>\n",
       "      <td>[ENSG00000181404]</td>\n",
       "      <td>EnsemblID</td>\n",
       "      <td>ENSG00000181404</td>\n",
       "      <td>[cell death phenotype, abnormal chromosome seg...</td>\n",
       "      <td>[CMPO_0000326, CMPO_0000030, CMPO_0000213, CMP...</td>\n",
       "      <td>[1101, 1101, 1101, 1101, 1101]</td>\n",
       "    </tr>\n",
       "    <tr>\n",
       "      <th>ARPC2</th>\n",
       "      <td>[10109]</td>\n",
       "      <td>[ENSG00000163466]</td>\n",
       "      <td>GeneName</td>\n",
       "      <td>ARPC2</td>\n",
       "      <td>[decreased cell numbers, geometric cell phenot...</td>\n",
       "      <td>[CMPO_0000274, CMPO_0000299, CMPO_0000276, CMP...</td>\n",
       "      <td>[206, 206, 206, 206, 206, 206, 206, 206, 206, ...</td>\n",
       "    </tr>\n",
       "    <tr>\n",
       "      <th>ARPC1A</th>\n",
       "      <td>[10552]</td>\n",
       "      <td>[ENSG00000241685]</td>\n",
       "      <td>GeneName</td>\n",
       "      <td>ARPC1A</td>\n",
       "      <td>[strong decrease in rate of protein secretion]</td>\n",
       "      <td>[CMPO_0000319]</td>\n",
       "      <td>[251]</td>\n",
       "    </tr>\n",
       "    <tr>\n",
       "      <th>TRIM27</th>\n",
       "      <td>[5987]</td>\n",
       "      <td>[ENSG00000204713, ENSG00000237071, ENSG0000021...</td>\n",
       "      <td>EntrezID</td>\n",
       "      <td>5987</td>\n",
       "      <td>[deformed nucleus, increased cell size in popu...</td>\n",
       "      <td>[CMPO_0000340, CMPO_0000128, CMPO_0000113]</td>\n",
       "      <td>[1801, 1801, 1801]</td>\n",
       "    </tr>\n",
       "    <tr>\n",
       "      <th>ACTR3C</th>\n",
       "      <td>[653857]</td>\n",
       "      <td>[ENSG00000106526]</td>\n",
       "      <td>EnsemblID</td>\n",
       "      <td>ENSG00000106526</td>\n",
       "      <td>[cell death phenotype, mitosis delayed phenoty...</td>\n",
       "      <td>[CMPO_0000305, CMPO_0000348, CMPO_0000307, CMP...</td>\n",
       "      <td>[1101, 1101, 1101, 1101, 1101, 1101, 1101]</td>\n",
       "    </tr>\n",
       "    <tr>\n",
       "      <th>ARPC4</th>\n",
       "      <td>[10093]</td>\n",
       "      <td>[ENSG00000241553]</td>\n",
       "      <td>GeneName</td>\n",
       "      <td>ARPC4</td>\n",
       "      <td>[mild decrease in rate of protein secretion]</td>\n",
       "      <td>[CMPO_0000318]</td>\n",
       "      <td>[251]</td>\n",
       "    </tr>\n",
       "    <tr>\n",
       "      <th>ACTR3B</th>\n",
       "      <td>[57180]</td>\n",
       "      <td>[ENSG00000133627]</td>\n",
       "      <td>GeneName</td>\n",
       "      <td>ACTR3B</td>\n",
       "      <td>[binuclear cell phenotype]</td>\n",
       "      <td>[CMPO_0000213]</td>\n",
       "      <td>[1101]</td>\n",
       "    </tr>\n",
       "    <tr>\n",
       "      <th>HEL-68</th>\n",
       "      <td>[10552]</td>\n",
       "      <td>[ENSG00000241685]</td>\n",
       "      <td>EnsemblID</td>\n",
       "      <td>ENSG00000241685</td>\n",
       "      <td>[strong decrease in rate of protein secretion]</td>\n",
       "      <td>[CMPO_0000319]</td>\n",
       "      <td>[251]</td>\n",
       "    </tr>\n",
       "    <tr>\n",
       "      <th>ARPC5L</th>\n",
       "      <td>[81873]</td>\n",
       "      <td>[ENSG00000136950]</td>\n",
       "      <td>GeneName</td>\n",
       "      <td>ARPC5L</td>\n",
       "      <td>[increased actin localised to the nucleus, elo...</td>\n",
       "      <td>[CMPO_0000261, CMPO_0000287, CMPO_0000288, CMP...</td>\n",
       "      <td>[206, 206, 206, 206, 206, 206, 206, 206, 206, ...</td>\n",
       "    </tr>\n",
       "    <tr>\n",
       "      <th>ACTR3</th>\n",
       "      <td>[10096]</td>\n",
       "      <td>[ENSG00000115091]</td>\n",
       "      <td>GeneName</td>\n",
       "      <td>ACTR3</td>\n",
       "      <td>[strong decrease in rate of protein secretion,...</td>\n",
       "      <td>[CMPO_0000319, CMPO_0000319]</td>\n",
       "      <td>[251, 803]</td>\n",
       "    </tr>\n",
       "    <tr>\n",
       "      <th>IQGAP2</th>\n",
       "      <td>[10788]</td>\n",
       "      <td>[ENSG00000145703]</td>\n",
       "      <td>GeneName</td>\n",
       "      <td>IQGAP2</td>\n",
       "      <td>[mild decrease in rate of protein secretion]</td>\n",
       "      <td>[CMPO_0000318]</td>\n",
       "      <td>[251]</td>\n",
       "    </tr>\n",
       "  </tbody>\n",
       "</table>"
      ],
      "text/plain": [
       "<IPython.core.display.HTML object>"
      ]
     },
     "metadata": {},
     "output_type": "display_data"
    }
   ],
   "source": [
    "session = create_http_session()\n",
    "organism = org_sel.value\n",
    "\n",
    "[query_genes_dataframe, screen_to_phenotype_dictionary] = get_phenotypes_for_genelist(session, go_gene_list, organism)\n",
    "display(HTML(query_genes_dataframe.to_html( escape=False)))"
   ]
  },
  {
   "cell_type": "markdown",
   "metadata": {},
   "source": [
    "### Get Other Genes from the phenotypes"
   ]
  },
  {
   "cell_type": "code",
   "execution_count": 7,
   "metadata": {},
   "outputs": [
    {
     "name": "stdout",
     "output_type": "stream",
     "text": [
      "Connected to IDR...\n",
      "[============================================================] 100.0% ...Iterating through screens\r"
     ]
    },
    {
     "data": {
      "text/html": [
       "<strong>Query Genes:</strong>"
      ],
      "text/plain": [
       "<IPython.core.display.HTML object>"
      ]
     },
     "metadata": {},
     "output_type": "display_data"
    },
    {
     "data": {
      "text/html": [
       "<table border=\"1\" class=\"dataframe\">\n",
       "  <thead>\n",
       "    <tr style=\"text-align: right;\">\n",
       "      <th></th>\n",
       "      <th>metaphase arrested phenotype</th>\n",
       "      <th>metaphase delayed phenotype</th>\n",
       "      <th>decreased cell numbers</th>\n",
       "      <th>elongated cell phenotype</th>\n",
       "      <th>increased actin localised to the nucleus</th>\n",
       "      <th>round cell phenotype</th>\n",
       "      <th>fan-shaped lamellipodia phenotype</th>\n",
       "      <th>increased amount of zig-zag stress fibers</th>\n",
       "      <th>microtubules nuclear bracket phenotype</th>\n",
       "      <th>more multinucleate cells</th>\n",
       "      <th>increased variability of cell shape in population</th>\n",
       "      <th>disorganised cortical actin cytoskeleton phenotype</th>\n",
       "      <th>microtubules nuclear ring phenotype</th>\n",
       "      <th>increased lamellipodia width phenotype</th>\n",
       "      <th>increased amount of stress fibers phenotype</th>\n",
       "      <th>increased amount of transverse stress fibers</th>\n",
       "      <th>increased cell size phenotype</th>\n",
       "      <th>geometric cell phenotype</th>\n",
       "      <th>cell death phenotype</th>\n",
       "      <th>polylobed nuclear phenotype</th>\n",
       "      <th>mitosis delayed phenotype</th>\n",
       "      <th>mitosis arrested</th>\n",
       "      <th>mitotic metaphase plate congression phenotype</th>\n",
       "      <th>abnormal chromosome segregation phenotype</th>\n",
       "      <th>binuclear cell phenotype</th>\n",
       "      <th>abnormal cell cycle phenotype</th>\n",
       "      <th>abnormal nucleus shape phenotype</th>\n",
       "      <th>strong decrease in rate of protein secretion</th>\n",
       "      <th>mild decrease in rate of protein secretion</th>\n",
       "    </tr>\n",
       "  </thead>\n",
       "  <tbody>\n",
       "    <tr>\n",
       "      <th>1101</th>\n",
       "      <td>[ACTR3C]</td>\n",
       "      <td>[ACTR3C]</td>\n",
       "      <td>NaN</td>\n",
       "      <td>NaN</td>\n",
       "      <td>NaN</td>\n",
       "      <td>NaN</td>\n",
       "      <td>NaN</td>\n",
       "      <td>NaN</td>\n",
       "      <td>NaN</td>\n",
       "      <td>NaN</td>\n",
       "      <td>NaN</td>\n",
       "      <td>NaN</td>\n",
       "      <td>NaN</td>\n",
       "      <td>NaN</td>\n",
       "      <td>NaN</td>\n",
       "      <td>NaN</td>\n",
       "      <td>NaN</td>\n",
       "      <td>NaN</td>\n",
       "      <td>[WASHC1, ACTR3C]</td>\n",
       "      <td>[WASHC1]</td>\n",
       "      <td>[ACTR3C]</td>\n",
       "      <td>[ACTR3C]</td>\n",
       "      <td>[ACTR3C]</td>\n",
       "      <td>[WASHC1]</td>\n",
       "      <td>[ARPC2, WASHC1, ACTR3B]</td>\n",
       "      <td>[ACTR3C]</td>\n",
       "      <td>[WASHC1]</td>\n",
       "      <td>NaN</td>\n",
       "      <td>NaN</td>\n",
       "    </tr>\n",
       "    <tr>\n",
       "      <th>1302</th>\n",
       "      <td>[ARPC2]</td>\n",
       "      <td>[ARPC2]</td>\n",
       "      <td>NaN</td>\n",
       "      <td>NaN</td>\n",
       "      <td>NaN</td>\n",
       "      <td>NaN</td>\n",
       "      <td>NaN</td>\n",
       "      <td>NaN</td>\n",
       "      <td>NaN</td>\n",
       "      <td>NaN</td>\n",
       "      <td>NaN</td>\n",
       "      <td>NaN</td>\n",
       "      <td>NaN</td>\n",
       "      <td>NaN</td>\n",
       "      <td>NaN</td>\n",
       "      <td>NaN</td>\n",
       "      <td>NaN</td>\n",
       "      <td>NaN</td>\n",
       "      <td>NaN</td>\n",
       "      <td>NaN</td>\n",
       "      <td>NaN</td>\n",
       "      <td>NaN</td>\n",
       "      <td>NaN</td>\n",
       "      <td>NaN</td>\n",
       "      <td>NaN</td>\n",
       "      <td>NaN</td>\n",
       "      <td>NaN</td>\n",
       "      <td>NaN</td>\n",
       "      <td>NaN</td>\n",
       "    </tr>\n",
       "    <tr>\n",
       "      <th>206</th>\n",
       "      <td>NaN</td>\n",
       "      <td>NaN</td>\n",
       "      <td>[ARPC2, ARPC5L]</td>\n",
       "      <td>[ARPC5L]</td>\n",
       "      <td>[ARPC5L]</td>\n",
       "      <td>[ARPC5L]</td>\n",
       "      <td>[ARPC5L]</td>\n",
       "      <td>[ARPC2]</td>\n",
       "      <td>[ARPC5L]</td>\n",
       "      <td>[ARPC2]</td>\n",
       "      <td>[ARPC5L]</td>\n",
       "      <td>[ARPC2, ARPC5L]</td>\n",
       "      <td>[ARPC5L]</td>\n",
       "      <td>[ARPC2, ARPC5L]</td>\n",
       "      <td>[ARPC2, ARPC5L]</td>\n",
       "      <td>[ARPC2, ARPC5L]</td>\n",
       "      <td>[ARPC2, ARPC5L]</td>\n",
       "      <td>[ARPC2, ARPC5L]</td>\n",
       "      <td>NaN</td>\n",
       "      <td>NaN</td>\n",
       "      <td>NaN</td>\n",
       "      <td>NaN</td>\n",
       "      <td>NaN</td>\n",
       "      <td>NaN</td>\n",
       "      <td>NaN</td>\n",
       "      <td>NaN</td>\n",
       "      <td>NaN</td>\n",
       "      <td>NaN</td>\n",
       "      <td>NaN</td>\n",
       "    </tr>\n",
       "    <tr>\n",
       "      <th>251</th>\n",
       "      <td>NaN</td>\n",
       "      <td>NaN</td>\n",
       "      <td>NaN</td>\n",
       "      <td>NaN</td>\n",
       "      <td>NaN</td>\n",
       "      <td>NaN</td>\n",
       "      <td>NaN</td>\n",
       "      <td>NaN</td>\n",
       "      <td>NaN</td>\n",
       "      <td>NaN</td>\n",
       "      <td>NaN</td>\n",
       "      <td>NaN</td>\n",
       "      <td>NaN</td>\n",
       "      <td>NaN</td>\n",
       "      <td>NaN</td>\n",
       "      <td>NaN</td>\n",
       "      <td>NaN</td>\n",
       "      <td>NaN</td>\n",
       "      <td>NaN</td>\n",
       "      <td>NaN</td>\n",
       "      <td>NaN</td>\n",
       "      <td>NaN</td>\n",
       "      <td>NaN</td>\n",
       "      <td>NaN</td>\n",
       "      <td>NaN</td>\n",
       "      <td>NaN</td>\n",
       "      <td>NaN</td>\n",
       "      <td>[ARPC1A, ACTR3]</td>\n",
       "      <td>[IQGAP2, ARPC4]</td>\n",
       "    </tr>\n",
       "    <tr>\n",
       "      <th>803</th>\n",
       "      <td>NaN</td>\n",
       "      <td>NaN</td>\n",
       "      <td>NaN</td>\n",
       "      <td>NaN</td>\n",
       "      <td>NaN</td>\n",
       "      <td>NaN</td>\n",
       "      <td>NaN</td>\n",
       "      <td>NaN</td>\n",
       "      <td>NaN</td>\n",
       "      <td>NaN</td>\n",
       "      <td>NaN</td>\n",
       "      <td>NaN</td>\n",
       "      <td>NaN</td>\n",
       "      <td>NaN</td>\n",
       "      <td>NaN</td>\n",
       "      <td>NaN</td>\n",
       "      <td>NaN</td>\n",
       "      <td>NaN</td>\n",
       "      <td>NaN</td>\n",
       "      <td>NaN</td>\n",
       "      <td>NaN</td>\n",
       "      <td>NaN</td>\n",
       "      <td>NaN</td>\n",
       "      <td>NaN</td>\n",
       "      <td>NaN</td>\n",
       "      <td>NaN</td>\n",
       "      <td>NaN</td>\n",
       "      <td>[ACTR3]</td>\n",
       "      <td>NaN</td>\n",
       "    </tr>\n",
       "  </tbody>\n",
       "</table>"
      ],
      "text/plain": [
       "<IPython.core.display.HTML object>"
      ]
     },
     "metadata": {},
     "output_type": "display_data"
    },
    {
     "data": {
      "text/html": [
       "<strong>Similar Genes:</strong>"
      ],
      "text/plain": [
       "<IPython.core.display.HTML object>"
      ]
     },
     "metadata": {},
     "output_type": "display_data"
    },
    {
     "data": {
      "text/html": [
       "<table border=\"1\" class=\"dataframe\">\n",
       "  <thead>\n",
       "    <tr style=\"text-align: right;\">\n",
       "      <th></th>\n",
       "      <th>metaphase arrested phenotype</th>\n",
       "      <th>metaphase delayed phenotype</th>\n",
       "      <th>decreased cell numbers</th>\n",
       "      <th>elongated cell phenotype</th>\n",
       "      <th>increased actin localised to the nucleus</th>\n",
       "      <th>round cell phenotype</th>\n",
       "      <th>fan-shaped lamellipodia phenotype</th>\n",
       "      <th>increased amount of zig-zag stress fibers</th>\n",
       "      <th>microtubules nuclear bracket phenotype</th>\n",
       "      <th>more multinucleate cells</th>\n",
       "      <th>increased variability of cell shape in population</th>\n",
       "      <th>disorganised cortical actin cytoskeleton phenotype</th>\n",
       "      <th>microtubules nuclear ring phenotype</th>\n",
       "      <th>increased lamellipodia width phenotype</th>\n",
       "      <th>increased amount of stress fibers phenotype</th>\n",
       "      <th>increased amount of transverse stress fibers</th>\n",
       "      <th>increased cell size phenotype</th>\n",
       "      <th>geometric cell phenotype</th>\n",
       "      <th>cell death phenotype</th>\n",
       "      <th>polylobed nuclear phenotype</th>\n",
       "      <th>mitosis delayed phenotype</th>\n",
       "      <th>mitosis arrested</th>\n",
       "      <th>mitotic metaphase plate congression phenotype</th>\n",
       "      <th>abnormal chromosome segregation phenotype</th>\n",
       "      <th>binuclear cell phenotype</th>\n",
       "      <th>abnormal cell cycle phenotype</th>\n",
       "      <th>abnormal nucleus shape phenotype</th>\n",
       "      <th>strong decrease in rate of protein secretion</th>\n",
       "      <th>mild decrease in rate of protein secretion</th>\n",
       "    </tr>\n",
       "  </thead>\n",
       "  <tbody>\n",
       "    <tr>\n",
       "      <th>1101</th>\n",
       "      <td>[ENSG00000124209, , ASCC3L1, MFAP1, ENSG000001...</td>\n",
       "      <td>[ENSG00000124209, , ASCC3L1, MFAP1, ENSG000001...</td>\n",
       "      <td>NaN</td>\n",
       "      <td>NaN</td>\n",
       "      <td>NaN</td>\n",
       "      <td>NaN</td>\n",
       "      <td>NaN</td>\n",
       "      <td>NaN</td>\n",
       "      <td>NaN</td>\n",
       "      <td>NaN</td>\n",
       "      <td>NaN</td>\n",
       "      <td>NaN</td>\n",
       "      <td>NaN</td>\n",
       "      <td>NaN</td>\n",
       "      <td>NaN</td>\n",
       "      <td>NaN</td>\n",
       "      <td>NaN</td>\n",
       "      <td>NaN</td>\n",
       "      <td>[ENSG00000124209, ENSG00000134955, ZDHHC17, OR...</td>\n",
       "      <td>[, ZCCHC10, Q8NH96_HUMAN, ENSG00000124201, ENS...</td>\n",
       "      <td>[ENSG00000124209, , ASCC3L1, ENSG00000164542, ...</td>\n",
       "      <td>[ENSG00000124209, , ASCC3L1, ENSG00000164542, ...</td>\n",
       "      <td>[ENSG00000124209, , ASCC3L1, ENSG00000148136, ...</td>\n",
       "      <td>[, UBL5, RYK, BUB1B, ENSG00000148136, C9orf32,...</td>\n",
       "      <td>[, OPRS1, CPM, GALC, STK16, ENSG00000187221, E...</td>\n",
       "      <td>[ENSG00000124209, , ASCC3L1, ENSG00000148136, ...</td>\n",
       "      <td>[, UBL5, ASCC3L1, ENSG00000148136, C9orf32, OR...</td>\n",
       "      <td>NaN</td>\n",
       "      <td>NaN</td>\n",
       "    </tr>\n",
       "    <tr>\n",
       "      <th>1302</th>\n",
       "      <td>[NUTF2, LGR4, ENSG00000131323, ENSG00000076344...</td>\n",
       "      <td>[NUTF2, LGR4, ENSG00000131323, ENSG00000076344...</td>\n",
       "      <td>NaN</td>\n",
       "      <td>NaN</td>\n",
       "      <td>NaN</td>\n",
       "      <td>NaN</td>\n",
       "      <td>NaN</td>\n",
       "      <td>NaN</td>\n",
       "      <td>NaN</td>\n",
       "      <td>NaN</td>\n",
       "      <td>NaN</td>\n",
       "      <td>NaN</td>\n",
       "      <td>NaN</td>\n",
       "      <td>NaN</td>\n",
       "      <td>NaN</td>\n",
       "      <td>NaN</td>\n",
       "      <td>NaN</td>\n",
       "      <td>NaN</td>\n",
       "      <td>NaN</td>\n",
       "      <td>NaN</td>\n",
       "      <td>NaN</td>\n",
       "      <td>NaN</td>\n",
       "      <td>NaN</td>\n",
       "      <td>NaN</td>\n",
       "      <td>NaN</td>\n",
       "      <td>NaN</td>\n",
       "      <td>NaN</td>\n",
       "      <td>NaN</td>\n",
       "      <td>NaN</td>\n",
       "    </tr>\n",
       "    <tr>\n",
       "      <th>206</th>\n",
       "      <td>NaN</td>\n",
       "      <td>NaN</td>\n",
       "      <td>[BAF53A, ACTG1, LASP1, LHX3, FMNL1, RAMP, ARHG...</td>\n",
       "      <td>[C6ORF168, BAF53A, PTK2, CYFIP1, MYH15, RASD1,...</td>\n",
       "      <td>[MYH15, RAD51L3, RACGAP1P, RHOT2, SPTBN5, SPTB...</td>\n",
       "      <td>[MAP4K3, PLXNB1, DMD, MYH15, MYH4, P8, NUPR1, ...</td>\n",
       "      <td>[CAPZB, BAF53A, PTK2, CYFIP1, C6ORF168, LOC201...</td>\n",
       "      <td>[TPM4, CYFIP1, ACTG1, RASD1, DTL, LOC201176, M...</td>\n",
       "      <td>[EPB41L1, MINK1, CAPZA1, MINK, DBNL, MYH15, WD...</td>\n",
       "      <td>[CAPZB, BAF53A, PTK2, DMD, ACTG1, RASD1, DTL, ...</td>\n",
       "      <td>[C6ORF168, MAP4K3, PTK2, DMD, MYH15, RASD1, TM...</td>\n",
       "      <td>[BAF53A, LHX3, FMNL1, RAMP, ARHGAP27, ARHGAP26...</td>\n",
       "      <td>[CAPZB, MAP4K3, DMD, ACTG1, TMSB4X, MYO1F, SPT...</td>\n",
       "      <td>[BAF53A, ACTG1, LHX3, FMNL1, RAMP, ARHGAP27, A...</td>\n",
       "      <td>[C6ORF168, MAP4K3, CYFIP1, ACTG1, LOC201176, M...</td>\n",
       "      <td>[MAP4K3, PTK2, CYFIP1, ACTG1, RASD1, MYO1F, RA...</td>\n",
       "      <td>[CAPZB, BAF53A, CYFIP1, ACTG1, RASD1, DTL, TMS...</td>\n",
       "      <td>[C6ORF168, MAP4K3, TPM4, CYFIP1, ACTG1, RASD1,...</td>\n",
       "      <td>NaN</td>\n",
       "      <td>NaN</td>\n",
       "      <td>NaN</td>\n",
       "      <td>NaN</td>\n",
       "      <td>NaN</td>\n",
       "      <td>NaN</td>\n",
       "      <td>NaN</td>\n",
       "      <td>NaN</td>\n",
       "      <td>NaN</td>\n",
       "      <td>NaN</td>\n",
       "      <td>NaN</td>\n",
       "    </tr>\n",
       "    <tr>\n",
       "      <th>251</th>\n",
       "      <td>NaN</td>\n",
       "      <td>NaN</td>\n",
       "      <td>NaN</td>\n",
       "      <td>NaN</td>\n",
       "      <td>NaN</td>\n",
       "      <td>NaN</td>\n",
       "      <td>NaN</td>\n",
       "      <td>NaN</td>\n",
       "      <td>NaN</td>\n",
       "      <td>NaN</td>\n",
       "      <td>NaN</td>\n",
       "      <td>NaN</td>\n",
       "      <td>NaN</td>\n",
       "      <td>NaN</td>\n",
       "      <td>NaN</td>\n",
       "      <td>NaN</td>\n",
       "      <td>NaN</td>\n",
       "      <td>NaN</td>\n",
       "      <td>NaN</td>\n",
       "      <td>NaN</td>\n",
       "      <td>NaN</td>\n",
       "      <td>NaN</td>\n",
       "      <td>NaN</td>\n",
       "      <td>NaN</td>\n",
       "      <td>NaN</td>\n",
       "      <td>NaN</td>\n",
       "      <td>NaN</td>\n",
       "      <td>[ENSG00000167693, HIF3A, ENSG00000111358, RNF1...</td>\n",
       "      <td>[ENSG00000102054, ENSG00000124209, ENSG0000011...</td>\n",
       "    </tr>\n",
       "    <tr>\n",
       "      <th>803</th>\n",
       "      <td>NaN</td>\n",
       "      <td>NaN</td>\n",
       "      <td>NaN</td>\n",
       "      <td>NaN</td>\n",
       "      <td>NaN</td>\n",
       "      <td>NaN</td>\n",
       "      <td>NaN</td>\n",
       "      <td>NaN</td>\n",
       "      <td>NaN</td>\n",
       "      <td>NaN</td>\n",
       "      <td>NaN</td>\n",
       "      <td>NaN</td>\n",
       "      <td>NaN</td>\n",
       "      <td>NaN</td>\n",
       "      <td>NaN</td>\n",
       "      <td>NaN</td>\n",
       "      <td>NaN</td>\n",
       "      <td>NaN</td>\n",
       "      <td>NaN</td>\n",
       "      <td>NaN</td>\n",
       "      <td>NaN</td>\n",
       "      <td>NaN</td>\n",
       "      <td>NaN</td>\n",
       "      <td>NaN</td>\n",
       "      <td>NaN</td>\n",
       "      <td>NaN</td>\n",
       "      <td>NaN</td>\n",
       "      <td>[ENSG00000100532, UBE2Q2, ZCCHC17, ENSG0000014...</td>\n",
       "      <td>NaN</td>\n",
       "    </tr>\n",
       "  </tbody>\n",
       "</table>"
      ],
      "text/plain": [
       "<IPython.core.display.HTML object>"
      ]
     },
     "metadata": {},
     "output_type": "display_data"
    }
   ],
   "source": [
    "conn = connection()\n",
    "try:\n",
    "    query_genes_list = list(query_genes_dataframe['Value'])\n",
    "    [similar_genes, overlap_genes] = get_similar_genes(conn, query_genes_list, screen_to_phenotype_dictionary)\n",
    "    overlap_genes_dataframe = pandas.DataFrame.from_dict(overlap_genes, orient='index')\n",
    "    display(HTML(\"<strong>Query Genes:</strong>\"))\n",
    "    display(HTML(overlap_genes_dataframe.to_html( escape=False)))\n",
    "    \n",
    "    similar_genes_dataframe = pandas.DataFrame.from_dict(similar_genes, orient='index')\n",
    "    display(HTML(\"<strong>Similar Genes:</strong>\"))\n",
    "    display(HTML(similar_genes_dataframe.to_html( escape=False)))\n",
    "finally:\n",
    "    conn.close()    "
   ]
  },
  {
   "cell_type": "markdown",
   "metadata": {},
   "source": [
    "## Visualisation"
   ]
  },
  {
   "cell_type": "markdown",
   "metadata": {},
   "source": [
    "### Plot Query Genes"
   ]
  },
  {
   "cell_type": "code",
   "execution_count": 8,
   "metadata": {},
   "outputs": [
    {
     "data": {
      "application/vnd.jupyter.widget-view+json": {
       "model_id": "5075e3b029cd4f658e9aa2e9a41e1a51",
       "version_major": 2,
       "version_minor": 0
      },
      "text/html": [
       "<p>Failed to display Jupyter Widget of type <code>interactive</code>.</p>\n",
       "<p>\n",
       "  If you're reading this message in the Jupyter Notebook or JupyterLab Notebook, it may mean\n",
       "  that the widgets JavaScript is still loading. If this message persists, it\n",
       "  likely means that the widgets JavaScript library is either not installed or\n",
       "  not enabled. See the <a href=\"https://ipywidgets.readthedocs.io/en/stable/user_install.html\">Jupyter\n",
       "  Widgets Documentation</a> for setup instructions.\n",
       "</p>\n",
       "<p>\n",
       "  If you're reading this message in another frontend (for example, a static\n",
       "  rendering on GitHub or <a href=\"https://nbviewer.jupyter.org/\">NBViewer</a>),\n",
       "  it may mean that your frontend doesn't currently support widgets.\n",
       "</p>\n"
      ],
      "text/plain": [
       "interactive(children=(IntSlider(value=1, description=u'Threshold_for_plot', max=10, min=1), IntSlider(value=1, description=u'Threshold_for_category', max=10, min=1), Dropdown(description=u'Filter_by_category', options=('Phenotypes', 'Screens'), value='Phenotypes'), Output()), _dom_classes=('widget-interact',))"
      ]
     },
     "metadata": {},
     "output_type": "display_data"
    }
   ],
   "source": [
    "%matplotlib inline\n",
    "filter_by_category=widgets.Dropdown(description='Filter_by_category', options=['Phenotypes','Screens'])\n",
    "threshold_for_category = widgets.IntSlider(description='Threshold_for_category', min=1,max=10,step=1,value=1)\n",
    "threshold_for_plot = widgets.IntSlider(description='Threshold_for_plot', min=1,max=10,step=1,value=1)\n",
    "@interact(primary_dictionary=fixed(overlap_genes), secondary_dictionary=fixed(overlap_genes), plot_title=fixed('Query Genes'), filter_by_category = filter_by_category, threshold_for_category = threshold_for_category, threshold_for_plot = threshold_for_plot)\n",
    "@wraps(plot_idr_attributes)\n",
    "def myfun(**kwargs):\n",
    "    global screenids_removed, phenotypes_removed, genes_of_interest\n",
    "    [screenids_removed, phenotypes_removed, genes_of_interest] = plot_idr_attributes(**kwargs)"
   ]
  },
  {
   "cell_type": "markdown",
   "metadata": {},
   "source": [
    "### Plot Similar Genes"
   ]
  },
  {
   "cell_type": "code",
   "execution_count": 9,
   "metadata": {},
   "outputs": [
    {
     "data": {
      "application/vnd.jupyter.widget-view+json": {
       "model_id": "af11a38b6c2f4102a25a6092fe963608",
       "version_major": 2,
       "version_minor": 0
      },
      "text/html": [
       "<p>Failed to display Jupyter Widget of type <code>interactive</code>.</p>\n",
       "<p>\n",
       "  If you're reading this message in the Jupyter Notebook or JupyterLab Notebook, it may mean\n",
       "  that the widgets JavaScript is still loading. If this message persists, it\n",
       "  likely means that the widgets JavaScript library is either not installed or\n",
       "  not enabled. See the <a href=\"https://ipywidgets.readthedocs.io/en/stable/user_install.html\">Jupyter\n",
       "  Widgets Documentation</a> for setup instructions.\n",
       "</p>\n",
       "<p>\n",
       "  If you're reading this message in another frontend (for example, a static\n",
       "  rendering on GitHub or <a href=\"https://nbviewer.jupyter.org/\">NBViewer</a>),\n",
       "  it may mean that your frontend doesn't currently support widgets.\n",
       "</p>\n"
      ],
      "text/plain": [
       "interactive(children=(IntSlider(value=5, description=u'threshold_for_plot', max=10, min=1), Output()), _dom_classes=('widget-interact',))"
      ]
     },
     "metadata": {},
     "output_type": "display_data"
    }
   ],
   "source": [
    "for ids in screenids_removed:\n",
    "    if ids in similar_genes:\n",
    "        del similar_genes[ids]\n",
    "\n",
    "@interact(primary_dictionary=fixed(similar_genes), secondary_dictionary=fixed(overlap_genes), plot_title=fixed('Similar genes'), filter_by_category = fixed(filter_by_category.value), threshold_for_category = fixed(threshold_for_category.value),threshold_for_plot = widgets.IntSlider(min=1,max=10,step=1,value=5))\n",
    "@wraps(plot_idr_attributes)\n",
    "def myfun(**kwargs):\n",
    "    global screenids_removed, phenotypes_removed, genes_of_interest\n",
    "    [screenids_removed, phenotypes_removed, genes_of_interest] = plot_idr_attributes(**kwargs)\n",
    "    \n",
    "similar_genes_list = genes_of_interest"
   ]
  },
  {
   "cell_type": "markdown",
   "metadata": {},
   "source": [
    "### Get String Interactions"
   ]
  },
  {
   "cell_type": "markdown",
   "metadata": {},
   "source": [
    "### Plot string interactions between similar genes and query genes/similar genes"
   ]
  },
  {
   "cell_type": "code",
   "execution_count": 10,
   "metadata": {},
   "outputs": [
    {
     "name": "stdout",
     "output_type": "stream",
     "text": [
      "Primary Interactors:\n"
     ]
    },
    {
     "data": {
      "image/png": "[encoded data removed]",
      "text/plain": [
       "<matplotlib.figure.Figure at 0x7fca3df449d0>"
      ]
     },
     "metadata": {},
     "output_type": "display_data"
    },
    {
     "name": "stdout",
     "output_type": "stream",
     "text": [
      "Secondary Interactors:\n"
     ]
    },
    {
     "data": {
      "image/png": "[encoded data removed]",
      "text/plain": [
       "<matplotlib.figure.Figure at 0x7fca3e1c8dd0>"
      ]
     },
     "metadata": {},
     "output_type": "display_data"
    }
   ],
   "source": [
    "similar_genes_list = list(set(genes_of_interest) - set(go_gene_list))\n",
    "genes_of_interest1 = list(set(go_gene_list + similar_genes_list))\n",
    "interactions_dataframe = genes_of_interest_from_string(genes_of_interest1, 1, tax_id.value)\n",
    "\n",
    "print 'Primary Interactors:'\n",
    "df = plot_string_interactions(go_gene_list, similar_genes_list, interactions_dataframe)\n",
    "\n",
    "primary_genes = list(df.columns.values)\n",
    "secondary_genes = set(similar_genes_list) - set(primary_genes)\n",
    "print 'Secondary Interactors:'\n",
    "df = plot_string_interactions(secondary_genes, primary_genes, interactions_dataframe)"
   ]
  },
  {
   "cell_type": "code",
   "execution_count": null,
   "metadata": {
    "collapsed": true
   },
   "outputs": [],
   "source": []
  }
 ],
 "metadata": {
  "kernelspec": {
   "display_name": "OMERO Python 2",
   "language": "python",
   "name": "python2"
  },
  "language_info": {
   "codemirror_mode": {
    "name": "ipython",
    "version": 2
   },
   "file_extension": ".py",
   "mimetype": "text/x-python",
   "name": "python",
   "nbconvert_exporter": "python",
   "pygments_lexer": "ipython2",
   "version": "2.7.14"
  }
 },
 "nbformat": 4,
 "nbformat_minor": 2
}
