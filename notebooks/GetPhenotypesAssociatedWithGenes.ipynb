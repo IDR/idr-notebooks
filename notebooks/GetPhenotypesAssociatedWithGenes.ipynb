{
 "cells": [
  {
   "cell_type": "markdown",
   "metadata": {},
   "source": [
    "## Get phenotypes associated with a list of genes\n"
   ]
  },
  {
   "cell_type": "markdown",
   "metadata": {},
   "source": [
    "### Set up \n"
   ]
  },
  {
   "cell_type": "code",
   "execution_count": 96,
   "metadata": {
    "collapsed": true
   },
   "outputs": [],
   "source": [
    "import json\n",
    "#from pprint import pprint"
   ]
  },
  {
   "cell_type": "code",
   "execution_count": 97,
   "metadata": {
    "collapsed": true
   },
   "outputs": [],
   "source": [
    "import requests\n",
    "\n",
    "INDEX_PAGE = \"http://idr-demo.openmicroscopy.org/webclient/?experimenter=-1\"\n",
    "\n",
    "# create http session\n",
    "with requests.Session() as session:\n",
    "    request = requests.Request('GET', INDEX_PAGE)\n",
    "    prepped = session.prepare_request(request)\n",
    "    response = session.send(prepped)\n",
    "    if response.status_code != 200:\n",
    "        response.raise_for_status()"
   ]
  },
  {
   "cell_type": "markdown",
   "metadata": {},
   "source": [
    "### First read in the table with the list of genes\n",
    "The example contains \n",
    "* a gene that has an image annotated with a phenotype not mapped to any ontology (PSMA1)\n",
    "* a gene that has no images annotated with any phenotypes (PSMA5)\n",
    "* a gene that images that are annotated with multiple phenotypes and some phenotypes are mapped to more than one ontology term (PREX2)\n",
    "* a gene that is not annotated to any images (NOTAGENE)\n"
   ]
  },
  {
   "cell_type": "code",
   "execution_count": 98,
   "metadata": {
    "collapsed": true
   },
   "outputs": [],
   "source": [
    "with open('FiveExampleGenes.txt') as f:\n",
    "    genes = f.read().splitlines()"
   ]
  },
  {
   "cell_type": "markdown",
   "metadata": {},
   "source": [
    "### Check that the table has been read in properly - print out first 5 values and check the length of the list"
   ]
  },
  {
   "cell_type": "code",
   "execution_count": 99,
   "metadata": {},
   "outputs": [
    {
     "data": {
      "text/plain": [
       "['PSMA1', 'PSMA2', 'PSMA5', 'PREX2', 'NOTAGENE']"
      ]
     },
     "execution_count": 99,
     "metadata": {},
     "output_type": "execute_result"
    }
   ],
   "source": [
    "genes[:5]\n"
   ]
  },
  {
   "cell_type": "code",
   "execution_count": 100,
   "metadata": {},
   "outputs": [
    {
     "data": {
      "text/plain": [
       "5"
      ]
     },
     "execution_count": 100,
     "metadata": {},
     "output_type": "execute_result"
    }
   ],
   "source": [
    "len (genes)"
   ]
  },
  {
   "cell_type": "markdown",
   "metadata": {},
   "source": [
    "### Set up URLS we are going to use to query IDR"
   ]
  },
  {
   "cell_type": "code",
   "execution_count": 101,
   "metadata": {
    "collapsed": true
   },
   "outputs": [],
   "source": [
    "SCREENS_PROJECTS_URL = \"http://idr-demo.openmicroscopy.org/mapr/api/{key}/?value={value}\"\n",
    "PLATES_URL = \"http://idr-demo.openmicroscopy.org/mapr/api/{key}/plates/?value={value}&id={screen_id}\"\n",
    "IMAGES_URL = \"http://idr-demo.openmicroscopy.org/mapr/api/{key}/images/?value={value}&node={parent_type}&id={parent_id}\"\n",
    "ATTRIBUTES_URL = \"http://idr-demo.openmicroscopy.org/webclient/api/annotations/?type=map&image={image_id}\""
   ]
  },
  {
   "cell_type": "markdown",
   "metadata": {},
   "source": [
    "### Then get the phenotypes\n",
    "\n",
    "For each gene in our list\n",
    "* get which screens its in\n",
    "* get the plates in the screens with the gene in\n",
    "* then the images\n",
    "* then the annotations of those images\n",
    "\n",
    "NOTE: to be added - should also do this for datasets"
   ]
  },
  {
   "cell_type": "markdown",
   "metadata": {},
   "source": [
    "#### First open up the file that the results will be written to and create the column header row"
   ]
  },
  {
   "cell_type": "code",
   "execution_count": 102,
   "metadata": {
    "collapsed": true
   },
   "outputs": [],
   "source": [
    "file = open('GenesWithPhenotypes.txt','w') \n",
    "file.write('Gene Symbol\\tScreen\\tPlate\\tImageID\\tAuthorPhenotype\\tCMPOTerm\\tCMPOAccession\\n')"
   ]
  },
  {
   "cell_type": "markdown",
   "metadata": {},
   "source": [
    "#### Then iterate through each gene in the list and fetch the phenotypes"
   ]
  },
  {
   "cell_type": "code",
   "execution_count": 103,
   "metadata": {},
   "outputs": [
    {
     "name": "stdout",
     "output_type": "stream",
     "text": [
      "PSMA1\tidr0010-doil-dnadamage/screenA (3)\t2-60\t3074578\tincreased DNA damage\tcell response to DNA damage phenotype\tCMPO_0000415\n",
      "\n",
      "PSMA1\tidr0010-doil-dnadamage/screenA (3)\t7-14\t3090872\tincreased DNA damage\tcell response to DNA damage phenotype\tCMPO_0000415\n",
      "\n",
      "PSMA1\tidr0012-fuchs-cellmorph/screenA (2)\tHT11\t1818569\tother phenotype\n",
      "\n",
      "PSMA2\tidr0010-doil-dnadamage/screenA (3)\t2-60\t3074601\tincreased DNA damage\tcell response to DNA damage phenotype\tCMPO_0000415\n",
      "\n",
      "PSMA2\tidr0010-doil-dnadamage/screenA (3)\t7-14\t3090824\tincreased DNA damage\tcell response to DNA damage phenotype\tCMPO_0000415\n",
      "\n",
      "PSMA2\tidr0013-neumann-mitocheck/screenA (11)\tLT0002_02\t1484705\tdynamic changes (automatic)\tincreased variability of nuclear shape in population\tCMPO_0000345\n",
      "\n",
      "PSMA2\tidr0013-neumann-mitocheck/screenA (11)\tLT0002_24\t1485036\tdynamic changes (automatic)\tincreased variability of nuclear shape in population\tCMPO_0000345\n",
      "\n",
      "PSMA2\tidr0013-neumann-mitocheck/screenA (11)\tLT0002_51\t1485556\tdynamic changes (automatic)\tincreased variability of nuclear shape in population\tCMPO_0000345\n",
      "\n",
      "PREX2\tidr0028-pascualvargas-rhogtpases/screenA (112)\tLM2_siGENOME_1A\t2870931\tLarge, spread\tincreased cell size phenotype\tCMPO_0000128\tPREX2\tidr0028-pascualvargas-rhogtpases/screenA (112)\tLM2_siGENOME_1A\t2870931\tLow total YAP/TAZ in nuclear and ring regions normalised to nuclear area\tnegative regulation of protein import into nucleus phenotype\tCMPO_0000435\tPREX2\tidr0028-pascualvargas-rhogtpases/screenA (112)\tLM2_siGENOME_1A\t2870931\tFan\tfan-shaped cell phenotype\tCMPO_0000428\tPREX2\tidr0028-pascualvargas-rhogtpases/screenA (112)\tLM2_siGENOME_1A\t2870931\tTriangular\ttriangular shaped cell phenotype\tCMPO_0000122\tcell with projections\tCMPO_0000071\tPREX2\tidr0028-pascualvargas-rhogtpases/screenA (112)\tLM2_siGENOME_1A\t2870931\tHigh nuclear YAP/TAZ\tincreased level of polypetide in cell nucleus\tCMPO_0000433\n",
      "\n",
      "PREX2\tidr0028-pascualvargas-rhogtpases/screenA (112)\tLM2_siGENOME_1B\t2877987\tFan\tfan-shaped cell phenotype\tCMPO_0000428\tPREX2\tidr0028-pascualvargas-rhogtpases/screenA (112)\tLM2_siGENOME_1B\t2877987\tHigh nuclear YAP/TAZ\tincreased level of polypetide in cell nucleus\tCMPO_0000433\tPREX2\tidr0028-pascualvargas-rhogtpases/screenA (112)\tLM2_siGENOME_1B\t2877987\tLow total YAP/TAZ in nuclear and ring regions normalised to nuclear area\tnegative regulation of protein import into nucleus phenotype\tCMPO_0000435\n",
      "\n",
      "PREX2\tidr0028-pascualvargas-rhogtpases/screenC (112)\tMDA-MB-231_siGENOME_1A\t2968447\tLow total YAP/TAZ in nuclear and ring regions normalised to nuclear area\tnegative regulation of protein import into nucleus phenotype\tCMPO_0000435\tPREX2\tidr0028-pascualvargas-rhogtpases/screenC (112)\tMDA-MB-231_siGENOME_1A\t2968447\tSpindly\telongated cell phenotype\tCMPO_0000077\tcell with projections\tCMPO_0000071\tPREX2\tidr0028-pascualvargas-rhogtpases/screenC (112)\tMDA-MB-231_siGENOME_1A\t2968447\tFan\tfan-shaped cell phenotype\tCMPO_0000428\tPREX2\tidr0028-pascualvargas-rhogtpases/screenC (112)\tMDA-MB-231_siGENOME_1A\t2968447\tTriangular\ttriangular shaped cell phenotype\tCMPO_0000122\tcell with projections\tCMPO_0000071\tPREX2\tidr0028-pascualvargas-rhogtpases/screenC (112)\tMDA-MB-231_siGENOME_1A\t2968447\tHigh nuclear YAP/TAZ\tincreased level of polypetide in cell nucleus\tCMPO_0000433\n",
      "\n",
      "PREX2\tidr0028-pascualvargas-rhogtpases/screenC (112)\tMDA-MB-231_siGENOME_1B\t2975260\tLow total YAP/TAZ in nuclear and ring regions normalised to nuclear area\tnegative regulation of protein import into nucleus phenotype\tCMPO_0000435\tPREX2\tidr0028-pascualvargas-rhogtpases/screenC (112)\tMDA-MB-231_siGENOME_1B\t2975260\tSpindly\telongated cell phenotype\tCMPO_0000077\tcell with projections\tCMPO_0000071\tPREX2\tidr0028-pascualvargas-rhogtpases/screenC (112)\tMDA-MB-231_siGENOME_1B\t2975260\tLarge, spread\tincreased cell size phenotype\tCMPO_0000128\tPREX2\tidr0028-pascualvargas-rhogtpases/screenC (112)\tMDA-MB-231_siGENOME_1B\t2975260\tTriangular\ttriangular shaped cell phenotype\tCMPO_0000122\tcell with projections\tCMPO_0000071\tPREX2\tidr0028-pascualvargas-rhogtpases/screenC (112)\tMDA-MB-231_siGENOME_1B\t2975260\tHigh nuclear YAP/TAZ\tincreased level of polypetide in cell nucleus\tCMPO_0000433\n",
      "\n",
      "PREX2\tidr0028-pascualvargas-rhogtpases/screenD (112)\tMDA-MB-231_ONTARGETPlus_1A\t3008919\tTriangular\ttriangular shaped cell phenotype\tCMPO_0000122\tcell with projections\tCMPO_0000071\tPREX2\tidr0028-pascualvargas-rhogtpases/screenD (112)\tMDA-MB-231_ONTARGETPlus_1A\t3008919\tSpindly\telongated cell phenotype\tCMPO_0000077\tcell with projections\tCMPO_0000071\n",
      "\n",
      "PREX2\tidr0028-pascualvargas-rhogtpases/screenD (112)\tMDA-MB-231_ONTARGETPlus_1B\t3023000\tTriangular\ttriangular shaped cell phenotype\tCMPO_0000122\tcell with projections\tCMPO_0000071\tPREX2\tidr0028-pascualvargas-rhogtpases/screenD (112)\tMDA-MB-231_ONTARGETPlus_1B\t3023000\tSpindly\telongated cell phenotype\tCMPO_0000077\tcell with projections\tCMPO_0000071\n",
      "\n"
     ]
    }
   ],
   "source": [
    "\n",
    "\n",
    "for gene in genes:\n",
    "    #file.write ('{0}'.format(gene))\n",
    "    qs1 = {'key': 'gene', 'value': gene}\n",
    "    url1 = SCREENS_PROJECTS_URL.format(**qs1)\n",
    "    \n",
    "    for s in session.get(url1).json()['screens']:\n",
    "        screen_id = s['id']\n",
    "        screen_name = s['name']\n",
    "        #print (gene, s['id'], s['name'])    \n",
    "        qs2 = {'key': 'gene', 'value': gene, 'screen_id': screen_id}\n",
    "        url2 = PLATES_URL.format(**qs2)\n",
    "        \n",
    "        for p in session.get(url2).json()['plates']:\n",
    "            plate_id = p['id'] \n",
    "            plate_name = p['name']\n",
    "            #print (gene, p['id'], p['name'])  \n",
    "            qs3 = {'key': 'gene', 'value': gene, 'parent_type': 'plate', 'parent_id': plate_id}\n",
    "            url3 = IMAGES_URL.format(**qs3)\n",
    "            \n",
    "            # now to get the phenotypes linked to the images - not outputting this correctly yet\n",
    "            \n",
    "            # gene - might be not associated with any images\n",
    "            # gene - associated with image but none with phenotypes\n",
    "            # gene - image with one phenotype but no ontology mapping\n",
    "            # gene - image with one phenotype plus one ontology mapping\n",
    "            # gene - image with one phenotype plus multiple ontology mappings (elongated plus protrustions)\n",
    "            # gene - image with multiple phenotypes with mixture of number of ontology mappings\n",
    "            # \n",
    "            # best structure for this is dictionary of dictionaries?\n",
    "            \n",
    "            \n",
    "            \n",
    "            for i in session.get(url3).json()['images']:\n",
    "\n",
    "                # create a list in which to create each row of genes and their phenotypes\n",
    "                geneRow = []\n",
    "                genePhenotypes = {}\n",
    "                \n",
    "                image_id = str(i['id'])\n",
    "                url4 = ATTRIBUTES_URL.format(**{'image_id': image_id})\n",
    "                for a in session.get(url4).json()['annotations']:\n",
    "                    for kvpair in a['values']:\n",
    "                        #pprint(a['values'])\n",
    "                        \n",
    "                        if 'Phenotype' in kvpair:\n",
    "                            #print (kvpair[1])\n",
    "                            geneRow.extend([gene, screen_name, plate_name, image_id, kvpair[1]])\n",
    "                            \n",
    "                        if 'Phenotype Term Name' in kvpair:\n",
    "                            #print (kvpair[1])\n",
    "                            #file.write('\\t{0}'.format(kvpair[1])) \n",
    "                            geneRow.append(kvpair[1])\n",
    "                            \n",
    "                        if 'Phenotype Term Accession' in kvpair:\n",
    "                            #print (kvpair[1])\n",
    "                            #file.write('\\t{0}'.format(kvpair[1]))\n",
    "                            geneRow.append(kvpair[1])\n",
    "                            \n",
    "                        #file.write('\\n')\n",
    "             \n",
    "            \n",
    "            if len (geneRow) > 0:\n",
    "                #print \"row is : \", geneRow\n",
    "                # create a tab-delimted row to print out\n",
    "                separator = '\\t'\n",
    "                printRow = separator.join( geneRow )\n",
    "                printRow = printRow + '\\n'\n",
    "                print printRow\n",
    "                file.write(printRow)\n",
    "                \n",
    "        \n",
    "file.close()        \n",
    "    \n"
   ]
  },
  {
   "cell_type": "code",
   "execution_count": null,
   "metadata": {
    "collapsed": true
   },
   "outputs": [],
   "source": []
  }
 ],
 "metadata": {
  "kernelspec": {
   "display_name": "Python 2",
   "language": "python",
   "name": "python2"
  },
  "language_info": {
   "codemirror_mode": {
    "name": "ipython",
    "version": 2
   },
   "file_extension": ".py",
   "mimetype": "text/x-python",
   "name": "python",
   "nbconvert_exporter": "python",
   "pygments_lexer": "ipython2",
   "version": "2.7.11"
  }
 },
 "nbformat": 4,
 "nbformat_minor": 2
}
