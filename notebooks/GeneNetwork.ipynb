{
 "cells": [
  {
   "cell_type": "code",
   "execution_count": 1,
   "metadata": {
    "collapsed": false
   },
   "outputs": [
    {
     "data": {
      "application/javascript": [
       "if (window['cytoscape'] === undefined) {\n",
       "    var paths = {\n",
       "        cytoscape: 'http://cytoscape.github.io/cytoscape.js/api/cytoscape.js-latest/cytoscape.min'\n",
       "    };\n",
       "\n",
       "    require.config({\n",
       "        paths: paths\n",
       "    });\n",
       "\n",
       "    require(['cytoscape'], function (cytoscape) {\n",
       "        console.log('Loading Cytoscape.js Module...');\n",
       "        window['cytoscape'] = cytoscape;\n",
       "\n",
       "        var event = document.createEvent(\"HTMLEvents\");\n",
       "        event.initEvent(\"load_cytoscape\", true, false);\n",
       "        window.dispatchEvent(event);\n",
       "    });\n",
       "}"
      ],
      "text/plain": [
       "<IPython.core.display.Javascript object>"
      ]
     },
     "metadata": {},
     "output_type": "display_data"
    }
   ],
   "source": [
    "import requests\n",
    "from pandas import DataFrame,read_csv, concat\n",
    "from io import StringIO\n",
    "import omero\n",
    "\n",
    "from py2cytoscape.data.cyrest_client import CyRestClient\n",
    "import py2cytoscape.util.dataframe as cydf\n",
    "import numpy as np\n",
    "from IPython.display import Image\n",
    "import py2cytoscape.cytoscapejs as renderer"
   ]
  },
  {
   "cell_type": "code",
   "execution_count": 2,
   "metadata": {
    "collapsed": false
   },
   "outputs": [],
   "source": [
    "# TODO: Remove this once it's added to the default path\n",
    "import sys\n",
    "sys.path.append('../library')\n",
    "\n",
    "from idr_demo import connection\n",
    "\n",
    "conn = connection()"
   ]
  },
  {
   "cell_type": "code",
   "execution_count": 3,
   "metadata": {
    "collapsed": false
   },
   "outputs": [],
   "source": [
    "def getBulkAnnotationAsDf(screenID,conn):\n",
    "#    ofId=8118685\n",
    "    sc=conn.getObject('Screen',screenID)\n",
    "    for ann in sc.listAnnotations():\n",
    "        if isinstance(ann, omero.gateway.FileAnnotationWrapper):\n",
    "            if (ann.getFile().getName()=='bulk_annotations'):\n",
    "                if (ann.getFile().getSize()> 147625090): #about 140Mb?\n",
    "                    print \"that's a big file...\"\n",
    "                    return None\n",
    "                ofId=ann.getFile().getId()\n",
    "                break\n",
    "\n",
    "\n",
    "    original_file = omero.model.OriginalFileI(ofId, False)\n",
    "\n",
    "    openTable = conn.c.sf.sharedResources().openTable(original_file)\n",
    "    rowCount = openTable.getNumberOfRows()\n",
    "\n",
    "    #table to df\n",
    "\n",
    "    column_names = [col.name for col in openTable.getHeaders()]\n",
    "\n",
    "    black_list = []\n",
    "    column_indices = []\n",
    "    for column_name in column_names:\n",
    "        if column_name in black_list:\n",
    "            continue\n",
    "        column_indices.append(column_names.index(column_name))\n",
    "\n",
    "    table_data = openTable.slice(column_indices, None)\n",
    "    data = []\n",
    "    for index in range(rowCount):\n",
    "        row_values = [column.values[index] for column in table_data.columns]\n",
    "        data.append(row_values)\n",
    "\n",
    "    dfAnn=DataFrame(data)\n",
    "    dfAnn.columns=column_names\n",
    "    return dfAnn\n"
   ]
  },
  {
   "cell_type": "code",
   "execution_count": 4,
   "metadata": {
    "collapsed": true
   },
   "outputs": [],
   "source": [
    "def getGenesFromPhenotype(df,phTerm):\n",
    "    colElong=[]\n",
    "    for col in df.columns:\n",
    "        if ('Term Accession' in col):\n",
    "            if (phTerm in df[col].unique()):\n",
    "                colElong.append(col)\n",
    "\n",
    "    dfElong=concat([df[df[col]!= ''] for col in colElong])\n",
    "    return dfElong['Gene Identifier'].unique()\n",
    "    "
   ]
  },
  {
   "cell_type": "markdown",
   "metadata": {},
   "source": [
    "## Querying the IDR"
   ]
  },
  {
   "cell_type": "code",
   "execution_count": 5,
   "metadata": {
    "collapsed": false
   },
   "outputs": [
    {
     "name": "stdout",
     "output_type": "stream",
     "text": [
      "loading 3\n",
      "got 39 genes\n",
      "loading 206\n",
      "got 72 genes\n",
      "loading 1202\n",
      "got 90 genes\n"
     ]
    }
   ],
   "source": [
    "#CMPO term to look for\n",
    "phTerm='CMPO_0000077'\n",
    "\n",
    "#ids of screens:\n",
    "#scId=3 #Graml et al.\n",
    "#scId=206 #Rohn et al., B\n",
    "#scId=1202 #Fuchs et al., B\n",
    "\n",
    "screens=[3,206,1202]\n",
    "\n",
    "genes=[]\n",
    "for scId in screens:\n",
    "    print 'loading '+str(scId)\n",
    "\n",
    "    #loading bulk_annotations of screens as dataframes\n",
    "    df=getBulkAnnotationAsDf(scId,conn)\n",
    "    \n",
    "    #unique genes with CPMO term\n",
    "    cur=getGenesFromPhenotype(df,phTerm)\n",
    "    print 'got '+str(len(cur))+ ' genes'\n",
    "    genes.extend(cur)"
   ]
  },
  {
   "cell_type": "code",
   "execution_count": 6,
   "metadata": {
    "collapsed": false
   },
   "outputs": [
    {
     "name": "stdout",
     "output_type": "stream",
     "text": [
      "['SPAC3G9.08', 'SPCC970.10c', 'SPCC553.08c', 'SPAC16C9.05', 'SPAC30.02c', 'SPAC3H8.05c', 'SPCC306.04c', 'SPCC338.16', 'SPCP1E11.06', 'SPAC1556.01c']\n",
      "15    ENSG00000071243\n",
      "16    ENSG00000111653\n",
      "17    ENSG00000168395\n",
      "18    ENSG00000168556\n",
      "47    ENSG00000103549\n",
      "48    ENSG00000155827\n",
      "44    ENSG00000140598\n",
      "2     ENSG00000109118\n",
      "11    ENSG00000198841\n",
      "40    ENSG00000099381\n",
      "Name: Human Ortholog Ensembl 84, dtype: object\n"
     ]
    }
   ],
   "source": [
    "#translation; the table was build off line using biomart\n",
    "dfTrans=read_csv('TableOfGenesWithElongatedCellPhenotype.csv')\n",
    "\n",
    "#extract IDs \n",
    "genesE84=concat([dfTrans[dfTrans['Screen GeneID']==x]['Human Ortholog Ensembl 84'] for x in genes])\n",
    "genesE84=genesE84[genesE84!='(null)']\n",
    "\n",
    "print genes[:10]\n",
    "print genesE84.head(10)"
   ]
  },
  {
   "cell_type": "code",
   "execution_count": 7,
   "metadata": {
    "collapsed": false
   },
   "outputs": [
    {
     "name": "stdout",
     "output_type": "stream",
     "text": [
      "18\n"
     ]
    }
   ],
   "source": [
    "genesIn=[]\n",
    "genesNotIn=[]\n",
    "for g in genes:\n",
    "    cur=dfTrans[dfTrans['Screen GeneID']==g]['Human Ortholog Ensembl 84']\n",
    "    if ((len(cur)>0) and (( cur != '(null)').any())):\n",
    "        genesIn.append(g)\n",
    "    else:\n",
    "        genesNotIn.append(g)\n",
    "with open('genesIn.txt', 'w') as thefile:\n",
    "    for item in genesIn:\n",
    "        print>>thefile, item\n",
    "with open('genesNotIn.txt', 'w') as thefile:\n",
    "    for item in genesNotIn:\n",
    "        print>>thefile, item\n",
    "\n",
    "print len(genesNotIn)"
   ]
  },
  {
   "cell_type": "markdown",
   "metadata": {},
   "source": [
    "## REST query of STRING db"
   ]
  },
  {
   "cell_type": "code",
   "execution_count": 8,
   "metadata": {
    "collapsed": false
   },
   "outputs": [],
   "source": [
    "#building STRINdb REST api query\n",
    "url='http://string-db.org/api/psi-mi-tab/interactionsList?identifiers='\n",
    "for g in genesE84:\n",
    "    url=url+g+'%250D'\n",
    "Res = requests.get(url)"
   ]
  },
  {
   "cell_type": "code",
   "execution_count": 9,
   "metadata": {
    "collapsed": false
   },
   "outputs": [
    {
     "data": {
      "text/html": [
       "<div style=\"max-height:1000px;max-width:1500px;overflow:auto;\">\n",
       "<table border=\"1\" class=\"dataframe\">\n",
       "  <thead>\n",
       "    <tr style=\"text-align: right;\">\n",
       "      <th></th>\n",
       "      <th>0</th>\n",
       "      <th>1</th>\n",
       "      <th>2</th>\n",
       "      <th>3</th>\n",
       "      <th>4</th>\n",
       "      <th>5</th>\n",
       "      <th>6</th>\n",
       "      <th>7</th>\n",
       "      <th>8</th>\n",
       "      <th>9</th>\n",
       "      <th>10</th>\n",
       "      <th>11</th>\n",
       "      <th>12</th>\n",
       "      <th>13</th>\n",
       "      <th>14</th>\n",
       "    </tr>\n",
       "  </thead>\n",
       "  <tbody>\n",
       "    <tr>\n",
       "      <th>0</th>\n",
       "      <td> string:9606.ENSP00000301788</td>\n",
       "      <td> string:9606.ENSP00000215587</td>\n",
       "      <td> POLR2G</td>\n",
       "      <td>  POLR2E</td>\n",
       "      <td> -</td>\n",
       "      <td> -</td>\n",
       "      <td> -</td>\n",
       "      <td> -</td>\n",
       "      <td> -</td>\n",
       "      <td> taxid:9606</td>\n",
       "      <td> taxid:9606</td>\n",
       "      <td> -</td>\n",
       "      <td> -</td>\n",
       "      <td> -</td>\n",
       "      <td> score:0.999|ascore:0.175|escore:0.999|dscore:0...</td>\n",
       "    </tr>\n",
       "    <tr>\n",
       "      <th>1</th>\n",
       "      <td> string:9606.ENSP00000340896</td>\n",
       "      <td> string:9606.ENSP00000264515</td>\n",
       "      <td>  ASH2L</td>\n",
       "      <td>   RBBP5</td>\n",
       "      <td> -</td>\n",
       "      <td> -</td>\n",
       "      <td> -</td>\n",
       "      <td> -</td>\n",
       "      <td> -</td>\n",
       "      <td> taxid:9606</td>\n",
       "      <td> taxid:9606</td>\n",
       "      <td> -</td>\n",
       "      <td> -</td>\n",
       "      <td> -</td>\n",
       "      <td> score:0.999|ascore:0.065|escore:0.999|dscore:0...</td>\n",
       "    </tr>\n",
       "    <tr>\n",
       "      <th>2</th>\n",
       "      <td> string:9606.ENSP00000342889</td>\n",
       "      <td> string:9606.ENSP00000215587</td>\n",
       "      <td> POLR2K</td>\n",
       "      <td>  POLR2E</td>\n",
       "      <td> -</td>\n",
       "      <td> -</td>\n",
       "      <td> -</td>\n",
       "      <td> -</td>\n",
       "      <td> -</td>\n",
       "      <td> taxid:9606</td>\n",
       "      <td> taxid:9606</td>\n",
       "      <td> -</td>\n",
       "      <td> -</td>\n",
       "      <td> -</td>\n",
       "      <td> score:0.999|ascore:0.184|escore:0.999|dscore:0...</td>\n",
       "    </tr>\n",
       "    <tr>\n",
       "      <th>3</th>\n",
       "      <td> string:9606.ENSP00000342889</td>\n",
       "      <td> string:9606.ENSP00000301788</td>\n",
       "      <td> POLR2K</td>\n",
       "      <td>  POLR2G</td>\n",
       "      <td> -</td>\n",
       "      <td> -</td>\n",
       "      <td> -</td>\n",
       "      <td> -</td>\n",
       "      <td> -</td>\n",
       "      <td> taxid:9606</td>\n",
       "      <td> taxid:9606</td>\n",
       "      <td> -</td>\n",
       "      <td> -</td>\n",
       "      <td> -</td>\n",
       "      <td> score:0.999|ascore:0.094|escore:0.999|dscore:0...</td>\n",
       "    </tr>\n",
       "    <tr>\n",
       "      <th>4</th>\n",
       "      <td> string:9606.ENSP00000324124</td>\n",
       "      <td> string:9606.ENSP00000215587</td>\n",
       "      <td> POLR2L</td>\n",
       "      <td>  POLR2E</td>\n",
       "      <td> -</td>\n",
       "      <td> -</td>\n",
       "      <td> -</td>\n",
       "      <td> -</td>\n",
       "      <td> -</td>\n",
       "      <td> taxid:9606</td>\n",
       "      <td> taxid:9606</td>\n",
       "      <td> -</td>\n",
       "      <td> -</td>\n",
       "      <td> -</td>\n",
       "      <td> score:0.999|ascore:0.491|escore:0.999|dscore:0...</td>\n",
       "    </tr>\n",
       "    <tr>\n",
       "      <th>5</th>\n",
       "      <td> string:9606.ENSP00000390475</td>\n",
       "      <td> string:9606.ENSP00000262519</td>\n",
       "      <td>  CXXC1</td>\n",
       "      <td>  SETD1A</td>\n",
       "      <td> -</td>\n",
       "      <td> -</td>\n",
       "      <td> -</td>\n",
       "      <td> -</td>\n",
       "      <td> -</td>\n",
       "      <td> taxid:9606</td>\n",
       "      <td> taxid:9606</td>\n",
       "      <td> -</td>\n",
       "      <td> -</td>\n",
       "      <td> -</td>\n",
       "      <td> score:0.999|ascore:0.14|escore:0.999|dscore:0....</td>\n",
       "    </tr>\n",
       "    <tr>\n",
       "      <th>6</th>\n",
       "      <td> string:9606.ENSP00000348461</td>\n",
       "      <td> string:9606.ENSP00000269321</td>\n",
       "      <td>   RAC1</td>\n",
       "      <td> ARHGDIA</td>\n",
       "      <td> -</td>\n",
       "      <td> -</td>\n",
       "      <td> -</td>\n",
       "      <td> -</td>\n",
       "      <td> -</td>\n",
       "      <td> taxid:9606</td>\n",
       "      <td> taxid:9606</td>\n",
       "      <td> -</td>\n",
       "      <td> -</td>\n",
       "      <td> -</td>\n",
       "      <td> score:0.999|ascore:0.096|escore:0.999|dscore:0...</td>\n",
       "    </tr>\n",
       "    <tr>\n",
       "      <th>7</th>\n",
       "      <td> string:9606.ENSP00000472929</td>\n",
       "      <td> string:9606.ENSP00000400175</td>\n",
       "      <td>   VAV1</td>\n",
       "      <td>    RHOA</td>\n",
       "      <td> -</td>\n",
       "      <td> -</td>\n",
       "      <td> -</td>\n",
       "      <td> -</td>\n",
       "      <td> -</td>\n",
       "      <td> taxid:9606</td>\n",
       "      <td> taxid:9606</td>\n",
       "      <td> -</td>\n",
       "      <td> -</td>\n",
       "      <td> -</td>\n",
       "      <td>  score:0.999|escore:0.812|dscore:0.9|tscore:0.974</td>\n",
       "    </tr>\n",
       "    <tr>\n",
       "      <th>8</th>\n",
       "      <td> string:9606.ENSP00000314458</td>\n",
       "      <td> string:9606.ENSP00000269321</td>\n",
       "      <td>  CDC42</td>\n",
       "      <td> ARHGDIA</td>\n",
       "      <td> -</td>\n",
       "      <td> -</td>\n",
       "      <td> -</td>\n",
       "      <td> -</td>\n",
       "      <td> -</td>\n",
       "      <td> taxid:9606</td>\n",
       "      <td> taxid:9606</td>\n",
       "      <td> -</td>\n",
       "      <td> -</td>\n",
       "      <td> -</td>\n",
       "      <td> score:0.999|ascore:0.071|escore:0.98|dscore:0....</td>\n",
       "    </tr>\n",
       "    <tr>\n",
       "      <th>9</th>\n",
       "      <td> string:9606.ENSP00000362948</td>\n",
       "      <td> string:9606.ENSP00000265350</td>\n",
       "      <td>  MED18</td>\n",
       "      <td>   MED20</td>\n",
       "      <td> -</td>\n",
       "      <td> -</td>\n",
       "      <td> -</td>\n",
       "      <td> -</td>\n",
       "      <td> -</td>\n",
       "      <td> taxid:9606</td>\n",
       "      <td> taxid:9606</td>\n",
       "      <td> -</td>\n",
       "      <td> -</td>\n",
       "      <td> -</td>\n",
       "      <td> score:0.999|ascore:0.072|escore:0.999|dscore:0...</td>\n",
       "    </tr>\n",
       "  </tbody>\n",
       "</table>\n",
       "<p>10 rows × 15 columns</p>\n",
       "</div>"
      ],
      "text/plain": [
       "                            0                            1       2        3   \\\n",
       "0  string:9606.ENSP00000301788  string:9606.ENSP00000215587  POLR2G   POLR2E   \n",
       "1  string:9606.ENSP00000340896  string:9606.ENSP00000264515   ASH2L    RBBP5   \n",
       "2  string:9606.ENSP00000342889  string:9606.ENSP00000215587  POLR2K   POLR2E   \n",
       "3  string:9606.ENSP00000342889  string:9606.ENSP00000301788  POLR2K   POLR2G   \n",
       "4  string:9606.ENSP00000324124  string:9606.ENSP00000215587  POLR2L   POLR2E   \n",
       "5  string:9606.ENSP00000390475  string:9606.ENSP00000262519   CXXC1   SETD1A   \n",
       "6  string:9606.ENSP00000348461  string:9606.ENSP00000269321    RAC1  ARHGDIA   \n",
       "7  string:9606.ENSP00000472929  string:9606.ENSP00000400175    VAV1     RHOA   \n",
       "8  string:9606.ENSP00000314458  string:9606.ENSP00000269321   CDC42  ARHGDIA   \n",
       "9  string:9606.ENSP00000362948  string:9606.ENSP00000265350   MED18    MED20   \n",
       "\n",
       "  4  5  6  7  8           9           10 11 12 13  \\\n",
       "0  -  -  -  -  -  taxid:9606  taxid:9606  -  -  -   \n",
       "1  -  -  -  -  -  taxid:9606  taxid:9606  -  -  -   \n",
       "2  -  -  -  -  -  taxid:9606  taxid:9606  -  -  -   \n",
       "3  -  -  -  -  -  taxid:9606  taxid:9606  -  -  -   \n",
       "4  -  -  -  -  -  taxid:9606  taxid:9606  -  -  -   \n",
       "5  -  -  -  -  -  taxid:9606  taxid:9606  -  -  -   \n",
       "6  -  -  -  -  -  taxid:9606  taxid:9606  -  -  -   \n",
       "7  -  -  -  -  -  taxid:9606  taxid:9606  -  -  -   \n",
       "8  -  -  -  -  -  taxid:9606  taxid:9606  -  -  -   \n",
       "9  -  -  -  -  -  taxid:9606  taxid:9606  -  -  -   \n",
       "\n",
       "                                                  14  \n",
       "0  score:0.999|ascore:0.175|escore:0.999|dscore:0...  \n",
       "1  score:0.999|ascore:0.065|escore:0.999|dscore:0...  \n",
       "2  score:0.999|ascore:0.184|escore:0.999|dscore:0...  \n",
       "3  score:0.999|ascore:0.094|escore:0.999|dscore:0...  \n",
       "4  score:0.999|ascore:0.491|escore:0.999|dscore:0...  \n",
       "5  score:0.999|ascore:0.14|escore:0.999|dscore:0....  \n",
       "6  score:0.999|ascore:0.096|escore:0.999|dscore:0...  \n",
       "7   score:0.999|escore:0.812|dscore:0.9|tscore:0.974  \n",
       "8  score:0.999|ascore:0.071|escore:0.98|dscore:0....  \n",
       "9  score:0.999|ascore:0.072|escore:0.999|dscore:0...  \n",
       "\n",
       "[10 rows x 15 columns]"
      ]
     },
     "execution_count": 9,
     "metadata": {},
     "output_type": "execute_result"
    }
   ],
   "source": [
    "df=read_csv(StringIO(Res.text),sep='\\t',header=None)\n",
    "df.head(10)"
   ]
  },
  {
   "cell_type": "markdown",
   "metadata": {
    "collapsed": false
   },
   "source": [
    "## Building Cytoscape network"
   ]
  },
  {
   "cell_type": "code",
   "execution_count": 10,
   "metadata": {
    "collapsed": false,
    "scrolled": true
   },
   "outputs": [
    {
     "ename": "ConnectionError",
     "evalue": "HTTPConnectionPool(host='localhost', port=1234): Max retries exceeded with url: /v1/styles/visualproperties (Caused by NewConnectionError('<requests.packages.urllib3.connection.HTTPConnection object at 0x7fae776d2ad0>: Failed to establish a new connection: [Errno 111] Connection refused',))",
     "output_type": "error",
     "traceback": [
      "\u001b[1;31m\u001b[0m",
      "\u001b[1;31mConnectionError\u001b[0mTraceback (most recent call last)",
      "\u001b[1;32m<ipython-input-10-f4fbbe68b484>\u001b[0m in \u001b[0;36m<module>\u001b[1;34m()\u001b[0m\n\u001b[0;32m      4\u001b[0m \u001b[1;33m\u001b[0m\u001b[0m\n\u001b[0;32m      5\u001b[0m \u001b[1;31m# Create Client\u001b[0m\u001b[1;33m\u001b[0m\u001b[1;33m\u001b[0m\u001b[0m\n\u001b[1;32m----> 6\u001b[1;33m \u001b[0mcy\u001b[0m \u001b[1;33m=\u001b[0m \u001b[0mCyRestClient\u001b[0m\u001b[1;33m(\u001b[0m\u001b[1;33m)\u001b[0m\u001b[1;33m\u001b[0m\u001b[0m\n\u001b[0m\u001b[0;32m      7\u001b[0m \u001b[1;31m# Clear current session\u001b[0m\u001b[1;33m\u001b[0m\u001b[1;33m\u001b[0m\u001b[0m\n\u001b[0;32m      8\u001b[0m \u001b[0mcy\u001b[0m\u001b[1;33m.\u001b[0m\u001b[0msession\u001b[0m\u001b[1;33m.\u001b[0m\u001b[0mdelete\u001b[0m\u001b[1;33m(\u001b[0m\u001b[1;33m)\u001b[0m\u001b[1;33m\u001b[0m\u001b[0m\n",
      "\u001b[1;32m/usr/local/lib/python2.7/dist-packages/py2cytoscape/data/cyrest_client.pyc\u001b[0m in \u001b[0;36m__init__\u001b[1;34m(self, ip, port, version)\u001b[0m\n\u001b[0;32m     17\u001b[0m \u001b[1;33m\u001b[0m\u001b[0m\n\u001b[0;32m     18\u001b[0m         \u001b[0mself\u001b[0m\u001b[1;33m.\u001b[0m\u001b[0mnetwork\u001b[0m \u001b[1;33m=\u001b[0m \u001b[0mNetworkClient\u001b[0m\u001b[1;33m(\u001b[0m\u001b[0mself\u001b[0m\u001b[1;33m.\u001b[0m\u001b[0m__url\u001b[0m\u001b[1;33m)\u001b[0m\u001b[1;33m\u001b[0m\u001b[0m\n\u001b[1;32m---> 19\u001b[1;33m         \u001b[0mself\u001b[0m\u001b[1;33m.\u001b[0m\u001b[0mstyle\u001b[0m \u001b[1;33m=\u001b[0m \u001b[0mStyleClient\u001b[0m\u001b[1;33m(\u001b[0m\u001b[0mself\u001b[0m\u001b[1;33m.\u001b[0m\u001b[0m__url\u001b[0m\u001b[1;33m)\u001b[0m\u001b[1;33m\u001b[0m\u001b[0m\n\u001b[0m\u001b[0;32m     20\u001b[0m         \u001b[0mself\u001b[0m\u001b[1;33m.\u001b[0m\u001b[0mlayout\u001b[0m \u001b[1;33m=\u001b[0m \u001b[0mLayoutClient\u001b[0m\u001b[1;33m(\u001b[0m\u001b[0mself\u001b[0m\u001b[1;33m.\u001b[0m\u001b[0m__url\u001b[0m\u001b[1;33m)\u001b[0m\u001b[1;33m\u001b[0m\u001b[0m\n\u001b[0;32m     21\u001b[0m         \u001b[0mself\u001b[0m\u001b[1;33m.\u001b[0m\u001b[0medgebundling\u001b[0m \u001b[1;33m=\u001b[0m \u001b[0mEdgeBundlingClient\u001b[0m\u001b[1;33m(\u001b[0m\u001b[0mself\u001b[0m\u001b[1;33m.\u001b[0m\u001b[0m__url\u001b[0m\u001b[1;33m)\u001b[0m\u001b[1;33m\u001b[0m\u001b[0m\n",
      "\u001b[1;32m/usr/local/lib/python2.7/dist-packages/py2cytoscape/data/style_client.pyc\u001b[0m in \u001b[0;36m__init__\u001b[1;34m(self, url)\u001b[0m\n\u001b[0;32m     14\u001b[0m         \u001b[0mself\u001b[0m\u001b[1;33m.\u001b[0m\u001b[0m__url_apply\u001b[0m \u001b[1;33m=\u001b[0m \u001b[0murl\u001b[0m \u001b[1;33m+\u001b[0m \u001b[1;34m'apply/styles/'\u001b[0m\u001b[1;33m\u001b[0m\u001b[0m\n\u001b[0;32m     15\u001b[0m \u001b[1;33m\u001b[0m\u001b[0m\n\u001b[1;32m---> 16\u001b[1;33m         \u001b[0mself\u001b[0m\u001b[1;33m.\u001b[0m\u001b[0mvps\u001b[0m \u001b[1;33m=\u001b[0m \u001b[0mVisualProperties\u001b[0m\u001b[1;33m(\u001b[0m\u001b[0murl\u001b[0m\u001b[1;33m)\u001b[0m\u001b[1;33m\u001b[0m\u001b[0m\n\u001b[0m\u001b[0;32m     17\u001b[0m \u001b[1;33m\u001b[0m\u001b[0m\n\u001b[0;32m     18\u001b[0m     \u001b[1;32mdef\u001b[0m \u001b[0mcreate\u001b[0m\u001b[1;33m(\u001b[0m\u001b[0mself\u001b[0m\u001b[1;33m,\u001b[0m \u001b[0mname\u001b[0m\u001b[1;33m=\u001b[0m\u001b[0mNone\u001b[0m\u001b[1;33m,\u001b[0m \u001b[0moriginal_style\u001b[0m\u001b[1;33m=\u001b[0m\u001b[0mNone\u001b[0m\u001b[1;33m)\u001b[0m\u001b[1;33m:\u001b[0m\u001b[1;33m\u001b[0m\u001b[0m\n",
      "\u001b[1;32m/usr/local/lib/python2.7/dist-packages/py2cytoscape/data/style_client.pyc\u001b[0m in \u001b[0;36m__init__\u001b[1;34m(self, url)\u001b[0m\n\u001b[0;32m     71\u001b[0m     \u001b[1;32mdef\u001b[0m \u001b[0m__init__\u001b[0m\u001b[1;33m(\u001b[0m\u001b[0mself\u001b[0m\u001b[1;33m,\u001b[0m \u001b[0murl\u001b[0m\u001b[1;33m)\u001b[0m\u001b[1;33m:\u001b[0m\u001b[1;33m\u001b[0m\u001b[0m\n\u001b[0;32m     72\u001b[0m         \u001b[0mself\u001b[0m\u001b[1;33m.\u001b[0m\u001b[0m__url\u001b[0m \u001b[1;33m=\u001b[0m \u001b[0murl\u001b[0m \u001b[1;33m+\u001b[0m \u001b[1;34m'styles/visualproperties'\u001b[0m\u001b[1;33m\u001b[0m\u001b[0m\n\u001b[1;32m---> 73\u001b[1;33m         \u001b[0mself\u001b[0m\u001b[1;33m.\u001b[0m\u001b[0m__convert_to_dict\u001b[0m\u001b[1;33m(\u001b[0m\u001b[1;33m)\u001b[0m\u001b[1;33m\u001b[0m\u001b[0m\n\u001b[0m\u001b[0;32m     74\u001b[0m \u001b[1;33m\u001b[0m\u001b[0m\n\u001b[0;32m     75\u001b[0m     \u001b[1;32mdef\u001b[0m \u001b[0m__convert_to_dict\u001b[0m\u001b[1;33m(\u001b[0m\u001b[0mself\u001b[0m\u001b[1;33m)\u001b[0m\u001b[1;33m:\u001b[0m\u001b[1;33m\u001b[0m\u001b[0m\n",
      "\u001b[1;32m/usr/local/lib/python2.7/dist-packages/py2cytoscape/data/style_client.pyc\u001b[0m in \u001b[0;36m__convert_to_dict\u001b[1;34m(self)\u001b[0m\n\u001b[0;32m     74\u001b[0m \u001b[1;33m\u001b[0m\u001b[0m\n\u001b[0;32m     75\u001b[0m     \u001b[1;32mdef\u001b[0m \u001b[0m__convert_to_dict\u001b[0m\u001b[1;33m(\u001b[0m\u001b[0mself\u001b[0m\u001b[1;33m)\u001b[0m\u001b[1;33m:\u001b[0m\u001b[1;33m\u001b[0m\u001b[0m\n\u001b[1;32m---> 76\u001b[1;33m         \u001b[0mvps\u001b[0m \u001b[1;33m=\u001b[0m \u001b[0mrequests\u001b[0m\u001b[1;33m.\u001b[0m\u001b[0mget\u001b[0m\u001b[1;33m(\u001b[0m\u001b[0mself\u001b[0m\u001b[1;33m.\u001b[0m\u001b[0m__url\u001b[0m\u001b[1;33m)\u001b[0m\u001b[1;33m.\u001b[0m\u001b[0mjson\u001b[0m\u001b[1;33m(\u001b[0m\u001b[1;33m)\u001b[0m\u001b[1;33m\u001b[0m\u001b[0m\n\u001b[0m\u001b[0;32m     77\u001b[0m         \u001b[0mvp_dict\u001b[0m \u001b[1;33m=\u001b[0m \u001b[1;33m{\u001b[0m\u001b[1;33m}\u001b[0m\u001b[1;33m\u001b[0m\u001b[0m\n\u001b[0;32m     78\u001b[0m         \u001b[0mnode_vps\u001b[0m \u001b[1;33m=\u001b[0m \u001b[1;33m[\u001b[0m\u001b[1;33m]\u001b[0m\u001b[1;33m\u001b[0m\u001b[0m\n",
      "\u001b[1;32m/usr/local/lib/python2.7/dist-packages/requests/api.pyc\u001b[0m in \u001b[0;36mget\u001b[1;34m(url, params, **kwargs)\u001b[0m\n\u001b[0;32m     69\u001b[0m \u001b[1;33m\u001b[0m\u001b[0m\n\u001b[0;32m     70\u001b[0m     \u001b[0mkwargs\u001b[0m\u001b[1;33m.\u001b[0m\u001b[0msetdefault\u001b[0m\u001b[1;33m(\u001b[0m\u001b[1;34m'allow_redirects'\u001b[0m\u001b[1;33m,\u001b[0m \u001b[0mTrue\u001b[0m\u001b[1;33m)\u001b[0m\u001b[1;33m\u001b[0m\u001b[0m\n\u001b[1;32m---> 71\u001b[1;33m     \u001b[1;32mreturn\u001b[0m \u001b[0mrequest\u001b[0m\u001b[1;33m(\u001b[0m\u001b[1;34m'get'\u001b[0m\u001b[1;33m,\u001b[0m \u001b[0murl\u001b[0m\u001b[1;33m,\u001b[0m \u001b[0mparams\u001b[0m\u001b[1;33m=\u001b[0m\u001b[0mparams\u001b[0m\u001b[1;33m,\u001b[0m \u001b[1;33m**\u001b[0m\u001b[0mkwargs\u001b[0m\u001b[1;33m)\u001b[0m\u001b[1;33m\u001b[0m\u001b[0m\n\u001b[0m\u001b[0;32m     72\u001b[0m \u001b[1;33m\u001b[0m\u001b[0m\n\u001b[0;32m     73\u001b[0m \u001b[1;33m\u001b[0m\u001b[0m\n",
      "\u001b[1;32m/usr/local/lib/python2.7/dist-packages/requests/api.pyc\u001b[0m in \u001b[0;36mrequest\u001b[1;34m(method, url, **kwargs)\u001b[0m\n\u001b[0;32m     55\u001b[0m     \u001b[1;31m# cases, and look like a memory leak in others.\u001b[0m\u001b[1;33m\u001b[0m\u001b[1;33m\u001b[0m\u001b[0m\n\u001b[0;32m     56\u001b[0m     \u001b[1;32mwith\u001b[0m \u001b[0msessions\u001b[0m\u001b[1;33m.\u001b[0m\u001b[0mSession\u001b[0m\u001b[1;33m(\u001b[0m\u001b[1;33m)\u001b[0m \u001b[1;32mas\u001b[0m \u001b[0msession\u001b[0m\u001b[1;33m:\u001b[0m\u001b[1;33m\u001b[0m\u001b[0m\n\u001b[1;32m---> 57\u001b[1;33m         \u001b[1;32mreturn\u001b[0m \u001b[0msession\u001b[0m\u001b[1;33m.\u001b[0m\u001b[0mrequest\u001b[0m\u001b[1;33m(\u001b[0m\u001b[0mmethod\u001b[0m\u001b[1;33m=\u001b[0m\u001b[0mmethod\u001b[0m\u001b[1;33m,\u001b[0m \u001b[0murl\u001b[0m\u001b[1;33m=\u001b[0m\u001b[0murl\u001b[0m\u001b[1;33m,\u001b[0m \u001b[1;33m**\u001b[0m\u001b[0mkwargs\u001b[0m\u001b[1;33m)\u001b[0m\u001b[1;33m\u001b[0m\u001b[0m\n\u001b[0m\u001b[0;32m     58\u001b[0m \u001b[1;33m\u001b[0m\u001b[0m\n\u001b[0;32m     59\u001b[0m \u001b[1;33m\u001b[0m\u001b[0m\n",
      "\u001b[1;32m/usr/local/lib/python2.7/dist-packages/requests/sessions.pyc\u001b[0m in \u001b[0;36mrequest\u001b[1;34m(self, method, url, params, data, headers, cookies, files, auth, timeout, allow_redirects, proxies, hooks, stream, verify, cert, json)\u001b[0m\n\u001b[0;32m    473\u001b[0m         }\n\u001b[0;32m    474\u001b[0m         \u001b[0msend_kwargs\u001b[0m\u001b[1;33m.\u001b[0m\u001b[0mupdate\u001b[0m\u001b[1;33m(\u001b[0m\u001b[0msettings\u001b[0m\u001b[1;33m)\u001b[0m\u001b[1;33m\u001b[0m\u001b[0m\n\u001b[1;32m--> 475\u001b[1;33m         \u001b[0mresp\u001b[0m \u001b[1;33m=\u001b[0m \u001b[0mself\u001b[0m\u001b[1;33m.\u001b[0m\u001b[0msend\u001b[0m\u001b[1;33m(\u001b[0m\u001b[0mprep\u001b[0m\u001b[1;33m,\u001b[0m \u001b[1;33m**\u001b[0m\u001b[0msend_kwargs\u001b[0m\u001b[1;33m)\u001b[0m\u001b[1;33m\u001b[0m\u001b[0m\n\u001b[0m\u001b[0;32m    476\u001b[0m \u001b[1;33m\u001b[0m\u001b[0m\n\u001b[0;32m    477\u001b[0m         \u001b[1;32mreturn\u001b[0m \u001b[0mresp\u001b[0m\u001b[1;33m\u001b[0m\u001b[0m\n",
      "\u001b[1;32m/usr/local/lib/python2.7/dist-packages/requests/sessions.pyc\u001b[0m in \u001b[0;36msend\u001b[1;34m(self, request, **kwargs)\u001b[0m\n\u001b[0;32m    583\u001b[0m \u001b[1;33m\u001b[0m\u001b[0m\n\u001b[0;32m    584\u001b[0m         \u001b[1;31m# Send the request\u001b[0m\u001b[1;33m\u001b[0m\u001b[1;33m\u001b[0m\u001b[0m\n\u001b[1;32m--> 585\u001b[1;33m         \u001b[0mr\u001b[0m \u001b[1;33m=\u001b[0m \u001b[0madapter\u001b[0m\u001b[1;33m.\u001b[0m\u001b[0msend\u001b[0m\u001b[1;33m(\u001b[0m\u001b[0mrequest\u001b[0m\u001b[1;33m,\u001b[0m \u001b[1;33m**\u001b[0m\u001b[0mkwargs\u001b[0m\u001b[1;33m)\u001b[0m\u001b[1;33m\u001b[0m\u001b[0m\n\u001b[0m\u001b[0;32m    586\u001b[0m \u001b[1;33m\u001b[0m\u001b[0m\n\u001b[0;32m    587\u001b[0m         \u001b[1;31m# Total elapsed time of the request (approximately)\u001b[0m\u001b[1;33m\u001b[0m\u001b[1;33m\u001b[0m\u001b[0m\n",
      "\u001b[1;32m/usr/local/lib/python2.7/dist-packages/requests/adapters.pyc\u001b[0m in \u001b[0;36msend\u001b[1;34m(self, request, stream, timeout, verify, cert, proxies)\u001b[0m\n\u001b[0;32m    465\u001b[0m                 \u001b[1;32mraise\u001b[0m \u001b[0mProxyError\u001b[0m\u001b[1;33m(\u001b[0m\u001b[0me\u001b[0m\u001b[1;33m,\u001b[0m \u001b[0mrequest\u001b[0m\u001b[1;33m=\u001b[0m\u001b[0mrequest\u001b[0m\u001b[1;33m)\u001b[0m\u001b[1;33m\u001b[0m\u001b[0m\n\u001b[0;32m    466\u001b[0m \u001b[1;33m\u001b[0m\u001b[0m\n\u001b[1;32m--> 467\u001b[1;33m             \u001b[1;32mraise\u001b[0m \u001b[0mConnectionError\u001b[0m\u001b[1;33m(\u001b[0m\u001b[0me\u001b[0m\u001b[1;33m,\u001b[0m \u001b[0mrequest\u001b[0m\u001b[1;33m=\u001b[0m\u001b[0mrequest\u001b[0m\u001b[1;33m)\u001b[0m\u001b[1;33m\u001b[0m\u001b[0m\n\u001b[0m\u001b[0;32m    468\u001b[0m \u001b[1;33m\u001b[0m\u001b[0m\n\u001b[0;32m    469\u001b[0m         \u001b[1;32mexcept\u001b[0m \u001b[0mClosedPoolError\u001b[0m \u001b[1;32mas\u001b[0m \u001b[0me\u001b[0m\u001b[1;33m:\u001b[0m\u001b[1;33m\u001b[0m\u001b[0m\n",
      "\u001b[1;31mConnectionError\u001b[0m: HTTPConnectionPool(host='localhost', port=1234): Max retries exceeded with url: /v1/styles/visualproperties (Caused by NewConnectionError('<requests.packages.urllib3.connection.HTTPConnection object at 0x7fae776d2ad0>: Failed to establish a new connection: [Errno 111] Connection refused',))"
     ]
    }
   ],
   "source": [
    "\n",
    "### Using the cytoscape REST api, needs a cytoscape desktop app running \n",
    "\n",
    "\n",
    "# Create Client\n",
    "cy = CyRestClient()\n",
    "# Clear current session\n",
    "cy.session.delete()\n",
    "\n",
    "#create network (will appear in the cytoscape desktop windows)\n",
    "net1 = cy.network.create_from_dataframe(df, source_col=2,target_col=3,interaction_col=10)\n",
    "\n",
    "cy.layout.apply(network=net1)\n",
    "cy.layout.fit(network=net1)\n",
    "\n",
    "style_s3 = cy.style.create('Sample3')\n",
    "cy.style.apply(style=style_s3, network=net1)\n",
    "\n",
    "#get display as static render of cytoscape\n",
    "Image(net1.get_png(height=400))\n",
    "\n",
    "#dynamic rendering using cytoscape.js\n",
    "\n",
    "style_for_widget = cy.style.get(style_s3.get_name(), data_format='cytoscapejs')\n",
    "renderer.render(net1.get_first_view(), style=style_for_widget['style'], background='#000000')"
   ]
  },
  {
   "cell_type": "code",
   "execution_count": null,
   "metadata": {
    "collapsed": false
   },
   "outputs": [],
   "source": [
    "#direct dynamic rendering using cytoscape.js\n",
    "\n",
    "renderer.render(cydf.from_dataframe(df, source_col=2,target_col=3,interaction_col=10),layout_algorithm='circle',style='Big Labels')"
   ]
  }
 ],
 "metadata": {
  "kernelspec": {
   "display_name": "OMERO Python 2",
   "language": "python",
   "name": "python2"
  },
  "language_info": {
   "codemirror_mode": {
    "name": "ipython",
    "version": 2
   },
   "file_extension": ".py",
   "mimetype": "text/x-python",
   "name": "python",
   "nbconvert_exporter": "python",
   "pygments_lexer": "ipython2",
   "version": "2.7.6"
  }
 },
 "nbformat": 4,
 "nbformat_minor": 0
}
