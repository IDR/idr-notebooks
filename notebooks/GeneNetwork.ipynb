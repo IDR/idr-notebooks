{
 "cells": [
  {
   "cell_type": "markdown",
   "metadata": {},
   "source": [
    "# Building a gene network from the IDR and STRINGdb\n",
    "\n",
    "This notebook exemplifies how to build Figure 1 of the paper using the IDR API. "
   ]
  },
  {
   "cell_type": "markdown",
   "metadata": {},
   "source": [
    "### Dependencies\n",
    "\n",
    " * [Matplotlib](http://matplotlib.org/)\n",
    " * [NumPy](http://www.numpy.org/)\n",
    " * [Pandas](http://pandas.pydata.org/)\n",
    " * [NetworkX](https://networkx.github.io/)\n",
    " * [Py2Cytoscape](https://pypi.python.org/pypi/py2cytoscape)\n",
    " * [Requests](http://docs.python-requests.org/)"
   ]
  },
  {
   "cell_type": "code",
   "execution_count": 1,
   "metadata": {},
   "outputs": [
    {
     "data": {
      "application/javascript": [
       "if (window['cytoscape'] === undefined) {\n",
       "    var paths = {\n",
       "        cytoscape: 'http://cytoscape.github.io/cytoscape.js/api/cytoscape.js-latest/cytoscape.min'\n",
       "    };\n",
       "\n",
       "    require.config({\n",
       "        paths: paths\n",
       "    });\n",
       "\n",
       "    require(['cytoscape'], function (cytoscape) {\n",
       "        console.log('Loading Cytoscape.js Module...');\n",
       "        window['cytoscape'] = cytoscape;\n",
       "\n",
       "        var event = document.createEvent(\"HTMLEvents\");\n",
       "        event.initEvent(\"load_cytoscape\", true, false);\n",
       "        window.dispatchEvent(event);\n",
       "    });\n",
       "}"
      ],
      "text/plain": [
       "<IPython.core.display.Javascript object>"
      ]
     },
     "metadata": {},
     "output_type": "display_data"
    },
    {
     "data": {
      "text/html": [
       "\n",
       "    <div class=\"bk-root\">\n",
       "        <a href=\"http://bokeh.pydata.org\" target=\"_blank\" class=\"bk-logo bk-logo-small bk-logo-notebook\"></a>\n",
       "        <span id=\"97f28b46-22cd-4e0a-9818-9d67d140ef5e\">Loading BokehJS ...</span>\n",
       "    </div>"
      ]
     },
     "metadata": {},
     "output_type": "display_data"
    },
    {
     "data": {
      "application/javascript": [
       "\n",
       "(function(global) {\n",
       "  function now() {\n",
       "    return new Date();\n",
       "  }\n",
       "\n",
       "  var force = true;\n",
       "\n",
       "  if (typeof (window._bokeh_onload_callbacks) === \"undefined\" || force === true) {\n",
       "    window._bokeh_onload_callbacks = [];\n",
       "    window._bokeh_is_loading = undefined;\n",
       "  }\n",
       "\n",
       "\n",
       "  \n",
       "  if (typeof (window._bokeh_timeout) === \"undefined\" || force === true) {\n",
       "    window._bokeh_timeout = Date.now() + 5000;\n",
       "    window._bokeh_failed_load = false;\n",
       "  }\n",
       "\n",
       "  var NB_LOAD_WARNING = {'data': {'text/html':\n",
       "     \"<div style='background-color: #fdd'>\\n\"+\n",
       "     \"<p>\\n\"+\n",
       "     \"BokehJS does not appear to have successfully loaded. If loading BokehJS from CDN, this \\n\"+\n",
       "     \"may be due to a slow or bad network connection. Possible fixes:\\n\"+\n",
       "     \"</p>\\n\"+\n",
       "     \"<ul>\\n\"+\n",
       "     \"<li>re-rerun `output_notebook()` to attempt to load from CDN again, or</li>\\n\"+\n",
       "     \"<li>use INLINE resources instead, as so:</li>\\n\"+\n",
       "     \"</ul>\\n\"+\n",
       "     \"<code>\\n\"+\n",
       "     \"from bokeh.resources import INLINE\\n\"+\n",
       "     \"output_notebook(resources=INLINE)\\n\"+\n",
       "     \"</code>\\n\"+\n",
       "     \"</div>\"}};\n",
       "\n",
       "  function display_loaded() {\n",
       "    if (window.Bokeh !== undefined) {\n",
       "      var el = document.getElementById(\"97f28b46-22cd-4e0a-9818-9d67d140ef5e\");\n",
       "      el.textContent = \"BokehJS \" + Bokeh.version + \" successfully loaded.\";\n",
       "    } else if (Date.now() < window._bokeh_timeout) {\n",
       "      setTimeout(display_loaded, 100)\n",
       "    }\n",
       "  }\n",
       "\n",
       "  function run_callbacks() {\n",
       "    window._bokeh_onload_callbacks.forEach(function(callback) { callback() });\n",
       "    delete window._bokeh_onload_callbacks\n",
       "    console.info(\"Bokeh: all callbacks have finished\");\n",
       "  }\n",
       "\n",
       "  function load_libs(js_urls, callback) {\n",
       "    window._bokeh_onload_callbacks.push(callback);\n",
       "    if (window._bokeh_is_loading > 0) {\n",
       "      console.log(\"Bokeh: BokehJS is being loaded, scheduling callback at\", now());\n",
       "      return null;\n",
       "    }\n",
       "    if (js_urls == null || js_urls.length === 0) {\n",
       "      run_callbacks();\n",
       "      return null;\n",
       "    }\n",
       "    console.log(\"Bokeh: BokehJS not loaded, scheduling load and callback at\", now());\n",
       "    window._bokeh_is_loading = js_urls.length;\n",
       "    for (var i = 0; i < js_urls.length; i++) {\n",
       "      var url = js_urls[i];\n",
       "      var s = document.createElement('script');\n",
       "      s.src = url;\n",
       "      s.async = false;\n",
       "      s.onreadystatechange = s.onload = function() {\n",
       "        window._bokeh_is_loading--;\n",
       "        if (window._bokeh_is_loading === 0) {\n",
       "          console.log(\"Bokeh: all BokehJS libraries loaded\");\n",
       "          run_callbacks()\n",
       "        }\n",
       "      };\n",
       "      s.onerror = function() {\n",
       "        console.warn(\"failed to load library \" + url);\n",
       "      };\n",
       "      console.log(\"Bokeh: injecting script tag for BokehJS library: \", url);\n",
       "      document.getElementsByTagName(\"head\")[0].appendChild(s);\n",
       "    }\n",
       "  };var element = document.getElementById(\"97f28b46-22cd-4e0a-9818-9d67d140ef5e\");\n",
       "  if (element == null) {\n",
       "    console.log(\"Bokeh: ERROR: autoload.js configured with elementid '97f28b46-22cd-4e0a-9818-9d67d140ef5e' but no matching script tag was found. \")\n",
       "    return false;\n",
       "  }\n",
       "\n",
       "  var js_urls = [\"https://cdn.pydata.org/bokeh/release/bokeh-0.12.5.min.js\", \"https://cdn.pydata.org/bokeh/release/bokeh-widgets-0.12.5.min.js\"];\n",
       "\n",
       "  var inline_js = [\n",
       "    function(Bokeh) {\n",
       "      Bokeh.set_log_level(\"info\");\n",
       "    },\n",
       "    \n",
       "    function(Bokeh) {\n",
       "      \n",
       "    },\n",
       "    \n",
       "    function(Bokeh) {\n",
       "      \n",
       "      document.getElementById(\"97f28b46-22cd-4e0a-9818-9d67d140ef5e\").textContent = \"BokehJS is loading...\";\n",
       "    },\n",
       "    function(Bokeh) {\n",
       "      console.log(\"Bokeh: injecting CSS: https://cdn.pydata.org/bokeh/release/bokeh-0.12.5.min.css\");\n",
       "      Bokeh.embed.inject_css(\"https://cdn.pydata.org/bokeh/release/bokeh-0.12.5.min.css\");\n",
       "      console.log(\"Bokeh: injecting CSS: https://cdn.pydata.org/bokeh/release/bokeh-widgets-0.12.5.min.css\");\n",
       "      Bokeh.embed.inject_css(\"https://cdn.pydata.org/bokeh/release/bokeh-widgets-0.12.5.min.css\");\n",
       "    }\n",
       "  ];\n",
       "\n",
       "  function run_inline_js() {\n",
       "    \n",
       "    if ((window.Bokeh !== undefined) || (force === true)) {\n",
       "      for (var i = 0; i < inline_js.length; i++) {\n",
       "        inline_js[i](window.Bokeh);\n",
       "      }if (force === true) {\n",
       "        display_loaded();\n",
       "      }} else if (Date.now() < window._bokeh_timeout) {\n",
       "      setTimeout(run_inline_js, 100);\n",
       "    } else if (!window._bokeh_failed_load) {\n",
       "      console.log(\"Bokeh: BokehJS failed to load within specified timeout.\");\n",
       "      window._bokeh_failed_load = true;\n",
       "    } else if (force !== true) {\n",
       "      var cell = $(document.getElementById(\"97f28b46-22cd-4e0a-9818-9d67d140ef5e\")).parents('.cell').data().cell;\n",
       "      cell.output_area.append_execute_result(NB_LOAD_WARNING)\n",
       "    }\n",
       "\n",
       "  }\n",
       "\n",
       "  if (window._bokeh_is_loading === 0) {\n",
       "    console.log(\"Bokeh: BokehJS loaded, going straight to plotting\");\n",
       "    run_inline_js();\n",
       "  } else {\n",
       "    load_libs(js_urls, function() {\n",
       "      console.log(\"Bokeh: BokehJS plotting callback run at\", now());\n",
       "      run_inline_js();\n",
       "    });\n",
       "  }\n",
       "}(this));"
      ]
     },
     "metadata": {},
     "output_type": "display_data"
    }
   ],
   "source": [
    "import omero\n",
    "from idr import connection\n",
    "\n",
    "import requests\n",
    "from pandas import DataFrame\n",
    "from pandas import read_csv\n",
    "from pandas import concat\n",
    "from io import StringIO\n",
    "\n",
    "from py2cytoscape.data.cyrest_client import CyRestClient\n",
    "import py2cytoscape.util.dataframe as cydf\n",
    "import numpy as np\n",
    "from IPython.display import Image,display\n",
    "import py2cytoscape.cytoscapejs as renderer\n",
    "\n",
    "import networkx as nx\n",
    "import matplotlib.pyplot as plt\n",
    "%matplotlib inline\n",
    "\n",
    "from bokeh.models import ColumnDataSource\n",
    "from bokeh.plotting import figure, output_notebook, show,save\n",
    "from bokeh.models import HoverTool\n",
    "\n",
    "output_notebook()"
   ]
  },
  {
   "cell_type": "markdown",
   "metadata": {},
   "source": [
    "### Method definitions"
   ]
  },
  {
   "cell_type": "code",
   "execution_count": 2,
   "metadata": {
    "collapsed": true
   },
   "outputs": [],
   "source": [
    "def getBulkAnnotationAsDf(screenID,conn):\n",
    "#    ofId=8118685\n",
    "    sc=conn.getObject('Screen',screenID)\n",
    "    for ann in sc.listAnnotations():\n",
    "        if isinstance(ann, omero.gateway.FileAnnotationWrapper):\n",
    "            if (ann.getFile().getName()=='bulk_annotations'):\n",
    "                if (ann.getFile().getSize()> 147625090): #about 140Mb?\n",
    "                    print \"that's a big file...\"\n",
    "                    return None\n",
    "                ofId=ann.getFile().getId()\n",
    "                break\n",
    "\n",
    "    print ofId\n",
    "    original_file = omero.model.OriginalFileI(ofId, False)\n",
    "\n",
    "    openTable = conn.c.sf.sharedResources().openTable(original_file)\n",
    "    rowCount = openTable.getNumberOfRows()\n",
    "\n",
    "    #table to df\n",
    "\n",
    "    column_names = [col.name for col in openTable.getHeaders()]\n",
    "\n",
    "    black_list = []\n",
    "    column_indices = []\n",
    "    for column_name in column_names:\n",
    "        if column_name in black_list:\n",
    "            continue\n",
    "        column_indices.append(column_names.index(column_name))\n",
    "\n",
    "    table_data = openTable.slice(column_indices, None)\n",
    "    data = []\n",
    "    for index in range(rowCount):\n",
    "        row_values = [column.values[index] for column in table_data.columns]\n",
    "        data.append(row_values)\n",
    "\n",
    "    dfAnn=DataFrame(data)\n",
    "    dfAnn.columns=column_names\n",
    "    return dfAnn\n"
   ]
  },
  {
   "cell_type": "code",
   "execution_count": 3,
   "metadata": {
    "collapsed": true
   },
   "outputs": [],
   "source": [
    "def getGenesFromPhenotype(df,phTerm):\n",
    "# all gene from bulk_annotation 'df' annotated with CMPO term 'phTerm'\n",
    "    colElong=[]\n",
    "    for col in df.columns:\n",
    "        if ('Term Accession' in col):\n",
    "            if (phTerm in df[col].unique()):\n",
    "                colElong.append(col)\n",
    "\n",
    "    dfElong=concat([df[df[col]!= ''] for col in colElong])\n",
    "    return dfElong['Gene Identifier'].unique()\n",
    "    "
   ]
  },
  {
   "cell_type": "markdown",
   "metadata": {},
   "source": [
    "### Connect to the IDR server"
   ]
  },
  {
   "cell_type": "code",
   "execution_count": 4,
   "metadata": {
    "collapsed": true
   },
   "outputs": [],
   "source": [
    "conn = connection()"
   ]
  },
  {
   "cell_type": "markdown",
   "metadata": {},
   "source": [
    "## Querying the IDR\n",
    "\n",
    "We will download the annotations for the three screens under study as panda DataFrames, and sub-select the genes from each which are annotated with the phenotype we are looking for, CMPO_0000077 a.k.a. 'elongated cell phenotype'.\n",
    "\n",
    "The next step is to build, from that list, a list of IDs we can query the STRING database with. The translation table was built offline using biomart and pombase. "
   ]
  },
  {
   "cell_type": "code",
   "execution_count": 5,
   "metadata": {},
   "outputs": [
    {
     "name": "stdout",
     "output_type": "stream",
     "text": [
      "loading 3\n",
      "14209154\n"
     ]
    },
    {
     "ename": "AttributeError",
     "evalue": "'NoneType' object has no attribute 'getNumberOfRows'",
     "output_type": "error",
     "traceback": [
      "\u001b[0;31m\u001b[0m",
      "\u001b[0;31mAttributeError\u001b[0mTraceback (most recent call last)",
      "\u001b[0;32m<ipython-input-5-df528488ca4d>\u001b[0m in \u001b[0;36m<module>\u001b[0;34m()\u001b[0m\n\u001b[1;32m     14\u001b[0m \u001b[0;34m\u001b[0m\u001b[0m\n\u001b[1;32m     15\u001b[0m     \u001b[0;31m# loading bulk_annotations of screens as dataframes\u001b[0m\u001b[0;34m\u001b[0m\u001b[0;34m\u001b[0m\u001b[0m\n\u001b[0;32m---> 16\u001b[0;31m     \u001b[0mdf\u001b[0m \u001b[0;34m=\u001b[0m \u001b[0mgetBulkAnnotationAsDf\u001b[0m\u001b[0;34m(\u001b[0m\u001b[0mscId\u001b[0m\u001b[0;34m,\u001b[0m \u001b[0mconn\u001b[0m\u001b[0;34m)\u001b[0m\u001b[0;34m\u001b[0m\u001b[0m\n\u001b[0m\u001b[1;32m     17\u001b[0m \u001b[0;34m\u001b[0m\u001b[0m\n\u001b[1;32m     18\u001b[0m     \u001b[0;31m# unique genes with CPMO term\u001b[0m\u001b[0;34m\u001b[0m\u001b[0;34m\u001b[0m\u001b[0m\n",
      "\u001b[0;32m<ipython-input-2-7ab91e9d760a>\u001b[0m in \u001b[0;36mgetBulkAnnotationAsDf\u001b[0;34m(screenID, conn)\u001b[0m\n\u001b[1;32m     15\u001b[0m \u001b[0;34m\u001b[0m\u001b[0m\n\u001b[1;32m     16\u001b[0m     \u001b[0mopenTable\u001b[0m \u001b[0;34m=\u001b[0m \u001b[0mconn\u001b[0m\u001b[0;34m.\u001b[0m\u001b[0mc\u001b[0m\u001b[0;34m.\u001b[0m\u001b[0msf\u001b[0m\u001b[0;34m.\u001b[0m\u001b[0msharedResources\u001b[0m\u001b[0;34m(\u001b[0m\u001b[0;34m)\u001b[0m\u001b[0;34m.\u001b[0m\u001b[0mopenTable\u001b[0m\u001b[0;34m(\u001b[0m\u001b[0moriginal_file\u001b[0m\u001b[0;34m)\u001b[0m\u001b[0;34m\u001b[0m\u001b[0m\n\u001b[0;32m---> 17\u001b[0;31m     \u001b[0mrowCount\u001b[0m \u001b[0;34m=\u001b[0m \u001b[0mopenTable\u001b[0m\u001b[0;34m.\u001b[0m\u001b[0mgetNumberOfRows\u001b[0m\u001b[0;34m(\u001b[0m\u001b[0;34m)\u001b[0m\u001b[0;34m\u001b[0m\u001b[0m\n\u001b[0m\u001b[1;32m     18\u001b[0m \u001b[0;34m\u001b[0m\u001b[0m\n\u001b[1;32m     19\u001b[0m     \u001b[0;31m#table to df\u001b[0m\u001b[0;34m\u001b[0m\u001b[0;34m\u001b[0m\u001b[0m\n",
      "\u001b[0;31mAttributeError\u001b[0m: 'NoneType' object has no attribute 'getNumberOfRows'"
     ]
    }
   ],
   "source": [
    "#CMPO term to look for\n",
    "phTerm = 'CMPO_0000077'\n",
    "\n",
    "# ids of screens:\n",
    "# scId = 3  # Graml et al.\n",
    "# scId = 206  # Rohn et al., B\n",
    "# scId = 1202  # Fuchs et al., B\n",
    "\n",
    "screens = [3, 206, 1202]\n",
    "\n",
    "genes=[]\n",
    "for scId in screens:\n",
    "    print 'loading '+str(scId)\n",
    "\n",
    "    # loading bulk_annotations of screens as dataframes\n",
    "    df = getBulkAnnotationAsDf(scId, conn)\n",
    "    \n",
    "    # unique genes with CPMO term\n",
    "    cur = getGenesFromPhenotype(df, phTerm)\n",
    "    print 'got ' + str(len(cur)) + ' genes'\n",
    "    genes.extend(cur)"
   ]
  },
  {
   "cell_type": "markdown",
   "metadata": {},
   "source": [
    "### Disconnect when done loading data"
   ]
  },
  {
   "cell_type": "code",
   "execution_count": null,
   "metadata": {
    "collapsed": true
   },
   "outputs": [],
   "source": [
    "conn.close()"
   ]
  },
  {
   "cell_type": "markdown",
   "metadata": {},
   "source": [
    "### Translation"
   ]
  },
  {
   "cell_type": "code",
   "execution_count": null,
   "metadata": {},
   "outputs": [],
   "source": [
    "# The table was build offline using biomart\n",
    "dfTrans = read_csv('../includes/TableOfGenesWithElongatedCellPhenotype.csv')\n",
    "\n",
    "# extract IDs \n",
    "genesE84 = concat([dfTrans[dfTrans['Screen GeneID']==x]['Human Ortholog Ensembl 84'] for x in genes])\n",
    "genesE84 = genesE84[genesE84!='(null)']\n",
    "\n",
    "print genes[:10]\n",
    "print genesE84.head(10)"
   ]
  },
  {
   "cell_type": "markdown",
   "metadata": {},
   "source": [
    "### REST query of STRING db\n",
    "\n",
    "We use the STRINGdb REST API to get all the known interactions of all of our genes\n"
   ]
  },
  {
   "cell_type": "code",
   "execution_count": null,
   "metadata": {
    "collapsed": true
   },
   "outputs": [],
   "source": [
    "#building STRINdb REST api query\n",
    "url = 'http://string-db.org/api/psi-mi-tab/interactionsList?identifiers='\n",
    "for g in genesE84:\n",
    "    url=url+g+'%250D'\n",
    "Res = requests.get(url)"
   ]
  },
  {
   "cell_type": "code",
   "execution_count": null,
   "metadata": {},
   "outputs": [],
   "source": [
    "df = read_csv(StringIO(Res.text), sep='\\t', header=None)\n",
    "df.head(10)\n",
    "#df.to_csv('geneNetwork.csv')"
   ]
  },
  {
   "cell_type": "markdown",
   "metadata": {},
   "source": [
    "### Some displays"
   ]
  },
  {
   "cell_type": "markdown",
   "metadata": {},
   "source": [
    "#### A. networkx"
   ]
  },
  {
   "cell_type": "code",
   "execution_count": null,
   "metadata": {},
   "outputs": [],
   "source": [
    "g = nx.from_pandas_dataframe(df, 2, 3)\n",
    "plt.figure(figsize = (12, 12))\n",
    "nx.draw_spring(g, with_labels=True)"
   ]
  },
  {
   "cell_type": "markdown",
   "metadata": {},
   "source": [
    "#### B. Bokeh"
   ]
  },
  {
   "cell_type": "code",
   "execution_count": null,
   "metadata": {},
   "outputs": [],
   "source": [
    "#use spring layout from networkx for display\n",
    "pts = nx.spring_layout(g)\n",
    "\n",
    "TOOLS=\"tap,pan,wheel_zoom,reset\"\n",
    "p = figure(plot_width=800, plot_height=800,title = \"My chart\", tools=TOOLS)\n",
    "\n",
    "sourceNode = ColumnDataSource(\n",
    "    data=dict(\n",
    "        x=[x[0] for x in pts.itervalues()],\n",
    "        y=[x[1] for x in pts.itervalues()],\n",
    "        names=[x for x in pts.iterkeys()]\n",
    "    ))\n",
    "\n",
    "sourceEdges = ColumnDataSource(\n",
    "    data=dict(\n",
    "        x1=[pts[x[0]][0] for x in g.edges()],\n",
    "        y1=[pts[x[0]][1] for x in g.edges()],\n",
    "        x2=[pts[x[1]][0] for x in g.edges()],\n",
    "        y2=[pts[x[1]][1] for x in g.edges()]\n",
    "    ))\n",
    "\n",
    "\n",
    "cir=p.circle('x','y',source=sourceNode,radius=.01)\n",
    "seg=p.segment('x1','y1','x2','y2',source=sourceEdges)\n",
    "\n",
    "\n",
    "hover = HoverTool(\n",
    "        tooltips=[\n",
    "            (\"Name\", \"@names\"),\n",
    "#            (\"Screens names\", \"@screens\"),\n",
    "        ]\n",
    "    )\n",
    "p.add_tools(hover)\n",
    "\n",
    "show(p)\n"
   ]
  },
  {
   "cell_type": "markdown",
   "metadata": {},
   "source": [
    "### License\n",
    "\n",
    "Copyright (C) 2016 University of Dundee. All Rights Reserved.\n",
    "\n",
    "This program is free software; you can redistribute it and/or modify it under the terms of the GNU General Public License as published by the Free Software Foundation; either version 2 of the License, or (at your option) any later version.\n",
    "\n",
    "This program is distributed in the hope that it will be useful, but WITHOUT ANY WARRANTY; without even the implied warranty of MERCHANTABILITY or FITNESS FOR A PARTICULAR PURPOSE. See the GNU General Public License for more details. You should have received a copy of the GNU General Public License along with this program; if not, write to the Free Software Foundation, Inc., 51 Franklin Street, Fifth Floor, Boston, MA 02110-1301 USA."
   ]
  }
 ],
 "metadata": {
  "kernelspec": {
   "display_name": "OMERO Python 2",
   "language": "python",
   "name": "python2"
  },
  "language_info": {
   "codemirror_mode": {
    "name": "ipython",
    "version": 2
   },
   "file_extension": ".py",
   "mimetype": "text/x-python",
   "name": "python",
   "nbconvert_exporter": "python",
   "pygments_lexer": "ipython2",
   "version": "2.7.13"
  }
 },
 "nbformat": 4,
 "nbformat_minor": 1
}
