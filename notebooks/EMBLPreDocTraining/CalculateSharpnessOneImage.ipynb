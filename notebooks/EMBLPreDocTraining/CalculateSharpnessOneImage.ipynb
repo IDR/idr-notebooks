{
 "cells": [
  {
   "cell_type": "markdown",
   "metadata": {},
   "source": [
    "# QC script to calculate sharpness metric for images in a plate"
   ]
  },
  {
   "cell_type": "markdown",
   "metadata": {},
   "source": [
    "The following script takes an image from the IDR, adds increasing levels of blurriness to it and then calculates a 'sharpness' score for the images. \n",
    "\n",
    "It highlights the start of an investigation for a workflow that might be used to identify out-of-focus images across a plate of images.\n"
   ]
  },
  {
   "cell_type": "markdown",
   "metadata": {},
   "source": [
    "# Workflow summary"
   ]
  },
  {
   "cell_type": "markdown",
   "metadata": {},
   "source": [
    "![Overview](../../includes/SharpnessWorkflow.jpg)"
   ]
  },
  {
   "cell_type": "markdown",
   "metadata": {},
   "source": [
    "### Import Packages that we will need later"
   ]
  },
  {
   "cell_type": "code",
   "execution_count": null,
   "metadata": {
    "collapsed": true
   },
   "outputs": [],
   "source": [
    "from PIL import Image\n",
    "import numpy as np\n",
    "import matplotlib\n",
    "import matplotlib.pyplot as plt\n",
    "import decimal\n",
    "import seaborn as sns\n",
    "from mpl_toolkits.axes_grid1 import AxesGrid\n",
    "from numpy import array, int8\n",
    "from skimage import feature\n",
    "import scipy as sp\n",
    "from scipy.ndimage import convolve\n",
    "from scipy import misc, fftpack\n",
    "from scipy import ndimage\n",
    "from idr.widgets import dropdown_widget\n",
    "from idr import connection"
   ]
  },
  {
   "cell_type": "markdown",
   "metadata": {},
   "source": [
    "### Create a connection to the IDR"
   ]
  },
  {
   "cell_type": "code",
   "execution_count": null,
   "metadata": {},
   "outputs": [],
   "source": [
    "conn = connection()"
   ]
  },
  {
   "cell_type": "markdown",
   "metadata": {},
   "source": [
    "### Define the 3 algorithms we are going to test\n",
    "<br>\n",
    "The algorithms were sourced from:\n",
    "\n",
    "* gradientBased - [stackoverflow: Detect which image is sharper](https://stackoverflow.com/questions/6646371/detect-which-image-is-sharper/26014796)\n",
    "* fourierBased - [Image Sharpness Measure for Blurred Images in Frequency Domain](https://doi.org/10.1016/j.proeng.2013.09.086)\n",
    "* edgeBased - written by Balaji Ramalingan in Open Microscopy Environment team"
   ]
  },
  {
   "cell_type": "code",
   "execution_count": null,
   "metadata": {},
   "outputs": [],
   "source": [
    "class AlgorithmList:\n",
    "    def gradientBasedSharpnessMetric(self):\n",
    "        gy, gx = np.gradient(plane)\n",
    "        gnorm = np.sqrt(gx**2 + gy**2)\n",
    "        sharpness = np.average(gnorm)\n",
    "        return sharpness\n",
    "    def fourierBasedSharpnessMetric(self):\n",
    "        fftimage = np.fft.fft2(plane)\n",
    "        fftshift = np.fft.fftshift(fftimage)\n",
    "        fftshift = np.absolute(fftshift)\n",
    "        M = np.amax(fftshift)\n",
    "        Th = (fftshift > (M/float(1000))).sum()\n",
    "        if 'image' in locals():\n",
    "            sharpness = Th/(float(image.getSizeX())*float(image.getSizeY()))\n",
    "            return sharpness*10000\n",
    "        else:\n",
    "            return Th\n",
    "    def edgeBasedSharpnessMetric(self):\n",
    "        edges1 = feature.canny(plane, sigma=3)\n",
    "        kernel = np.ones((3, 3))\n",
    "        kernel[1, 1] = 0\n",
    "        sharpness = convolve(edges1, kernel, mode=\"constant\")\n",
    "        sharpness = sharpness[edges1 != 0].sum()\n",
    "        return sharpness\n",
    "print \"loaded:\", dir(AlgorithmList)"
   ]
  },
  {
   "cell_type": "markdown",
   "metadata": {},
   "source": [
    "### Choose which algorithm we are going to test"
   ]
  },
  {
   "cell_type": "code",
   "execution_count": null,
   "metadata": {},
   "outputs": [],
   "source": [
    "Algorithm = dropdown_widget(\n",
    "    ['Gradient', 'Fourier', 'Edge'],\n",
    "    'Algorithm: ', True\n",
    ")\n",
    "\n",
    "# SELECT THE METHOD THEN MOVE TO THE NEXT CELL WITHOUT RUNNING THE CELL AGAIN"
   ]
  },
  {
   "cell_type": "markdown",
   "metadata": {},
   "source": [
    "### Then retrieve an image from the IDR\n",
    "http://idr.openmicroscopy.org/webclient/?show=image-223958"
   ]
  },
  {
   "cell_type": "code",
   "execution_count": null,
   "metadata": {},
   "outputs": [],
   "source": [
    "imageId = 223958\n",
    "image = conn.getObject(\"Image\", imageId)\n",
    "print image.getName(), image.getDescription()"
   ]
  },
  {
   "cell_type": "markdown",
   "metadata": {},
   "source": [
    "### Now create increasing levels of Gaussian blur on this image, and calculate the sharpness of the original and blurred images using the chosen algorithm"
   ]
  },
  {
   "cell_type": "code",
   "execution_count": null,
   "metadata": {
    "collapsed": true
   },
   "outputs": [],
   "source": [
    "method = Algorithm.value\n",
    "if method == 'Gradient':\n",
    "    sharpness_method = AlgorithmList().gradientBasedSharpnessMetric\n",
    "elif method == 'Fourier':\n",
    "    sharpness_method = AlgorithmList().fourierBasedSharpnessMetric\n",
    "elif method == 'Edge':\n",
    "    sharpness_method = AlgorithmList().edgeBasedSharpnessMetric\n",
    "\n",
    "pixels = image.getPrimaryPixels()\n",
    "image_plane = pixels.getPlane(0, 0, 0)\n",
    "\n",
    "resultArray = np.zeros((5, 2), dtype=float);\n",
    "plt.figure(figsize=(20, 15))\n",
    "cntr = 1\n",
    "for sigValue in xrange(0,20,4):\n",
    "    face = misc.face(gray=True)\n",
    "    plane = ndimage.gaussian_filter(image_plane, sigma=sigValue)\n",
    "    plt.subplot(1,5,cntr)\n",
    "    plt.imshow(plane, cmap=plt.cm.gray)\n",
    "    plt.axis('off')\n",
    "    sharpness = sharpness_method()\n",
    "    resultArray[cntr-1,1] = sharpness\n",
    "    resultArray[cntr-1,0] = sigValue\n",
    "    cntr = cntr + 1\n",
    "    "
   ]
  },
  {
   "cell_type": "markdown",
   "metadata": {},
   "source": [
    "### Show the images with increasing levels of blur"
   ]
  },
  {
   "cell_type": "code",
   "execution_count": null,
   "metadata": {},
   "outputs": [],
   "source": [
    "plt.show()"
   ]
  },
  {
   "cell_type": "markdown",
   "metadata": {},
   "source": [
    "### Finally plot the Sharpness Score against the level of Gaussian blur"
   ]
  },
  {
   "cell_type": "code",
   "execution_count": null,
   "metadata": {},
   "outputs": [],
   "source": [
    "plt.figure(figsize=(10, 8))\n",
    "plt.plot(resultArray[:,0], resultArray[:,1], 'ro')\n",
    "plt.title(method)\n",
    "plt.xlabel('Levels of gaussian blur')\n",
    "plt.ylabel('Sharpness score')\n",
    "plt.show()\n",
    "plt.gcf().clear() "
   ]
  },
  {
   "cell_type": "markdown",
   "metadata": {},
   "source": [
    "### <span style=\"color:blue\">How well did the sharpness algorithm perform?  Try another algorithm to see if it performs better.</span>"
   ]
  },
  {
   "cell_type": "markdown",
   "metadata": {},
   "source": [
    "<br>\n",
    "#### When you are completely finished running the notebook close the connection to IDR"
   ]
  },
  {
   "cell_type": "code",
   "execution_count": null,
   "metadata": {
    "collapsed": true
   },
   "outputs": [],
   "source": [
    "conn.close()"
   ]
  },
  {
   "cell_type": "markdown",
   "metadata": {},
   "source": [
    "This notebook is modified from the CalculateSharpness notebook created by Balaji Ramalingam"
   ]
  }
 ],
 "metadata": {
  "kernelspec": {
   "display_name": "Python 2",
   "language": "python",
   "name": "python2"
  },
  "language_info": {
   "codemirror_mode": {
    "name": "ipython",
    "version": 2
   },
   "file_extension": ".py",
   "mimetype": "text/x-python",
   "name": "python",
   "nbconvert_exporter": "python",
   "pygments_lexer": "ipython2",
   "version": "2.7.13"
  }
 },
 "nbformat": 4,
 "nbformat_minor": 2
}
