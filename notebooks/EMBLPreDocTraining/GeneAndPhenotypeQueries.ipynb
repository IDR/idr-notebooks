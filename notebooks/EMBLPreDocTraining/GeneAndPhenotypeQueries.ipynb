{
 "cells": [
  {
   "cell_type": "markdown",
   "metadata": {},
   "source": [
    "# Genes to Phenotypes and Phenotypes to Genes\n",
    "\n",
    "This notebook allows you to query the gene and phenotype annotations in the IDR. \n",
    "\n",
    "**1. Gene to Phenotype queries**\n",
    "You can query with a gene list or GO ontology ID for a protein complex/cellular component which is then queried for the associated gene members and get back phenotypes associated with those genes. \n",
    "\n",
    "\n",
    "**2. Phenotype to Gene queries**\n",
    "You can query with a phenotype name and get back a list of all the genes linked \n",
    "to that phenotype.  You can then perform a GO enrichment analysis to see if the genes\n",
    "are signficantly associated with any GO terms.\n",
    "\n",
    "\n"
   ]
  },
  {
   "cell_type": "markdown",
   "metadata": {},
   "source": [
    "### First set up your environment and import all the packages you will need"
   ]
  },
  {
   "cell_type": "code",
   "execution_count": 1,
   "metadata": {
    "collapsed": true
   },
   "outputs": [],
   "source": [
    "# import pandas for data manipulation\n",
    "import pandas\n",
    "\n",
    "# import some functions for displaying the results\n",
    "from ipywidgets import widgets, interact, fixed\n",
    "from functools import wraps\n",
    "from IPython.display import display, HTML\n",
    "\n",
    "# import functions from the idr package to perform the queries\n",
    "from idr import connection, create_http_session\n",
    "from idr import genes_of_interest_go\n",
    "from idr.widgets import textbox_widget, progress\n",
    "from idr.widgets import dropdown_widget\n",
    "from idr import get_phenotypes_for_genelist, get_similar_genes\n",
    "from idr import attributes_by_attributes, get_organism_screenids\n",
    "\n",
    "# import a package for doing GO term enrichement analysis\n",
    "import gseapy as gp"
   ]
  },
  {
   "cell_type": "markdown",
   "metadata": {},
   "source": [
    "### Create a session for querying the IDR"
   ]
  },
  {
   "cell_type": "code",
   "execution_count": 2,
   "metadata": {
    "collapsed": true
   },
   "outputs": [],
   "source": [
    "session = create_http_session()"
   ]
  },
  {
   "cell_type": "markdown",
   "metadata": {},
   "source": [
    "### Set some variables to say that are going to only look at human genes"
   ]
  },
  {
   "cell_type": "code",
   "execution_count": 3,
   "metadata": {
    "collapsed": true
   },
   "outputs": [],
   "source": [
    "organism = 'Homo sapiens'\n",
    "tax_id = '9606'"
   ]
  },
  {
   "cell_type": "markdown",
   "metadata": {},
   "source": [
    "\n",
    "<br>\n",
    "## Genes to Phenotypes query"
   ]
  },
  {
   "cell_type": "markdown",
   "metadata": {},
   "source": [
    "### Create boxes to enter the Gene Ontology ID or manual gene list"
   ]
  },
  {
   "cell_type": "code",
   "execution_count": 5,
   "metadata": {},
   "outputs": [
    {
     "data": {
      "application/vnd.jupyter.widget-view+json": {
       "model_id": "f563d10e13514694a442d1ceb925751a",
       "version_major": 2,
       "version_minor": 0
      },
      "text/plain": [
       "A Jupyter Widget"
      ]
     },
     "metadata": {},
     "output_type": "display_data"
    },
    {
     "data": {
      "application/vnd.jupyter.widget-view+json": {
       "model_id": "bfe28d0844b24798b1bd46969509580a",
       "version_major": 2,
       "version_minor": 0
      },
      "text/plain": [
       "A Jupyter Widget"
      ]
     },
     "metadata": {},
     "output_type": "display_data"
    }
   ],
   "source": [
    "go_term = textbox_widget('', 'Enter GO Id e.g. GO:0005885', 'Gene Ontology Id:', True)\n",
    "manual_gene_list = textbox_widget('','Comma separated gene symbols', 'Manual Gene List:', True)\n",
    "\n",
    "# ENTER VALUES IN ONE OR BOTH BOXES THEN MOVE TO THE NEXT CELL WITHOUT RUNNING THE CELL AGAIN"
   ]
  },
  {
   "cell_type": "markdown",
   "metadata": {},
   "source": [
    "### Query GO for the genes associated with the GO ID, combine with any manually entered gene list"
   ]
  },
  {
   "cell_type": "code",
   "execution_count": 6,
   "metadata": {},
   "outputs": [
    {
     "name": "stdout",
     "output_type": "stream",
     "text": [
      "Please enter a valid Gene Ontology Id\n",
      "Query list of genes: [u' HELZ2', u'ASH2L']\n"
     ]
    }
   ],
   "source": [
    "go_gene_list = []\n",
    "if go_term.value.split(\",\") != ['']:\n",
    "    go_gene_list = genes_of_interest_go(go_term.value, tax_id)\n",
    "else:\n",
    "    print 'Please enter a valid Gene Ontology Id'\n",
    "manual_list = manual_gene_list.value.split(\",\")\n",
    "if manual_list != ['']:\n",
    "    go_gene_list = list(set(go_gene_list + manual_list))\n",
    "    \n",
    "print \"Query list of genes:\", go_gene_list"
   ]
  },
  {
   "cell_type": "markdown",
   "metadata": {},
   "source": [
    "### Query the IDR to get all the phenotypes associated with the list of genes"
   ]
  },
  {
   "cell_type": "code",
   "execution_count": 7,
   "metadata": {},
   "outputs": [
    {
     "name": "stdout",
     "output_type": "stream",
     "text": [
      "[============================================================] 100.0% ...Iterating through gene list\r"
     ]
    },
    {
     "data": {
      "text/html": [
       "<table border=\"1\" class=\"dataframe\">\n",
       "  <thead>\n",
       "    <tr style=\"text-align: right;\">\n",
       "      <th></th>\n",
       "      <th>Entrez</th>\n",
       "      <th>Ensembl</th>\n",
       "      <th>Key</th>\n",
       "      <th>Value</th>\n",
       "      <th>PhenotypeName</th>\n",
       "      <th>PhenotypeAccession</th>\n",
       "      <th>ScreenIds</th>\n",
       "    </tr>\n",
       "  </thead>\n",
       "  <tbody>\n",
       "    <tr>\n",
       "      <th>HELZ2</th>\n",
       "      <td>[85441]</td>\n",
       "      <td>[]</td>\n",
       "      <td>EntrezID</td>\n",
       "      <td>85441</td>\n",
       "      <td>[elongated cell phenotype, cell with projections]</td>\n",
       "      <td>[CMPO_0000077, CMPO_0000071]</td>\n",
       "      <td>[1202, 1202]</td>\n",
       "    </tr>\n",
       "    <tr>\n",
       "      <th>ASH2L</th>\n",
       "      <td>[9070]</td>\n",
       "      <td>[ENSG00000129691]</td>\n",
       "      <td>GeneName</td>\n",
       "      <td>ASH2L</td>\n",
       "      <td>[elongated cell phenotype]</td>\n",
       "      <td>[CMPO_0000077]</td>\n",
       "      <td>[1202]</td>\n",
       "    </tr>\n",
       "  </tbody>\n",
       "</table>"
      ],
      "text/plain": [
       "<IPython.core.display.HTML object>"
      ]
     },
     "metadata": {},
     "output_type": "display_data"
    }
   ],
   "source": [
    "# display the results in a table\n",
    "# set the columns so that all values will be shown\n",
    "pandas.set_option('display.max_colwidth', -1)\n",
    "\n",
    "# then display the table\n",
    "[query_genes_dataframe, screen_to_phenotype_dictionary] = get_phenotypes_for_genelist(session, go_gene_list, organism)\n",
    "display(HTML(query_genes_dataframe.to_html( escape=False)))"
   ]
  },
  {
   "cell_type": "markdown",
   "metadata": {},
   "source": [
    "---\n",
    "## Phenotypes to genes query"
   ]
  },
  {
   "cell_type": "markdown",
   "metadata": {},
   "source": [
    "### Choose a phenotype that we'd like to query\n",
    "Enter a Phenotype Term Name E.g. elongated cell phenotype"
   ]
  },
  {
   "cell_type": "code",
   "execution_count": 47,
   "metadata": {},
   "outputs": [
    {
     "data": {
      "application/vnd.jupyter.widget-view+json": {
       "model_id": "48acad0a2ca94906926d1974420e9024",
       "version_major": 2,
       "version_minor": 0
      },
      "text/plain": [
       "A Jupyter Widget"
      ]
     },
     "metadata": {},
     "output_type": "display_data"
    }
   ],
   "source": [
    "Phenotype = textbox_widget('elongated cell phenotype', '', 'Phenotype', True)\n",
    "# ENTER A VALUE IN THE BOX THEN MOVE TO THE NEXT CELL WITHOUT RUNNING THE CELL AGAIN\n",
    "# THE BOX HAS BE PREPOPULATED WITH A PHENOTYPE VALUE BUT YOU CAN CHANGE THIS"
   ]
  },
  {
   "cell_type": "markdown",
   "metadata": {},
   "source": [
    "### We can write a function to query the IDR for the genes associated with a phenotype"
   ]
  },
  {
   "cell_type": "code",
   "execution_count": 41,
   "metadata": {
    "collapsed": true
   },
   "outputs": [],
   "source": [
    "def get_genes_for_phenotype(phenotype, conn, sid): \n",
    "    args = {\n",
    "            \"name\": \"Phenotype Term Name\",\n",
    "            \"value\": phenotype,\n",
    "            \"ns\": \"openmicroscopy.org/mapr/phenotype\",\n",
    "            \"ns2\": \"openmicroscopy.org/mapr/gene\",\n",
    "            \"s_id\": sid\n",
    "        }\n",
    "\n",
    "    cc = attributes_by_attributes(conn, **args)\n",
    "    dataframe = pandas.DataFrame.from_dict(cc)\n",
    "       \n",
    "    return dataframe\n"
   ]
  },
  {
   "cell_type": "markdown",
   "metadata": {},
   "source": [
    "### Then we set up the connection to the IDR"
   ]
  },
  {
   "cell_type": "code",
   "execution_count": 42,
   "metadata": {},
   "outputs": [
    {
     "name": "stdout",
     "output_type": "stream",
     "text": [
      "Connected to IDR...\n"
     ]
    }
   ],
   "source": [
    "conn = connection()\n",
    "idr_base_url='https://idr.openmicroscopy.org'"
   ]
  },
  {
   "cell_type": "markdown",
   "metadata": {},
   "source": [
    "### Then we get a list of all the screens with human data"
   ]
  },
  {
   "cell_type": "code",
   "execution_count": 43,
   "metadata": {},
   "outputs": [
    {
     "name": "stdout",
     "output_type": "stream",
     "text": [
      "('The IDR identifiers for the screens with human genes are:', ['102', '253', '206', '251', '803', '1351', '1202', '1101', '1302', '1251', '1151', '1203', '1204', '1851', '1651', '1652', '1653', '1654', '1801', '1751', '1901', '1952'])\n"
     ]
    }
   ],
   "source": [
    "sid_list = get_organism_screenids(session, organism, idr_base_url)\n",
    "\n",
    "print (\"The IDR identifiers for the screens with human genes are:\", sid_list)"
   ]
  },
  {
   "cell_type": "markdown",
   "metadata": {},
   "source": [
    "### Go through each screen and find the genes associated with the selected phenotype"
   ]
  },
  {
   "cell_type": "code",
   "execution_count": 44,
   "metadata": {},
   "outputs": [
    {
     "name": "stdout",
     "output_type": "stream",
     "text": [
      "['FXYD4', 'ZCCHC17', 'PROCA1', 'PES1', 'ZNF79', 'CCDC140', 'LRFN5', 'USP28', 'C12orf43', 'DGCR8', 'RPF2', 'ZCCHC9', 'RPS3A', 'C3orf17', 'YAF2', 'NOL12', 'CLCN7', 'CENPA', 'RRS1', 'RPL15', 'RPL11', 'RPL13', 'SNAI2', 'GPATCH4', 'GPATCH2', 'RPL19', 'C19orf53', 'C1orf35', 'CCDC86', 'SFN', 'PTMS', 'SURF6', 'C7orf50', 'RRP1', 'MRPL20', 'RPL6', 'NOP2', 'RPL3', 'C1orf25', 'NHP2', 'NOP16', 'ADRBK2', 'AEN', 'GTF2E2', 'DDX52', 'DDX50', 'FTSJ3', 'NARS', 'RBM34', 'C10orf58', 'C1orf131', 'MRPL47', 'C11orf57', 'RPL34', 'CISD2', 'CCDC59', 'MAGEB2', 'PTPN9', 'RSL1D1', 'MKI67IP', 'DIMT1L', 'TNP2', 'NEIL1', 'RPL7L1', 'ELOVL1', 'ZNF501', 'DDX54', 'PSMB10', 'RPS6', 'RPS5', 'RPS8', 'C18orf20', 'NUSAP1', 'RPS15', 'CCDC106', 'NPM1', 'NOC2L', 'UTP11L', 'RPL13A', 'C4orf31', 'RBM19', 'RPS25', 'ZNF323', 'TAL2', 'LOC441242', 'NOL7', 'ZNF800', 'PPAN', 'ACTN4', 'ABT1', 'PRM1', 'KRR1', 'MRTO4', 'MEAF6', 'C3orf49', 'RPS13', 'UTP3', 'RPL23A', 'RPS14', 'TCEB3', 'MRPS15', 'ZMAT4', 'RRP8', 'EIF2S2', 'TCEB3B', 'RPL28', 'NOP56', 'RPS19BP1', 'HSPD1', 'RPL23AP32', 'NRG1', 'H1FNT', 'AQP11', 'LYAR', 'NOLC1', 'INO80B', 'NPM3', 'CDCA8', 'DDX21', 'UTP14A', 'FAM9B', 'CFD', 'RPL32', 'RPL31', 'C1orf97', 'DKC1', 'C9orf114', 'ILF3']\n",
      "\n",
      "There are 128 unique genes\n"
     ]
    }
   ],
   "source": [
    "phenotype = Phenotype.value\n",
    "gene_set = set()\n",
    "\n",
    "for i, sid in enumerate(set(sid_list)):\n",
    "    df = get_genes_for_phenotype(phenotype, conn, sid)\n",
    "    progress(i+1, len(set(sid_list)), status='Iterating through screens')\n",
    "    if df.empty:\n",
    "        continue\n",
    "\n",
    "    for x in df.iloc[:, 0]:\n",
    "\n",
    "        key = x[0]\n",
    "        value = x[1]\n",
    "\n",
    "        if key == \"Gene Symbol\":\n",
    "            if value != '':\n",
    "                genesym = value\n",
    "                gene_set.add(genesym)\n",
    "\n",
    "gene_list = list(gene_set) \n",
    "print gene_list\n",
    "print \"\\nThere are\", len(gene_list), \"unique genes\""
   ]
  },
  {
   "cell_type": "markdown",
   "metadata": {},
   "source": [
    "### Now we can perform enrichment analysis on the the gene set associated with the phenotype \n",
    "It will find which terms are over-represented using annotations for that gene set.\n",
    "We are going to use the python package called GSEApy to do this.  It performs gene set enrichment analysis by calling the enrichr online api. See  http://pythonhosted.org/gseapy/run.html for more information about the package, and http://amp.pharm.mssm.edu/Enrichr/ for more information about Enrichr."
   ]
  },
  {
   "cell_type": "markdown",
   "metadata": {},
   "source": [
    "### Set which database to query \n",
    "You can pick on the list shown on this web page http://amp.pharm.mssm.edu/Enrichr/#stats\n",
    "\n",
    "Good ones to try are: <br>\n",
    "* GO_Cellular_Component_2017b\n",
    "* GO_Biological_Process_2017b\n",
    "* GO_Molecular_Function_2017b\n",
    "* Reactome_2016"
   ]
  },
  {
   "cell_type": "code",
   "execution_count": 45,
   "metadata": {
    "collapsed": true
   },
   "outputs": [],
   "source": [
    "# EDIT THE NEXT LINE IF YOU WANT TO CHANGE THE DATABASE\n",
    "databaseToQuery = 'GO_Cellular_Component_2017b'"
   ]
  },
  {
   "cell_type": "markdown",
   "metadata": {},
   "source": [
    "### Create a function to do the enrichment analysis and then print out the top 5 enriched categories"
   ]
  },
  {
   "cell_type": "code",
   "execution_count": 46,
   "metadata": {},
   "outputs": [
    {
     "name": "stdout",
     "output_type": "stream",
     "text": [
      "\u001b[1mquery genes:\u001b[0m\n"
     ]
    },
    {
     "data": {
      "text/html": [
       "<div>\n",
       "<style>\n",
       "    .dataframe thead tr:only-child th {\n",
       "        text-align: right;\n",
       "    }\n",
       "\n",
       "    .dataframe thead th {\n",
       "        text-align: left;\n",
       "    }\n",
       "\n",
       "    .dataframe tbody tr th {\n",
       "        vertical-align: top;\n",
       "    }\n",
       "</style>\n",
       "<table border=\"1\" class=\"dataframe\">\n",
       "  <thead>\n",
       "    <tr style=\"text-align: right;\">\n",
       "      <th></th>\n",
       "      <th>Term</th>\n",
       "      <th>Overlap</th>\n",
       "      <th>P-value</th>\n",
       "      <th>Adjusted P-value</th>\n",
       "      <th>Old P-value</th>\n",
       "      <th>Old Adjusted P-value</th>\n",
       "      <th>Z-score</th>\n",
       "      <th>Combined Score</th>\n",
       "      <th>Genes</th>\n",
       "    </tr>\n",
       "  </thead>\n",
       "  <tbody>\n",
       "    <tr>\n",
       "      <th>0</th>\n",
       "      <td>nucleolar part</td>\n",
       "      <td>45/635</td>\n",
       "      <td>5.744460e-35</td>\n",
       "      <td>7.387746e-33</td>\n",
       "      <td>8.297452e-29</td>\n",
       "      <td>1.056118e-26</td>\n",
       "      <td>-3.815975</td>\n",
       "      <td>300.860040</td>\n",
       "      <td>MRPS15;RPL3;MEAF6;RPS19BP1;RPL11;RRP1;NOP2;NOL7;NOLC1;CDCA8;DDX21;NOC2L;RPF2;RRP8;RPS14;C19ORF53;PES1;RRS1;SURF6;RBM34;UTP14A;LYAR;RPS13;NOP56;ABT1;NPM1;NOP16;UTP3;KRR1;RPS6;RBM19;RPL13A;DDX54;AEN;RPL23A;RPS3A;NPM3;DDX50;FTSJ3;RPS25;RSL1D1;ILF3;DKC1;MRTO4;CCDC86</td>\n",
       "    </tr>\n",
       "    <tr>\n",
       "      <th>1</th>\n",
       "      <td>nucleolus</td>\n",
       "      <td>45/637</td>\n",
       "      <td>6.596201e-35</td>\n",
       "      <td>7.387746e-33</td>\n",
       "      <td>9.429629e-29</td>\n",
       "      <td>1.056118e-26</td>\n",
       "      <td>-3.812106</td>\n",
       "      <td>300.027895</td>\n",
       "      <td>MRPS15;RPL3;MEAF6;RPS19BP1;RPL11;RRP1;NOP2;NOL7;NOLC1;CDCA8;DDX21;NOC2L;RPF2;RRP8;RPS14;C19ORF53;PES1;RRS1;SURF6;RBM34;UTP14A;LYAR;RPS13;NOP56;ABT1;NPM1;NOP16;UTP3;KRR1;RPS6;RBM19;RPL13A;DDX54;AEN;RPL23A;RPS3A;NPM3;DDX50;FTSJ3;RPS25;RSL1D1;ILF3;DKC1;MRTO4;CCDC86</td>\n",
       "    </tr>\n",
       "    <tr>\n",
       "      <th>2</th>\n",
       "      <td>cytosolic large ribosomal subunit</td>\n",
       "      <td>14/68</td>\n",
       "      <td>8.585105e-18</td>\n",
       "      <td>6.410212e-16</td>\n",
       "      <td>2.364643e-14</td>\n",
       "      <td>1.765600e-12</td>\n",
       "      <td>-2.008388</td>\n",
       "      <td>78.922631</td>\n",
       "      <td>RPL3;RPL32;RPL31;RPL34;RPL11;RPL13A;RPL23A;RPL6;RPL7L1;RPL13;SURF6;RPL15;RPL28;RPL19</td>\n",
       "    </tr>\n",
       "    <tr>\n",
       "      <th>3</th>\n",
       "      <td>cytosolic small ribosomal subunit</td>\n",
       "      <td>9/56</td>\n",
       "      <td>7.966611e-11</td>\n",
       "      <td>4.461302e-09</td>\n",
       "      <td>9.388976e-09</td>\n",
       "      <td>5.257826e-07</td>\n",
       "      <td>-2.081733</td>\n",
       "      <td>48.406902</td>\n",
       "      <td>RPS15;RPS25;RPS14;RPS8;RPS5;RPS6;RPL13;RPS3A;RPS13</td>\n",
       "    </tr>\n",
       "    <tr>\n",
       "      <th>5</th>\n",
       "      <td>Noc1p-Noc2p complex</td>\n",
       "      <td>6/35</td>\n",
       "      <td>8.514245e-08</td>\n",
       "      <td>3.814382e-06</td>\n",
       "      <td>2.289266e-06</td>\n",
       "      <td>1.025591e-04</td>\n",
       "      <td>-1.771295</td>\n",
       "      <td>28.834809</td>\n",
       "      <td>RSL1D1;PES1;RRP1;PPAN;RRS1;NOC2L</td>\n",
       "    </tr>\n",
       "  </tbody>\n",
       "</table>\n",
       "</div>"
      ],
      "text/plain": [
       "                                Term Overlap       P-value  Adjusted P-value  \\\n",
       "0  nucleolar part                     45/635  5.744460e-35  7.387746e-33       \n",
       "1  nucleolus                          45/637  6.596201e-35  7.387746e-33       \n",
       "2  cytosolic large ribosomal subunit  14/68   8.585105e-18  6.410212e-16       \n",
       "3  cytosolic small ribosomal subunit  9/56    7.966611e-11  4.461302e-09       \n",
       "5  Noc1p-Noc2p complex                6/35    8.514245e-08  3.814382e-06       \n",
       "\n",
       "    Old P-value  Old Adjusted P-value   Z-score  Combined Score  \\\n",
       "0  8.297452e-29  1.056118e-26         -3.815975  300.860040       \n",
       "1  9.429629e-29  1.056118e-26         -3.812106  300.027895       \n",
       "2  2.364643e-14  1.765600e-12         -2.008388  78.922631        \n",
       "3  9.388976e-09  5.257826e-07         -2.081733  48.406902        \n",
       "5  2.289266e-06  1.025591e-04         -1.771295  28.834809        \n",
       "\n",
       "                                                                                                                                                                                                                                                                    Genes  \n",
       "0  MRPS15;RPL3;MEAF6;RPS19BP1;RPL11;RRP1;NOP2;NOL7;NOLC1;CDCA8;DDX21;NOC2L;RPF2;RRP8;RPS14;C19ORF53;PES1;RRS1;SURF6;RBM34;UTP14A;LYAR;RPS13;NOP56;ABT1;NPM1;NOP16;UTP3;KRR1;RPS6;RBM19;RPL13A;DDX54;AEN;RPL23A;RPS3A;NPM3;DDX50;FTSJ3;RPS25;RSL1D1;ILF3;DKC1;MRTO4;CCDC86  \n",
       "1  MRPS15;RPL3;MEAF6;RPS19BP1;RPL11;RRP1;NOP2;NOL7;NOLC1;CDCA8;DDX21;NOC2L;RPF2;RRP8;RPS14;C19ORF53;PES1;RRS1;SURF6;RBM34;UTP14A;LYAR;RPS13;NOP56;ABT1;NPM1;NOP16;UTP3;KRR1;RPS6;RBM19;RPL13A;DDX54;AEN;RPL23A;RPS3A;NPM3;DDX50;FTSJ3;RPS25;RSL1D1;ILF3;DKC1;MRTO4;CCDC86  \n",
       "2  RPL3;RPL32;RPL31;RPL34;RPL11;RPL13A;RPL23A;RPL6;RPL7L1;RPL13;SURF6;RPL15;RPL28;RPL19                                                                                                                                                                                    \n",
       "3  RPS15;RPS25;RPS14;RPS8;RPS5;RPS6;RPL13;RPS3A;RPS13                                                                                                                                                                                                                      \n",
       "5  RSL1D1;PES1;RRP1;PPAN;RRS1;NOC2L                                                                                                                                                                                                                                        "
      ]
     },
     "metadata": {},
     "output_type": "display_data"
    }
   ],
   "source": [
    "def getenrichedterms(df, cutoff=0.05):\n",
    "    enrichedlist = []\n",
    "    for GOterm in df.iterrows():\n",
    "        pvalue = df.loc[int(GOterm[0]),'Adjusted P-value']\n",
    "        if pvalue <= cutoff:\n",
    "            term = df.loc[GOterm[0],'Term']\n",
    "            start1 = term.index('(')+1\n",
    "            end1 = term.index(')')\n",
    "            enrichedlist.append(term[start1:end1])\n",
    "    return enrichedlist\n",
    "\n",
    "    \n",
    "print '\\033[1m' + \"query genes:\" + '\\033[0m'\n",
    "enr = gp.enrichr(gene_list, gene_sets=databaseToQuery, cutoff=0.05, no_plot=False)\n",
    "gsea_results= enr.res2d\n",
    "gsea_results = gsea_results.sort_values('P-value', ascending=True)\n",
    "display(gsea_results.head())\n"
   ]
  },
  {
   "cell_type": "markdown",
   "metadata": {},
   "source": [
    "**Note** \n",
    "Information about the values in each column can be found here http://amp.pharm.mssm.edu/Enrichr/help#background\n",
    "\n",
    "    "
   ]
  },
  {
   "cell_type": "markdown",
   "metadata": {},
   "source": [
    "<br>\n",
    "#### When you are completely finished running the notebook close the connection to IDR"
   ]
  },
  {
   "cell_type": "code",
   "execution_count": 17,
   "metadata": {
    "collapsed": true
   },
   "outputs": [],
   "source": [
    "conn.close()"
   ]
  },
  {
   "cell_type": "markdown",
   "metadata": {},
   "source": [
    "This notebook has been modifed from previous notebooks created by Balaji Ramalingam."
   ]
  }
 ],
 "metadata": {
  "kernelspec": {
   "display_name": "Python 2",
   "language": "python",
   "name": "python2"
  },
  "language_info": {
   "codemirror_mode": {
    "name": "ipython",
    "version": 2
   },
   "file_extension": ".py",
   "mimetype": "text/x-python",
   "name": "python",
   "nbconvert_exporter": "python",
   "pygments_lexer": "ipython2",
   "version": "2.7.13"
  }
 },
 "nbformat": 4,
 "nbformat_minor": 2
}
