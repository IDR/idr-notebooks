{
 "cells": [
  {
   "cell_type": "markdown",
   "metadata": {},
   "source": [
    "# Genes to Phenotypes and Phenotypes to Genes\n",
    "\n",
    "This notebook allows you to query the gene and phenotype annotations in the IDR. \n",
    "\n",
    "**1. Gene to Phenotype queries**\n",
    "You can query with a gene list or GO ontology ID for a protein complex/cellular component which is then queried for the associated gene members and get back phenotypes associated with those genes. \n",
    "\n",
    "\n",
    "**2. Phenotype to Gene queries**\n",
    "You can query with a phenotype name and get back a list of all the genes linked \n",
    "to that phenotype.  You can then perform a GO enrichment analysis to see if the genes\n",
    "are signficantly associated with any GO terms.\n",
    "\n",
    "\n"
   ]
  },
  {
   "cell_type": "markdown",
   "metadata": {},
   "source": [
    "### First set up your environment and import all the packages you will need"
   ]
  },
  {
   "cell_type": "code",
   "execution_count": null,
   "metadata": {
    "collapsed": true
   },
   "outputs": [],
   "source": [
    "# import pandas for data manipulation\n",
    "import pandas\n",
    "\n",
    "# import some functions for displaying the results\n",
    "from ipywidgets import widgets, interact, fixed\n",
    "from functools import wraps\n",
    "from IPython.display import display, HTML\n",
    "\n",
    "# import functions from the idr package to perform the queries\n",
    "from idr import connection, create_http_session\n",
    "from idr import genes_of_interest_go\n",
    "from idr.widgets import textbox_widget, progress\n",
    "from idr.widgets import dropdown_widget\n",
    "from idr import get_phenotypes_for_genelist, get_similar_genes\n",
    "from idr import attributes_by_attributes, get_organism_screenids\n",
    "\n",
    "# import a package for doing GO term enrichement analysis\n",
    "import gseapy as gp"
   ]
  },
  {
   "cell_type": "markdown",
   "metadata": {},
   "source": [
    "### Create a session for querying the IDR"
   ]
  },
  {
   "cell_type": "code",
   "execution_count": null,
   "metadata": {
    "collapsed": true
   },
   "outputs": [],
   "source": [
    "session = create_http_session()"
   ]
  },
  {
   "cell_type": "markdown",
   "metadata": {},
   "source": [
    "### Set some variables to say that are going to only look at human genes"
   ]
  },
  {
   "cell_type": "code",
   "execution_count": null,
   "metadata": {
    "collapsed": true
   },
   "outputs": [],
   "source": [
    "organism = 'Homo sapiens'\n",
    "tax_id = '9606'"
   ]
  },
  {
   "cell_type": "markdown",
   "metadata": {},
   "source": [
    "\n",
    "<br>\n",
    "## Genes to Phenotypes query"
   ]
  },
  {
   "cell_type": "markdown",
   "metadata": {},
   "source": [
    "### Create boxes to enter the Gene Ontology ID or manual gene list"
   ]
  },
  {
   "cell_type": "code",
   "execution_count": null,
   "metadata": {
    "collapsed": true
   },
   "outputs": [],
   "source": [
    "go_term = textbox_widget('', 'Enter GO Id e.g. GO:0005885', 'Gene Ontology Id:', True)\n",
    "manual_gene_list = textbox_widget('','Comma separated gene symbols', 'Manual Gene List:', True)\n",
    "\n",
    "# ENTER VALUES IN ONE OR BOTH BOXES THEN MOVE TO THE NEXT CELL WITHOUT RUNNING THE CELL AGAIN"
   ]
  },
  {
   "cell_type": "markdown",
   "metadata": {},
   "source": [
    "### Query GO for the genes associated with the GO ID, combine with any manually entered gene list"
   ]
  },
  {
   "cell_type": "code",
   "execution_count": null,
   "metadata": {
    "collapsed": true
   },
   "outputs": [],
   "source": [
    "go_gene_list = []\n",
    "if go_term.value.split(\",\") != ['']:\n",
    "    go_gene_list = genes_of_interest_go(go_term.value, tax_id)\n",
    "else:\n",
    "    print 'Please enter a valid Gene Ontology Id'\n",
    "manual_list = manual_gene_list.value.split(\",\")\n",
    "if manual_list != ['']:\n",
    "    go_gene_list = list(set(go_gene_list + manual_list))\n",
    "    \n",
    "print \"Query list of genes:\", go_gene_list"
   ]
  },
  {
   "cell_type": "markdown",
   "metadata": {},
   "source": [
    "### Query the IDR to get all the phenotypes associated with the list of genes"
   ]
  },
  {
   "cell_type": "code",
   "execution_count": null,
   "metadata": {
    "collapsed": true
   },
   "outputs": [],
   "source": [
    "# display the results in a table\n",
    "# set the columns so that all values will be shown\n",
    "pandas.set_option('display.max_colwidth', -1)\n",
    "\n",
    "# then display the table\n",
    "[query_genes_dataframe, screen_to_phenotype_dictionary] = get_phenotypes_for_genelist(session, go_gene_list, organism, False)\n",
    "display(HTML(query_genes_dataframe.to_html( escape=False)))"
   ]
  },
  {
   "cell_type": "markdown",
   "metadata": {},
   "source": [
    "---\n",
    "## Phenotypes to genes query"
   ]
  },
  {
   "cell_type": "markdown",
   "metadata": {},
   "source": [
    "### Choose a phenotype that we'd like to query\n",
    "Select a Phenotype Term Name E.g. elongated cell phenotype"
   ]
  },
  {
   "cell_type": "code",
   "execution_count": null,
   "metadata": {},
   "outputs": [],
   "source": [
    "Phenotype = dropdown_widget(\n",
    "    ['elongated cell phenotype', 'protein localized in nucleolus phenotype', \n",
    "     'increased duration of mitotic prophase phenotype'],\n",
    "    'Phenotype: ', True\n",
    ")\n",
    "\n",
    "# SELECT THE PHENOTYPE THEN MOVE TO THE NEXT CELL WITHOUT RUNNING THE CELL AGAIN"
   ]
  },
  {
   "cell_type": "markdown",
   "metadata": {},
   "source": [
    "### We can write a function to query the IDR for the genes associated with a phenotype"
   ]
  },
  {
   "cell_type": "code",
   "execution_count": null,
   "metadata": {
    "collapsed": true
   },
   "outputs": [],
   "source": [
    "def get_genes_for_phenotype(phenotype, conn, sid): \n",
    "    args = {\n",
    "            \"name\": \"Phenotype Term Name\",\n",
    "            \"value\": phenotype,\n",
    "            \"ns\": \"openmicroscopy.org/mapr/phenotype\",\n",
    "            \"ns2\": \"openmicroscopy.org/mapr/gene\",\n",
    "            \"s_id\": sid\n",
    "        }\n",
    "\n",
    "    cc = attributes_by_attributes(conn, **args)\n",
    "    dataframe = pandas.DataFrame.from_dict(cc)\n",
    "       \n",
    "    return dataframe\n"
   ]
  },
  {
   "cell_type": "markdown",
   "metadata": {},
   "source": [
    "### Then we set up the connection to the IDR"
   ]
  },
  {
   "cell_type": "code",
   "execution_count": null,
   "metadata": {},
   "outputs": [],
   "source": [
    "conn = connection()\n",
    "idr_base_url='https://idr.openmicroscopy.org'"
   ]
  },
  {
   "cell_type": "markdown",
   "metadata": {},
   "source": [
    "### Then we get a list of all the screens with human data"
   ]
  },
  {
   "cell_type": "code",
   "execution_count": null,
   "metadata": {},
   "outputs": [],
   "source": [
    "sid_list = get_organism_screenids(session, organism, idr_base_url)\n",
    "\n",
    "print (\"The IDR identifiers for the screens with human genes are:\", sid_list)"
   ]
  },
  {
   "cell_type": "markdown",
   "metadata": {},
   "source": [
    "### Go through each screen and find the genes associated with the selected phenotype"
   ]
  },
  {
   "cell_type": "code",
   "execution_count": null,
   "metadata": {},
   "outputs": [],
   "source": [
    "phenotype = Phenotype.value\n",
    "gene_set = set()\n",
    "\n",
    "for i, sid in enumerate(set(sid_list)):\n",
    "    df = get_genes_for_phenotype(phenotype, conn, sid)\n",
    "    progress(i+1, len(set(sid_list)), status='Iterating through screens')\n",
    "    if df.empty:\n",
    "        continue\n",
    "\n",
    "    for x in df.iloc[:, 0]:\n",
    "\n",
    "        key = x[0]\n",
    "        value = x[1]\n",
    "\n",
    "        if key == \"Gene Symbol\":\n",
    "            if value != '':\n",
    "                genesym = value\n",
    "                gene_set.add(genesym)\n",
    "\n",
    "gene_list = list(gene_set) \n",
    "print gene_list\n",
    "print \"\\nThere are\", len(gene_list), \"unique genes\""
   ]
  },
  {
   "cell_type": "markdown",
   "metadata": {},
   "source": [
    "### Now we can perform enrichment analysis on the the gene set associated with the phenotype \n",
    "It will find which terms are over-represented using annotations for that gene set.\n",
    "We are going to use the python package called GSEApy to do this.  It performs gene set enrichment analysis by calling the enrichr online api. See  http://pythonhosted.org/gseapy/run.html for more information about the package, and http://amp.pharm.mssm.edu/Enrichr/ for more information about Enrichr."
   ]
  },
  {
   "cell_type": "markdown",
   "metadata": {},
   "source": [
    "### Set which database to query \n",
    "You can pick on the list shown on this web page http://amp.pharm.mssm.edu/Enrichr/#stats\n",
    "\n",
    "Good ones to try are: <br>\n",
    "* GO_Cellular_Component_2017b\n",
    "* GO_Biological_Process_2017b\n",
    "* GO_Molecular_Function_2017b\n",
    "* Reactome_2016"
   ]
  },
  {
   "cell_type": "code",
   "execution_count": null,
   "metadata": {
    "collapsed": true
   },
   "outputs": [],
   "source": [
    "# EDIT THE NEXT LINE IF YOU WANT TO CHANGE THE DATABASE\n",
    "databaseToQuery = 'GO_Cellular_Component_2017b'"
   ]
  },
  {
   "cell_type": "markdown",
   "metadata": {},
   "source": [
    "### Create a function to do the enrichment analysis and then print out the top 5 enriched categories"
   ]
  },
  {
   "cell_type": "code",
   "execution_count": null,
   "metadata": {},
   "outputs": [],
   "source": [
    "def getenrichedterms(df, cutoff=0.05):\n",
    "    enrichedlist = []\n",
    "    for GOterm in df.iterrows():\n",
    "        pvalue = df.loc[int(GOterm[0]),'Adjusted P-value']\n",
    "        if pvalue <= cutoff:\n",
    "            term = df.loc[GOterm[0],'Term']\n",
    "            start1 = term.index('(')+1\n",
    "            end1 = term.index(')')\n",
    "            enrichedlist.append(term[start1:end1])\n",
    "    return enrichedlist\n",
    "\n",
    "    \n",
    "print '\\033[1m' + \"query genes:\" + '\\033[0m'\n",
    "enr = gp.enrichr(gene_list, gene_sets=databaseToQuery, cutoff=0.05, no_plot=False)\n",
    "gsea_results= enr.res2d\n",
    "gsea_results = gsea_results.sort_values('P-value', ascending=True)\n",
    "display(gsea_results.head())\n"
   ]
  },
  {
   "cell_type": "markdown",
   "metadata": {},
   "source": [
    "**Note** \n",
    "Information about the values in each column can be found here http://amp.pharm.mssm.edu/Enrichr/help#background\n",
    "\n",
    "    "
   ]
  },
  {
   "cell_type": "markdown",
   "metadata": {},
   "source": [
    "<br>\n",
    "#### When you are completely finished running the notebook close the connection to IDR"
   ]
  },
  {
   "cell_type": "code",
   "execution_count": null,
   "metadata": {
    "collapsed": true
   },
   "outputs": [],
   "source": [
    "conn.close()"
   ]
  },
  {
   "cell_type": "markdown",
   "metadata": {},
   "source": [
    "This notebook has been modifed from previous notebooks created by Balaji Ramalingam."
   ]
  }
 ],
 "metadata": {
  "kernelspec": {
   "display_name": "Python 2",
   "language": "python",
   "name": "python2"
  },
  "language_info": {
   "codemirror_mode": {
    "name": "ipython",
    "version": 2
   },
   "file_extension": ".py",
   "mimetype": "text/x-python",
   "name": "python",
   "nbconvert_exporter": "python",
   "pygments_lexer": "ipython2",
   "version": "2.7.13"
  }
 },
 "nbformat": 4,
 "nbformat_minor": 2
}
