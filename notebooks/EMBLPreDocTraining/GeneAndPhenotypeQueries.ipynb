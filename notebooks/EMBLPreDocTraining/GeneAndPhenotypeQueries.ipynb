{
 "cells": [
  {
   "cell_type": "markdown",
   "metadata": {},
   "source": [
    "# Genes to Phenotypes and Phenotypes to Genes\n",
    "\n",
    "This notebook allows you to query the gene and phenotype annotations in the IDR. \n",
    "\n",
    "**1. Gene to Phenotype queries**\n",
    "You can query with a gene list or GO ontology ID for a protein complex/cellular component which is then queried for the associated gene members and get back phenotypes associated with those genes. \n",
    "\n",
    "\n",
    "**2. Phenotype to Gene queries**\n",
    "You can query with a phenotype name and get back a list of all the genes linked \n",
    "to that phenotype.  You can then perform a GO enrichment analysis to see if the genes\n",
    "are signficantly associated with any GO terms.\n",
    "\n",
    "\n"
   ]
  },
  {
   "cell_type": "markdown",
   "metadata": {},
   "source": [
    "### First set up your environment and import all the packages you will need"
   ]
  },
  {
   "cell_type": "code",
   "execution_count": 1,
   "metadata": {
    "collapsed": true
   },
   "outputs": [],
   "source": [
    "# import pandas for data manipulation\n",
    "import pandas\n",
    "\n",
    "# import some functions for displaying the results\n",
    "from ipywidgets import widgets, interact, fixed\n",
    "from functools import wraps\n",
    "from IPython.display import display, HTML\n",
    "\n",
    "# import functions from the idr package to perform the queries\n",
    "from idr import connection, create_http_session\n",
    "from idr import genes_of_interest_go\n",
    "from idr.widgets import textbox_widget, progress\n",
    "from idr.widgets import dropdown_widget\n",
    "from idr import get_phenotypes_for_genelist, get_similar_genes\n",
    "from idr import attributes_by_attributes, get_organism_screenids\n",
    "\n",
    "# import a package for doing GO term enrichement analysis\n",
    "import gseapy as gp"
   ]
  },
  {
   "cell_type": "markdown",
   "metadata": {},
   "source": [
    "### Create a session for querying the IDR"
   ]
  },
  {
   "cell_type": "code",
   "execution_count": 2,
   "metadata": {
    "collapsed": true
   },
   "outputs": [],
   "source": [
    "session = create_http_session()"
   ]
  },
  {
   "cell_type": "markdown",
   "metadata": {},
   "source": [
    "### Set some variables to say that are going to only look at human genes"
   ]
  },
  {
   "cell_type": "code",
   "execution_count": 3,
   "metadata": {
    "collapsed": true
   },
   "outputs": [],
   "source": [
    "organism = 'Homo sapiens'\n",
    "tax_id = '9606'"
   ]
  },
  {
   "cell_type": "markdown",
   "metadata": {},
   "source": [
    "\n",
    "<br>\n",
    "## Genes to Phenotypes query"
   ]
  },
  {
   "cell_type": "markdown",
   "metadata": {},
   "source": [
    "### Create boxes to enter the Gene Ontology ID or manual gene list"
   ]
  },
  {
   "cell_type": "code",
   "execution_count": 4,
   "metadata": {},
   "outputs": [
    {
     "data": {
      "application/vnd.jupyter.widget-view+json": {
       "model_id": "30297fae9d9645d8a6f23b514c3da010",
       "version_major": 2,
       "version_minor": 0
      },
      "text/plain": [
       "A Jupyter Widget"
      ]
     },
     "metadata": {},
     "output_type": "display_data"
    },
    {
     "data": {
      "application/vnd.jupyter.widget-view+json": {
       "model_id": "7c16a687f0cf457399297ce09ac2fcbe",
       "version_major": 2,
       "version_minor": 0
      },
      "text/plain": [
       "A Jupyter Widget"
      ]
     },
     "metadata": {},
     "output_type": "display_data"
    }
   ],
   "source": [
    "go_term = textbox_widget('', 'Enter GO Id e.g. GO:0005885', 'Gene Ontology Id:', True)\n",
    "manual_gene_list = textbox_widget('','Comma separated gene symbols', 'Manual Gene List:', True)\n",
    "\n",
    "# ENTER VALUES IN ONE OR BOTH BOXES THEN MOVE TO THE NEXT CELL WITHOUT RUNNING THE CELL AGAIN"
   ]
  },
  {
   "cell_type": "markdown",
   "metadata": {},
   "source": [
    "### Query GO for the genes associated with the GO ID, combine with any manually entered gene list"
   ]
  },
  {
   "cell_type": "code",
   "execution_count": 54,
   "metadata": {},
   "outputs": [
    {
     "name": "stdout",
     "output_type": "stream",
     "text": [
      "Query list of genes: ['ARPC3', 'ARPC1B', 'ARPC1A', 'ARPC5L', 'ACTR3C', 'ACTR3B', 'ARPC5', 'ARPC2', 'ARPC4', 'ACTR3', 'ACTR2']\n"
     ]
    }
   ],
   "source": [
    "go_gene_list = []\n",
    "if go_term.value.split(\",\") != ['']:\n",
    "    go_gene_list = genes_of_interest_go(go_term.value, tax_id)\n",
    "else:\n",
    "    print 'Please enter a valid Gene Ontology Id'\n",
    "manual_list = manual_gene_list.value.split(\",\")\n",
    "if manual_list != ['']:\n",
    "    go_gene_list = list(set(go_gene_list + manual_list))\n",
    "    \n",
    "print \"Query list of genes:\", go_gene_list"
   ]
  },
  {
   "cell_type": "markdown",
   "metadata": {},
   "source": [
    "### Query the IDR to get all the phenotypes associated with the list of genes"
   ]
  },
  {
   "cell_type": "code",
   "execution_count": 7,
   "metadata": {},
   "outputs": [
    {
     "name": "stdout",
     "output_type": "stream",
     "text": [
      "[============================================================] 100.0% ...Iterating through gene list\r"
     ]
    },
    {
     "data": {
      "text/html": [
       "<table border=\"1\" class=\"dataframe\">\n",
       "  <thead>\n",
       "    <tr style=\"text-align: right;\">\n",
       "      <th></th>\n",
       "      <th>Entrez</th>\n",
       "      <th>Ensembl</th>\n",
       "      <th>Key</th>\n",
       "      <th>Value</th>\n",
       "      <th>PhenotypeName</th>\n",
       "      <th>PhenotypeAccession</th>\n",
       "      <th>ScreenIds</th>\n",
       "    </tr>\n",
       "  </thead>\n",
       "  <tbody>\n",
       "    <tr>\n",
       "      <th>HELZ2</th>\n",
       "      <td>[85441]</td>\n",
       "      <td>[]</td>\n",
       "      <td>EntrezID</td>\n",
       "      <td>85441</td>\n",
       "      <td>[elongated cell phenotype, cell with projections]</td>\n",
       "      <td>[CMPO_0000077, CMPO_0000071]</td>\n",
       "      <td>[1202, 1202]</td>\n",
       "    </tr>\n",
       "    <tr>\n",
       "      <th>ASH2L</th>\n",
       "      <td>[9070]</td>\n",
       "      <td>[ENSG00000129691]</td>\n",
       "      <td>GeneName</td>\n",
       "      <td>ASH2L</td>\n",
       "      <td>[elongated cell phenotype]</td>\n",
       "      <td>[CMPO_0000077]</td>\n",
       "      <td>[1202]</td>\n",
       "    </tr>\n",
       "  </tbody>\n",
       "</table>"
      ],
      "text/plain": [
       "<IPython.core.display.HTML object>"
      ]
     },
     "metadata": {},
     "output_type": "display_data"
    }
   ],
   "source": [
    "# display the results in a table\n",
    "# set the columns so that all values will be shown\n",
    "pandas.set_option('display.max_colwidth', -1)\n",
    "\n",
    "# then display the table\n",
    "[query_genes_dataframe, screen_to_phenotype_dictionary] = get_phenotypes_for_genelist(session, go_gene_list, organism)\n",
    "display(HTML(query_genes_dataframe.to_html( escape=False)))"
   ]
  },
  {
   "cell_type": "markdown",
   "metadata": {},
   "source": [
    "---\n",
    "## Phenotypes to genes query"
   ]
  },
  {
   "cell_type": "markdown",
   "metadata": {},
   "source": [
    "### Choose a phenotype that we'd like to query\n",
    "Enter a Phenotype Term Name E.g. elongated cell phenotype"
   ]
  },
  {
   "cell_type": "code",
   "execution_count": 6,
   "metadata": {},
   "outputs": [
    {
     "data": {
      "application/vnd.jupyter.widget-view+json": {
       "model_id": "6be59ca571f94b1a81237cb2ec763d87",
       "version_major": 2,
       "version_minor": 0
      },
      "text/plain": [
       "A Jupyter Widget"
      ]
     },
     "metadata": {},
     "output_type": "display_data"
    }
   ],
   "source": [
    "#Phenotype = textbox_widget('elongated cell phenotype', '', 'Phenotype', True)\n",
    "# ENTER A VALUE IN THE BOX THEN MOVE TO THE NEXT CELL WITHOUT RUNNING THE CELL AGAIN\n",
    "# THE BOX HAS BE PREPOPULATED WITH A PHENOTYPE VALUE BUT YOU CAN CHANGE THIS\n",
    "\n",
    "Phenotype = dropdown_widget(\n",
    "    ['elongated cell phenotype', 'round cell phenotype', 'binuclear cell phenotype', 'increased rate of protein secretion', 'cell response to DNA damage phenotype'],\n",
    "    'Phenotype: ', True\n",
    ")\n",
    "\n",
    "# SELECT THE METHOD THEN MOVE TO THE NEXT CELL WITHOUT RUNNING THE CELL AGAIN\n",
    "\n"
   ]
  },
  {
   "cell_type": "markdown",
   "metadata": {},
   "source": [
    "### We can write a function to query the IDR for the genes associated with a phenotype"
   ]
  },
  {
   "cell_type": "code",
   "execution_count": 13,
   "metadata": {
    "collapsed": true
   },
   "outputs": [],
   "source": [
    "def get_genes_for_phenotype(phenotype, conn, sid): \n",
    "    args = {\n",
    "            \"name\": \"Phenotype Term Name\",\n",
    "            \"value\": phenotype,\n",
    "            \"ns\": \"openmicroscopy.org/mapr/phenotype\",\n",
    "            \"ns2\": \"openmicroscopy.org/mapr/gene\",\n",
    "            \"s_id\": sid\n",
    "        }\n",
    "\n",
    "    cc = attributes_by_attributes(conn, **args)\n",
    "    dataframe = pandas.DataFrame.from_dict(cc)\n",
    "       \n",
    "    return dataframe\n"
   ]
  },
  {
   "cell_type": "markdown",
   "metadata": {},
   "source": [
    "### Then we set up the connection to the IDR"
   ]
  },
  {
   "cell_type": "code",
   "execution_count": 14,
   "metadata": {},
   "outputs": [
    {
     "name": "stdout",
     "output_type": "stream",
     "text": [
      "Connected to IDR...\n"
     ]
    }
   ],
   "source": [
    "conn = connection()\n",
    "idr_base_url='https://idr.openmicroscopy.org'"
   ]
  },
  {
   "cell_type": "markdown",
   "metadata": {},
   "source": [
    "### Then we get a list of all the screens with human data"
   ]
  },
  {
   "cell_type": "code",
   "execution_count": 15,
   "metadata": {},
   "outputs": [
    {
     "name": "stdout",
     "output_type": "stream",
     "text": [
      "('The IDR identifiers for the screens with human genes are:', ['102', '253', '206', '251', '803', '1351', '1202', '1101', '1302', '1251', '1151', '1203', '1204', '1851', '1651', '1652', '1653', '1654', '1801', '1751', '1901', '1952'])\n"
     ]
    }
   ],
   "source": [
    "sid_list = get_organism_screenids(session, organism, idr_base_url)\n",
    "\n",
    "print (\"The IDR identifiers for the screens with human genes are:\", sid_list)"
   ]
  },
  {
   "cell_type": "markdown",
   "metadata": {},
   "source": [
    "### Go through each screen and find the genes associated with the selected phenotype"
   ]
  },
  {
   "cell_type": "code",
   "execution_count": 16,
   "metadata": {},
   "outputs": [
    {
     "name": "stdout",
     "output_type": "stream",
     "text": [
      "['CPM', 'STK16', 'C1orf125', 'PPWD1', 'GCS1_HUMAN', 'ASS1', 'RYK', 'KIR3DX1', 'CYP46A1', 'PTGER2', 'PIK3CG', 'VN1R1', 'ESPL1', 'B3GALTL', 'WEE1', 'ZNF688', 'IFNK', 'PRSS35', 'PPP2R2B', 'PPP2R2A', 'CAMKV', 'CEP110', 'AKAP5', 'C19orf54', 'ARHGAP17', 'CSN3', 'HHIP', 'PHPT1', 'DTL', 'Q8N4N6_HUMAN', 'GPR19', 'EDC4', 'SP2', 'EFTUD2', 'DGCR6L', 'GTF2I', 'TMEM125', 'ARL13B', 'C3orf52', 'KCNK18', 'UCK1', 'SENP5', 'C8orf44', 'NP_001092691.1', 'CHST8', 'CNTFR', 'ARL5A', 'FTL', 'RPS6KA2', 'NP_689919.1', 'CABP7', 'MAP3K2', 'GPX2', 'GPX5', 'USE1', 'GOSR2', 'XP_496076.1', 'GABRR1', 'RCAN3', 'POLG', 'ZWILCH', 'CDC2', 'CDC6', 'RGMA', 'Q8NA17_HUMAN', 'NCOA6', 'TNFAIP1', 'SMC3', 'RBM10', 'SAP30BP', 'TUBB2C', 'LIMD1', 'NP_001007190.1', 'ATOH8', 'SCN11A', 'GPRIN1', 'GRID1', 'EGLN2', 'CHRDL1', 'Q8IV12_HUMAN', 'MCAM', 'BFAR', 'ZNF579', 'CXorf25', 'GJA5', 'CMBL', 'C13orf23', 'TPCN1', 'WDR85', 'CCDC115', 'TBCC', 'MYL6B', 'CRTAP', 'NP_001034202.1', 'EDG8', 'KIAA0649', 'WDR81', 'TXNL4A', 'VRK1', 'PRC1', 'WDR89', 'C10orf85', 'CCNA2', 'Q8NH96_HUMAN', 'MAD1L1', 'GJB3', 'KIF4A', 'NEO1', 'CRISP2', 'CDCA8', 'CTSB', 'ZNF641', 'C21orf91', 'ALDH3B1', 'SNTG2', 'C1orf119', 'HGS', 'WNK4', 'PPIE', 'PAPPA', 'EXOC3', 'RAB24', 'E2F2', 'HEXA', 'NP_001008271.1', 'RABGGTB', 'MGAT4B', 'ABLIM1', 'ZNF549', 'GJE1', 'C2orf25', 'CCRL2', 'SFMBT2', 'WBP2NL', 'USP29', 'TMEM185A', 'LBP', 'EIF3A', 'COTL1', 'CCDC17', 'BARD1', 'CENPE', 'LPP', 'KLK1', 'SIGLEC11', 'KIAA1166', 'CENPT', 'KIFC3', 'KIFC1', 'ZBTB8_HUMAN', 'AVPR2', 'C1QB', 'ELK1', 'YEATS4', 'ANKFN1', 'TMEM46', 'HDX', 'CBX7', 'NOS2B', 'IBSP', 'NEK3', 'PRR13', 'U2AF2', 'NEK9', 'DMBT1', 'SYP', 'SF3A1', 'UNC93A', 'INCENP', 'BUB1', 'TOPORS', 'ZNF189', 'CA12', 'SEPN1', 'C1orf50', 'AGMAT', 'GALNT5', 'TUBB2A', 'NSG2_HUMAN', 'KLRG2', 'ABTB1', 'HSPBAP1', 'C15orf23', 'MTP18_HUMAN', 'RACGAP1', 'DEPDC7', 'MEF2D', 'ZNF114', 'PROC', 'ALKBH1', 'TNKS', 'AMPD3', 'EIF2B2', 'KIF14', 'TRPC3', 'ADAM33', 'KIF12', 'AKR1C4', 'Q9NQA3_HUMAN', 'TTBK1', 'CDKL5', 'MYH9', 'CDT1', 'FANCE', 'USF1', 'FANCC', 'C1orf156', 'SEPHS1', 'TRMT1', 'ELMOD1', 'ITGA6', 'ZW10', 'MC5R', 'TAF7L', 'TAAR1', 'C14orf121', 'GRIK3', 'TFIP11', 'SPATC1', 'C18orf1', 'HLA-DPA1', 'F2RL2', 'KY', 'SH3PXD2A', 'SLAMF1', 'MAD2L1', 'ST6GAL2', 'NEURL', 'USP1', 'CEP55', 'LCN9', 'SLC5A2', 'SLC5A3', 'PRKY', 'CLCNKB', 'ELAC2', 'SPINLW1', 'SCGB1D1', 'C3orf32', 'MED12', 'NOD1', 'AURKA', 'AURKB', 'AURKC', 'ZSCAN2', 'FCRL6', 'CDC5L', 'RAC2', 'MFSD4', 'GLRX', 'VCX', 'FFAR3', 'UCP3', 'SLC16A9', 'CCNB1', 'CLEC4C', 'NSUN7', 'NP_056346.1', 'CACNG4', 'OPRS1', 'ACADVL', 'TM2D1', 'GNPTAB', 'C19orf7', 'FKBP9L', 'SLC30A8', 'TXNDC3', 'SLC30A3', 'SLC30A2', 'C1RL', 'CNGB1', 'TRUB2', 'C9orf167', 'ZNF479', 'INHBA', 'DLGAP1', 'NPAL2', 'ZNF575', 'NUP214', 'RRM2B', 'WDR61', 'TRPV1', 'BRCA2', 'TRMU', 'OIP5', 'CCDC70', 'VRK2', 'IDH1', 'PRMT1', 'PRMT6', 'TRIM21', 'KCNAB3', 'PRMT5', 'TNIP2', 'TMEM71', 'ACOT4', 'FGFR2', 'TOR1AIP1', 'KIF23', 'KIF22', 'GALR3', 'NKAP', 'C8orf13', 'GLT1D1', 'RNF215', 'LRTM2', 'PABPCP2', 'DOCK9', 'SPANXN4', 'DOCK2', 'GORASP1', 'MED27', 'SEPT1', 'LY86', 'SMARCD3', 'PPM1F', 'CCDC56', 'PPM1L', 'RTN4IP1', 'CIT', 'ANXA11', 'ANXA10', 'PJA2', 'GEM', 'CTLA4', 'PLCB2', 'NP_060851.1', 'PRKAB1', 'TMEM129', 'BAHCC1', 'KATNAL1', 'SGOL2', 'SGOL1', 'FAM38A', 'GIMAP5', 'DSCR8', 'ACAD9', 'STRN', 'ZNF750', 'STK39', 'RPAIN', 'LCK', 'NP_940866.1', 'RYR2', 'AGBL5', 'RXFP2', 'AL355922.4', 'MAGEC3', 'PTAFR', 'EIF3F', 'RHOT2', 'CRYGA', 'VDAC4', 'C18orf24', 'ZHX2', 'MASTL', 'KRTAP19-6', 'KRTAP19-7', 'FOSL2', 'NMNAT1', 'ZBED2', 'SRF', 'SEC23A', 'ZNF323', 'ERCC4', 'GALC', 'BTBD14A', 'Q8NH06_HUMAN', 'LRP5', 'EIF2AK3', 'TDG', 'GMNN', 'ACTR3B', 'C9orf72', 'FAM136A', 'PDE4B', 'TRNT1', 'C14orf4', 'C1orf210', 'C1orf212', 'LIMK1', 'TTF2', 'BMPR1A', 'MDH2', 'MAP2K5', 'PEX10', 'PEX13', 'DCLRE1C', 'PRICKLE2', 'ECT2', 'BRI3', 'NP_001111.2', 'NUF2', 'GLT8D1', 'Q9ULK9_HUMAN', 'GAA', 'OR52E4', 'AADAT', 'PKN3', 'C19orf35', 'SASS6', 'FAM82B', 'PPP1CB', 'MZF1', 'CYC1', 'DRD1', 'PRPF19', 'FAM26F', 'BCL6', 'HLA-DQA1', 'HAVCR2', 'M6PR', 'PTGS2', 'ASB12', 'FXYD5', 'MTBP', 'PLK3', 'SEC24B', 'PLK4', 'PI4K2B', 'WDR5B', 'DARC', 'OGG1', 'TPX2', 'C19orf43', 'CXorf58', 'CDC23', 'GRK5', 'NDST4', 'ANAPC10', 'NTRK3', 'ZNF668', 'MICAL3', 'TTYH3', 'PIP', 'SLC26A10', 'ZNF664', 'NP_116099.1', 'RNASE4', 'C1orf38', 'COG7', 'C12orf49', 'KCNN4', 'C14orf54', 'RBP5', 'OR2T8', 'FAM76B', 'CCDC89', 'PPP2CA', 'SCGB2A2', 'CCDC86', 'TLR1', 'OR10B1P', 'ZNF561', 'HTR5A', 'ZWINT', 'MAMDC4', 'MACF1', 'MEGF11', 'SLC25A34', 'ST14', 'TDO2', 'TOMM22', 'DQX1', 'NEK10', 'DPEP3', 'TUBA1B', 'TMEM182', 'OSM', 'NR5A1', 'CTNNBL1', 'MYST1', 'NP_001010866.1', 'MYD88', 'AGXT2L1', 'ANLN', 'RCN3', 'IL4R', 'RASL11A', 'ARPC2', 'FAM118B', 'LMX1A', 'SART1', 'SEZ6L2', 'HIST1H2BK', 'CDC27', 'FAM47B', 'USP52', 'ITM2B', 'BAT5', 'PDZD4', 'AIFM3', 'K1434_HUMAN', 'HIST3H2A', 'MCPH1', 'NCF2', 'BTN3A2', 'EHD2', 'DYNC1H1', 'XP_498354.1', 'RAB8A', 'FZD8', 'CCDC108', 'DUSP8', 'PHIP', 'PML', 'FGF12', 'REEP4', 'NP_689812.2', 'NFKBIE', 'SLCO4A1', 'S100A2', 'KIF20A', 'C9orf16', 'HP1BP3', 'ZNF252', 'GPR55', 'HIST1H2AJ', 'ADAM19', 'ELF3', 'NDUFA3', 'RAB37', 'ANKRD5', 'CRABP1', 'HCFC1', 'UBQLN2', 'KCNK6', 'NP_775734.1', 'DGKI', 'FAM112A', 'TTLL12', 'VPS13D', 'C1orf178', 'TRAF3', 'RRAGA', 'CLASP1', 'PDIA6', 'HOOK1', 'NP_079137.1', 'AAK1', 'ZNF85', 'UBQLNL', 'SNRPF', 'COX7A2L', 'Q8N1B8_HUMAN', 'C1QTNF2', 'PLAC8L1', 'ZBTB40', 'KCNT2', 'SFRS12', 'FAM101B', 'SIGLEC1', 'ALDH9A1']\n",
      "\n",
      "There are 553 unique genes\n"
     ]
    }
   ],
   "source": [
    "phenotype = Phenotype.value\n",
    "gene_set = set()\n",
    "\n",
    "for i, sid in enumerate(set(sid_list)):\n",
    "    df = get_genes_for_phenotype(phenotype, conn, sid)\n",
    "    progress(i+1, len(set(sid_list)), status='Iterating through screens')\n",
    "    if df.empty:\n",
    "        continue\n",
    "\n",
    "    for x in df.iloc[:, 0]:\n",
    "\n",
    "        key = x[0]\n",
    "        value = x[1]\n",
    "\n",
    "        if key == \"Gene Symbol\":\n",
    "            if value != '':\n",
    "                genesym = value\n",
    "                gene_set.add(genesym)\n",
    "\n",
    "gene_list = list(gene_set) \n",
    "print gene_list\n",
    "print \"\\nThere are\", len(gene_list), \"unique genes\""
   ]
  },
  {
   "cell_type": "markdown",
   "metadata": {},
   "source": [
    "### Now we can perform enrichment analysis on the the gene set associated with the phenotype \n",
    "It will find which terms are over-represented using annotations for that gene set.\n",
    "We are going to use the python package called GSEApy to do this.  It performs gene set enrichment analysis by calling the enrichr online api. See  http://pythonhosted.org/gseapy/run.html for more information about the package, and http://amp.pharm.mssm.edu/Enrichr/ for more information about Enrichr."
   ]
  },
  {
   "cell_type": "markdown",
   "metadata": {},
   "source": [
    "### Set which database to query \n",
    "You can pick on the list shown on this web page http://amp.pharm.mssm.edu/Enrichr/#stats\n",
    "\n",
    "Good ones to try are: <br>\n",
    "* GO_Cellular_Component_2017b\n",
    "* GO_Biological_Process_2017b\n",
    "* GO_Molecular_Function_2017b\n",
    "* Reactome_2016"
   ]
  },
  {
   "cell_type": "code",
   "execution_count": 17,
   "metadata": {
    "collapsed": true
   },
   "outputs": [],
   "source": [
    "# EDIT THE NEXT LINE IF YOU WANT TO CHANGE THE DATABASE\n",
    "databaseToQuery = 'GO_Cellular_Component_2017b'"
   ]
  },
  {
   "cell_type": "markdown",
   "metadata": {},
   "source": [
    "### Create a function to do the enrichment analysis and then print out the top 5 enriched categories"
   ]
  },
  {
   "cell_type": "code",
   "execution_count": null,
   "metadata": {},
   "outputs": [
    {
     "name": "stdout",
     "output_type": "stream",
     "text": [
      "\u001b[1mquery genes:\u001b[0m\n"
     ]
    }
   ],
   "source": [
    "def getenrichedterms(df, cutoff=0.05):\n",
    "    enrichedlist = []\n",
    "    for GOterm in df.iterrows():\n",
    "        pvalue = df.loc[int(GOterm[0]),'Adjusted P-value']\n",
    "        if pvalue <= cutoff:\n",
    "            term = df.loc[GOterm[0],'Term']\n",
    "            start1 = term.index('(')+1\n",
    "            end1 = term.index(')')\n",
    "            enrichedlist.append(term[start1:end1])\n",
    "    return enrichedlist\n",
    "\n",
    "    \n",
    "print '\\033[1m' + \"query genes:\" + '\\033[0m'\n",
    "enr = gp.enrichr(gene_list, gene_sets=databaseToQuery, cutoff=0.05, no_plot=False)\n",
    "gsea_results= enr.res2d\n",
    "gsea_results = gsea_results.sort_values('P-value', ascending=True)\n",
    "display(gsea_results.head())\n"
   ]
  },
  {
   "cell_type": "markdown",
   "metadata": {},
   "source": [
    "**Note** \n",
    "Information about the values in each column can be found here http://amp.pharm.mssm.edu/Enrichr/help#background\n",
    "\n",
    "    "
   ]
  },
  {
   "cell_type": "markdown",
   "metadata": {},
   "source": [
    "<br>\n",
    "#### When you are completely finished running the notebook close the connection to IDR"
   ]
  },
  {
   "cell_type": "code",
   "execution_count": 17,
   "metadata": {
    "collapsed": true
   },
   "outputs": [],
   "source": [
    "conn.close()"
   ]
  },
  {
   "cell_type": "markdown",
   "metadata": {},
   "source": [
    "This notebook has been modifed from previous notebooks created by Balaji Ramalingam."
   ]
  }
 ],
 "metadata": {
  "kernelspec": {
   "display_name": "Python 2",
   "language": "python",
   "name": "python2"
  },
  "language_info": {
   "codemirror_mode": {
    "name": "ipython",
    "version": 2
   },
   "file_extension": ".py",
   "mimetype": "text/x-python",
   "name": "python",
   "nbconvert_exporter": "python",
   "pygments_lexer": "ipython2",
   "version": "2.7.13"
  }
 },
 "nbformat": 4,
 "nbformat_minor": 2
}
