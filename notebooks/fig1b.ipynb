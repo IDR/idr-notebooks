{
 "cells": [
  {
   "cell_type": "markdown",
   "metadata": {},
   "source": [
    "# Reproducing Fig. 1b\n",
    "\n",
    "This notebook examplifies how to reproduce figure 1b of the article. the annotations from all screens will be downloaded and parsed to build statistics on phenotypes, which will eb displayed using bokeh."
   ]
  },
  {
   "cell_type": "markdown",
   "metadata": {},
   "source": [
    "## Preamble"
   ]
  },
  {
   "cell_type": "code",
   "execution_count": 152,
   "metadata": {
    "collapsed": false
   },
   "outputs": [
    {
     "ename": "ImportError",
     "evalue": "No module named bokeh.models",
     "output_type": "error",
     "traceback": [
      "\u001b[1;31m\u001b[0m",
      "\u001b[1;31mImportError\u001b[0mTraceback (most recent call last)",
      "\u001b[1;32m<ipython-input-152-78f4280e777e>\u001b[0m in \u001b[0;36m<module>\u001b[1;34m()\u001b[0m\n\u001b[0;32m      4\u001b[0m \u001b[1;33m\u001b[0m\u001b[0m\n\u001b[0;32m      5\u001b[0m \u001b[1;32mimport\u001b[0m \u001b[0mmatplotlib\u001b[0m\u001b[1;33m.\u001b[0m\u001b[0mpyplot\u001b[0m \u001b[1;32mas\u001b[0m \u001b[0mplt\u001b[0m\u001b[1;33m\u001b[0m\u001b[0m\n\u001b[1;32m----> 6\u001b[1;33m \u001b[1;32mfrom\u001b[0m \u001b[0mbokeh\u001b[0m\u001b[1;33m.\u001b[0m\u001b[0mmodels\u001b[0m \u001b[1;32mimport\u001b[0m \u001b[0mColumnDataSource\u001b[0m\u001b[1;33m\u001b[0m\u001b[0m\n\u001b[0m\u001b[0;32m      7\u001b[0m \u001b[1;32mfrom\u001b[0m \u001b[0mbokeh\u001b[0m\u001b[1;33m.\u001b[0m\u001b[0mplotting\u001b[0m \u001b[1;32mimport\u001b[0m \u001b[0mfigure\u001b[0m\u001b[1;33m,\u001b[0m \u001b[0moutput_notebook\u001b[0m\u001b[1;33m,\u001b[0m \u001b[0mshow\u001b[0m\u001b[1;33m,\u001b[0m \u001b[0msave\u001b[0m\u001b[1;33m\u001b[0m\u001b[0m\n\u001b[0;32m      8\u001b[0m \u001b[1;32mfrom\u001b[0m \u001b[0mbokeh\u001b[0m\u001b[1;33m.\u001b[0m\u001b[0mcharts\u001b[0m \u001b[1;32mimport\u001b[0m \u001b[0mScatter\u001b[0m\u001b[1;33m\u001b[0m\u001b[0m\n",
      "\u001b[1;31mImportError\u001b[0m: No module named bokeh.models"
     ]
    }
   ],
   "source": [
    "from pandas import DataFrame,concat\n",
    "import omero\n",
    "import numpy as np\n",
    "\n",
    "import matplotlib.pyplot as plt\n",
    "from bokeh.models import ColumnDataSource\n",
    "from bokeh.plotting import figure, output_notebook, show, save\n",
    "from bokeh.charts import Scatter\n",
    "from bokeh.models.formatters import TickFormatter, String, List, Dict, Int\n",
    "from bokeh.models import FixedTicker,HoverTool\n",
    "\n",
    "output_notebook()\n",
    "%matplotlib inline"
   ]
  },
  {
   "cell_type": "code",
   "execution_count": 2,
   "metadata": {
    "collapsed": true
   },
   "outputs": [],
   "source": [
    "from idr_demo import connection\n",
    "\n",
    "conn = connection()"
   ]
  },
  {
   "cell_type": "code",
   "execution_count": 1,
   "metadata": {
    "collapsed": true
   },
   "outputs": [],
   "source": [
    "def getBulkAnnotationAsDf(screenID,conn):\n",
    "#    ofId=8118685\n",
    "    sc=conn.getObject('Screen',screenID)\n",
    "    for ann in sc.listAnnotations():\n",
    "        if isinstance(ann, omero.gateway.FileAnnotationWrapper):\n",
    "            if (ann.getFile().getName()=='bulk_annotations'):\n",
    "                if (ann.getFile().getSize()> 147625090): #about 140Mb?\n",
    "                    print \"that's a big file...\"\n",
    "                    return None\n",
    "                ofId=ann.getFile().getId()\n",
    "                break\n",
    "\n",
    "\n",
    "    original_file = omero.model.OriginalFileI(ofId, False)\n",
    "\n",
    "    openTable = conn.c.sf.sharedResources().openTable(original_file)\n",
    "    rowCount = openTable.getNumberOfRows()\n",
    "\n",
    "    #table to df\n",
    "\n",
    "    column_names = [col.name for col in openTable.getHeaders()]\n",
    "\n",
    "    black_list = []\n",
    "    column_indices = []\n",
    "    for column_name in column_names:\n",
    "        if column_name in black_list:\n",
    "            continue\n",
    "        column_indices.append(column_names.index(column_name))\n",
    "\n",
    "    table_data = openTable.slice(column_indices, None)\n",
    "    data = []\n",
    "    for index in range(rowCount):\n",
    "        row_values = [column.values[index] for column in table_data.columns]\n",
    "        data.append(row_values)\n",
    "\n",
    "    dfAnn=DataFrame(data)\n",
    "    dfAnn.columns=column_names\n",
    "    return dfAnn"
   ]
  },
  {
   "cell_type": "code",
   "execution_count": 27,
   "metadata": {
    "collapsed": false
   },
   "outputs": [],
   "source": [
    "def appendPhInfo(phall,screen,df):\n",
    "# extract all phenotypes informatino from given bulk annotation file and\n",
    "# append it to the phall\n",
    "    phcol=df.columns[[('Phenotype' in s) and ('Term Accession' in s) for s in df.columns ]]\n",
    "    for s in phcol:\n",
    "        ph=df[s].unique()\n",
    "        if ph[0]!='':\n",
    "            ph=ph[0]            \n",
    "            desc=df[s.replace('Accession', 'Name')].unique()[0]\n",
    "        else:\n",
    "            ph=ph[1]\n",
    "            desc=df[s.replace('Accession', 'Name')].unique()[1]\n",
    "        dfph=df[df[s]!='']\n",
    "        try:\n",
    "            phall[ph]['n']=phall[ph]['n']+len(dfph)\n",
    "            if not (screen in phall[ph]['screens']): \n",
    "                phall[ph]['screens'].append(screen)\n",
    "\n",
    "        except Exception as e: \n",
    "            print(e)\n",
    "            phcur={'n':len(dfph),'screens':[screen],'desc':desc}\n",
    "            phall[ph]=phcur\n",
    "    "
   ]
  },
  {
   "cell_type": "markdown",
   "metadata": {},
   "source": [
    "## Build and display figure"
   ]
  },
  {
   "cell_type": "code",
   "execution_count": 147,
   "metadata": {
    "collapsed": false,
    "scrolled": true
   },
   "outputs": [
    {
     "name": "stdout",
     "output_type": "stream",
     "text": [
      "loading 3::idr0001-graml-sysgro/screenA\n",
      "'PATO_0000460'\n",
      "'CMPO_0000369'\n",
      "'CMPO_0000370'\n",
      "'CMPO_0000371'\n",
      "'CMPO_0000372'\n",
      "'CMPO_0000365'\n",
      "'CMPO_0000077'\n",
      "'CMPO_0000367'\n",
      "'CMPO_0000116'\n",
      "'CMPO_0000364'\n",
      "'CMPO_0000366'\n",
      "'CMPO_0000118'\n",
      "'GO_0022403'\n",
      "'CMPO_0000383'\n",
      "'CMPO_0000388'\n",
      "'CMPO_0000378'\n",
      "'CMPO_0000387'\n",
      "'CMPO_0000412'\n",
      "'CMPO_0000410'\n",
      "'CMPO_0000413'\n",
      "loading 102::idr0002-heriche-condensation/screenA\n",
      "'CMPO_0000329'\n",
      "'CMPO_0000328'\n",
      "loading 51::idr0003-breker-plasticity/screenA\n",
      "'CMPO_0000391'\n",
      "'CMPO_0000392'\n",
      "'CMPO_0000393'\n",
      "'CMPO_0000394'\n",
      "'CMPO_0000395'\n",
      "'CMPO_0000396'\n",
      "'CMPO_0000397'\n",
      "'CMPO_0000398'\n",
      "'CMPO_0000400'\n",
      "'CMPO_0000401'\n",
      "'CMPO_0000402'\n",
      "loading 202::idr0004-thorpe-rad52/screenA\n",
      "'CMPO_0000415'\n",
      "loading 253::idr0006-fong-nuclearbodies/screenA\n",
      "'CMPO_0000404'\n",
      "'CMPO_0000405'\n",
      "'CMPO_0000406'\n",
      "'CMPO_0000407'\n",
      "'CMPO_0000408'\n",
      "'CMPO_0000409'\n",
      "loading 201::idr0007-srikumar-sumo/screenA\n",
      "'PATO_0000462'\n",
      "loading 154::idr0008-rohn-actinome/screenA\n",
      "'CMPO_0000129'\n",
      "'CMPO_0000128'\n",
      "'CMPO_0000270'\n",
      "'CMPO_0000267'\n",
      "'CMPO_0000274'\n",
      "'CMPO_0000289'\n",
      "'CMPO_0000291'\n",
      "'CMPO_0000266'\n",
      "'CMPO_0000106'\n",
      "'CMPO_0000105'\n",
      "'CMPO_0000296'\n",
      "'CMPO_0000273'\n",
      "'CMPO_0000272'\n",
      "'CMPO_0000294'\n",
      "'CMPO_0000286'\n",
      "'CMPO_0000147'\n",
      "'CMPO_0000351'\n",
      "'CMPO_0000068'\n",
      "'CMPO_0000097'\n",
      "'CMPO_0000300'\n",
      "'CMPO_0000140'\n",
      "'CMPO_0000301'\n",
      "'CMPO_0000052'\n",
      "'CMPO_0000293'\n",
      "'CMPO_0000282'\n",
      "loading 206::idr0008-rohn-actinome/screenB\n",
      "'CMPO_0000076'\n",
      "'CMPO_0000276'\n",
      "'CMPO_0000067'\n",
      "'CMPO_0000277'\n",
      "'CMPO_0000302'\n",
      "'CMPO_0000298'\n",
      "'CMPO_0000297'\n",
      "'CMPO_0000299'\n",
      "'CMPO_0000269'\n",
      "'CMPO_0000261'\n",
      "'CMPO_0000051'\n",
      "'CMPO_0000141'\n",
      "'CMPO_0000177'\n",
      "'CMPO_0000262'\n",
      "'CMPO_0000263'\n",
      "'CMPO_0000288'\n",
      "'CMPO_0000287'\n",
      "'CMPO_0000278'\n",
      "loading 597::idr0005-toret-adhesion/screenA\n",
      "'CMPO_0000416'\n",
      "loading 751::idr0005-toret-adhesion/screenB\n",
      "loading 1551::idr0028-pascualvargas-rhogtpases/screenA\n",
      "fail!\n",
      "loading 1302::idr0013-neumann-mitocheck/screenB\n",
      "'CMPO_0000213'\n",
      "'CMPO_0000157'\n",
      "'CMPO_0000326'\n",
      "'CMPO_0000307'\n",
      "'CMPO_0000305'\n",
      "'CMPO_0000212'\n",
      "'CMPO_0000348'\n",
      "'CMPO_0000357'\n",
      "'CMPO_0000202'\n",
      "'CMPO_0000338'\n",
      "'CMPO_0000156'\n",
      "loading 1101::idr0013-neumann-mitocheck/screenA\n",
      "that's a big file...\n",
      "fail!\n",
      "loading 1251::idr0016-wawer-bioactivecompoundprofiling/screenA\n",
      "'GO_0070887'\n",
      "loading 1351::idr0010-doil-dnadamage/screenA\n",
      "fail!\n",
      "loading 1151::idr0017-breinig-drugscreen/screenA\n",
      "loading 251::idr0009-simpson-secretion/screenA\n",
      "that's a big file...\n",
      "fail!\n",
      "loading 803::idr0009-simpson-secretion/screenB\n",
      "'CMPO_0000319'\n",
      "loading 1552::idr0028-pascualvargas-rhogtpases/screenB\n",
      "fail!\n",
      "loading 1202::idr0012-fuchs-cellmorph/screenA\n",
      "'CMPO_0000154'\n",
      "'CMPO_0000071'\n",
      "'CMPO_0000340'\n",
      "'CMPO_0000083'\n",
      "'CMPO_0000241'\n",
      "loading 1501::\n",
      "fail!\n",
      "loading 1201::idr0015-UNKNOWN-taraoceans/screenA\n",
      "fail!\n",
      "loading 1204::idr0020-barr-chtog/screenA\n",
      "'CMPO_0000376'\n",
      "loading 1203::idr0019-sero-nfkappab/screenA\n",
      "loading 1553::idr0028-pascualvargas-rhogtpases/screenC\n",
      "fail!\n",
      "loading 1554::idr0028-pascualvargas-rhogtpases/screenD\n",
      "fail!\n",
      "loading 1502::idr0011-[prerelease]\n",
      "fail!\n",
      "loading 1503::idr0011-thorphe-Dad4/screenA\n",
      "fail!\n"
     ]
    }
   ],
   "source": [
    "\n",
    "#screens=[3,206,1202]\n",
    "screens= conn.getObjects(\"Screen\")\n",
    "\n",
    "phall={}\n",
    "for sc in screens:\n",
    "    scId=sc.getId()\n",
    "    name=sc.getName()\n",
    "    print 'loading '+str(scId)+'::'+name\n",
    "    try:\n",
    "        df=getBulkAnnotationAsDf(scId,conn)\n",
    "        appendPhInfo(phall,name,df)\n",
    "    except:\n",
    "        print 'fail!'"
   ]
  },
  {
   "cell_type": "code",
   "execution_count": 150,
   "metadata": {
    "collapsed": false
   },
   "outputs": [
    {
     "ename": "NameError",
     "evalue": "name 'figure' is not defined",
     "output_type": "error",
     "traceback": [
      "\u001b[1;31m\u001b[0m",
      "\u001b[1;31mNameError\u001b[0mTraceback (most recent call last)",
      "\u001b[1;32m<ipython-input-150-ffe56eac95b8>\u001b[0m in \u001b[0;36m<module>\u001b[1;34m()\u001b[0m\n\u001b[0;32m      1\u001b[0m \u001b[0mTOOLS\u001b[0m\u001b[1;33m=\u001b[0m\u001b[1;34m\"pan,wheel_zoom,reset\"\u001b[0m\u001b[1;33m\u001b[0m\u001b[0m\n\u001b[0;32m      2\u001b[0m \u001b[1;33m\u001b[0m\u001b[0m\n\u001b[1;32m----> 3\u001b[1;33m \u001b[0mp\u001b[0m \u001b[1;33m=\u001b[0m \u001b[0mfigure\u001b[0m\u001b[1;33m(\u001b[0m\u001b[0mtitle\u001b[0m \u001b[1;33m=\u001b[0m \u001b[1;34m\"Fig 1b\"\u001b[0m\u001b[1;33m,\u001b[0m \u001b[0mtools\u001b[0m\u001b[1;33m=\u001b[0m\u001b[0mTOOLS\u001b[0m\u001b[1;33m,\u001b[0m\u001b[0my_axis_type\u001b[0m\u001b[1;33m=\u001b[0m\u001b[1;34m\"log\"\u001b[0m\u001b[1;33m,\u001b[0m\u001b[0mwidth\u001b[0m\u001b[1;33m=\u001b[0m\u001b[1;36m1200\u001b[0m\u001b[1;33m,\u001b[0m\u001b[0mtoolbar_location\u001b[0m\u001b[1;33m=\u001b[0m\u001b[1;34m\"above\"\u001b[0m\u001b[1;33m)\u001b[0m\u001b[1;33m\u001b[0m\u001b[0m\n\u001b[0m\u001b[0;32m      4\u001b[0m \u001b[1;33m\u001b[0m\u001b[0m\n\u001b[0;32m      5\u001b[0m \u001b[1;31m#p.xaxis.axis_label = 'length'\u001b[0m\u001b[1;33m\u001b[0m\u001b[1;33m\u001b[0m\u001b[0m\n",
      "\u001b[1;31mNameError\u001b[0m: name 'figure' is not defined"
     ]
    }
   ],
   "source": [
    "TOOLS=\"pan,wheel_zoom,reset\"\n",
    "\n",
    "p = figure(title = \"Fig 1b\", tools=TOOLS,y_axis_type=\"log\",width=1200,toolbar_location=\"above\")\n",
    "\n",
    "\n",
    "source = ColumnDataSource(\n",
    "    data=dict(\n",
    "        ph=phall.keys(),\n",
    "#        mid=[c['gfp_mid_enrich_vs_tip'] for c in cells],\n",
    "        n=[phall[ph]['n'] for ph in phall.keys()],\n",
    "        names=[phall[ph]['screens'] for ph in phall.keys()],\n",
    "        desc=[phall[ph]['desc'] for ph in phall.keys()],\n",
    "#        mid=[c['gfp_mid_enrich'] for c in cells],\n",
    "        x=[2*x for x in range(len(phall.keys()))],\n",
    "        r=[1*len(phall[ph]['screens']) for ph in phall.keys()]\n",
    "    ))\n",
    "\n",
    "label_data = {2*i:ph for i,x in enumerate(phall.keys())}\n",
    "\n",
    "cir=p.circle('x','n',radius='r',source=source)\n",
    "\n",
    "\n",
    "hover = HoverTool(\n",
    "        tooltips=[\n",
    "            (\"Term\", \"@ph\"),\n",
    "            (\"Description\", \"@desc\"),\n",
    "            (\"Number of samples\", \"@n\"),\n",
    "            (\"Screens name\", \"@names\"),\n",
    "        ]\n",
    "    )\n",
    "p.add_tools(hover)\n",
    "\n",
    "JS_CODE =  \"\"\"\n",
    "        _ = require \"underscore\"\n",
    "        Model = require \"model\"\n",
    "        p = require \"core/properties\"\n",
    "        class FixedTickFormatter extends Model\n",
    "          type: 'FixedTickFormatter'\n",
    "          doFormat: (ticks) ->\n",
    "            labels = @get(\"labels\")\n",
    "            return (labels[tick] ? \"\" for tick in ticks)\n",
    "          @define {\n",
    "            labels: [ p.Any ]\n",
    "          }\n",
    "        module.exports =\n",
    "          Model: FixedTickFormatter\n",
    "    \"\"\"\n",
    "\n",
    "class FixedTickFormatter(TickFormatter):\n",
    "\n",
    "    labels = Dict(Int, String, help=\"\"\"\n",
    "    A mapping of integer ticks values to their labels.\n",
    "    \"\"\")\n",
    "\n",
    "    __implementation__ = JS_CODE\n",
    "\n",
    "\n",
    "p.xaxis.formatter = FixedTickFormatter(labels=label_data)\n",
    "p.xaxis.ticker = FixedTicker(ticks=sorted(label_data.keys()))\n",
    "p.xaxis.major_label_orientation = np.pi/4.\n",
    "p.xaxis.axis_label_text_font_size = \"10pt\"\n",
    "show(p)\n",
    "save(p,'fig1b.html')"
   ]
  },
  {
   "cell_type": "markdown",
   "metadata": {},
   "source": [
    "## export data"
   ]
  },
  {
   "cell_type": "code",
   "execution_count": 97,
   "metadata": {
    "collapsed": false
   },
   "outputs": [],
   "source": [
    "import pickle\n"
   ]
  },
  {
   "cell_type": "code",
   "execution_count": 149,
   "metadata": {
    "collapsed": false
   },
   "outputs": [],
   "source": [
    "output = open('phall.pkl', 'wb')\n",
    "pickle.dump(phall,output)\n",
    "output.close()"
   ]
  },
  {
   "cell_type": "code",
   "execution_count": null,
   "metadata": {
    "collapsed": true
   },
   "outputs": [],
   "source": []
  }
 ],
 "metadata": {
  "kernelspec": {
   "display_name": "Python 2",
   "language": "python",
   "name": "python2"
  },
  "language_info": {
   "codemirror_mode": {
    "name": "ipython",
    "version": 2
   },
   "file_extension": ".py",
   "mimetype": "text/x-python",
   "name": "python",
   "nbconvert_exporter": "python",
   "pygments_lexer": "ipython2",
   "version": "2.7.12"
  }
 },
 "nbformat": 4,
 "nbformat_minor": 0
}
