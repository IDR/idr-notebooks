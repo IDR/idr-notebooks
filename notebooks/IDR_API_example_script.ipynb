{
 "cells": [
  {
   "cell_type": "markdown",
   "metadata": {},
   "source": [
    "# Example of using the IDR web API"
   ]
  },
  {
   "cell_type": "markdown",
   "metadata": {},
   "source": [
    "OMERO.web uses a default session backend authentication scheme for authentication.\n",
    "First create a HTTP session using the [`requests`](http://docs.python-requests.org/en/master/) library:"
   ]
  },
  {
   "cell_type": "code",
   "execution_count": 1,
   "metadata": {
    "collapsed": true
   },
   "outputs": [],
   "source": [
    "import requests\n",
    "\n",
    "INDEX_PAGE = \"https://idr.openmicroscopy.org/webclient/?experimenter=-1\"\n",
    "\n",
    "# create http session\n",
    "with requests.Session() as session:\n",
    "    request = requests.Request('GET', INDEX_PAGE)\n",
    "    prepped = session.prepare_request(request)\n",
    "    response = session.send(prepped)\n",
    "    if response.status_code != 200:\n",
    "        response.raise_for_status()"
   ]
  },
  {
   "cell_type": "markdown",
   "metadata": {},
   "source": [
    "# Studies:"
   ]
  },
  {
   "cell_type": "markdown",
   "metadata": {},
   "source": [
    "## Get Study map annotation:"
   ]
  },
  {
   "cell_type": "code",
   "execution_count": 2,
   "metadata": {
    "collapsed": false
   },
   "outputs": [],
   "source": [
    "# initial data\n",
    "screen_id = 102"
   ]
  },
  {
   "cell_type": "code",
   "execution_count": 3,
   "metadata": {
    "collapsed": false
   },
   "outputs": [
    {
     "name": "stdout",
     "output_type": "stream",
     "text": [
      "(u'Study Type', u'high content screen')\n",
      "(u'Screen Type', u'primary screen')\n",
      "(u'Screen Technology Type', u'RNAi screen')\n",
      "(u'Imaging Method', u'fluorescence microscopy')\n",
      "(u'Publication Title', u'Integration of biological data by kernels on graph nodes allows prediction of new genes involved in mitotic chromosome condensation.')\n",
      "(u'Publication Authors', u'Heriche JK, Lees JG, Morilla I, Walter T, Petrova B, Roberti MJ, Hossain MJ, Adler P, Fernandez JM, Krallinger M, Haering CH, Vilo J, Valencia A, Ranea JA, Orengo C, Ellenberg J.')\n",
      "(u'PubMed ID', u'24943848 http://www.ncbi.nlm.nih.gov/pubmed/24943848')\n",
      "(u'PMC ID', u'PMC4142622 http://europepmc.org/search?query=PMC4142622')\n",
      "(u'Publication DOI', u'10.1091/mbc.E13-04-0221 http://dx.doi.org/10.1091/mbc.E13-04-0221')\n",
      "(u'Annotation File', u'idr0002-screenA-annotation.csv https://github.com/IDR/idr-metadata/blob/master/idr0002-heriche-condensation/screenA/idr0002-screenA-annotation.csv')\n"
     ]
    }
   ],
   "source": [
    "MAP_URL = \"https://idr.openmicroscopy.org/webclient/api/annotations/?type=map&{type}={screen_id}\"\n",
    "\n",
    "qs = {'type': 'screen', 'screen_id': screen_id}\n",
    "url = MAP_URL.format(**qs)\n",
    "for a in session.get(url).json()['annotations']:\n",
    "    namespace = a['ns']\n",
    "    for v in a['values']:\n",
    "        key = v[0]\n",
    "        value = v[1]\n",
    "        print (key, value)"
   ]
  },
  {
   "cell_type": "markdown",
   "metadata": {},
   "source": [
    "## Get Plates in the given Screen:"
   ]
  },
  {
   "cell_type": "code",
   "execution_count": 14,
   "metadata": {
    "collapsed": false
   },
   "outputs": [
    {
     "name": "stdout",
     "output_type": "stream",
     "text": [
      "Plate: 422, Name: plate1_1_013, Children: 1\n",
      "Plate: 492, Name: plate1_2_006, Children: 1\n",
      "Plate: 559, Name: plate1_3_003, Children: 1\n",
      "Plate: 620, Name: plate1_7_015, Children: 1\n",
      "Plate: 680, Name: plate2_2_007, Children: 1\n",
      "Plate: 728, Name: plate2_3_018, Children: 1\n",
      "Plate: 800, Name: plate2_5_015, Children: 1\n",
      "Plate: 869, Name: plate2_7_028, Children: 1\n",
      "Plate: 944, Name: plate3_11_007, Children: 1\n",
      "Plate: 1015, Name: plate3_4_034, Children: 1\n",
      "Plate: 1072, Name: plate3_5_002, Children: 1\n",
      "Plate: 4554, Name: plate3_8_010, Children: 1\n"
     ]
    }
   ],
   "source": [
    "PLATES_URL = \"https://idr.openmicroscopy.org/webclient/api/plates/?id={screen_id}\"\n",
    "\n",
    "qs = {'screen_id': screen_id}\n",
    "url = PLATES_URL.format(**qs)\n",
    "for p in len(image_ids)['plates']:\n",
    "    plate_id = p['id']\n",
    "    print(\"Plate: {id}, Name: {name}, Children: {childCount}\".format(**p))"
   ]
  },
  {
   "cell_type": "markdown",
   "metadata": {},
   "source": [
    "## Get PlateGrid:"
   ]
  },
  {
   "cell_type": "code",
   "execution_count": 20,
   "metadata": {
    "collapsed": false
   },
   "outputs": [
    {
     "name": "stdout",
     "output_type": "stream",
     "text": [
      "Well: 1046859, Image: 1938559\n",
      "Well: 1046944, Image: 1938650\n",
      "Well: 1046877, Image: 1938583\n",
      "Well: 1046904, Image: 1938610\n",
      "Well: 1046910, Image: 1938616\n",
      "Well: 1046869, Image: 1938575\n",
      "Well: 1046864, Image: 1938570\n",
      "Well: 1046940, Image: 1938646\n",
      "Well: 1046930, Image: 1938636\n",
      "Well: 1046853, Image: 1938560\n",
      "Well: 1046920, Image: 1938626\n",
      "Well: 1046863, Image: 1938569\n",
      "Well: 1046890, Image: 1938596\n",
      "Well: 1046889, Image: 1938595\n",
      "Well: 1046942, Image: 1938648\n",
      "Well: 1046915, Image: 1938621\n",
      "Well: 1046934, Image: 1938640\n",
      "Well: 1046880, Image: 1938586\n",
      "Well: 1046881, Image: 1938587\n",
      "Well: 1046919, Image: 1938625\n",
      "Well: 1046870, Image: 1938576\n",
      "Well: 1046947, Image: 1938653\n",
      "Well: 1046892, Image: 1938598\n",
      "Well: 1046856, Image: 1938563\n",
      "Well: 1046900, Image: 1938606\n",
      "Well: 1046901, Image: 1938607\n",
      "Well: 1046945, Image: 1938651\n",
      "Well: 1046873, Image: 1938579\n",
      "Well: 1046936, Image: 1938642\n",
      "Well: 1046908, Image: 1938614\n",
      "Well: 1046897, Image: 1938603\n",
      "Well: 1046867, Image: 1938573\n",
      "Well: 1046865, Image: 1938571\n",
      "Well: 1046921, Image: 1938627\n",
      "Well: 1046922, Image: 1938628\n",
      "Well: 1046855, Image: 1938562\n",
      "Well: 1046887, Image: 1938593\n",
      "Well: 1046906, Image: 1938612\n",
      "Well: 1046931, Image: 1938637\n",
      "Well: 1046875, Image: 1938581\n",
      "Well: 1046866, Image: 1938572\n",
      "Well: 1046854, Image: 1938561\n",
      "Well: 1046860, Image: 1938566\n",
      "Well: 1046911, Image: 1938617\n",
      "Well: 1046907, Image: 1938613\n",
      "Well: 1046876, Image: 1938582\n",
      "Well: 1046857, Image: 1938564\n",
      "Well: 1046926, Image: 1938632\n",
      "Well: 1046932, Image: 1938638\n",
      "Well: 1046891, Image: 1938597\n",
      "Well: 1046874, Image: 1938580\n",
      "Well: 1046903, Image: 1938609\n",
      "Well: 1046935, Image: 1938641\n",
      "Well: 1046898, Image: 1938604\n",
      "Well: 1046899, Image: 1938605\n",
      "Well: 1046939, Image: 1938645\n",
      "Well: 1046858, Image: 1938565\n",
      "Well: 1046923, Image: 1938629\n",
      "Well: 1046896, Image: 1938602\n",
      "Well: 1046912, Image: 1938618\n",
      "Well: 1046884, Image: 1938590\n",
      "Well: 1046924, Image: 1938630\n",
      "Well: 1046937, Image: 1938643\n",
      "Well: 1046938, Image: 1938644\n",
      "Well: 1046941, Image: 1938647\n",
      "Well: 1046893, Image: 1938599\n",
      "Well: 1046861, Image: 1938567\n",
      "Well: 1046928, Image: 1938634\n",
      "Well: 1046927, Image: 1938633\n",
      "Well: 1046948, Image: 1938654\n",
      "Well: 1046933, Image: 1938639\n",
      "Well: 1046862, Image: 1938568\n",
      "Well: 1046929, Image: 1938635\n",
      "Well: 1046888, Image: 1938594\n",
      "Well: 1046917, Image: 1938623\n",
      "Well: 1046902, Image: 1938608\n",
      "Well: 1046918, Image: 1938624\n",
      "Well: 1046882, Image: 1938588\n",
      "Well: 1046943, Image: 1938649\n",
      "Well: 1046885, Image: 1938591\n",
      "Well: 1046879, Image: 1938585\n",
      "Well: 1046916, Image: 1938622\n",
      "Well: 1046871, Image: 1938577\n",
      "Well: 1046946, Image: 1938652\n",
      "Well: 1046914, Image: 1938620\n",
      "Well: 1046905, Image: 1938611\n",
      "Well: 1046886, Image: 1938592\n",
      "Well: 1046909, Image: 1938615\n",
      "Well: 1046868, Image: 1938574\n",
      "Well: 1046895, Image: 1938601\n",
      "Well: 1046925, Image: 1938631\n",
      "Well: 1046883, Image: 1938589\n",
      "Well: 1046913, Image: 1938619\n",
      "Well: 1046894, Image: 1938600\n",
      "Well: 1046878, Image: 1938584\n",
      "Well: 1046872, Image: 1938578\n"
     ]
    }
   ],
   "source": [
    "WELLS_IMAGES_URL = \"https://idr.openmicroscopy.org/webgateway/plate/{plate_id}/{field}/\"\n",
    "\n",
    "qs = {'plate_id': plate_id, 'field': 0}\n",
    "url = WELLS_IMAGES_URL.format(**qs)\n",
    "grid = session.get(url).json()\n",
    "rowlabels = grid['rowlabels']\n",
    "collabels = grid['collabels']\n",
    "for row in grid['grid']:\n",
    "    for cell in row:\n",
    "        if cell is not None:\n",
    "            print(\"Well: {wellId}, Image: {id}\".format(**cell))\n"
   ]
  },
  {
   "cell_type": "markdown",
   "metadata": {},
   "source": [
    "## Get Image Thumbnail:"
   ]
  },
  {
   "cell_type": "code",
   "execution_count": 58,
   "metadata": {
    "collapsed": false
   },
   "outputs": [
    {
     "name": "stdout",
     "output_type": "stream",
     "text": [
      "data:image/jpeg;base64,/9j/4AAQSkZJRgABAgAAAQABAAD/2wBDAAUDBAQEAwUEBAQFBQUGBwwIBwcHBw8KCwkMEQ8SEhEPERATFhwXExQaFRARGCEYGhwdHx8fExciJCIeJBweHx7/2wBDAQUFBQcGBw4ICA4eFBEUHh4eHh4eHh4eHh4eHh4eHh4eHh4eHh4eHh4eHh4eHh4eHh4eHh4eHh4eHh4eHh4eHh7/wAARCABJAGADASIAAhEBAxEB/8QAHwAAAQUBAQEBAQEAAAAAAAAAAAECAwQFBgcICQoL/8QAtRAAAgEDAwIEAwUFBAQAAAF9AQIDAAQRBRIhMUEGE1FhByJxFDKBkaEII0KxwRVS0fAkM2JyggkKFhcYGRolJicoKSo0NTY3ODk6Q0RFRkdISUpTVFVWV1hZWmNkZWZnaGlqc3R1dnd4eXqDhIWGh4iJipKTlJWWl5iZmqKjpKWmp6ipqrKztLW2t7i5usLDxMXGx8jJytLT1NXW19jZ2uHi4+Tl5ufo6erx8vP09fb3+Pn6/8QAHwEAAwEBAQEBAQEBAQAAAAAAAAECAwQFBgcICQoL/8QAtREAAgECBAQDBAcFBAQAAQJ3AAECAxEEBSExBhJBUQdhcRMiMoEIFEKRobHBCSMzUvAVYnLRChYkNOEl8RcYGRomJygpKjU2Nzg5OkNERUZHSElKU1RVVldYWVpjZGVmZ2hpanN0dXZ3eHl6goOEhYaHiImKkpOUlZaXmJmaoqOkpaanqKmqsrO0tba3uLm6wsPExcbHyMnK0tPU1dbX2Nna4uPk5ebn6Onq8vP09fb3+Pn6/9oADAMBAAIRAxEAPwD5MSfTk0kxC3ka9Zm3SEjaF4xj361n1d069WzSf9wsjyLtVmP3fWmaX9k+3xfbt32fPz7a5FeHM7P8zG2rZVoq3cQR3Goyx6bHJJEWPlrjJ21UYFSQQQRwQatSTGFSrMRbtD5aHcwbcR8wx2B9KiqW2tp7lisELysBkhVzRK1tR8/Jrexp6VcaJFot/FfWkst9IALWRWwqepNY5NKwKkhgQRwQaSphBRbd9/60FYVGKsGU4IORVzV9UvdVnSa9l8x0QIpxjAFUqKrki5KTWqCyCtSbT7FPD8d8NRRrtpCptwOQPWsukNE4uVrOwWubunaPal7iPVbw2LrD5kG5eJPSotLGh/2Ve/2g1x9tA/0bZjbn3qlIFlsjcS3RadXEYjY5O3HX8MYqrWKpSne8n0202/zKnTcUr9S1pt9NYXIuINu7GCGGQRUFxK087zPjc7FjgY5NMorbkSfN1JsaM+j3kOmLqLKnknHRuRnpxWppOo6hbaWt5pqRWz2bZabPzN3Ax37Hmufa4naBYGmkMSnIQscD8KVFm+zOVYiPPzDPB/CsJ0nONqlnr+AKLkmty7PBLe2dzrFxdB5nmLSBhyzE5J+pzRZ6RLLdQRTyLBHNGZBITkYA/nWcoJO3PU1LdeauyOSUyBF+UZyFHpV8sl7qf4bFWlK8mQuArsoYMASAR3pKK6C9g0Wfw3ZDTIrh9UUk3ZP3cdgKc6ns2k1v+HqTq2klcxrRbY7zcuy4Hyhe5qOOBpInlBUKnXJphHakyema0s90yk11FNFFFUSFFFABPQUmBI0LqqM42q/3Sa1LjRZY9LF9FdQTRltpRH+b649KynkkdVVmJCjCg9qEmlQELIwBGCM1lKM3azNE4XFgRXlCs20HvTZVCuVBzg9abRWnUi6tawVf06x1Ke1nurRW8qEZkYNt7Z/GqFSx3E8cLwJNIsT8ugYgN9RUzUmvdFdrYZtcqX2ttzgtjjP1qM1otqtwdFXSgqCEPuLAcnnPNZ1VByd+ZAhe9LSHrQKobFrW8PatDpYufNsYroyptUvzsPrjvWTQeOtRUpxqR5ZbEtXFY5YkDGT0pKKKqwwoooosAVp2ei3d1pUmoxlRFGSDnPOBk89BWZWjFrN5HpMmmBgbdxjBHTnNZVVUsvZ9/wABO/Qp2ltcXlwlvawvNK5wqIMk0yeKSCZoZUKOpwynqKm0y/utNvY7yzkMU8ZyrDtVrVXt7u1/tGW9aXUJ5C0yFcde9Nymp2a91/ff/IpXMuijvS9q1GSWsohuI5SiyBGDFW6Njsav+JNTj1fUjdxWUVmpUL5cfTjvWYOtLUOnFzU+qJaV7hRRRVgWbW0e5jkMTAtGhkKk44HWq1FIelJJplNxsklqGaSinD7jUxDauX9rbwWkEsVyJGkHzLxxx/kVSNNPek4ttNMaP//Z\n"
     ]
    }
   ],
   "source": [
    "WELLS_IMAGES_URL = \"https://idr.openmicroscopy.org/webgateway/plate/{plate_id}/{field}/\"\n",
    "\n",
    "qs = {'plate_id': plate_id, 'field': 0}\n",
    "url = WELLS_IMAGES_URL.format(**qs)\n",
    "grid = session.get(url).json()\n",
    "image_ids = [cell['id']  for row in grid['grid'] for cell in row if cell is not None]\n",
    "\n",
    "THUMBNAILS_URL = \"http://idr.openmicroscopy.org/webgateway/get_thumbnails/\"\n",
    "batch = image_ids[:10]\n",
    "payload = {'id': batch}\n",
    "print session.get(THUMBNAILS_URL, params=payload).json()[str(batch[0])]\n",
    "    "
   ]
  },
  {
   "cell_type": "markdown",
   "metadata": {},
   "source": [
    "## Get Image:"
   ]
  },
  {
   "cell_type": "code",
   "execution_count": 59,
   "metadata": {
    "collapsed": false
   },
   "outputs": [
    {
     "name": "stdout",
     "output_type": "stream",
     "text": [
      "{u'init_zoom': 0, u'tiles': False, u'perms': {u'canAnnotate': False, u'canEdit': False, u'canDelete': False, u'canLink': False}, u'split_channel': {u'c': {u'width': 2694, u'border': 2, u'gridy': 2, u'gridx': 2, u'height': 2054}, u'g': {u'width': 2694, u'border': 2, u'gridy': 1, u'gridx': 2, u'height': 1028}}, u'rdefs': {u'defaultT': 0, u'model': u'color', u'defaultZ': 0, u'invertAxis': False, u'projection': u'normal'}, u'pixel_range': [0, 65535], u'interpolate': True, u'channels': [{u'color': u'FF0000', u'active': True, u'window': {u'max': 4095.0, u'min': 169.0, u'end': 4095.0, u'start': 169.0}, u'emissionWave': None, u'label': u'Cy3'}, {u'color': u'00FF00', u'active': True, u'window': {u'max': 4095.0, u'min': 313.0, u'end': 4095.0, u'start': 313.0}, u'emissionWave': None, u'label': u'eGFP'}], u'meta': {u'projectDescription': u'', u'datasetName': u'Multiple', u'projectId': None, u'wellSampleId': 1742577, u'projectName': u'Multiple', u'imageDescription': u'', u'imageId': 1938578, u'imageAuthor': u'Demo User', u'imageName': u'plate3_8_010 [Well 96, Field 1 (Spot 96)]', u'datasetDescription': u'', u'wellId': 1046872, u'imageTimestamp': 1463841504.0, u'pixelsType': u'uint16', u'datasetId': None}, u'id': 1938578, u'pixel_size': {u'y': 0.3225, u'x': 0.3225, u'z': None}, u'size': {u'width': 1344, u'c': 2, u'z': 1, u't': 350, u'height': 1024}}\n"
     ]
    }
   ],
   "source": [
    "qs = {'image_id': image_id}\n",
    "IMAGE_DETAILS_URL = \"https://idr.openmicroscopy.org/webclient/imgData/{image_id}/\"\n",
    "url = IMAGE_DETAILS_URL.format(**qs)\n",
    "r = session.get(url)\n",
    "if r.status_code == 200:\n",
    "    print (r.json())\n"
   ]
  },
  {
   "cell_type": "markdown",
   "metadata": {},
   "source": [
    "## Get Image map annotation:"
   ]
  },
  {
   "cell_type": "code",
   "execution_count": 60,
   "metadata": {
    "collapsed": false
   },
   "outputs": [
    {
     "name": "stdout",
     "output_type": "stream",
     "text": [
      "(u'Gene Identifier', u'')\n",
      "(u'Gene Symbol', u'')\n",
      "(u'siRNA Identifier', u'')\n",
      "(u'siRNA Pool Identifier', u'')\n",
      "(u'Control Type', u'empty well')\n",
      "(u'Quality Control', u'fail')\n",
      "(u'Channels', u'H2B- mCherry/Cy3:chromatin;eGFP:nuclear lamina and report on nuclear envelope breakdown')\n"
     ]
    }
   ],
   "source": [
    "MAP_URL = \"https://idr.openmicroscopy.org/webclient/api/annotations/?type=map&{type}={image_id}\"\n",
    "\n",
    "qs = {'type': 'image', 'image_id': image_id}\n",
    "url = MAP_URL.format(**qs)\n",
    "for a in session.get(url).json()['annotations']:\n",
    "    namespace = a['ns']\n",
    "    for v in a['values']:\n",
    "        key = v[0]\n",
    "        value = v[1]\n",
    "        print (key, value)"
   ]
  },
  {
   "cell_type": "markdown",
   "metadata": {},
   "source": [
    "## Get bulk annotation:"
   ]
  },
  {
   "cell_type": "code",
   "execution_count": 61,
   "metadata": {
    "collapsed": false
   },
   "outputs": [
    {
     "name": "stdout",
     "output_type": "stream",
     "text": [
      "{u'parentId': 102, u'addedBy': u'Demo User', u'parentType': u'Screen', u'annId': 6621611, u'owner': u'Demo User', u'data': {u'rows': [[4554, u'96', 1046872, u'', u'', u'', u'', u'', u'', u'', u'', u'', u'', u'', u'', u'', u'', u'', u'empty well', u'', u'fail', u'H2B- mCherry/Cy3:chromatin;eGFP:nuclear lamina and report on nuclear envelope breakdown', u'', u'', u'', u'', u'', u'', u'', u'', u'', u'', u'', u'', u'', u'plate3_8_010', u'h12']], u'descriptions': [u'', u'', u'', u'', u'', u'', u'', u'', u'', u'', u'', u'', u'', u'', u'', u'', u'', u'', u'', u'', u'', u'', u'', u'', u'', u'', u'', u'', u'', u'', u'', u'', u'', u'', u'', u'', u''], u'columns': [u'Plate', u'Well Number', u'Well', u'Characteristics [Organism]', u'Term Source 1 REF', u'Term Source 1 Accession', u'Characteristics [Cell Line]', u'Term Source 2 REF', u'Term Source 2 Accession', u'siRNA Identifier', u'Sense Sequence', u'Antisense Sequence', u'Reagent Design Gene Annotation Build', u'Gene Identifier', u'Gene Symbol', u'Gene Symbol Synonyms', u'Gene Annotation Comments', u'Analysis Gene Annotation Build', u'Control Type', u'Control Comments', u'Quality Control', u'Channels', u'Comments', u'Median Deviation Fraction - Shorter Prophase', u'Median Deviation Fraction - Longer Prophase', u'Phenotype Reproducibility - Shorter Prophase', u'Phenotype Reproducibility - Longer Prophase', u'Has Phenotype', u'Phenotype Annotation Level', u'Phenotype 1', u'Phenotype 1 Term Name', u'Phenotype 1 Term Accession', u'Phenotype 2', u'Phenotype 2 Term Name', u'Phenotype 2 Term Accession', u'Plate Name', u'Well Name']}, u'id': 14209155, u'addedOn': 1481669962739}\n",
      "('Download URL:', 'http://idr-clone.openmicroscopy.org/webclient/annotation/6621611')\n",
      "('Download URL:', 'http://idr-clone.openmicroscopy.org/webclient/annotation/2891866')\n"
     ]
    }
   ],
   "source": [
    "BULK_URL = \"https://idr.openmicroscopy.org/webgateway/table/Screen.plateLinks.child.wells/{well_id}/query/?query=Well-{well_id}\"\n",
    "\n",
    "qs = {'well_id': well_id}\n",
    "url = BULK_URL.format(**qs)\n",
    "r = session.get(url)\n",
    "print (r.json())\n",
    "\n",
    "\n",
    "# or download entire bulk_annotation file:\n",
    "\n",
    "FILEANNOTATION_URL = \"https://idr.openmicroscopy.org/webclient/api/annotations/?type=file&screen={screen_id}\"\n",
    "DOWNLOAD_URL = \"http://idr-clone.openmicroscopy.org/webclient/annotation/{ann_id}\"\n",
    "\n",
    "qs = {'screen_id': screen_id}\n",
    "url = FILEANNOTATION_URL.format(**qs)\n",
    "for a in session.get(url).json()['annotations']:\n",
    "    namespace = a['ns']\n",
    "    ann_id = a['id']\n",
    "    qs2 = {'ann_id':  a['id']}\n",
    "    url2 = DOWNLOAD_URL.format(**qs2)\n",
    "    print (\"Download URL:\", url2)"
   ]
  },
  {
   "cell_type": "markdown",
   "metadata": {},
   "source": [
    "# Attributes (e.g. Gene, Phenotype...)"
   ]
  },
  {
   "cell_type": "markdown",
   "metadata": {},
   "source": [
    "## Get Screens that are annotated with gene:"
   ]
  },
  {
   "cell_type": "code",
   "execution_count": 62,
   "metadata": {
    "collapsed": false
   },
   "outputs": [
    {
     "name": "stdout",
     "output_type": "stream",
     "text": [
      "(102, u'idr0002-heriche-condensation/screenA (24)')\n",
      "(51, u'idr0003-breker-plasticity/screenA (15)')\n",
      "(253, u'idr0006-fong-nuclearbodies/screenA (48)')\n",
      "(201, u'idr0007-srikumar-sumo/screenA (9)')\n",
      "(251, u'idr0009-simpson-secretion/screenA (12)')\n",
      "(1351, u'idr0010-doil-dnadamage/screenA (4)')\n",
      "(1551, u'idr0011-ledesmafernandez-dad4/screenB (13)')\n",
      "(1602, u'idr0011-ledesmafernandez-dad4/screenD (21)')\n",
      "(1202, u'idr0012-fuchs-cellmorph/screenA (2)')\n",
      "(1101, u'idr0013-neumann-mitocheck/screenA (6)')\n",
      "(1302, u'idr0013-neumann-mitocheck/screenB (8)')\n",
      "(1204, u'idr0020-barr-chtog/screenA (120)')\n"
     ]
    }
   ],
   "source": [
    "SCREENS_PROJECTS_URL = \"https://idr.openmicroscopy.org/mapr/api/{key}/?value={value}\"\n",
    "\n",
    "qs = {'key': 'gene', 'value': 'CDC20'}\n",
    "url = SCREENS_PROJECTS_URL.format(**qs)\n",
    "for s in session.get(url).json()['screens']:\n",
    "    screen_id = s['id']\n",
    "    print (s['id'], s['name'])"
   ]
  },
  {
   "cell_type": "markdown",
   "metadata": {},
   "source": [
    "## Get Plates in Screen that are annotated with gene:"
   ]
  },
  {
   "cell_type": "code",
   "execution_count": 63,
   "metadata": {
    "collapsed": false
   },
   "outputs": [
    {
     "name": "stdout",
     "output_type": "stream",
     "text": [
      "(4357, u'200972429 TOG[2702]')\n",
      "(4401, u'200972430 TOG[2703]')\n",
      "(4451, u'200972431 NS[2667]')\n",
      "(4453, u'200972432 NS[2668]')\n"
     ]
    }
   ],
   "source": [
    "PLATES_URL = \"https://idr.openmicroscopy.org/mapr/api/{key}/plates/?value={value}&id={screen_id}\"\n",
    "\n",
    "qs = {'key': 'gene', 'value': 'CDC20', 'screen_id': screen_id}\n",
    "url = PLATES_URL.format(**qs)\n",
    "for p in session.get(url).json()['plates']:\n",
    "    plate_id = p['id']\n",
    "    print (p['id'], p['name'])"
   ]
  },
  {
   "cell_type": "markdown",
   "metadata": {},
   "source": [
    "## Get Images in Plate that are annotated with gene:"
   ]
  },
  {
   "cell_type": "code",
   "execution_count": 64,
   "metadata": {
    "collapsed": false
   },
   "outputs": [
    {
     "name": "stdout",
     "output_type": "stream",
     "text": [
      "Image link: https://idr.openmicroscopy.org/webclient/?show=image-1915895\n",
      "Image viewer link: https://idr.openmicroscopy.org/webclient/img_detail/1915895/\n",
      "Thumbnail URL: https://idr.openmicroscopy.org/webclient/render_thumbnail/1915895/\n",
      "Annotations:\n",
      "\t[[u'Gene Identifier', u'991'], [u'Gene Identifier URL', u'http://www.ncbi.nlm.nih.gov/gene/991'], [u'Gene Symbol', u'CDC20'], [u'Gene Identifier URL', u'http://www.ncbi.nlm.nih.gov/gene/?term=991']]\n",
      "\t[[u'RefSeq Accession', u'NM_001255'], [u'RefSeq Accession URL', u'http://www.ncbi.nlm.nih.gov/nuccore/NM_001255'], [u'RefSeq GI Number', u'4557436']]\n",
      "\t[[u'Organism', u'Homo sapiens']]\n",
      "\t[[u'siRNA Pool Identifier', u'L-003225-00'], [u'siRNA Identifier', u'']]\n",
      "\t[[u'siRNA Sequences', u'CGGAAGACCUGCCGUUACA;GGGCCGAACUCCUGGCAAA;GAUCAAAGAGGGCAACUAC;CAGAACAGACUGAAAGUAC']]\n",
      "\t[[u'Cell Line', u'HeLa'], [u'shRNA', u'non-silencing shRNA'], [u'Channels', u'Hoescht: nuclei;Anti-Ser10 PhosphoHistone H3: mitotic nuclei;Anti-alpha-tubulin: microtubules;RFP: whole cell']]\n",
      "Image link: https://idr.openmicroscopy.org/webclient/?show=image-1915879\n",
      "Image viewer link: https://idr.openmicroscopy.org/webclient/img_detail/1915879/\n",
      "Thumbnail URL: https://idr.openmicroscopy.org/webclient/render_thumbnail/1915879/\n",
      "Annotations:\n",
      "\t[[u'Gene Identifier', u'991'], [u'Gene Identifier URL', u'http://www.ncbi.nlm.nih.gov/gene/991'], [u'Gene Symbol', u'CDC20'], [u'Gene Identifier URL', u'http://www.ncbi.nlm.nih.gov/gene/?term=991']]\n",
      "\t[[u'RefSeq Accession', u'NM_001255'], [u'RefSeq Accession URL', u'http://www.ncbi.nlm.nih.gov/nuccore/NM_001255'], [u'RefSeq GI Number', u'4557436']]\n",
      "\t[[u'Organism', u'Homo sapiens']]\n",
      "\t[[u'siRNA Pool Identifier', u'L-003225-00'], [u'siRNA Identifier', u'']]\n",
      "\t[[u'siRNA Sequences', u'CGGAAGACCUGCCGUUACA;GGGCCGAACUCCUGGCAAA;GAUCAAAGAGGGCAACUAC;CAGAACAGACUGAAAGUAC']]\n",
      "\t[[u'Cell Line', u'HeLa'], [u'shRNA', u'non-silencing shRNA'], [u'Channels', u'Hoescht: nuclei;Anti-Ser10 PhosphoHistone H3: mitotic nuclei;Anti-alpha-tubulin: microtubules;RFP: whole cell']]\n",
      "Image link: https://idr.openmicroscopy.org/webclient/?show=image-1915899\n",
      "Image viewer link: https://idr.openmicroscopy.org/webclient/img_detail/1915899/\n",
      "Thumbnail URL: https://idr.openmicroscopy.org/webclient/render_thumbnail/1915899/\n",
      "Annotations:\n",
      "\t[[u'Gene Identifier', u'991'], [u'Gene Identifier URL', u'http://www.ncbi.nlm.nih.gov/gene/991'], [u'Gene Symbol', u'CDC20'], [u'Gene Identifier URL', u'http://www.ncbi.nlm.nih.gov/gene/?term=991']]\n",
      "\t[[u'RefSeq Accession', u'NM_001255'], [u'RefSeq Accession URL', u'http://www.ncbi.nlm.nih.gov/nuccore/NM_001255'], [u'RefSeq GI Number', u'4557436']]\n",
      "\t[[u'Organism', u'Homo sapiens']]\n",
      "\t[[u'siRNA Pool Identifier', u'L-003225-00'], [u'siRNA Identifier', u'']]\n",
      "\t[[u'siRNA Sequences', u'CGGAAGACCUGCCGUUACA;GGGCCGAACUCCUGGCAAA;GAUCAAAGAGGGCAACUAC;CAGAACAGACUGAAAGUAC']]\n",
      "\t[[u'Cell Line', u'HeLa'], [u'shRNA', u'non-silencing shRNA'], [u'Channels', u'Hoescht: nuclei;Anti-Ser10 PhosphoHistone H3: mitotic nuclei;Anti-alpha-tubulin: microtubules;RFP: whole cell']]\n",
      "Image link: https://idr.openmicroscopy.org/webclient/?show=image-1915893\n",
      "Image viewer link: https://idr.openmicroscopy.org/webclient/img_detail/1915893/\n",
      "Thumbnail URL: https://idr.openmicroscopy.org/webclient/render_thumbnail/1915893/\n",
      "Annotations:\n",
      "\t[[u'Gene Identifier', u'991'], [u'Gene Identifier URL', u'http://www.ncbi.nlm.nih.gov/gene/991'], [u'Gene Symbol', u'CDC20'], [u'Gene Identifier URL', u'http://www.ncbi.nlm.nih.gov/gene/?term=991']]\n",
      "\t[[u'RefSeq Accession', u'NM_001255'], [u'RefSeq Accession URL', u'http://www.ncbi.nlm.nih.gov/nuccore/NM_001255'], [u'RefSeq GI Number', u'4557436']]\n",
      "\t[[u'Organism', u'Homo sapiens']]\n",
      "\t[[u'siRNA Pool Identifier', u'L-003225-00'], [u'siRNA Identifier', u'']]\n",
      "\t[[u'siRNA Sequences', u'CGGAAGACCUGCCGUUACA;GGGCCGAACUCCUGGCAAA;GAUCAAAGAGGGCAACUAC;CAGAACAGACUGAAAGUAC']]\n",
      "\t[[u'Cell Line', u'HeLa'], [u'shRNA', u'non-silencing shRNA'], [u'Channels', u'Hoescht: nuclei;Anti-Ser10 PhosphoHistone H3: mitotic nuclei;Anti-alpha-tubulin: microtubules;RFP: whole cell']]\n",
      "Image link: https://idr.openmicroscopy.org/webclient/?show=image-1915894\n",
      "Image viewer link: https://idr.openmicroscopy.org/webclient/img_detail/1915894/\n",
      "Thumbnail URL: https://idr.openmicroscopy.org/webclient/render_thumbnail/1915894/\n",
      "Annotations:\n",
      "\t[[u'Gene Identifier', u'991'], [u'Gene Identifier URL', u'http://www.ncbi.nlm.nih.gov/gene/991'], [u'Gene Symbol', u'CDC20'], [u'Gene Identifier URL', u'http://www.ncbi.nlm.nih.gov/gene/?term=991']]\n",
      "\t[[u'RefSeq Accession', u'NM_001255'], [u'RefSeq Accession URL', u'http://www.ncbi.nlm.nih.gov/nuccore/NM_001255'], [u'RefSeq GI Number', u'4557436']]\n",
      "\t[[u'Organism', u'Homo sapiens']]\n",
      "\t[[u'siRNA Pool Identifier', u'L-003225-00'], [u'siRNA Identifier', u'']]\n",
      "\t[[u'siRNA Sequences', u'CGGAAGACCUGCCGUUACA;GGGCCGAACUCCUGGCAAA;GAUCAAAGAGGGCAACUAC;CAGAACAGACUGAAAGUAC']]\n",
      "\t[[u'Cell Line', u'HeLa'], [u'shRNA', u'non-silencing shRNA'], [u'Channels', u'Hoescht: nuclei;Anti-Ser10 PhosphoHistone H3: mitotic nuclei;Anti-alpha-tubulin: microtubules;RFP: whole cell']]\n",
      "Image link: https://idr.openmicroscopy.org/webclient/?show=image-1915903\n",
      "Image viewer link: https://idr.openmicroscopy.org/webclient/img_detail/1915903/\n",
      "Thumbnail URL: https://idr.openmicroscopy.org/webclient/render_thumbnail/1915903/\n",
      "Annotations:\n",
      "\t[[u'Gene Identifier', u'991'], [u'Gene Identifier URL', u'http://www.ncbi.nlm.nih.gov/gene/991'], [u'Gene Symbol', u'CDC20'], [u'Gene Identifier URL', u'http://www.ncbi.nlm.nih.gov/gene/?term=991']]\n",
      "\t[[u'RefSeq Accession', u'NM_001255'], [u'RefSeq Accession URL', u'http://www.ncbi.nlm.nih.gov/nuccore/NM_001255'], [u'RefSeq GI Number', u'4557436']]\n",
      "\t[[u'Organism', u'Homo sapiens']]\n",
      "\t[[u'siRNA Pool Identifier', u'L-003225-00'], [u'siRNA Identifier', u'']]\n",
      "\t[[u'siRNA Sequences', u'CGGAAGACCUGCCGUUACA;GGGCCGAACUCCUGGCAAA;GAUCAAAGAGGGCAACUAC;CAGAACAGACUGAAAGUAC']]\n",
      "\t[[u'Cell Line', u'HeLa'], [u'shRNA', u'non-silencing shRNA'], [u'Channels', u'Hoescht: nuclei;Anti-Ser10 PhosphoHistone H3: mitotic nuclei;Anti-alpha-tubulin: microtubules;RFP: whole cell']]\n",
      "Image link: https://idr.openmicroscopy.org/webclient/?show=image-1915904\n",
      "Image viewer link: https://idr.openmicroscopy.org/webclient/img_detail/1915904/\n",
      "Thumbnail URL: https://idr.openmicroscopy.org/webclient/render_thumbnail/1915904/\n",
      "Annotations:\n",
      "\t[[u'Gene Identifier', u'991'], [u'Gene Identifier URL', u'http://www.ncbi.nlm.nih.gov/gene/991'], [u'Gene Symbol', u'CDC20'], [u'Gene Identifier URL', u'http://www.ncbi.nlm.nih.gov/gene/?term=991']]\n",
      "\t[[u'RefSeq Accession', u'NM_001255'], [u'RefSeq Accession URL', u'http://www.ncbi.nlm.nih.gov/nuccore/NM_001255'], [u'RefSeq GI Number', u'4557436']]\n",
      "\t[[u'Organism', u'Homo sapiens']]\n",
      "\t[[u'siRNA Pool Identifier', u'L-003225-00'], [u'siRNA Identifier', u'']]\n",
      "\t[[u'siRNA Sequences', u'CGGAAGACCUGCCGUUACA;GGGCCGAACUCCUGGCAAA;GAUCAAAGAGGGCAACUAC;CAGAACAGACUGAAAGUAC']]\n",
      "\t[[u'Cell Line', u'HeLa'], [u'shRNA', u'non-silencing shRNA'], [u'Channels', u'Hoescht: nuclei;Anti-Ser10 PhosphoHistone H3: mitotic nuclei;Anti-alpha-tubulin: microtubules;RFP: whole cell']]\n",
      "Image link: https://idr.openmicroscopy.org/webclient/?show=image-1915887\n",
      "Image viewer link: https://idr.openmicroscopy.org/webclient/img_detail/1915887/\n",
      "Thumbnail URL: https://idr.openmicroscopy.org/webclient/render_thumbnail/1915887/\n",
      "Annotations:\n",
      "\t[[u'Gene Identifier', u'991'], [u'Gene Identifier URL', u'http://www.ncbi.nlm.nih.gov/gene/991'], [u'Gene Symbol', u'CDC20'], [u'Gene Identifier URL', u'http://www.ncbi.nlm.nih.gov/gene/?term=991']]\n",
      "\t[[u'RefSeq Accession', u'NM_001255'], [u'RefSeq Accession URL', u'http://www.ncbi.nlm.nih.gov/nuccore/NM_001255'], [u'RefSeq GI Number', u'4557436']]\n",
      "\t[[u'Organism', u'Homo sapiens']]\n",
      "\t[[u'siRNA Pool Identifier', u'L-003225-00'], [u'siRNA Identifier', u'']]\n",
      "\t[[u'siRNA Sequences', u'CGGAAGACCUGCCGUUACA;GGGCCGAACUCCUGGCAAA;GAUCAAAGAGGGCAACUAC;CAGAACAGACUGAAAGUAC']]\n",
      "\t[[u'Cell Line', u'HeLa'], [u'shRNA', u'non-silencing shRNA'], [u'Channels', u'Hoescht: nuclei;Anti-Ser10 PhosphoHistone H3: mitotic nuclei;Anti-alpha-tubulin: microtubules;RFP: whole cell']]\n",
      "Image link: https://idr.openmicroscopy.org/webclient/?show=image-1915883\n",
      "Image viewer link: https://idr.openmicroscopy.org/webclient/img_detail/1915883/\n",
      "Thumbnail URL: https://idr.openmicroscopy.org/webclient/render_thumbnail/1915883/\n",
      "Annotations:\n",
      "\t[[u'Gene Identifier', u'991'], [u'Gene Identifier URL', u'http://www.ncbi.nlm.nih.gov/gene/991'], [u'Gene Symbol', u'CDC20'], [u'Gene Identifier URL', u'http://www.ncbi.nlm.nih.gov/gene/?term=991']]\n",
      "\t[[u'RefSeq Accession', u'NM_001255'], [u'RefSeq Accession URL', u'http://www.ncbi.nlm.nih.gov/nuccore/NM_001255'], [u'RefSeq GI Number', u'4557436']]\n",
      "\t[[u'Organism', u'Homo sapiens']]\n",
      "\t[[u'siRNA Pool Identifier', u'L-003225-00'], [u'siRNA Identifier', u'']]\n",
      "\t[[u'siRNA Sequences', u'CGGAAGACCUGCCGUUACA;GGGCCGAACUCCUGGCAAA;GAUCAAAGAGGGCAACUAC;CAGAACAGACUGAAAGUAC']]\n",
      "\t[[u'Cell Line', u'HeLa'], [u'shRNA', u'non-silencing shRNA'], [u'Channels', u'Hoescht: nuclei;Anti-Ser10 PhosphoHistone H3: mitotic nuclei;Anti-alpha-tubulin: microtubules;RFP: whole cell']]\n",
      "Image link: https://idr.openmicroscopy.org/webclient/?show=image-1915890\n",
      "Image viewer link: https://idr.openmicroscopy.org/webclient/img_detail/1915890/\n",
      "Thumbnail URL: https://idr.openmicroscopy.org/webclient/render_thumbnail/1915890/\n",
      "Annotations:\n",
      "\t[[u'Gene Identifier', u'991'], [u'Gene Identifier URL', u'http://www.ncbi.nlm.nih.gov/gene/991'], [u'Gene Symbol', u'CDC20'], [u'Gene Identifier URL', u'http://www.ncbi.nlm.nih.gov/gene/?term=991']]\n",
      "\t[[u'RefSeq Accession', u'NM_001255'], [u'RefSeq Accession URL', u'http://www.ncbi.nlm.nih.gov/nuccore/NM_001255'], [u'RefSeq GI Number', u'4557436']]\n",
      "\t[[u'Organism', u'Homo sapiens']]\n",
      "\t[[u'siRNA Pool Identifier', u'L-003225-00'], [u'siRNA Identifier', u'']]\n",
      "\t[[u'siRNA Sequences', u'CGGAAGACCUGCCGUUACA;GGGCCGAACUCCUGGCAAA;GAUCAAAGAGGGCAACUAC;CAGAACAGACUGAAAGUAC']]\n",
      "\t[[u'Cell Line', u'HeLa'], [u'shRNA', u'non-silencing shRNA'], [u'Channels', u'Hoescht: nuclei;Anti-Ser10 PhosphoHistone H3: mitotic nuclei;Anti-alpha-tubulin: microtubules;RFP: whole cell']]\n",
      "Image link: https://idr.openmicroscopy.org/webclient/?show=image-1915882\n",
      "Image viewer link: https://idr.openmicroscopy.org/webclient/img_detail/1915882/\n",
      "Thumbnail URL: https://idr.openmicroscopy.org/webclient/render_thumbnail/1915882/\n",
      "Annotations:\n",
      "\t[[u'Gene Identifier', u'991'], [u'Gene Identifier URL', u'http://www.ncbi.nlm.nih.gov/gene/991'], [u'Gene Symbol', u'CDC20'], [u'Gene Identifier URL', u'http://www.ncbi.nlm.nih.gov/gene/?term=991']]\n",
      "\t[[u'RefSeq Accession', u'NM_001255'], [u'RefSeq Accession URL', u'http://www.ncbi.nlm.nih.gov/nuccore/NM_001255'], [u'RefSeq GI Number', u'4557436']]\n",
      "\t[[u'Organism', u'Homo sapiens']]\n",
      "\t[[u'siRNA Pool Identifier', u'L-003225-00'], [u'siRNA Identifier', u'']]\n",
      "\t[[u'siRNA Sequences', u'CGGAAGACCUGCCGUUACA;GGGCCGAACUCCUGGCAAA;GAUCAAAGAGGGCAACUAC;CAGAACAGACUGAAAGUAC']]\n",
      "\t[[u'Cell Line', u'HeLa'], [u'shRNA', u'non-silencing shRNA'], [u'Channels', u'Hoescht: nuclei;Anti-Ser10 PhosphoHistone H3: mitotic nuclei;Anti-alpha-tubulin: microtubules;RFP: whole cell']]\n",
      "Image link: https://idr.openmicroscopy.org/webclient/?show=image-1915897\n",
      "Image viewer link: https://idr.openmicroscopy.org/webclient/img_detail/1915897/\n",
      "Thumbnail URL: https://idr.openmicroscopy.org/webclient/render_thumbnail/1915897/\n",
      "Annotations:\n",
      "\t[[u'Gene Identifier', u'991'], [u'Gene Identifier URL', u'http://www.ncbi.nlm.nih.gov/gene/991'], [u'Gene Symbol', u'CDC20'], [u'Gene Identifier URL', u'http://www.ncbi.nlm.nih.gov/gene/?term=991']]\n",
      "\t[[u'RefSeq Accession', u'NM_001255'], [u'RefSeq Accession URL', u'http://www.ncbi.nlm.nih.gov/nuccore/NM_001255'], [u'RefSeq GI Number', u'4557436']]\n",
      "\t[[u'Organism', u'Homo sapiens']]\n",
      "\t[[u'siRNA Pool Identifier', u'L-003225-00'], [u'siRNA Identifier', u'']]\n",
      "\t[[u'siRNA Sequences', u'CGGAAGACCUGCCGUUACA;GGGCCGAACUCCUGGCAAA;GAUCAAAGAGGGCAACUAC;CAGAACAGACUGAAAGUAC']]\n",
      "\t[[u'Cell Line', u'HeLa'], [u'shRNA', u'non-silencing shRNA'], [u'Channels', u'Hoescht: nuclei;Anti-Ser10 PhosphoHistone H3: mitotic nuclei;Anti-alpha-tubulin: microtubules;RFP: whole cell']]\n",
      "Image link: https://idr.openmicroscopy.org/webclient/?show=image-1915906\n",
      "Image viewer link: https://idr.openmicroscopy.org/webclient/img_detail/1915906/\n",
      "Thumbnail URL: https://idr.openmicroscopy.org/webclient/render_thumbnail/1915906/\n",
      "Annotations:\n",
      "\t[[u'Gene Identifier', u'991'], [u'Gene Identifier URL', u'http://www.ncbi.nlm.nih.gov/gene/991'], [u'Gene Symbol', u'CDC20'], [u'Gene Identifier URL', u'http://www.ncbi.nlm.nih.gov/gene/?term=991']]\n",
      "\t[[u'RefSeq Accession', u'NM_001255'], [u'RefSeq Accession URL', u'http://www.ncbi.nlm.nih.gov/nuccore/NM_001255'], [u'RefSeq GI Number', u'4557436']]\n",
      "\t[[u'Organism', u'Homo sapiens']]\n",
      "\t[[u'siRNA Pool Identifier', u'L-003225-00'], [u'siRNA Identifier', u'']]\n",
      "\t[[u'siRNA Sequences', u'CGGAAGACCUGCCGUUACA;GGGCCGAACUCCUGGCAAA;GAUCAAAGAGGGCAACUAC;CAGAACAGACUGAAAGUAC']]\n",
      "\t[[u'Cell Line', u'HeLa'], [u'shRNA', u'non-silencing shRNA'], [u'Channels', u'Hoescht: nuclei;Anti-Ser10 PhosphoHistone H3: mitotic nuclei;Anti-alpha-tubulin: microtubules;RFP: whole cell']]\n",
      "Image link: https://idr.openmicroscopy.org/webclient/?show=image-1915880\n",
      "Image viewer link: https://idr.openmicroscopy.org/webclient/img_detail/1915880/\n",
      "Thumbnail URL: https://idr.openmicroscopy.org/webclient/render_thumbnail/1915880/\n",
      "Annotations:\n",
      "\t[[u'Gene Identifier', u'991'], [u'Gene Identifier URL', u'http://www.ncbi.nlm.nih.gov/gene/991'], [u'Gene Symbol', u'CDC20'], [u'Gene Identifier URL', u'http://www.ncbi.nlm.nih.gov/gene/?term=991']]\n",
      "\t[[u'RefSeq Accession', u'NM_001255'], [u'RefSeq Accession URL', u'http://www.ncbi.nlm.nih.gov/nuccore/NM_001255'], [u'RefSeq GI Number', u'4557436']]\n",
      "\t[[u'Organism', u'Homo sapiens']]\n",
      "\t[[u'siRNA Pool Identifier', u'L-003225-00'], [u'siRNA Identifier', u'']]\n",
      "\t[[u'siRNA Sequences', u'CGGAAGACCUGCCGUUACA;GGGCCGAACUCCUGGCAAA;GAUCAAAGAGGGCAACUAC;CAGAACAGACUGAAAGUAC']]\n",
      "\t[[u'Cell Line', u'HeLa'], [u'shRNA', u'non-silencing shRNA'], [u'Channels', u'Hoescht: nuclei;Anti-Ser10 PhosphoHistone H3: mitotic nuclei;Anti-alpha-tubulin: microtubules;RFP: whole cell']]\n",
      "Image link: https://idr.openmicroscopy.org/webclient/?show=image-1915884\n",
      "Image viewer link: https://idr.openmicroscopy.org/webclient/img_detail/1915884/\n",
      "Thumbnail URL: https://idr.openmicroscopy.org/webclient/render_thumbnail/1915884/\n",
      "Annotations:\n",
      "\t[[u'Gene Identifier', u'991'], [u'Gene Identifier URL', u'http://www.ncbi.nlm.nih.gov/gene/991'], [u'Gene Symbol', u'CDC20'], [u'Gene Identifier URL', u'http://www.ncbi.nlm.nih.gov/gene/?term=991']]\n",
      "\t[[u'RefSeq Accession', u'NM_001255'], [u'RefSeq Accession URL', u'http://www.ncbi.nlm.nih.gov/nuccore/NM_001255'], [u'RefSeq GI Number', u'4557436']]\n",
      "\t[[u'Organism', u'Homo sapiens']]\n",
      "\t[[u'siRNA Pool Identifier', u'L-003225-00'], [u'siRNA Identifier', u'']]\n",
      "\t[[u'siRNA Sequences', u'CGGAAGACCUGCCGUUACA;GGGCCGAACUCCUGGCAAA;GAUCAAAGAGGGCAACUAC;CAGAACAGACUGAAAGUAC']]\n",
      "\t[[u'Cell Line', u'HeLa'], [u'shRNA', u'non-silencing shRNA'], [u'Channels', u'Hoescht: nuclei;Anti-Ser10 PhosphoHistone H3: mitotic nuclei;Anti-alpha-tubulin: microtubules;RFP: whole cell']]\n",
      "Image link: https://idr.openmicroscopy.org/webclient/?show=image-1915891\n",
      "Image viewer link: https://idr.openmicroscopy.org/webclient/img_detail/1915891/\n",
      "Thumbnail URL: https://idr.openmicroscopy.org/webclient/render_thumbnail/1915891/\n",
      "Annotations:\n",
      "\t[[u'Gene Identifier', u'991'], [u'Gene Identifier URL', u'http://www.ncbi.nlm.nih.gov/gene/991'], [u'Gene Symbol', u'CDC20'], [u'Gene Identifier URL', u'http://www.ncbi.nlm.nih.gov/gene/?term=991']]\n",
      "\t[[u'RefSeq Accession', u'NM_001255'], [u'RefSeq Accession URL', u'http://www.ncbi.nlm.nih.gov/nuccore/NM_001255'], [u'RefSeq GI Number', u'4557436']]\n",
      "\t[[u'Organism', u'Homo sapiens']]\n",
      "\t[[u'siRNA Pool Identifier', u'L-003225-00'], [u'siRNA Identifier', u'']]\n",
      "\t[[u'siRNA Sequences', u'CGGAAGACCUGCCGUUACA;GGGCCGAACUCCUGGCAAA;GAUCAAAGAGGGCAACUAC;CAGAACAGACUGAAAGUAC']]\n",
      "\t[[u'Cell Line', u'HeLa'], [u'shRNA', u'non-silencing shRNA'], [u'Channels', u'Hoescht: nuclei;Anti-Ser10 PhosphoHistone H3: mitotic nuclei;Anti-alpha-tubulin: microtubules;RFP: whole cell']]\n",
      "Image link: https://idr.openmicroscopy.org/webclient/?show=image-1915896\n",
      "Image viewer link: https://idr.openmicroscopy.org/webclient/img_detail/1915896/\n",
      "Thumbnail URL: https://idr.openmicroscopy.org/webclient/render_thumbnail/1915896/\n",
      "Annotations:\n",
      "\t[[u'Gene Identifier', u'991'], [u'Gene Identifier URL', u'http://www.ncbi.nlm.nih.gov/gene/991'], [u'Gene Symbol', u'CDC20'], [u'Gene Identifier URL', u'http://www.ncbi.nlm.nih.gov/gene/?term=991']]\n",
      "\t[[u'RefSeq Accession', u'NM_001255'], [u'RefSeq Accession URL', u'http://www.ncbi.nlm.nih.gov/nuccore/NM_001255'], [u'RefSeq GI Number', u'4557436']]\n",
      "\t[[u'Organism', u'Homo sapiens']]\n",
      "\t[[u'siRNA Pool Identifier', u'L-003225-00'], [u'siRNA Identifier', u'']]\n",
      "\t[[u'siRNA Sequences', u'CGGAAGACCUGCCGUUACA;GGGCCGAACUCCUGGCAAA;GAUCAAAGAGGGCAACUAC;CAGAACAGACUGAAAGUAC']]\n",
      "\t[[u'Cell Line', u'HeLa'], [u'shRNA', u'non-silencing shRNA'], [u'Channels', u'Hoescht: nuclei;Anti-Ser10 PhosphoHistone H3: mitotic nuclei;Anti-alpha-tubulin: microtubules;RFP: whole cell']]\n",
      "Image link: https://idr.openmicroscopy.org/webclient/?show=image-1915907\n",
      "Image viewer link: https://idr.openmicroscopy.org/webclient/img_detail/1915907/\n",
      "Thumbnail URL: https://idr.openmicroscopy.org/webclient/render_thumbnail/1915907/\n",
      "Annotations:\n",
      "\t[[u'Gene Identifier', u'991'], [u'Gene Identifier URL', u'http://www.ncbi.nlm.nih.gov/gene/991'], [u'Gene Symbol', u'CDC20'], [u'Gene Identifier URL', u'http://www.ncbi.nlm.nih.gov/gene/?term=991']]\n",
      "\t[[u'RefSeq Accession', u'NM_001255'], [u'RefSeq Accession URL', u'http://www.ncbi.nlm.nih.gov/nuccore/NM_001255'], [u'RefSeq GI Number', u'4557436']]\n",
      "\t[[u'Organism', u'Homo sapiens']]\n",
      "\t[[u'siRNA Pool Identifier', u'L-003225-00'], [u'siRNA Identifier', u'']]\n",
      "\t[[u'siRNA Sequences', u'CGGAAGACCUGCCGUUACA;GGGCCGAACUCCUGGCAAA;GAUCAAAGAGGGCAACUAC;CAGAACAGACUGAAAGUAC']]\n",
      "\t[[u'Cell Line', u'HeLa'], [u'shRNA', u'non-silencing shRNA'], [u'Channels', u'Hoescht: nuclei;Anti-Ser10 PhosphoHistone H3: mitotic nuclei;Anti-alpha-tubulin: microtubules;RFP: whole cell']]\n",
      "Image link: https://idr.openmicroscopy.org/webclient/?show=image-1915881\n",
      "Image viewer link: https://idr.openmicroscopy.org/webclient/img_detail/1915881/\n",
      "Thumbnail URL: https://idr.openmicroscopy.org/webclient/render_thumbnail/1915881/\n",
      "Annotations:\n",
      "\t[[u'Gene Identifier', u'991'], [u'Gene Identifier URL', u'http://www.ncbi.nlm.nih.gov/gene/991'], [u'Gene Symbol', u'CDC20'], [u'Gene Identifier URL', u'http://www.ncbi.nlm.nih.gov/gene/?term=991']]\n",
      "\t[[u'RefSeq Accession', u'NM_001255'], [u'RefSeq Accession URL', u'http://www.ncbi.nlm.nih.gov/nuccore/NM_001255'], [u'RefSeq GI Number', u'4557436']]\n",
      "\t[[u'Organism', u'Homo sapiens']]\n",
      "\t[[u'siRNA Pool Identifier', u'L-003225-00'], [u'siRNA Identifier', u'']]\n",
      "\t[[u'siRNA Sequences', u'CGGAAGACCUGCCGUUACA;GGGCCGAACUCCUGGCAAA;GAUCAAAGAGGGCAACUAC;CAGAACAGACUGAAAGUAC']]\n",
      "\t[[u'Cell Line', u'HeLa'], [u'shRNA', u'non-silencing shRNA'], [u'Channels', u'Hoescht: nuclei;Anti-Ser10 PhosphoHistone H3: mitotic nuclei;Anti-alpha-tubulin: microtubules;RFP: whole cell']]\n",
      "Image link: https://idr.openmicroscopy.org/webclient/?show=image-1915886\n",
      "Image viewer link: https://idr.openmicroscopy.org/webclient/img_detail/1915886/\n",
      "Thumbnail URL: https://idr.openmicroscopy.org/webclient/render_thumbnail/1915886/\n",
      "Annotations:\n",
      "\t[[u'Gene Identifier', u'991'], [u'Gene Identifier URL', u'http://www.ncbi.nlm.nih.gov/gene/991'], [u'Gene Symbol', u'CDC20'], [u'Gene Identifier URL', u'http://www.ncbi.nlm.nih.gov/gene/?term=991']]\n",
      "\t[[u'RefSeq Accession', u'NM_001255'], [u'RefSeq Accession URL', u'http://www.ncbi.nlm.nih.gov/nuccore/NM_001255'], [u'RefSeq GI Number', u'4557436']]\n",
      "\t[[u'Organism', u'Homo sapiens']]\n",
      "\t[[u'siRNA Pool Identifier', u'L-003225-00'], [u'siRNA Identifier', u'']]\n",
      "\t[[u'siRNA Sequences', u'CGGAAGACCUGCCGUUACA;GGGCCGAACUCCUGGCAAA;GAUCAAAGAGGGCAACUAC;CAGAACAGACUGAAAGUAC']]\n",
      "\t[[u'Cell Line', u'HeLa'], [u'shRNA', u'non-silencing shRNA'], [u'Channels', u'Hoescht: nuclei;Anti-Ser10 PhosphoHistone H3: mitotic nuclei;Anti-alpha-tubulin: microtubules;RFP: whole cell']]\n",
      "Image link: https://idr.openmicroscopy.org/webclient/?show=image-1915888\n",
      "Image viewer link: https://idr.openmicroscopy.org/webclient/img_detail/1915888/\n",
      "Thumbnail URL: https://idr.openmicroscopy.org/webclient/render_thumbnail/1915888/\n",
      "Annotations:\n",
      "\t[[u'Gene Identifier', u'991'], [u'Gene Identifier URL', u'http://www.ncbi.nlm.nih.gov/gene/991'], [u'Gene Symbol', u'CDC20'], [u'Gene Identifier URL', u'http://www.ncbi.nlm.nih.gov/gene/?term=991']]\n",
      "\t[[u'RefSeq Accession', u'NM_001255'], [u'RefSeq Accession URL', u'http://www.ncbi.nlm.nih.gov/nuccore/NM_001255'], [u'RefSeq GI Number', u'4557436']]\n",
      "\t[[u'Organism', u'Homo sapiens']]\n",
      "\t[[u'siRNA Pool Identifier', u'L-003225-00'], [u'siRNA Identifier', u'']]\n",
      "\t[[u'siRNA Sequences', u'CGGAAGACCUGCCGUUACA;GGGCCGAACUCCUGGCAAA;GAUCAAAGAGGGCAACUAC;CAGAACAGACUGAAAGUAC']]\n",
      "\t[[u'Cell Line', u'HeLa'], [u'shRNA', u'non-silencing shRNA'], [u'Channels', u'Hoescht: nuclei;Anti-Ser10 PhosphoHistone H3: mitotic nuclei;Anti-alpha-tubulin: microtubules;RFP: whole cell']]\n",
      "Image link: https://idr.openmicroscopy.org/webclient/?show=image-1915878\n",
      "Image viewer link: https://idr.openmicroscopy.org/webclient/img_detail/1915878/\n",
      "Thumbnail URL: https://idr.openmicroscopy.org/webclient/render_thumbnail/1915878/\n",
      "Annotations:\n",
      "\t[[u'Gene Identifier', u'991'], [u'Gene Identifier URL', u'http://www.ncbi.nlm.nih.gov/gene/991'], [u'Gene Symbol', u'CDC20'], [u'Gene Identifier URL', u'http://www.ncbi.nlm.nih.gov/gene/?term=991']]\n",
      "\t[[u'RefSeq Accession', u'NM_001255'], [u'RefSeq Accession URL', u'http://www.ncbi.nlm.nih.gov/nuccore/NM_001255'], [u'RefSeq GI Number', u'4557436']]\n",
      "\t[[u'Organism', u'Homo sapiens']]\n",
      "\t[[u'siRNA Pool Identifier', u'L-003225-00'], [u'siRNA Identifier', u'']]\n",
      "\t[[u'siRNA Sequences', u'CGGAAGACCUGCCGUUACA;GGGCCGAACUCCUGGCAAA;GAUCAAAGAGGGCAACUAC;CAGAACAGACUGAAAGUAC']]\n",
      "\t[[u'Cell Line', u'HeLa'], [u'shRNA', u'non-silencing shRNA'], [u'Channels', u'Hoescht: nuclei;Anti-Ser10 PhosphoHistone H3: mitotic nuclei;Anti-alpha-tubulin: microtubules;RFP: whole cell']]\n",
      "Image link: https://idr.openmicroscopy.org/webclient/?show=image-1915900\n",
      "Image viewer link: https://idr.openmicroscopy.org/webclient/img_detail/1915900/\n",
      "Thumbnail URL: https://idr.openmicroscopy.org/webclient/render_thumbnail/1915900/\n",
      "Annotations:\n",
      "\t[[u'Gene Identifier', u'991'], [u'Gene Identifier URL', u'http://www.ncbi.nlm.nih.gov/gene/991'], [u'Gene Symbol', u'CDC20'], [u'Gene Identifier URL', u'http://www.ncbi.nlm.nih.gov/gene/?term=991']]\n",
      "\t[[u'RefSeq Accession', u'NM_001255'], [u'RefSeq Accession URL', u'http://www.ncbi.nlm.nih.gov/nuccore/NM_001255'], [u'RefSeq GI Number', u'4557436']]\n",
      "\t[[u'Organism', u'Homo sapiens']]\n",
      "\t[[u'siRNA Pool Identifier', u'L-003225-00'], [u'siRNA Identifier', u'']]\n",
      "\t[[u'siRNA Sequences', u'CGGAAGACCUGCCGUUACA;GGGCCGAACUCCUGGCAAA;GAUCAAAGAGGGCAACUAC;CAGAACAGACUGAAAGUAC']]\n",
      "\t[[u'Cell Line', u'HeLa'], [u'shRNA', u'non-silencing shRNA'], [u'Channels', u'Hoescht: nuclei;Anti-Ser10 PhosphoHistone H3: mitotic nuclei;Anti-alpha-tubulin: microtubules;RFP: whole cell']]\n",
      "Image link: https://idr.openmicroscopy.org/webclient/?show=image-1915905\n",
      "Image viewer link: https://idr.openmicroscopy.org/webclient/img_detail/1915905/\n",
      "Thumbnail URL: https://idr.openmicroscopy.org/webclient/render_thumbnail/1915905/\n",
      "Annotations:\n",
      "\t[[u'Gene Identifier', u'991'], [u'Gene Identifier URL', u'http://www.ncbi.nlm.nih.gov/gene/991'], [u'Gene Symbol', u'CDC20'], [u'Gene Identifier URL', u'http://www.ncbi.nlm.nih.gov/gene/?term=991']]\n",
      "\t[[u'RefSeq Accession', u'NM_001255'], [u'RefSeq Accession URL', u'http://www.ncbi.nlm.nih.gov/nuccore/NM_001255'], [u'RefSeq GI Number', u'4557436']]\n",
      "\t[[u'Organism', u'Homo sapiens']]\n",
      "\t[[u'siRNA Pool Identifier', u'L-003225-00'], [u'siRNA Identifier', u'']]\n",
      "\t[[u'siRNA Sequences', u'CGGAAGACCUGCCGUUACA;GGGCCGAACUCCUGGCAAA;GAUCAAAGAGGGCAACUAC;CAGAACAGACUGAAAGUAC']]\n",
      "\t[[u'Cell Line', u'HeLa'], [u'shRNA', u'non-silencing shRNA'], [u'Channels', u'Hoescht: nuclei;Anti-Ser10 PhosphoHistone H3: mitotic nuclei;Anti-alpha-tubulin: microtubules;RFP: whole cell']]\n",
      "Image link: https://idr.openmicroscopy.org/webclient/?show=image-1915898\n",
      "Image viewer link: https://idr.openmicroscopy.org/webclient/img_detail/1915898/\n",
      "Thumbnail URL: https://idr.openmicroscopy.org/webclient/render_thumbnail/1915898/\n",
      "Annotations:\n",
      "\t[[u'Gene Identifier', u'991'], [u'Gene Identifier URL', u'http://www.ncbi.nlm.nih.gov/gene/991'], [u'Gene Symbol', u'CDC20'], [u'Gene Identifier URL', u'http://www.ncbi.nlm.nih.gov/gene/?term=991']]\n",
      "\t[[u'RefSeq Accession', u'NM_001255'], [u'RefSeq Accession URL', u'http://www.ncbi.nlm.nih.gov/nuccore/NM_001255'], [u'RefSeq GI Number', u'4557436']]\n",
      "\t[[u'Organism', u'Homo sapiens']]\n",
      "\t[[u'siRNA Pool Identifier', u'L-003225-00'], [u'siRNA Identifier', u'']]\n",
      "\t[[u'siRNA Sequences', u'CGGAAGACCUGCCGUUACA;GGGCCGAACUCCUGGCAAA;GAUCAAAGAGGGCAACUAC;CAGAACAGACUGAAAGUAC']]\n",
      "\t[[u'Cell Line', u'HeLa'], [u'shRNA', u'non-silencing shRNA'], [u'Channels', u'Hoescht: nuclei;Anti-Ser10 PhosphoHistone H3: mitotic nuclei;Anti-alpha-tubulin: microtubules;RFP: whole cell']]\n",
      "Image link: https://idr.openmicroscopy.org/webclient/?show=image-1915885\n",
      "Image viewer link: https://idr.openmicroscopy.org/webclient/img_detail/1915885/\n",
      "Thumbnail URL: https://idr.openmicroscopy.org/webclient/render_thumbnail/1915885/\n",
      "Annotations:\n",
      "\t[[u'Gene Identifier', u'991'], [u'Gene Identifier URL', u'http://www.ncbi.nlm.nih.gov/gene/991'], [u'Gene Symbol', u'CDC20'], [u'Gene Identifier URL', u'http://www.ncbi.nlm.nih.gov/gene/?term=991']]\n",
      "\t[[u'RefSeq Accession', u'NM_001255'], [u'RefSeq Accession URL', u'http://www.ncbi.nlm.nih.gov/nuccore/NM_001255'], [u'RefSeq GI Number', u'4557436']]\n",
      "\t[[u'Organism', u'Homo sapiens']]\n",
      "\t[[u'siRNA Pool Identifier', u'L-003225-00'], [u'siRNA Identifier', u'']]\n",
      "\t[[u'siRNA Sequences', u'CGGAAGACCUGCCGUUACA;GGGCCGAACUCCUGGCAAA;GAUCAAAGAGGGCAACUAC;CAGAACAGACUGAAAGUAC']]\n",
      "\t[[u'Cell Line', u'HeLa'], [u'shRNA', u'non-silencing shRNA'], [u'Channels', u'Hoescht: nuclei;Anti-Ser10 PhosphoHistone H3: mitotic nuclei;Anti-alpha-tubulin: microtubules;RFP: whole cell']]\n",
      "Image link: https://idr.openmicroscopy.org/webclient/?show=image-1915889\n",
      "Image viewer link: https://idr.openmicroscopy.org/webclient/img_detail/1915889/\n",
      "Thumbnail URL: https://idr.openmicroscopy.org/webclient/render_thumbnail/1915889/\n",
      "Annotations:\n",
      "\t[[u'Gene Identifier', u'991'], [u'Gene Identifier URL', u'http://www.ncbi.nlm.nih.gov/gene/991'], [u'Gene Symbol', u'CDC20'], [u'Gene Identifier URL', u'http://www.ncbi.nlm.nih.gov/gene/?term=991']]\n",
      "\t[[u'RefSeq Accession', u'NM_001255'], [u'RefSeq Accession URL', u'http://www.ncbi.nlm.nih.gov/nuccore/NM_001255'], [u'RefSeq GI Number', u'4557436']]\n",
      "\t[[u'Organism', u'Homo sapiens']]\n",
      "\t[[u'siRNA Pool Identifier', u'L-003225-00'], [u'siRNA Identifier', u'']]\n",
      "\t[[u'siRNA Sequences', u'CGGAAGACCUGCCGUUACA;GGGCCGAACUCCUGGCAAA;GAUCAAAGAGGGCAACUAC;CAGAACAGACUGAAAGUAC']]\n",
      "\t[[u'Cell Line', u'HeLa'], [u'shRNA', u'non-silencing shRNA'], [u'Channels', u'Hoescht: nuclei;Anti-Ser10 PhosphoHistone H3: mitotic nuclei;Anti-alpha-tubulin: microtubules;RFP: whole cell']]\n",
      "Image link: https://idr.openmicroscopy.org/webclient/?show=image-1915901\n",
      "Image viewer link: https://idr.openmicroscopy.org/webclient/img_detail/1915901/\n",
      "Thumbnail URL: https://idr.openmicroscopy.org/webclient/render_thumbnail/1915901/\n",
      "Annotations:\n",
      "\t[[u'Gene Identifier', u'991'], [u'Gene Identifier URL', u'http://www.ncbi.nlm.nih.gov/gene/991'], [u'Gene Symbol', u'CDC20'], [u'Gene Identifier URL', u'http://www.ncbi.nlm.nih.gov/gene/?term=991']]\n",
      "\t[[u'RefSeq Accession', u'NM_001255'], [u'RefSeq Accession URL', u'http://www.ncbi.nlm.nih.gov/nuccore/NM_001255'], [u'RefSeq GI Number', u'4557436']]\n",
      "\t[[u'Organism', u'Homo sapiens']]\n",
      "\t[[u'siRNA Pool Identifier', u'L-003225-00'], [u'siRNA Identifier', u'']]\n",
      "\t[[u'siRNA Sequences', u'CGGAAGACCUGCCGUUACA;GGGCCGAACUCCUGGCAAA;GAUCAAAGAGGGCAACUAC;CAGAACAGACUGAAAGUAC']]\n",
      "\t[[u'Cell Line', u'HeLa'], [u'shRNA', u'non-silencing shRNA'], [u'Channels', u'Hoescht: nuclei;Anti-Ser10 PhosphoHistone H3: mitotic nuclei;Anti-alpha-tubulin: microtubules;RFP: whole cell']]\n",
      "Image link: https://idr.openmicroscopy.org/webclient/?show=image-1915892\n",
      "Image viewer link: https://idr.openmicroscopy.org/webclient/img_detail/1915892/\n",
      "Thumbnail URL: https://idr.openmicroscopy.org/webclient/render_thumbnail/1915892/\n",
      "Annotations:\n",
      "\t[[u'Gene Identifier', u'991'], [u'Gene Identifier URL', u'http://www.ncbi.nlm.nih.gov/gene/991'], [u'Gene Symbol', u'CDC20'], [u'Gene Identifier URL', u'http://www.ncbi.nlm.nih.gov/gene/?term=991']]\n",
      "\t[[u'RefSeq Accession', u'NM_001255'], [u'RefSeq Accession URL', u'http://www.ncbi.nlm.nih.gov/nuccore/NM_001255'], [u'RefSeq GI Number', u'4557436']]\n",
      "\t[[u'Organism', u'Homo sapiens']]\n",
      "\t[[u'siRNA Pool Identifier', u'L-003225-00'], [u'siRNA Identifier', u'']]\n",
      "\t[[u'siRNA Sequences', u'CGGAAGACCUGCCGUUACA;GGGCCGAACUCCUGGCAAA;GAUCAAAGAGGGCAACUAC;CAGAACAGACUGAAAGUAC']]\n",
      "\t[[u'Cell Line', u'HeLa'], [u'shRNA', u'non-silencing shRNA'], [u'Channels', u'Hoescht: nuclei;Anti-Ser10 PhosphoHistone H3: mitotic nuclei;Anti-alpha-tubulin: microtubules;RFP: whole cell']]\n",
      "Image link: https://idr.openmicroscopy.org/webclient/?show=image-1915902\n",
      "Image viewer link: https://idr.openmicroscopy.org/webclient/img_detail/1915902/\n",
      "Thumbnail URL: https://idr.openmicroscopy.org/webclient/render_thumbnail/1915902/\n",
      "Annotations:\n",
      "\t[[u'Gene Identifier', u'991'], [u'Gene Identifier URL', u'http://www.ncbi.nlm.nih.gov/gene/991'], [u'Gene Symbol', u'CDC20'], [u'Gene Identifier URL', u'http://www.ncbi.nlm.nih.gov/gene/?term=991']]\n",
      "\t[[u'RefSeq Accession', u'NM_001255'], [u'RefSeq Accession URL', u'http://www.ncbi.nlm.nih.gov/nuccore/NM_001255'], [u'RefSeq GI Number', u'4557436']]\n",
      "\t[[u'Organism', u'Homo sapiens']]\n",
      "\t[[u'siRNA Pool Identifier', u'L-003225-00'], [u'siRNA Identifier', u'']]\n",
      "\t[[u'siRNA Sequences', u'CGGAAGACCUGCCGUUACA;GGGCCGAACUCCUGGCAAA;GAUCAAAGAGGGCAACUAC;CAGAACAGACUGAAAGUAC']]\n",
      "\t[[u'Cell Line', u'HeLa'], [u'shRNA', u'non-silencing shRNA'], [u'Channels', u'Hoescht: nuclei;Anti-Ser10 PhosphoHistone H3: mitotic nuclei;Anti-alpha-tubulin: microtubules;RFP: whole cell']]\n"
     ]
    }
   ],
   "source": [
    "IMAGES_URL = \"https://idr.openmicroscopy.org/mapr/api/{key}/images/?value={value}&node={parent_type}&id={parent_id}\"\n",
    "\n",
    "IMAGE_URL = \"https://idr.openmicroscopy.org/webclient/?show=image-{image_id}\"\n",
    "IMAGE_VIEWER = \"https://idr.openmicroscopy.org/webclient/img_detail/{image_id}/\"\n",
    "THUMBNAIL_URL = \"https://idr.openmicroscopy.org/webclient/render_thumbnail/{image_id}/\"\n",
    "ATTRIBUTES_URL = \"https://idr.openmicroscopy.org/webclient/api/annotations/?type=map&image={image_id}\"\n",
    "\n",
    "qs = {'key': 'gene', 'value': 'CDC20', 'parent_type': 'plate', 'parent_id': plate_id}\n",
    "url = IMAGES_URL.format(**qs)\n",
    "for i in session.get(url).json()['images']:\n",
    "    image_id = i['id']\n",
    "    print 'Image link:', IMAGE_URL.format(**{'image_id': image_id})\n",
    "    print 'Image viewer link:', IMAGE_VIEWER.format(**{'image_id': image_id})\n",
    "    print 'Thumbnail URL:', THUMBNAIL_URL.format(**{'image_id': image_id})\n",
    "    url = ATTRIBUTES_URL.format(**{'image_id': image_id})\n",
    "    print 'Annotations:'\n",
    "    for a in session.get(url).json()['annotations']:\n",
    "        print '\\t%s' % a['values']"
   ]
  }
 ],
 "metadata": {
  "kernelspec": {
   "display_name": "OMERO Python 2",
   "language": "python",
   "name": "python2"
  },
  "language_info": {
   "codemirror_mode": {
    "name": "ipython",
    "version": 2
   },
   "file_extension": ".py",
   "mimetype": "text/x-python",
   "name": "python",
   "nbconvert_exporter": "python",
   "pygments_lexer": "ipython2",
   "version": "2.7.6"
  }
 },
 "nbformat": 4,
 "nbformat_minor": 0
}
