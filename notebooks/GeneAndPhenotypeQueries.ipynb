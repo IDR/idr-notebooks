{
 "cells": [
  {
   "cell_type": "markdown",
   "metadata": {},
   "source": [
    "# Genes to Phenotypes and Phenotypes to Genes\n",
    "\n",
    "This notebook allows you to query the gene and phenotype annotations in the IDR. \n",
    "\n",
    "**1. Gene to Phenotype queries**\n",
    "You can query with a gene list or GO ontology ID for a protein complex/cellular component which is then queried for the associated gene members and get back phenotypes associated with those genes. \n",
    "\n",
    "\n",
    "**2. Phenotype to Gene queries**\n",
    "You can query with a phenotype name and get back a list of all the genes linked \n",
    "to that phenotype.  You can then perform a GO enrichment analysis to see if the genes\n",
    "are signficantly associated with any GO terms.\n",
    "\n",
    "\n"
   ]
  },
  {
   "cell_type": "markdown",
   "metadata": {},
   "source": [
    "### First set up your environment and import all the packages you will need"
   ]
  },
  {
   "cell_type": "code",
   "execution_count": 1,
   "metadata": {},
   "outputs": [],
   "source": [
    "# import pandas for data manipulation\n",
    "import pandas\n",
    "\n",
    "# import some functions for displaying the results\n",
    "from ipywidgets import widgets, interact, fixed\n",
    "from functools import wraps\n",
    "from IPython.display import display, HTML\n",
    "\n",
    "# import functions from the idr package to perform the queries\n",
    "from idr import connection, create_http_session\n",
    "from idr import genes_of_interest_go\n",
    "from idr.widgets import textbox_widget, progress\n",
    "from idr.widgets import dropdown_widget\n",
    "from idr import get_phenotypes_for_genelist, get_similar_genes\n",
    "from idr import attributes_by_attributes, get_organism_screenids\n",
    "\n",
    "# import a package for doing GO term enrichement analysis\n",
    "import gseapy as gp"
   ]
  },
  {
   "cell_type": "markdown",
   "metadata": {},
   "source": [
    "### Create a session for querying the IDR"
   ]
  },
  {
   "cell_type": "code",
   "execution_count": 99,
   "metadata": {
    "collapsed": true
   },
   "outputs": [],
   "source": [
    "session = create_http_session()"
   ]
  },
  {
   "cell_type": "markdown",
   "metadata": {},
   "source": [
    "### Set some variables to say that are going to only look at human genes"
   ]
  },
  {
   "cell_type": "code",
   "execution_count": 100,
   "metadata": {
    "collapsed": true
   },
   "outputs": [],
   "source": [
    "organism = 'Homo sapiens'\n",
    "tax_id = '9606'"
   ]
  },
  {
   "cell_type": "markdown",
   "metadata": {},
   "source": [
    "\n",
    "<br>\n",
    "## Genes to Phenotypes query"
   ]
  },
  {
   "cell_type": "markdown",
   "metadata": {},
   "source": [
    "### Create boxes to enter the Gene Ontology ID or manual gene list"
   ]
  },
  {
   "cell_type": "code",
   "execution_count": 30,
   "metadata": {},
   "outputs": [
    {
     "data": {
      "application/vnd.jupyter.widget-view+json": {
       "model_id": "239edf820e5c4310af5a473afddc4359",
       "version_major": 2,
       "version_minor": 0
      },
      "text/plain": [
       "A Jupyter Widget"
      ]
     },
     "metadata": {},
     "output_type": "display_data"
    },
    {
     "data": {
      "application/vnd.jupyter.widget-view+json": {
       "model_id": "741d6af290d74f2781626ad166737344",
       "version_major": 2,
       "version_minor": 0
      },
      "text/plain": [
       "A Jupyter Widget"
      ]
     },
     "metadata": {},
     "output_type": "display_data"
    }
   ],
   "source": [
    "go_term = textbox_widget('', 'Enter GO Id e.g. GO:0005885', 'Gene Ontology Id:', True)\n",
    "manual_gene_list = textbox_widget('','Comma seperated gene symbols', 'Manual Gene List:', True)\n",
    "\n",
    "# ENTER VALUES IN ONE OR BOTH BOXES THEN MOVE TO THE NEXT CELL"
   ]
  },
  {
   "cell_type": "markdown",
   "metadata": {},
   "source": [
    "### Query GO for the genes associated with the GO ID, combine with any manually entered gene list"
   ]
  },
  {
   "cell_type": "code",
   "execution_count": 32,
   "metadata": {},
   "outputs": [
    {
     "name": "stdout",
     "output_type": "stream",
     "text": [
      "Please enter a valid Gene Ontology Id\n",
      "Query list of genes: [u' HELZ2', u'ASH2L']\n"
     ]
    }
   ],
   "source": [
    "go_gene_list = []\n",
    "if go_term.value.split(\",\") != ['']:\n",
    "    go_gene_list = genes_of_interest_go(go_term.value, tax_id)\n",
    "else:\n",
    "    print 'Please enter a valid Gene Ontology Id'\n",
    "manual_list = manual_gene_list.value.split(\",\")\n",
    "if manual_list != ['']:\n",
    "    go_gene_list = list(set(go_gene_list + manual_list))\n",
    "    \n",
    "print \"Query list of genes:\", go_gene_list"
   ]
  },
  {
   "cell_type": "markdown",
   "metadata": {},
   "source": [
    "### Query the IDR to get all the phenotypes associated with the list of genes"
   ]
  },
  {
   "cell_type": "code",
   "execution_count": 34,
   "metadata": {},
   "outputs": [
    {
     "name": "stdout",
     "output_type": "stream",
     "text": [
      "[============================================================] 100.0% ...Iterating through gene list\r"
     ]
    },
    {
     "data": {
      "text/html": [
       "<table border=\"1\" class=\"dataframe\">\n",
       "  <thead>\n",
       "    <tr style=\"text-align: right;\">\n",
       "      <th></th>\n",
       "      <th>Entrez</th>\n",
       "      <th>Ensembl</th>\n",
       "      <th>Key</th>\n",
       "      <th>Value</th>\n",
       "      <th>PhenotypeName</th>\n",
       "      <th>PhenotypeAccession</th>\n",
       "      <th>ScreenIds</th>\n",
       "    </tr>\n",
       "  </thead>\n",
       "  <tbody>\n",
       "    <tr>\n",
       "      <th>HELZ2</th>\n",
       "      <td>[85441]</td>\n",
       "      <td>[]</td>\n",
       "      <td>EntrezID</td>\n",
       "      <td>85441</td>\n",
       "      <td>[elongated cell phenotype, cell with projections]</td>\n",
       "      <td>[CMPO_0000077, CMPO_0000071]</td>\n",
       "      <td>[1202, 1202]</td>\n",
       "    </tr>\n",
       "    <tr>\n",
       "      <th>ASH2L</th>\n",
       "      <td>[9070]</td>\n",
       "      <td>[ENSG00000129691]</td>\n",
       "      <td>GeneName</td>\n",
       "      <td>ASH2L</td>\n",
       "      <td>[elongated cell phenotype]</td>\n",
       "      <td>[CMPO_0000077]</td>\n",
       "      <td>[1202]</td>\n",
       "    </tr>\n",
       "  </tbody>\n",
       "</table>"
      ],
      "text/plain": [
       "<IPython.core.display.HTML object>"
      ]
     },
     "metadata": {},
     "output_type": "display_data"
    }
   ],
   "source": [
    "# display the results in a table\n",
    "# set the columns so that all values will be shown\n",
    "old_width = pandas.get_option('display.max_colwidth')\n",
    "pandas.set_option('display.max_colwidth', -1)\n",
    "\n",
    "# then display the table\n",
    "[query_genes_dataframe, screen_to_phenotype_dictionary] = get_phenotypes_for_genelist(session, go_gene_list, organism)\n",
    "display(HTML(query_genes_dataframe.to_html( escape=False)))"
   ]
  },
  {
   "cell_type": "markdown",
   "metadata": {},
   "source": [
    "---\n",
    "## Phenotypes to genes query"
   ]
  },
  {
   "cell_type": "markdown",
   "metadata": {},
   "source": [
    "### Choose a phenotype that we'd like to query\n",
    "Enter a Phenotype Term Name E.g. 'elongated cell phenotype'\n"
   ]
  },
  {
   "cell_type": "code",
   "execution_count": 101,
   "metadata": {
    "collapsed": true
   },
   "outputs": [],
   "source": [
    "phenotype = 'elongated cell phenotype'"
   ]
  },
  {
   "cell_type": "markdown",
   "metadata": {},
   "source": [
    "### We have to first write a function to query the IDR for the genes associated with a phenotype"
   ]
  },
  {
   "cell_type": "code",
   "execution_count": 102,
   "metadata": {
    "collapsed": true
   },
   "outputs": [],
   "source": [
    "def get_genes_for_phenotype(phenotype, conn, sid): \n",
    "    args = {\n",
    "            \"name\": \"Phenotype Term Name\",\n",
    "            \"value\": phenotype,\n",
    "            \"ns\": \"openmicroscopy.org/mapr/phenotype\",\n",
    "            \"ns2\": \"openmicroscopy.org/mapr/gene\",\n",
    "            \"s_id\": sid\n",
    "        }\n",
    "\n",
    "    cc = attributes_by_attributes(conn, **args)\n",
    "    dataframe = pandas.DataFrame.from_dict(cc)\n",
    "       \n",
    "    return dataframe\n",
    "\n"
   ]
  },
  {
   "cell_type": "markdown",
   "metadata": {},
   "source": [
    "### Then we set up the connection to the IDR"
   ]
  },
  {
   "cell_type": "code",
   "execution_count": 103,
   "metadata": {},
   "outputs": [
    {
     "name": "stdout",
     "output_type": "stream",
     "text": [
      "Connected to IDR...\n"
     ]
    }
   ],
   "source": [
    "conn = connection(host='idr.openmicroscopy.org', user='public', password='public', port=4064)\n",
    "idr_base_url='https://idr.openmicroscopy.org'"
   ]
  },
  {
   "cell_type": "markdown",
   "metadata": {},
   "source": [
    "### Then we get a list of all the screens with human data"
   ]
  },
  {
   "cell_type": "code",
   "execution_count": 104,
   "metadata": {},
   "outputs": [
    {
     "name": "stdout",
     "output_type": "stream",
     "text": [
      "('The IDR identifiers for the screens with human genes are:', ['102', '253', '206', '251', '803', '1351', '1202', '1101', '1302', '1251', '1151', '1203', '1204', '1851', '1651', '1652', '1653', '1654', '1801', '1751', '1901', '1952'])\n"
     ]
    }
   ],
   "source": [
    "sid_list = get_organism_screenids(session, organism, idr_base_url)\n",
    "\n",
    "print (\"The IDR identifiers for the screens with human genes are:\", sid_list)"
   ]
  },
  {
   "cell_type": "markdown",
   "metadata": {},
   "source": [
    "### Go through each screen and find the genes associated with the selected phenotype"
   ]
  },
  {
   "cell_type": "code",
   "execution_count": 105,
   "metadata": {},
   "outputs": [
    {
     "name": "stdout",
     "output_type": "stream",
     "text": [
      "['ALS2', 'ARAP2', 'ARFGEF3', 'ARHGAP10', 'ARHGAP11A', 'ARHGAP17', 'ARHGAP18', 'ARHGAP20', 'ARHGAP27', 'ARHGAP30', 'ARHGAP31', 'ARHGAP33', 'ARHGAP39', 'ARHGAP4', 'ARHGEF11', 'ARHGEF12', 'ARHGEF15', 'ARHGEF16', 'ARHGEF2', 'ARHGEF25', 'ARHGEF28', 'ARHGEF38', 'ARHGEF5', 'ARHGEF7', 'ARHGEF9', 'CDC42', 'CHN2', 'DEF6', 'DOCK1', 'DOCK4', 'DOCK5', 'DOCK9', 'FAM13A', 'FARP2', 'FGD2', 'FGD3', 'FGD6', 'GMIP', 'HMHA1', 'IGDCC4', 'ITSN1', 'MCF2L2', 'NET1', 'OCRL', 'OPHN1', 'PLEKHG1', 'PLEKHG2', 'PLEKHG6', 'PLEKHG7', 'PREX2', 'RAC1', 'RAC2', 'RALBP1', 'RHOA', 'RHOC', 'RHOV', 'RND2', 'RND3', 'SRGAP3', 'SWAP70', 'SYDE2', 'TAGAP', 'VAV1', 'VAV3']\n"
     ]
    }
   ],
   "source": [
    "for i, sid in enumerate(set(sid_list)):\n",
    "    df = get_genes_for_phenotype(phenotype, conn, sid)\n",
    "    progress(i+1, len(set(sid_list)), status='Iterating through screens')\n",
    "    if df.empty:\n",
    "        continue\n",
    "\n",
    "    gene_list = []\n",
    "    for x in df.iloc[:, 0]:\n",
    "\n",
    "        key = x[0]\n",
    "        value = x[1]\n",
    "\n",
    "        if key == \"Gene Symbol\":\n",
    "            genesym = value\n",
    "            gene_list.append(genesym)\n",
    "    \n",
    "\n",
    "print gene_list"
   ]
  },
  {
   "cell_type": "markdown",
   "metadata": {},
   "source": [
    "### Now we can perform enrichment analysis on the the gene set associated with the phenotype \n",
    "It will find which terms are over-represented using annotations for that gene set.\n",
    "We are going to use the python package called GSEApy to do this.  It performs gene set enrichment analysis by calling the enrichr online api. See  http://pythonhosted.org/gseapy/run.html for more information about the package, and http://amp.pharm.mssm.edu/Enrichr/ for more information about Enrichr."
   ]
  },
  {
   "cell_type": "markdown",
   "metadata": {},
   "source": [
    "### Set which database to query \n",
    "You can pick on the list shown on this web page http://amp.pharm.mssm.edu/Enrichr/#stats\n",
    "\n",
    "Good ones to try are: <br>\n",
    "* GO_Cellular_Component_2017b\n",
    "* GO_Biological_Process_2017b\n",
    "* GO_Molecular_Function_2017b\n",
    "* Reactome_2016"
   ]
  },
  {
   "cell_type": "code",
   "execution_count": 107,
   "metadata": {
    "collapsed": true
   },
   "outputs": [],
   "source": [
    "databaseToQuery = 'GO_Cellular_Component_2017b'"
   ]
  },
  {
   "cell_type": "markdown",
   "metadata": {},
   "source": [
    "### Create a function to do the enrichment analysis and then print out the top 5 enriched categories"
   ]
  },
  {
   "cell_type": "code",
   "execution_count": 108,
   "metadata": {},
   "outputs": [
    {
     "name": "stdout",
     "output_type": "stream",
     "text": [
      "\u001b[1mquery genes:\u001b[0m\n"
     ]
    },
    {
     "data": {
      "text/html": [
       "<div>\n",
       "<style>\n",
       "    .dataframe thead tr:only-child th {\n",
       "        text-align: right;\n",
       "    }\n",
       "\n",
       "    .dataframe thead th {\n",
       "        text-align: left;\n",
       "    }\n",
       "\n",
       "    .dataframe tbody tr th {\n",
       "        vertical-align: top;\n",
       "    }\n",
       "</style>\n",
       "<table border=\"1\" class=\"dataframe\">\n",
       "  <thead>\n",
       "    <tr style=\"text-align: right;\">\n",
       "      <th></th>\n",
       "      <th>Term</th>\n",
       "      <th>Overlap</th>\n",
       "      <th>P-value</th>\n",
       "      <th>Adjusted P-value</th>\n",
       "      <th>Old P-value</th>\n",
       "      <th>Old Adjusted P-value</th>\n",
       "      <th>Z-score</th>\n",
       "      <th>Combined Score</th>\n",
       "      <th>Genes</th>\n",
       "    </tr>\n",
       "  </thead>\n",
       "  <tbody>\n",
       "    <tr>\n",
       "      <th>0</th>\n",
       "      <td>focal adhesion</td>\n",
       "      <td>7/356</td>\n",
       "      <td>0.000139</td>\n",
       "      <td>0.012901</td>\n",
       "      <td>9.608400e-07</td>\n",
       "      <td>0.000089</td>\n",
       "      <td>-3.045764</td>\n",
       "      <td>27.055581</td>\n",
       "      <td>CDC42;RAC2;ARHGEF2;RAC1;ARHGEF7;RND3;RHOA</td>\n",
       "    </tr>\n",
       "    <tr>\n",
       "      <th>2</th>\n",
       "      <td>chromatoid body</td>\n",
       "      <td>2/32</td>\n",
       "      <td>0.004700</td>\n",
       "      <td>0.141577</td>\n",
       "      <td>1.539217e-03</td>\n",
       "      <td>0.038897</td>\n",
       "      <td>-1.836405</td>\n",
       "      <td>9.843502</td>\n",
       "      <td>CDC42;RAC1</td>\n",
       "    </tr>\n",
       "    <tr>\n",
       "      <th>3</th>\n",
       "      <td>cytoplasmic ribonucleoprotein granule</td>\n",
       "      <td>2/32</td>\n",
       "      <td>0.004700</td>\n",
       "      <td>0.141577</td>\n",
       "      <td>1.539217e-03</td>\n",
       "      <td>0.038897</td>\n",
       "      <td>-1.835543</td>\n",
       "      <td>9.838881</td>\n",
       "      <td>CDC42;RAC1</td>\n",
       "    </tr>\n",
       "    <tr>\n",
       "      <th>4</th>\n",
       "      <td>P granule</td>\n",
       "      <td>2/37</td>\n",
       "      <td>0.006246</td>\n",
       "      <td>0.141577</td>\n",
       "      <td>2.022967e-03</td>\n",
       "      <td>0.038897</td>\n",
       "      <td>-1.923128</td>\n",
       "      <td>9.761333</td>\n",
       "      <td>CDC42;RAC1</td>\n",
       "    </tr>\n",
       "    <tr>\n",
       "      <th>5</th>\n",
       "      <td>actin filament branch point</td>\n",
       "      <td>2/45</td>\n",
       "      <td>0.009134</td>\n",
       "      <td>0.141577</td>\n",
       "      <td>2.927729e-03</td>\n",
       "      <td>0.038897</td>\n",
       "      <td>-1.920555</td>\n",
       "      <td>9.018449</td>\n",
       "      <td>RAC2;RAC1</td>\n",
       "    </tr>\n",
       "  </tbody>\n",
       "</table>\n",
       "</div>"
      ],
      "text/plain": [
       "                                    Term Overlap   P-value  Adjusted P-value  \\\n",
       "0  focal adhesion                         7/356   0.000139  0.012901           \n",
       "2  chromatoid body                        2/32    0.004700  0.141577           \n",
       "3  cytoplasmic ribonucleoprotein granule  2/32    0.004700  0.141577           \n",
       "4  P granule                              2/37    0.006246  0.141577           \n",
       "5  actin filament branch point            2/45    0.009134  0.141577           \n",
       "\n",
       "    Old P-value  Old Adjusted P-value   Z-score  Combined Score  \\\n",
       "0  9.608400e-07  0.000089             -3.045764  27.055581        \n",
       "2  1.539217e-03  0.038897             -1.836405  9.843502         \n",
       "3  1.539217e-03  0.038897             -1.835543  9.838881         \n",
       "4  2.022967e-03  0.038897             -1.923128  9.761333         \n",
       "5  2.927729e-03  0.038897             -1.920555  9.018449         \n",
       "\n",
       "                                       Genes  \n",
       "0  CDC42;RAC2;ARHGEF2;RAC1;ARHGEF7;RND3;RHOA  \n",
       "2  CDC42;RAC1                                 \n",
       "3  CDC42;RAC1                                 \n",
       "4  CDC42;RAC1                                 \n",
       "5  RAC2;RAC1                                  "
      ]
     },
     "metadata": {},
     "output_type": "display_data"
    }
   ],
   "source": [
    "def getenrichedterms(df, cutoff=0.05):\n",
    "    enrichedlist = []\n",
    "    for GOterm in df.iterrows():\n",
    "        pvalue = df.loc[int(GOterm[0]),'Adjusted P-value']\n",
    "        if pvalue <= cutoff:\n",
    "            term = df.loc[GOterm[0],'Term']\n",
    "            start1 = term.index('(')+1\n",
    "            end1 = term.index(')')\n",
    "            enrichedlist.append(term[start1:end1])\n",
    "    return enrichedlist\n",
    "\n",
    "    \n",
    "print '\\033[1m' + \"query genes:\" + '\\033[0m'\n",
    "enr = gp.enrichr(gene_list, gene_sets=databaseToQuery, cutoff=0.05, no_plot=False)\n",
    "gsea_results= enr.res2d\n",
    "gsea_results = gsea_results.sort_values('P-value', ascending=True)\n",
    "display(gsea_results.head())\n"
   ]
  },
  {
   "cell_type": "markdown",
   "metadata": {},
   "source": [
    "**Note** \n",
    "Information about the values in each column can be found here http://amp.pharm.mssm.edu/Enrichr/help#background\n",
    "\n",
    "    "
   ]
  },
  {
   "cell_type": "code",
   "execution_count": null,
   "metadata": {
    "collapsed": true
   },
   "outputs": [],
   "source": []
  }
 ],
 "metadata": {
  "kernelspec": {
   "display_name": "Python 2",
   "language": "python",
   "name": "python2"
  },
  "language_info": {
   "codemirror_mode": {
    "name": "ipython",
    "version": 2
   },
   "file_extension": ".py",
   "mimetype": "text/x-python",
   "name": "python",
   "nbconvert_exporter": "python",
   "pygments_lexer": "ipython2",
   "version": "2.7.13"
  }
 },
 "nbformat": 4,
 "nbformat_minor": 2
}
