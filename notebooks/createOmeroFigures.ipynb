{
 "cells": [
  {
   "cell_type": "markdown",
   "metadata": {},
   "source": [
    "# Script to create split view OMERO.figures for multi-dimensional OMERO images."
   ]
  },
  {
   "cell_type": "markdown",
   "metadata": {},
   "source": [
    "The following script will access the image created by the calculateSharpness script and create a split view OMERO.figure,\n",
    "\n",
    "Note: An OMERO.figure is simply a json file, which is attached as a file annotation to its source images in OMERO. \n",
    "\n",
    "The QC script does the following,\n",
    "\n",
    "1. Extracts Image/Images from OMERO (in this case IDR)\n",
    "2. Calculates the page dimensions and the panel spacing based on the source image dimesions.\n",
    "3. Constructs an OMERO figure json file from scratch.\n",
    "  * starts with a template json variable\n",
    "  * constructs the json for the panels and labels, adds them to the template json.\n",
    "  * creates a omero.figure.json file and attaches it to the source images (with the appropriate name space). \n",
    "4. In this example,\n",
    "  * creates a split-view figure of the heatmap image created by the calculateSharpness script."
   ]
  },
  {
   "cell_type": "markdown",
   "metadata": {},
   "source": [
    "# Workflow summary"
   ]
  },
  {
   "cell_type": "markdown",
   "metadata": {},
   "source": [
    "![Overview](../includes/HeatmapToFigure.jpg)"
   ]
  },
  {
   "cell_type": "markdown",
   "metadata": {},
   "source": [
    "***Import Packages***"
   ]
  },
  {
   "cell_type": "code",
   "execution_count": 1,
   "metadata": {},
   "outputs": [],
   "source": [
    "from omero.gateway import BlitzGateway\n",
    "from omeroweb.webgateway.marshal import imageMarshal\n",
    "import json\n",
    "from cStringIO import StringIO\n",
    "import omero\n",
    "from omero.rtypes import wrap, rlong\n",
    "from omero.gateway import OriginalFileWrapper"
   ]
  },
  {
   "cell_type": "markdown",
   "metadata": {},
   "source": [
    "***Import BlitzGateway***"
   ]
  },
  {
   "cell_type": "code",
   "execution_count": 2,
   "metadata": {
    "collapsed": true
   },
   "outputs": [],
   "source": [
    "from omero.gateway import BlitzGateway"
   ]
  },
  {
   "cell_type": "markdown",
   "metadata": {},
   "source": [
    "***Server credentials and plate identifier***"
   ]
  },
  {
   "cell_type": "code",
   "execution_count": 23,
   "metadata": {
    "collapsed": true
   },
   "outputs": [],
   "source": [
    "base_url = 'http://tadpole.openmicroscopy.org/figure/file'"
   ]
  },
  {
   "cell_type": "markdown",
   "metadata": {},
   "source": [
    "***Create connection***"
   ]
  },
  {
   "cell_type": "code",
   "execution_count": 3,
   "metadata": {},
   "outputs": [
    {
     "name": "stdout",
     "output_type": "stream",
     "text": [
      "Username: user-1\n",
      "OMERO Password: ········\n"
     ]
    }
   ],
   "source": [
    "from getpass import getpass\n",
    "readAnnotateConn = BlitzGateway(\n",
    "    raw_input(\"Username: \"), getpass(\"OMERO Password: \"),\n",
    "    host=\"tadpole.openmicroscopy.org\")\n",
    "readAnnotateConn.connect()\n",
    "readAnnotateConn.setSecure(True);\n",
    "readAnnotateConn.c.enableKeepAlive(300)"
   ]
  },
  {
   "cell_type": "markdown",
   "metadata": {},
   "source": [
    "***Omero image identifier, extract image dimensions***"
   ]
  },
  {
   "cell_type": "code",
   "execution_count": 5,
   "metadata": {},
   "outputs": [
    {
     "name": "stdout",
     "output_type": "stream",
     "text": [
      "0001-03--2005-08-01numpy image\n",
      "sizeX: 480\n",
      "sizeY: 320\n",
      "sizeC: 3\n",
      "sizeZ: 1\n",
      "sizeT: 1\n"
     ]
    }
   ],
   "source": [
    "image_id = 3318\n",
    "image = readAnnotateConn.getObject('image', image_id)\n",
    "size_x = image.getSizeX()\n",
    "size_y = image.getSizeY()\n",
    "size_c = image.getSizeC()\n",
    "size_z = image.getSizeZ()\n",
    "size_t = image.getSizeT()\n",
    "\n",
    "print image.getName()\n",
    "print \"sizeX:\", size_x\n",
    "print \"sizeY:\", size_y\n",
    "print \"sizeC:\", size_c\n",
    "print \"sizeZ:\", size_z\n",
    "print \"sizeT:\", size_t"
   ]
  },
  {
   "cell_type": "markdown",
   "metadata": {},
   "source": [
    "***Calculate page dimensions and spacing between panels based on image dimensions***"
   ]
  },
  {
   "cell_type": "code",
   "execution_count": 6,
   "metadata": {},
   "outputs": [
    {
     "name": "stdout",
     "output_type": "stream",
     "text": [
      "Page width: 213.75\n",
      "Page height: 47.5\n",
      "panel width: 48\n",
      "pandel height: 32\n",
      "X axis, spacing between panels: 9\n",
      "Y axis, spacing between panels: 6\n"
     ]
    }
   ],
   "source": [
    "width = size_x/10;\n",
    "height = size_y/10;\n",
    "spacing_x = size_x/50;\n",
    "spacing_y = size_y/50;\n",
    "page_width = (width + spacing_x) * (size_c) * 1.25\n",
    "page_height = (height + spacing_y) * (size_z) * 1.25\n",
    "\n",
    "print \"Page width:\", page_width\n",
    "print \"Page height:\", page_height\n",
    "print \"panel width:\", width\n",
    "print \"pandel height:\", height\n",
    "print \"X axis, spacing between panels:\", spacing_x\n",
    "print \"Y axis, spacing between panels:\", spacing_y\n"
   ]
  },
  {
   "cell_type": "markdown",
   "metadata": {},
   "source": [
    "***Namespace for figure (Do not Edit)***"
   ]
  },
  {
   "cell_type": "code",
   "execution_count": 7,
   "metadata": {
    "collapsed": true
   },
   "outputs": [],
   "source": [
    "JSON_FILEANN_NS = \"omero.web.figure.json\""
   ]
  },
  {
   "cell_type": "markdown",
   "metadata": {},
   "source": [
    "***Figure json starting template***"
   ]
  },
  {
   "cell_type": "code",
   "execution_count": 8,
   "metadata": {},
   "outputs": [
    {
     "name": "stdout",
     "output_type": "stream",
     "text": [
      "{'paper_width': 213.75, 'figureName': 'from script', 'version': 2, 'paper_height': 47.5, 'page_size': 'mm'}\n"
     ]
    }
   ],
   "source": [
    "figure_json = {\"version\":2,\n",
    "               \"paper_width\":page_width,\n",
    "               \"paper_height\":page_height,\n",
    "               \"page_size\":\"mm\",\n",
    "               \"figureName\":\"from script\",\n",
    "               }\n",
    "\n",
    "print figure_json"
   ]
  },
  {
   "cell_type": "markdown",
   "metadata": {},
   "source": [
    "***Methods for constructing panel and label json***"
   ]
  },
  {
   "cell_type": "code",
   "execution_count": 9,
   "metadata": {
    "collapsed": true
   },
   "outputs": [],
   "source": [
    "def get_panel_json(image_id, x, y, width, height, theZ, channel=None):\n",
    "\n",
    "    image = readAnnotateConn.getObject('Image', image_id)\n",
    "\n",
    "    rv = imageMarshal(image)\n",
    "\n",
    "    if channel is not None:\n",
    "        for idx, ch in enumerate(rv['channels']):\n",
    "            ch['active'] = idx == channel\n",
    "            # print ch['color']\n",
    "            ch['color'] = 'ffffff'\n",
    "\n",
    "    img_json = {\n",
    "        \"labels\":[],\n",
    "        \"height\": height,\n",
    "        \"channels\": rv['channels'],\n",
    "        \"width\": width,\n",
    "        \"sizeT\": rv['size']['t'],\n",
    "        \"sizeZ\": rv['size']['z'],\n",
    "        \"dx\":0,\n",
    "        \"dy\":0,\n",
    "        \"rotation\":0,\n",
    "        \"imageId\":image_id,\n",
    "        \"name\":\"438CTR_01_5_R3D_D3D.dv\",\n",
    "        \"orig_width\": rv['size']['width'],\n",
    "        \"zoom\":100,\n",
    "        \"shapes\":[],\n",
    "        \"orig_height\": rv['size']['height'],\n",
    "        \"theZ\": theZ,\n",
    "        \"y\": y,\n",
    "        \"x\": x,\n",
    "        \"theT\": rv['rdefs']['defaultT']\n",
    "    }\n",
    "    return img_json\n",
    "\n",
    "\n",
    "def get_labels_json(panel_json, column, row):\n",
    "\n",
    "    labels = []\n",
    "\n",
    "    channels = panel_json['channels']\n",
    "    if row == 0:\n",
    "        labels.append({\"text\":channels[column]['label'],\n",
    "                       \"size\":4,\n",
    "                       \"position\":\"top\",\n",
    "                       \"color\":\"000000\"\n",
    "                     })\n",
    "    if column == 0:\n",
    "        labels.append({\"text\": \"field %s\" % row,\n",
    "                       \"size\":4,\n",
    "                       \"position\":\"leftvert\",\n",
    "                       \"color\":\"000000\"\n",
    "                     })\n",
    "    return labels"
   ]
  },
  {
   "cell_type": "markdown",
   "metadata": {},
   "source": [
    "***Construct panel_json and add to figure_json template***"
   ]
  },
  {
   "cell_type": "code",
   "execution_count": 10,
   "metadata": {
    "scrolled": true
   },
   "outputs": [
    {
     "name": "stdout",
     "output_type": "stream",
     "text": [
      "{'figureName': 'from script', 'page_size': 'mm', 'version': 2, 'paper_height': 47.5, 'paper_width': 213.75, 'panels': [{'sizeT': 1L, 'shapes': [], 'theT': 0L, 'name': '438CTR_01_5_R3D_D3D.dv', 'orig_width': 480L, 'orig_height': 320L, 'labels': [{'color': '000000', 'text': u'0', 'position': 'top', 'size': 4}, {'color': '000000', 'text': 'field 0', 'position': 'leftvert', 'size': 4}], 'zoom': 100, 'sizeZ': 1L, 'height': 32L, 'channels': [{'color': 'ffffff', 'emissionWave': None, 'label': u'0', 'window': {'max': 35775.0, 'end': 35775.0, 'start': 0.0, 'min': 0.0}, 'active': True, 'reverseIntensity': False}, {'color': 'ffffff', 'emissionWave': None, 'label': u'1', 'window': {'max': 37518.0, 'end': 37518.0, 'start': 0.0, 'min': 0.0}, 'active': False, 'reverseIntensity': False}, {'color': 'ffffff', 'emissionWave': None, 'label': u'2', 'window': {'max': 44047.0, 'end': 44047.0, 'start': 0.0, 'min': 0.0}, 'active': False, 'reverseIntensity': False}], 'width': 48L, 'theZ': 0, 'dx': 0, 'dy': 0, 'y': 10L, 'x': 10L, 'rotation': 0, 'imageId': 3318}, {'sizeT': 1L, 'shapes': [], 'theT': 0L, 'name': '438CTR_01_5_R3D_D3D.dv', 'orig_width': 480L, 'orig_height': 320L, 'labels': [{'color': '000000', 'text': u'1', 'position': 'top', 'size': 4}], 'zoom': 100, 'sizeZ': 1L, 'height': 32L, 'channels': [{'color': 'ffffff', 'emissionWave': None, 'label': u'0', 'window': {'max': 35775.0, 'end': 35775.0, 'start': 0.0, 'min': 0.0}, 'active': False, 'reverseIntensity': False}, {'color': 'ffffff', 'emissionWave': None, 'label': u'1', 'window': {'max': 37518.0, 'end': 37518.0, 'start': 0.0, 'min': 0.0}, 'active': True, 'reverseIntensity': False}, {'color': 'ffffff', 'emissionWave': None, 'label': u'2', 'window': {'max': 44047.0, 'end': 44047.0, 'start': 0.0, 'min': 0.0}, 'active': False, 'reverseIntensity': False}], 'width': 48L, 'theZ': 0, 'dx': 0, 'dy': 0, 'y': 10L, 'x': 67L, 'rotation': 0, 'imageId': 3318}, {'sizeT': 1L, 'shapes': [], 'theT': 0L, 'name': '438CTR_01_5_R3D_D3D.dv', 'orig_width': 480L, 'orig_height': 320L, 'labels': [{'color': '000000', 'text': u'2', 'position': 'top', 'size': 4}], 'zoom': 100, 'sizeZ': 1L, 'height': 32L, 'channels': [{'color': 'ffffff', 'emissionWave': None, 'label': u'0', 'window': {'max': 35775.0, 'end': 35775.0, 'start': 0.0, 'min': 0.0}, 'active': False, 'reverseIntensity': False}, {'color': 'ffffff', 'emissionWave': None, 'label': u'1', 'window': {'max': 37518.0, 'end': 37518.0, 'start': 0.0, 'min': 0.0}, 'active': False, 'reverseIntensity': False}, {'color': 'ffffff', 'emissionWave': None, 'label': u'2', 'window': {'max': 44047.0, 'end': 44047.0, 'start': 0.0, 'min': 0.0}, 'active': True, 'reverseIntensity': False}], 'width': 48L, 'theZ': 0, 'dx': 0, 'dy': 0, 'y': 10L, 'x': 124L, 'rotation': 0, 'imageId': 3318}]}\n"
     ]
    }
   ],
   "source": [
    "curr_x = 0\n",
    "curr_y = 0\n",
    "panels_json = []\n",
    "column_count = 2\n",
    "offset = 10\n",
    "\n",
    "for c in range(image.getSizeC()):\n",
    "    curr_x = c * (width + spacing_x) + offset\n",
    "    for z in range(image.getSizeZ()):\n",
    "        curr_y = z * (height + spacing_y) + offset\n",
    "        j = get_panel_json(image_id, curr_x, curr_y, width, height, z, c)\n",
    "        j['labels'] = get_labels_json(j, c, z)\n",
    "        panels_json.append(j)\n",
    "\n",
    "figure_json['panels'] = panels_json\n",
    "\n",
    "print figure_json"
   ]
  },
  {
   "cell_type": "markdown",
   "metadata": {},
   "source": [
    "***Methods to create figure files, and to attach the same to the source images***"
   ]
  },
  {
   "cell_type": "code",
   "execution_count": 18,
   "metadata": {
    "collapsed": true
   },
   "outputs": [],
   "source": [
    "def create_figure_file(figure_json):\n",
    "\n",
    "    figure_name = figure_json['figureName']\n",
    "    if len(figure_json['panels']) == 0:\n",
    "        raise Exception('No Panels')\n",
    "    first_img_id = figure_json['panels'][0]['imageId']\n",
    "\n",
    "    # we store json in description field...\n",
    "    description = {}\n",
    "    description['name'] = figure_name\n",
    "    description['imageId'] = first_img_id\n",
    "\n",
    "    # Try to set Group context to the same as first image\n",
    "    readAnnotateConn.SERVICE_OPTS.setOmeroGroup('-1')\n",
    "    i = readAnnotateConn.getObject(\"Image\", first_img_id)\n",
    "    gid = i.getDetails().getGroup().getId()\n",
    "    readAnnotateConn.SERVICE_OPTS.setOmeroGroup(gid)\n",
    "\n",
    "    json_string = json.dumps(figure_json)\n",
    "    file_size = len(json_string)\n",
    "    f = StringIO()\n",
    "    # f.write(figure_json)\n",
    "    json.dump(figure_json, f)\n",
    "\n",
    "    update = readAnnotateConn.getUpdateService()\n",
    "    orig_file = create_original_file_from_file_obj(\n",
    "        f, '', figure_name, file_size, mimetype=\"application/json\")\n",
    "    fa = omero.model.FileAnnotationI()\n",
    "    fa.setFile(omero.model.OriginalFileI(orig_file.getId(), False))\n",
    "    fa.setNs(wrap(JSON_FILEANN_NS))\n",
    "    desc = json.dumps(description)\n",
    "    fa.setDescription(wrap(desc))\n",
    "    fa = update.saveAndReturnObject(fa, readAnnotateConn.SERVICE_OPTS)\n",
    "    file_id = fa.getId().getValue()\n",
    "\n",
    "    IMAGE_URL = \"{base}/{image_id}\"\n",
    "    image_url = IMAGE_URL.format(**{'base': base_url, 'image_id': file_id})\n",
    "    print \"Figure Created:\", image_url\n",
    "\n",
    "\n",
    "def create_original_file_from_file_obj(fo, path, name, file_size, mimetype=None):\n",
    "    \"\"\"\n",
    "    Creates and saves an OMERO OriginalFile from a file object\n",
    "    \"\"\"\n",
    "    raw_file_store = readAnnotateConn.createRawFileStore()\n",
    "\n",
    "    # create original file, set name, path, mimetype\n",
    "    original_file = omero.model.OriginalFileI()\n",
    "    original_file.setName(wrap(name))\n",
    "    original_file.setPath(wrap(path))\n",
    "    if mimetype:\n",
    "        original_file.mimetype = wrap(mimetype)\n",
    "    original_file.setSize(rlong(file_size))\n",
    "    # set sha1  # ONLY for OMERO-4\n",
    "    try:\n",
    "        import hashlib\n",
    "        hash_sha1 = hashlib.sha1\n",
    "    except:\n",
    "        import sha\n",
    "        hash_sha1 = sha.new\n",
    "    try:\n",
    "        fo.seek(0)\n",
    "        h = hash_sha1()\n",
    "        h.update(fo.read())\n",
    "        original_file.setSha1(wrap(h.hexdigest()))\n",
    "    except:\n",
    "        pass       # OMERO-5 doesn't need this\n",
    "    upd = readAnnotateConn.getUpdateService()\n",
    "    original_file = upd.saveAndReturnObject(original_file, readAnnotateConn.SERVICE_OPTS)\n",
    "\n",
    "    # upload file\n",
    "    fo.seek(0)\n",
    "    raw_file_store.setFileId(original_file.getId().getValue(),\n",
    "                             readAnnotateConn.SERVICE_OPTS)\n",
    "    buf = 10000\n",
    "    for pos in range(0, long(file_size), buf):\n",
    "        block = None\n",
    "        if file_size-pos < buf:\n",
    "            block_size = file_size-pos\n",
    "        else:\n",
    "            block_size = buf\n",
    "        fo.seek(pos)\n",
    "        block = fo.read(block_size)\n",
    "        raw_file_store.write(block, pos, block_size, readAnnotateConn.SERVICE_OPTS)\n",
    "    # https://github.com/openmicroscopy/openmicroscopy/pull/2006\n",
    "    original_file = raw_file_store.save(readAnnotateConn.SERVICE_OPTS)\n",
    "    raw_file_store.close()\n",
    "    return OriginalFileWrapper(readAnnotateConn, original_file)"
   ]
  },
  {
   "cell_type": "markdown",
   "metadata": {},
   "source": [
    "***Run method to create figure file***"
   ]
  },
  {
   "cell_type": "code",
   "execution_count": 24,
   "metadata": {},
   "outputs": [
    {
     "name": "stdout",
     "output_type": "stream",
     "text": [
      "Figure Created: http://tadpole.openmicroscopy.org/figure/file/660\n"
     ]
    }
   ],
   "source": [
    "create_figure_file(figure_json)"
   ]
  },
  {
   "cell_type": "markdown",
   "metadata": {},
   "source": [
    "***Close connection***"
   ]
  },
  {
   "cell_type": "code",
   "execution_count": null,
   "metadata": {
    "collapsed": true
   },
   "outputs": [],
   "source": [
    "conn.close()"
   ]
  }
 ],
 "metadata": {
  "kernelspec": {
   "display_name": "OMERO Python 2",
   "language": "python",
   "name": "python2"
  },
  "language_info": {
   "codemirror_mode": {
    "name": "ipython",
    "version": 2
   },
   "file_extension": ".py",
   "mimetype": "text/x-python",
   "name": "python",
   "nbconvert_exporter": "python",
   "pygments_lexer": "ipython2",
   "version": "2.7.13"
  }
 },
 "nbformat": 4,
 "nbformat_minor": 2
}
