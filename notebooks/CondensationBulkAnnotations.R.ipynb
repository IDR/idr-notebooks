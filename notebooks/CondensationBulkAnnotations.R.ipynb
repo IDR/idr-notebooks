{
 "cells": [
  {
   "cell_type": "markdown",
   "metadata": {},
   "source": [
    "# Condensation BulkAnnotations\n"
   ]
  },
  {
   "cell_type": "markdown",
   "metadata": {},
   "source": [
    "This notebook shows ...\n",
    "1. what the romero.gateway actually is. \n",
    "2. how to access/browse the data on the OMERO server.\n",
    "3. how to load and work with the meta data which can be attached to OME objects.\n",
    "4. how to request and plot thumbnails.\n",
    "\n",
    "It uses the data from [idr0002-heriche-condensation/screenA](http://10.0.51.164/webclient/?show=screen-102) (see also  [Integration of biological data by kernels on graph nodes allows prediction of new genes involved in mitotic chromosome condensation](http://www.molbiolcell.org/content/25/16/2522)) which is hosted on an IDR clone running the latest 5.3 version of OMERO.\n",
    "\n",
    "- Article is about a software for predicting functional relationships of genes.\n",
    "- The screen is the experimental validation of 100 predicted novel candidate genes involved in mitotic chromosome condensation.\n",
    "- RNA interference: 2 siRNA per gene with 4 replicates, i.e. 8 samples per gene.\n",
    "- Screen with 12 96-Well plates, 2 channel timelapse images with 329 time points at 8.5 min, e. g. [CDC20](http://10.0.51.164/webclient/img_detail/250083/).\n",
    "- Authors measured length of prophase (CellCognition), calculated a 'Short' and a 'Long' prophase score.\n",
    "- 'Short'/'Long' prophase score > threshold --> 'Short'/'Long' prophase phenotype. More than two Short or Long phenotype replicates --> Gene is involved in mitotic chromosome condensation\n",
    "\n",
    "The notebook only accesses this data, make some plots, etc. to show how one can interact with OMERO from R. The notebook does not re-analyse the study.\n"
   ]
  },
  {
   "cell_type": "markdown",
   "metadata": {},
   "source": [
    "# The romero.gateway package"
   ]
  },
  {
   "cell_type": "markdown",
   "metadata": {},
   "source": [
    "- The [romero.gateway](https://github.com/ome/rOMERO-gateway) is an R library which builds on top of the [OMERO Java Gateway](http://downloads.openmicroscopy.org/omero/5.3.2/api/omero/gateway/Gateway.html). The current version uses the latest OMERO 5.3.3 Snapshot libraries.\n",
    "- It makes heavy use of the [rJava](https://www.rforge.net/rJava/) library to 'translate' between Java and R\n",
    "- Provides various methods to request from and write data to an OMERO server"
   ]
  },
  {
   "cell_type": "markdown",
   "metadata": {},
   "source": [
    "![Overview](../includes/romero_overview_2.png)"
   ]
  },
  {
   "cell_type": "markdown",
   "metadata": {},
   "source": [
    "## Load the romero.gateway library"
   ]
  },
  {
   "cell_type": "code",
   "execution_count": 1,
   "metadata": {
    "scrolled": true
   },
   "outputs": [
    {
     "name": "stderr",
     "output_type": "stream",
     "text": [
      "Loading required package: rJava\n",
      "Loading required package: jpeg\n",
      "Warning message:\n",
      "“replacing previous import ‘rJava::tail’ by ‘utils::tail’ when loading ‘romero.gateway’”Warning message:\n",
      "“replacing previous import ‘rJava::str’ by ‘utils::str’ when loading ‘romero.gateway’”Warning message:\n",
      "“replacing previous import ‘rJava::head’ by ‘utils::head’ when loading ‘romero.gateway’”\n",
      "*** Welcome to rOMERO ***\n",
      "\n"
     ]
    }
   ],
   "source": [
    "library(romero.gateway)"
   ]
  },
  {
   "cell_type": "markdown",
   "metadata": {},
   "source": [
    "## Connect to the server"
   ]
  },
  {
   "cell_type": "code",
   "execution_count": 2,
   "metadata": {
    "scrolled": true
   },
   "outputs": [],
   "source": [
    "server <- OMEROServer(host = Sys.getenv('IDR_HOST'), username = Sys.getenv('IDR_USER'), password = Sys.getenv('IDR_PASSWORD'), port = as.integer(4064))\n",
    "ome <- connect(server)"
   ]
  },
  {
   "cell_type": "markdown",
   "metadata": {},
   "source": [
    "## Example 1: Access/Browse data"
   ]
  },
  {
   "cell_type": "markdown",
   "metadata": {},
   "source": [
    "### Load screen: idr0002-heriche-condensation/screenA "
   ]
  },
  {
   "cell_type": "code",
   "execution_count": 3,
   "metadata": {
    "scrolled": true
   },
   "outputs": [
    {
     "name": "stdout",
     "output_type": "stream",
     "text": [
      "[1] \"idr0002-heriche-condensation/screenA\"\n"
     ]
    }
   ],
   "source": [
    "searchResult <- searchFor(ome, Screen, 'Name', '\"idr0002-heriche-condensation/screenA\"')\n",
    "screen <- searchResult[[1]]\n",
    "print(screen@dataobject$getName())"
   ]
  },
  {
   "cell_type": "markdown",
   "metadata": {},
   "source": [
    "If necessary one can always get direct access to the underlying Java object via '@dataobject'"
   ]
  },
  {
   "cell_type": "markdown",
   "metadata": {},
   "source": [
    "### 'Browse' through the data\n",
    "For example load some plates, wells, etc.\n",
    "(You can do the same with Projects/Datasets hierarchy accordingly)"
   ]
  },
  {
   "cell_type": "code",
   "execution_count": 4,
   "metadata": {
    "scrolled": true
   },
   "outputs": [
    {
     "name": "stdout",
     "output_type": "stream",
     "text": [
      "[1] \"plate2_5_015\"\n",
      "[1] \"plate1_2_006\"\n",
      "[1] \"Well: 6 , 1\"\n"
     ]
    }
   ],
   "source": [
    "plates <- getPlates(screen)\n",
    "plate1 <- plates[[1]]\n",
    "plate2 <- plates[[2]]\n",
    "\n",
    "wells <- getWells(plate1)\n",
    "well <- wells[[1]]\n",
    "\n",
    "print(plate1@dataobject$getName())\n",
    "print(plate2@dataobject$getName())\n",
    "print(paste('Well:', well@dataobject$getColumn(), ',', well@dataobject$getRow()))"
   ]
  },
  {
   "cell_type": "markdown",
   "metadata": {},
   "source": [
    "## Example 2: Working with the meta data"
   ]
  },
  {
   "cell_type": "markdown",
   "metadata": {},
   "source": [
    "### Get information about the meta data attached to the screen\n",
    "\n",
    "We are particularily interested in the file id of the 'bulk_annotations' file which is necessary for loading the meta data."
   ]
  },
  {
   "cell_type": "code",
   "execution_count": 5,
   "metadata": {
    "scrolled": true
   },
   "outputs": [
    {
     "name": "stdout",
     "output_type": "stream",
     "text": [
      "[1] 14209155\n"
     ]
    }
   ],
   "source": [
    "annos <- getAnnotations(ome, 'ScreenData', getOMEROID(screen), nameFilter = 'bulk_annotations')\n",
    "annotationFileID = as.integer(annos$FileID)\n",
    "print(annotationFileID)"
   ]
  },
  {
   "cell_type": "markdown",
   "metadata": {},
   "source": [
    "As the 'bulk_annotations' file is an HDF file, we can request its content directly as R dataframe. Keep in mind that it could be a huge table and only request the data you need. The loadDataframe method provides ways to perform a query or only load specific rows/columns of the table.\n",
    "But first get a summary of its content:"
   ]
  },
  {
   "cell_type": "code",
   "execution_count": 16,
   "metadata": {
    "scrolled": false
   },
   "outputs": [
    {
     "ename": "ERROR",
     "evalue": "Error in .jcall(\"RJavaTools\", \"Ljava/lang/Object;\", \"invokeMethod\", cl, : omero.gateway.exception.DSAccessException: Cannot access data. \nCould not load table data\n",
     "output_type": "error",
     "traceback": [
      "Error in .jcall(\"RJavaTools\", \"Ljava/lang/Object;\", \"invokeMethod\", cl, : omero.gateway.exception.DSAccessException: Cannot access data. \nCould not load table data\nTraceback:\n",
      "1. describeDataframe(screen, annotationFileID)",
      "2. describeDataframe(screen, annotationFileID)",
      "3. fac$getTableInfo(ctx, .jlong(id))",
      "4. .jrcall(x, name, ...)",
      "5. .jcall(\"RJavaTools\", \"Ljava/lang/Object;\", \"invokeMethod\", cl, \n .     .jcast(if (inherits(o, \"jobjRef\") || inherits(o, \"jarrayRef\")) o else cl, \n .         \"java/lang/Object\"), .jnew(\"java/lang/String\", method), \n .     j_p, j_pc, use.true.class = TRUE, evalString = simplify, \n .     evalArray = FALSE)",
      "6. .jcheck(silent = FALSE)"
     ]
    }
   ],
   "source": [
    "describeDataframe(screen, annotationFileID)"
   ]
  },
  {
   "cell_type": "markdown",
   "metadata": {},
   "source": [
    "### Get data matching a certain condition"
   ]
  },
  {
   "cell_type": "markdown",
   "metadata": {},
   "source": [
    "E. g. load data for plate 1:"
   ]
  },
  {
   "cell_type": "code",
   "execution_count": 6,
   "metadata": {
    "scrolled": true
   },
   "outputs": [
    {
     "ename": "ERROR",
     "evalue": "Error in loadDataframe(screen, annotationFileID, condition = condition): attempt to apply non-function\n",
     "output_type": "error",
     "traceback": [
      "Error in loadDataframe(screen, annotationFileID, condition = condition): attempt to apply non-function\nTraceback:\n",
      "1. loadDataframe(screen, annotationFileID, condition = condition)",
      "2. loadDataframe(screen, annotationFileID, condition = condition)"
     ]
    }
   ],
   "source": [
    "condition <- paste0('(Plate==',getOMEROID(plate1),')')\n",
    "df1 <- loadDataframe(screen, annotationFileID, condition = condition)\n",
    "nrow(df1)"
   ]
  },
  {
   "cell_type": "markdown",
   "metadata": {},
   "source": [
    "### Load specific columns"
   ]
  },
  {
   "cell_type": "markdown",
   "metadata": {},
   "source": [
    "Only load the data we're interested in (the `bulk_annotations` table can be huge), in that case Plate, Well, Gene, siRNA, Control, Quality Control, Short Prophase Score, Long Prophase Score, Short Prophase and Long Prophase reproducibility:"
   ]
  },
  {
   "cell_type": "code",
   "execution_count": null,
   "metadata": {
    "scrolled": true
   },
   "outputs": [],
   "source": [
    "# Only load first row, we're just interested in the column headers\n",
    "tmp <- loadDataframe(screen, annotationFileID, rowFrom = 1, rowTo = 1)\n",
    "\n",
    "# Specify which columns to load\n",
    "cols <- which(names(tmp) == \"Plate\")\n",
    "cols <- c(cols, which(names(tmp) == \"Well\"))\n",
    "cols <- c(cols, which(names(tmp) == \"Well Name\"))\n",
    "cols <- c(cols, which(names(tmp) == \"Gene Symbol\"))\n",
    "cols <- c(cols, which(names(tmp) == \"siRNA Identifier\"))\n",
    "cols <- c(cols, which(names(tmp) == \"Control Type\"))\n",
    "cols <- c(cols, which(names(tmp) == \"Quality Control\"))\n",
    "cols <- c(cols, which(names(tmp) == \"Median Deviation Fraction - Shorter Prophase\"))\n",
    "cols <- c(cols, which(names(tmp) == \"Median Deviation Fraction - Longer Prophase\"))\n",
    "cols <- c(cols, which(names(tmp) == \"Phenotype Reproducibility - Shorter Prophase\"))\n",
    "cols <- c(cols, which(names(tmp) == \"Phenotype Reproducibility - Longer Prophase\"))\n",
    "\n",
    "df3 <- loadDataframe(screen, annotationFileID, columns = cols)"
   ]
  },
  {
   "cell_type": "markdown",
   "metadata": {},
   "source": [
    "Do some reformatting again:"
   ]
  },
  {
   "cell_type": "code",
   "execution_count": null,
   "metadata": {
    "scrolled": false
   },
   "outputs": [],
   "source": [
    "# Replace the long column names with shorter ones\n",
    "names(df3)[names(df3) == 'Plate'] <- 'plateID'\n",
    "names(df3)[names(df3) == 'Well'] <- 'wellID'\n",
    "names(df3)[names(df3) == 'Well Name'] <- 'well'\n",
    "names(df3)[names(df3) == 'Control Type'] <- 'control'\n",
    "names(df3)[names(df3) == 'siRNA Identifier'] <- 'siRNA'\n",
    "names(df3)[names(df3) == 'Gene Symbol'] <- 'gene'\n",
    "names(df3)[names(df3) == 'Quality Control'] <- 'qc'\n",
    "names(df3)[names(df3) == 'Median Deviation Fraction - Shorter Prophase'] <- 'devShort'\n",
    "names(df3)[names(df3) == 'Median Deviation Fraction - Longer Prophase'] <- 'devLong'\n",
    "names(df3)[names(df3) == 'Phenotype Reproducibility - Shorter Prophase'] <- 'repShort'\n",
    "names(df3)[names(df3) == 'Phenotype Reproducibility - Longer Prophase'] <- 'repLong'\n",
    "\n",
    "# Reformat the data, e.g. replace empty data with NA\n",
    "df3$siRNA[ df3$siRNA == \"\" ] <- NA\n",
    "df3$gene[ df3$gene == \"\" ] <- NA\n",
    "df3[ df3 == \"positive control\" ] <- 'positive'\n",
    "df3[ df3 == \"negative control\" ] <- 'negativ'\n",
    "df3$control[ df3$control == \"\" ] <- 'no'\n",
    "df3$control[ df3$control == \"empty well\" ] <- NA\n",
    "df3[ df3 == \"not available\" ] <- NA\n",
    "df3$devShort[ df3$devShort == \"\" ] <- 0\n",
    "df3$devLong[ df3$devLong == \"\" ] <- 0\n",
    "df3$plateID <- gsub('omero\\\\.gateway\\\\.model\\\\.PlateData \\\\(id=', \"\", df3$plateID)\n",
    "df3$plateID <- gsub('\\\\)', \"\", df3$plateID)\n",
    "df3$wellID <- gsub('omero\\\\.gateway\\\\.model\\\\.WellSampleData \\\\(id=', \"\", df3$wellID)\n",
    "df3$wellID <- gsub('\\\\)', \"\", df3$wellID)\n",
    "\n",
    "# Set the correct data type\n",
    "df3$control <- as.factor(as.character(df3$control))\n",
    "df3$siRNA <- as.factor(as.character(df3$siRNA))\n",
    "df3$gene <- as.factor(as.character(df3$gene))\n",
    "df3$devShort <- as.numeric(as.character(df3$devShort))\n",
    "df3$devLong <- as.numeric(as.character(df3$devLong))\n",
    "df3$repShort <- as.numeric(substr(as.character(df3$repShort), 1, 1))\n",
    "df3$repLong <- as.numeric(substr(as.character(df3$repLong), 1, 1))\n",
    "df3$qc <- as.factor(as.character(df3$qc))\n",
    "df3$well <- as.factor(as.character(df3$well))\n",
    "\n",
    "df3"
   ]
  },
  {
   "cell_type": "markdown",
   "metadata": {},
   "source": [
    "You can request some basic information about the screen, e. g. how many controls and samples there are\n",
    "('control == no' means sample), how many samples per gene, etc.:"
   ]
  },
  {
   "cell_type": "code",
   "execution_count": null,
   "metadata": {
    "scrolled": true
   },
   "outputs": [],
   "source": [
    "library(plyr)\n",
    "count (df3$control)"
   ]
  },
  {
   "cell_type": "code",
   "execution_count": null,
   "metadata": {
    "scrolled": false
   },
   "outputs": [],
   "source": [
    "as.data.frame(count (df3$gene))"
   ]
  },
  {
   "cell_type": "markdown",
   "metadata": {},
   "source": [
    "Some quality assessment:"
   ]
  },
  {
   "cell_type": "markdown",
   "metadata": {},
   "source": [
    "Is there a relationship between quality control and well position?"
   ]
  },
  {
   "cell_type": "code",
   "execution_count": null,
   "metadata": {
    "scrolled": false
   },
   "outputs": [],
   "source": [
    "as.data.frame(table(df3$well, df3$qc))\n",
    "chisq.test(df3$qc, df3$well)"
   ]
  },
  {
   "cell_type": "code",
   "execution_count": null,
   "metadata": {},
   "outputs": [],
   "source": [
    "library(ggplot2)\n",
    "fails <- as.data.frame(table(df3$well, df3$qc))\n",
    "fails <- subset(fails, fails$Var2 == 'fail')\n",
    "fails$Freq <- fails$Freq / 12 * 100\n",
    "p <- ggplot(fails, aes(x = fails$Var1, y = fails$Freq))\n",
    "p <- p + geom_bar(stat=\"identity\")\n",
    "p <- p + labs(y = \"QC Fail (%)\")\n",
    "p <- p + labs(x = \"Well\")\n",
    "p <- p + theme(text = element_text(size=7))\n",
    "p <- p + coord_flip()\n",
    "p"
   ]
  },
  {
   "cell_type": "markdown",
   "metadata": {},
   "source": [
    "Is there a relationship between quality control and gene?"
   ]
  },
  {
   "cell_type": "code",
   "execution_count": null,
   "metadata": {
    "scrolled": false
   },
   "outputs": [],
   "source": [
    "as.data.frame(table(df3$gene, df3$qc))"
   ]
  },
  {
   "cell_type": "code",
   "execution_count": null,
   "metadata": {
    "scrolled": false
   },
   "outputs": [],
   "source": [
    "fails <- as.data.frame(table(df3$gene, df3$qc))\n",
    "fails <- subset(fails, fails$Var2 == 'fail')\n",
    "fails$Freq[fails$Var1 == 'INCENP']  <- NA\n",
    "fails$Freq[fails$Var1 == 'CDC20']  <- NA\n",
    "fails$Freq <- fails$Freq / 8 * 100\n",
    "p <- ggplot(fails, aes(x = fails$Var1, y = fails$Freq))\n",
    "p <- p + geom_bar(stat=\"identity\")\n",
    "p <- p + labs(y = \"QC Fail (%)\")\n",
    "p <- p + labs(x = \"Gene\")\n",
    "p <- p + theme(text = element_text(size=7))\n",
    "p <- p + coord_flip()\n",
    "p"
   ]
  },
  {
   "cell_type": "markdown",
   "metadata": {},
   "source": [
    "### Replicate some of the articles figures"
   ]
  },
  {
   "cell_type": "markdown",
   "metadata": {},
   "source": [
    "The authors postulate, that a gene is considered as being involved in mitotic chromosome condensation, when either its\n",
    "short or its long prophase phenotype showed up in at least two replicates.\n",
    "Extract the 'short' and the 'long' phenotype genes:"
   ]
  },
  {
   "cell_type": "code",
   "execution_count": null,
   "metadata": {
    "scrolled": true
   },
   "outputs": [],
   "source": [
    "dfLongProphase <- subset(df3, df3$repLong > 1)\n",
    "longProphaseGenes <-  as.list(as.character(count(dfLongProphase$gene)$x))\n",
    "print('Hits with long prophase:')\n",
    "paste(longProphaseGenes)\n",
    "\n",
    "dfShortProphase <- subset(df3, df3$repShort > 1)\n",
    "shortProphaseGenes <-  as.list(as.character(count(dfShortProphase$gene)$x))\n",
    "print('Hits with short prophase:')\n",
    "paste(shortProphaseGenes)"
   ]
  },
  {
   "cell_type": "markdown",
   "metadata": {},
   "source": [
    "Why is SEP15_HUMAN in both lists but it is not in the artice (Table 2)?"
   ]
  },
  {
   "cell_type": "code",
   "execution_count": null,
   "metadata": {
    "scrolled": false
   },
   "outputs": [],
   "source": [
    "sep15 <- subset(df3, df3$gene == 'SEP15_HUMAN')\n",
    "sep15\n",
    "summary(sep15)"
   ]
  },
  {
   "cell_type": "markdown",
   "metadata": {},
   "source": [
    "--> It's just been forgotten to add to the table in the article. See also [MitoSys database](http://www.mitosys.org/cgi-bin/mtc?query=SEP15_HUMAN&query_type=genes)"
   ]
  },
  {
   "cell_type": "markdown",
   "metadata": {},
   "source": [
    "Replicate the Figures 3B and 3C of the paper:"
   ]
  },
  {
   "cell_type": "code",
   "execution_count": null,
   "metadata": {
    "scrolled": false
   },
   "outputs": [],
   "source": [
    "# Only want to plot the mean of the short prophase scores,\n",
    "# remove NAs and aggregate dataset\n",
    "data <- subset(df3, !is.na(df3$devShort))\n",
    "scores <- aggregate(data$devShort, list(gene = factor(data$gene)), FUN='mean')\n",
    "\n",
    "# Sort the scores dataframe with respect to the score\n",
    "scores <- scores[order(-scores$x),]\n",
    "scores$gene <- factor(scores$gene, levels = scores$gene[order(-scores$x)])\n",
    "\n",
    "# Extract the verified short prohase genes (for marking them in the plot)\n",
    "scoresShort <- subset(scores, scores$gene %in% shortProphaseGenes)\n",
    "\n",
    "p <- ggplot(scores, aes(x = scores$gene, y = scores$x))\n",
    "p <- p + geom_bar(stat=\"identity\") \n",
    "p <- p + geom_bar(stat=\"identity\", data = scoresShort, aes(x = scoresShort$gene, y = scoresShort$x), fill = \"magenta\")\n",
    "p <-p  + theme(axis.text.x = element_text(angle = 90, hjust = 1))\n",
    "p <- p + labs(y = \"Short prophase score\")\n",
    "p <- p + labs(x = \"Gene\")\n",
    "p <- p + theme(text = element_text(size=7))\n",
    "p\n",
    "\n",
    "scoresShort"
   ]
  },
  {
   "cell_type": "markdown",
   "metadata": {},
   "source": [
    "The second plot for the 'long prophase' genes:"
   ]
  },
  {
   "cell_type": "code",
   "execution_count": null,
   "metadata": {
    "scrolled": false
   },
   "outputs": [],
   "source": [
    "# Only want to plot the mean of the long prophase scores,\n",
    "# remove NAs and aggregate dataset\n",
    "data <- subset(df3, !is.na(df3$devLong))\n",
    "scores <- aggregate(data$devLong, list(gene = factor(data$gene)), FUN='mean')\n",
    "\n",
    "# Sort the scores dataframe with respect to the score\n",
    "scores <- scores[order(-scores$x),]\n",
    "scores$gene <- factor(scores$gene, levels = scores$gene[order(-scores$x)])\n",
    "\n",
    "# Extract the verified long prohase genes (for marking them in the plot)\n",
    "scoresLong <- subset(scores, scores$gene %in% longProphaseGenes)\n",
    "\n",
    "p <- ggplot(scores, aes(x = scores$gene, y = scores$x))\n",
    "p <- p + geom_bar(stat=\"identity\") \n",
    "p <- p + geom_bar(stat=\"identity\", data = scoresLong, aes(x = scoresLong$gene, y = scoresLong$x), fill = \"magenta\")\n",
    "p <-p  + theme(axis.text.x = element_text(angle = 90, hjust = 1))\n",
    "p <- p + labs(y = \"Long prophase score\")\n",
    "p <- p + labs(x = \"Gene\")\n",
    "p <- p + theme(text = element_text(size=7))\n",
    "p\n",
    "\n",
    "scoresLong"
   ]
  },
  {
   "cell_type": "markdown",
   "metadata": {},
   "source": [
    "## Example 3: Plotting thumbnails"
   ]
  },
  {
   "cell_type": "markdown",
   "metadata": {},
   "source": [
    "##### Plot the thumbnails of all images where gene 'SEP15_HUMAN' has been silenced.\n",
    "\n",
    "First define a function for requesting and plotting a single thumbnail:"
   ]
  },
  {
   "cell_type": "code",
   "execution_count": null,
   "metadata": {
    "collapsed": true,
    "scrolled": true
   },
   "outputs": [],
   "source": [
    "plotThumb <- function(df) {\n",
    "  wellid <- df[[2]]\n",
    "  well <- loadObject(ome, \"WellData\", wellid)\n",
    "  image <- getImages(well, fieldIndex = 0)\n",
    "  thumb <- getThumbnail(image)\n",
    "  \n",
    "  omewell <- well@dataobject\n",
    "  omeplate <- omewell$getPlate()\n",
    "  label <- paste0(omeplate$getName(), ' [', omewell$getColumn(), ',',omewell$getRow(), ']')\n",
    "  \n",
    "  plot(0:1,0:1,type=\"n\",ann=FALSE,axes=FALSE)\n",
    "  title(label)\n",
    "  rasterImage(thumb,0,0,1,1)\n",
    "}"
   ]
  },
  {
   "cell_type": "markdown",
   "metadata": {},
   "source": [
    "Then iterate over the 'SEP15_HUMAN' dataframe and plot the thumbnails:"
   ]
  },
  {
   "cell_type": "code",
   "execution_count": null,
   "metadata": {
    "scrolled": false
   },
   "outputs": [],
   "source": [
    "par(mfrow=c(3,3))\n",
    "apply(sep15, 1, plotThumb)"
   ]
  },
  {
   "cell_type": "markdown",
   "metadata": {},
   "source": [
    "## Disconnect again from the OMERO server"
   ]
  },
  {
   "cell_type": "code",
   "execution_count": null,
   "metadata": {
    "collapsed": true,
    "scrolled": true
   },
   "outputs": [],
   "source": [
    "ome <- disconnect(ome)"
   ]
  }
 ],
 "metadata": {
  "kernelspec": {
   "display_name": "R",
   "language": "R",
   "name": "ir"
  },
  "language_info": {
   "codemirror_mode": "r",
   "file_extension": ".r",
   "mimetype": "text/x-r-source",
   "name": "R",
   "pygments_lexer": "r",
   "version": "3.4.1"
  }
 },
 "nbformat": 4,
 "nbformat_minor": 2
}
