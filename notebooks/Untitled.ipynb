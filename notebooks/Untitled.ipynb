{
 "cells": [
  {
   "cell_type": "markdown",
   "metadata": {},
   "source": [
    "# Get phenotypes associated with a list of genes"
   ]
  },
  {
   "cell_type": "code",
   "execution_count": 21,
   "metadata": {
    "collapsed": true
   },
   "outputs": [],
   "source": [
    "import json\n",
    "import csv"
   ]
  },
  {
   "cell_type": "code",
   "execution_count": 22,
   "metadata": {
    "collapsed": true
   },
   "outputs": [],
   "source": [
    "import requests\n",
    "\n",
    "INDEX_PAGE = \"http://idr-demo.openmicroscopy.org/webclient/?experimenter=-1\"\n",
    "\n",
    "# create http session\n",
    "with requests.Session() as session:\n",
    "    request = requests.Request('GET', INDEX_PAGE)\n",
    "    prepped = session.prepare_request(request)\n",
    "    response = session.send(prepped)\n",
    "    if response.status_code != 200:\n",
    "        response.raise_for_status()"
   ]
  },
  {
   "cell_type": "code",
   "execution_count": 23,
   "metadata": {
    "collapsed": false
   },
   "outputs": [
    {
     "data": {
      "text/plain": [
       "['PSMA1', 'PSMA2', 'PSMA5', 'PREX2', 'NOTAGENE']"
      ]
     },
     "execution_count": 23,
     "metadata": {},
     "output_type": "execute_result"
    }
   ],
   "source": [
    "with open('FiveExampleGenes.txt') as f:\n",
    "    genes = f.read().splitlines()\n",
    "genes[:5]"
   ]
  },
  {
   "cell_type": "code",
   "execution_count": 24,
   "metadata": {
    "collapsed": true
   },
   "outputs": [],
   "source": [
    "SCREENS_PROJECTS_URL = \"http://idr-demo.openmicroscopy.org/mapr/api/{key}/?value={value}\"\n",
    "PLATES_URL = \"http://idr-demo.openmicroscopy.org/mapr/api/{key}/plates/?value={value}&id={screen_id}\"\n",
    "IMAGES_URL = \"http://idr-demo.openmicroscopy.org/mapr/api/{key}/images/?value={value}&node={parent_type}&id={parent_id}\"\n",
    "ATTRIBUTES_URL = \"http://idr-demo.openmicroscopy.org/webclient/api/annotations/?type=map&image={image_id}\""
   ]
  },
  {
   "cell_type": "code",
   "execution_count": 49,
   "metadata": {
    "collapsed": false
   },
   "outputs": [],
   "source": [
    "attr_type = \"gene\"\n",
    "attr_keys = {\n",
    "    \"phenotype\":\n",
    "        (\"Phenotype\",\n",
    "         \"Phenotype Term Name\",\n",
    "         \"Phenotype Term Accession\",\n",
    "         \"Phenotype Term Accession URL\")\n",
    "}\n",
    "\n",
    "with open('GenesWithPhenotypes.csv','w') as csvfile:\n",
    "    fieldnames = [\n",
    "        'Gene Symbol', 'Screen', 'Plate', 'Image',\n",
    "        'Phenotype', 'Phenotype Term Name', 'Phenotype Term Accession',\n",
    "        'Phenotype Term Accession URL']\n",
    "    writer = csv.DictWriter(csvfile, fieldnames=fieldnames)\n",
    "\n",
    "    writer.writeheader()\n",
    "\n",
    "    for gene in genes:\n",
    "        #f.write ('{0}'.format(gene))\n",
    "        qs1 = {'key': attr_type, 'value': gene}\n",
    "        url1 = SCREENS_PROJECTS_URL.format(**qs1)\n",
    "\n",
    "        for s in session.get(url1).json()['screens']:\n",
    "            screen_id = s['id']\n",
    "            screen_name = s['name']\n",
    "            #print (gene, s['id'], s['name'])    \n",
    "            qs2 = {'key': attr_type, 'value': gene, 'screen_id': screen_id}\n",
    "            url2 = PLATES_URL.format(**qs2)\n",
    "\n",
    "            for p in session.get(url2).json()['plates']:\n",
    "                plate_id = p['id'] \n",
    "                plate_name = p['name']\n",
    "                qs3 = {'key': attr_type, 'value': gene, 'parent_type': 'plate', 'parent_id': plate_id}\n",
    "                url3 = IMAGES_URL.format(**qs3)\n",
    "\n",
    "                for i in session.get(url3).json()['images']:\n",
    "\n",
    "                    image_id = i['id']\n",
    "                    url4 = ATTRIBUTES_URL.format(**{'image_id': image_id})\n",
    "                    for a in session.get(url4).json()['annotations']:\n",
    "                        row = {}\n",
    "                        for v in a['values']:\n",
    "                            if str(v[0]) in attr_keys['phenotype']:\n",
    "                                if str(v[0]) not in row:\n",
    "                                    row[str(v[0])] = v[1]\n",
    "                        if row:\n",
    "                            row.update({'Gene Symbol': gene, 'Screen': screen_id,\n",
    "                                        'Plate': plate_id, 'Image': image_id})\n",
    "                            writer.writerow(row)\n",
    "                         \n"
   ]
  },
  {
   "cell_type": "code",
   "execution_count": null,
   "metadata": {
    "collapsed": true
   },
   "outputs": [],
   "source": []
  }
 ],
 "metadata": {
  "kernelspec": {
   "display_name": "Python 2",
   "language": "python",
   "name": "python2"
  },
  "language_info": {
   "codemirror_mode": {
    "name": "ipython",
    "version": 2
   },
   "file_extension": ".py",
   "mimetype": "text/x-python",
   "name": "python",
   "nbconvert_exporter": "python",
   "pygments_lexer": "ipython2",
   "version": "2.7.10"
  }
 },
 "nbformat": 4,
 "nbformat_minor": 1
}
