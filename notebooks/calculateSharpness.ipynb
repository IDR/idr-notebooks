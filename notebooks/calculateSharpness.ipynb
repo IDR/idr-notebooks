{
 "cells": [
  {
   "cell_type": "markdown",
   "metadata": {},
   "source": [
    "# QC script to calculate sharpness metric for images in a plate"
   ]
  },
  {
   "cell_type": "markdown",
   "metadata": {},
   "source": [
    "The following script will access the IDR images in a facility manager's context,\n",
    "\n",
    "The QC script does the following,\n",
    "\n",
    "1. Extracts Images from OMERO (in this case IDR)\n",
    "2. Calcualtes sharpness based on the algorithm defined in the following publication,\n",
    "  * [Image Sharpness Measure for Blurred Images in Frequency Domain] (https://doi.org/10.1016/j.proeng.2013.09.086)\n",
    "3. Creates a numpy array of the sharpness scores for every well, \n",
    "  * seperately for every field and every channel\n",
    "  * the numpy array is then reshaped to the same dimensions of the plate, ex: 96 well plates will have a numpy array \n",
    "    with 8rows and 12columns.\n",
    "4. Plots a heatmap for every field and every channel, and arranges all plots within a subplot.\n",
    "5. Exports the heatmap back to OMERO in the following ways,\n",
    "  * Saves the [\"plate_name\" + \"heatmap.png\"] and attaches it to the appropriate plate as a file attachment.\n",
    "  * Saves the numpy array as an image back to OMERO and a secondary script \"createOMEROFigures\" can be used to create \n",
    "    figures in OMERO.figures in the same layout as seen in the [\"plate_name\" + \"heatmap.png\"]"
   ]
  },
  {
   "cell_type": "markdown",
   "metadata": {},
   "source": [
    "***Import Packages***"
   ]
  },
  {
   "cell_type": "code",
   "execution_count": 1,
   "metadata": {
    "collapsed": true
   },
   "outputs": [],
   "source": [
    "from PIL import Image\n",
    "import numpy as np\n",
    "import matplotlib\n",
    "import matplotlib.pyplot as plt\n",
    "import decimal\n",
    "import seaborn as sns\n",
    "from mpl_toolkits.axes_grid1 import AxesGrid\n",
    "from numpy import array, int8\n",
    "from skimage import feature\n",
    "from scipy.ndimage import convolve\n",
    "from scipy import misc, fftpack"
   ]
  },
  {
   "cell_type": "markdown",
   "metadata": {},
   "source": [
    "***Import BlitzGateway***"
   ]
  },
  {
   "cell_type": "code",
   "execution_count": 2,
   "metadata": {
    "collapsed": true
   },
   "outputs": [],
   "source": [
    "from omero.gateway import BlitzGateway"
   ]
  },
  {
   "cell_type": "markdown",
   "metadata": {},
   "source": [
    "***Server credentials and plate identifier***"
   ]
  },
  {
   "cell_type": "code",
   "execution_count": 3,
   "metadata": {
    "collapsed": true
   },
   "outputs": [],
   "source": [
    "USERNAME = \"\"\n",
    "PASSWORD = \"\"\n",
    "HOST = \"\"\n",
    "PORT = \n",
    "plateId = "
   ]
  },
  {
   "cell_type": "markdown",
   "metadata": {},
   "source": [
    "***Create connection***"
   ]
  },
  {
   "cell_type": "code",
   "execution_count": 40,
   "metadata": {
    "collapsed": true
   },
   "outputs": [],
   "source": [
    "conn = BlitzGateway(USERNAME, PASSWORD, host=HOST, port=PORT)\n",
    "conn.connect()\n",
    "conn.setSecure(True);\n",
    "conn.c.enableKeepAlive(300)"
   ]
  },
  {
   "cell_type": "markdown",
   "metadata": {},
   "source": [
    "***Fetch plate object and print details***"
   ]
  },
  {
   "cell_type": "code",
   "execution_count": 5,
   "metadata": {},
   "outputs": [
    {
     "name": "stdout",
     "output_type": "stream",
     "text": [
      "\n",
      "Number of fields: (0L, 3L)\n",
      "\n",
      "Grid size: {'rows': 8L, 'columns': 12L}\n",
      "\n",
      "Wells in Plate: PNL_Representative_Data_Set_96_Well\n"
     ]
    }
   ],
   "source": [
    "plate = conn.getObject(\"Plate\", plateId)\n",
    "print \"\\nNumber of fields:\", plate.getNumberOfFields()\n",
    "print \"\\nGrid size:\", plate.getGridSize()\n",
    "print \"\\nWells in Plate:\", plate.getName()"
   ]
  },
  {
   "cell_type": "markdown",
   "metadata": {},
   "source": [
    "***Alogrithm List***"
   ]
  },
  {
   "cell_type": "code",
   "execution_count": 17,
   "metadata": {
    "collapsed": true
   },
   "outputs": [],
   "source": [
    "class AlgorithmList:\n",
    "    def fourierBasedSharpnessMetric(self):\n",
    "        fftimage = np.fft.fft2(plane)\n",
    "        fftshift = np.fft.fftshift(fftimage)\n",
    "        fftshift = np.absolute(fftshift)\n",
    "        M = np.amax(fftshift)\n",
    "        Th = (fftshift > (M/float(1000))).sum()\n",
    "        sharpness = Th/(float(image.getSizeX())*float(image.getSizeY()))\n",
    "        return sharpness*10000\n",
    "    def gradientBasedSharpnessMetric(self):\n",
    "        gy, gx = np.gradient(plane)\n",
    "        gnorm = np.sqrt(gx**2 + gy**2)\n",
    "        sharpness = np.average(gnorm)\n",
    "        return sharpness\n",
    "    def edgeBasedSharpnessMetric(self):\n",
    "        edges1 = feature.canny(plane, sigma=3)\n",
    "        kernel = np.ones((3, 3))\n",
    "        kernel[1, 1] = 0\n",
    "        sharpness = convolve(edges1, kernel, mode=\"constant\")\n",
    "        sharpness[edges1 != 0].sum()\n",
    "        return sharpness"
   ]
  },
  {
   "cell_type": "markdown",
   "metadata": {},
   "source": [
    "***Iterative calculations for the whole plate***"
   ]
  },
  {
   "cell_type": "code",
   "execution_count": 19,
   "metadata": {},
   "outputs": [
    {
     "name": "stdout",
     "output_type": "stream",
     "text": [
      "  Well:  7 3  Fields: 4  Channels: 0  SharpnessScore: 126.667022705\n",
      "  Well:  7 3  Fields: 4  Channels: 1  SharpnessScore: 5.67436218262\n",
      "  Well:  7 3  Fields: 4  Channels: 2  SharpnessScore: 120.191574097\n",
      "  Well:  7 3  Fields: 4  Channels: 3  SharpnessScore: 912.084579468\n",
      "  Well:  6 9  Fields: 4  Channels: 0  SharpnessScore: 157.718658447\n",
      "  Well:  6 9  Fields: 4  Channels: 1  SharpnessScore: 3.95774841309\n",
      "  Well:  6 9  Fields: 4  Channels: 2  SharpnessScore: 15.9358978271\n",
      "  Well:  6 9  Fields: 4  Channels: 3  SharpnessScore: 847.749710083\n",
      "  Well:  0 7  Fields: 4  Channels: 0  SharpnessScore: 136.585235596\n",
      "  Well:  0 7  Fields: 4  Channels: 1  SharpnessScore: 3.74794006348\n",
      "  Well:  0 7  Fields: 4  Channels: 2  SharpnessScore: 11.510848999\n",
      "  Well:  0 7  Fields: 4  Channels: 3  SharpnessScore: 752.382278442\n",
      "  Well:  1 6  Fields: 4  Channels: 0  SharpnessScore: 144.939422607\n",
      "  Well:  1 6  Fields: 4  Channels: 1  SharpnessScore: 8.00132751465\n",
      "  Well:  1 6  Fields: 4  Channels: 2  SharpnessScore: 47.435760498\n",
      "  Well:  1 6  Fields: 4  Channels: 3  SharpnessScore: 471.55380249\n",
      "  Well:  0 10  Fields: 4  Channels: 0  SharpnessScore: 81.8252563477\n",
      "  Well:  0 10  Fields: 4  Channels: 1  SharpnessScore: 2.45094299316\n",
      "  Well:  0 10  Fields: 4  Channels: 2  SharpnessScore: 6.91413879395\n",
      "  Well:  0 10  Fields: 4  Channels: 3  SharpnessScore: 865.116119385\n",
      "  Well:  3 7  Fields: 4  Channels: 0  SharpnessScore: 138.645172119\n",
      "  Well:  3 7  Fields: 4  Channels: 1  SharpnessScore: 3.06129455566\n",
      "  Well:  3 7  Fields: 4  Channels: 2  SharpnessScore: 30.2410125732\n",
      "  Well:  3 7  Fields: 4  Channels: 3  SharpnessScore: 740.280151367\n",
      "  Well:  2 5  Fields: 4  Channels: 0  SharpnessScore: 123.920440674\n",
      "  Well:  2 5  Fields: 4  Channels: 1  SharpnessScore: 10.5571746826\n",
      "  Well:  2 5  Fields: 4  Channels: 2  SharpnessScore: 54.178237915\n",
      "  Well:  2 5  Fields: 4  Channels: 3  SharpnessScore: 585.451126099\n",
      "  Well:  1 11  Fields: 4  Channels: 0  SharpnessScore: 64.582824707\n",
      "  Well:  1 11  Fields: 4  Channels: 1  SharpnessScore: 1.19209289551\n",
      "  Well:  1 11  Fields: 4  Channels: 2  SharpnessScore: 4.58717346191\n",
      "  Well:  1 11  Fields: 4  Channels: 3  SharpnessScore: 631.2084198\n",
      "  Well:  5 8  Fields: 4  Channels: 0  SharpnessScore: 125.923156738\n",
      "  Well:  5 8  Fields: 4  Channels: 1  SharpnessScore: 18.6252593994\n",
      "  Well:  5 8  Fields: 4  Channels: 2  SharpnessScore: 31.9671630859\n",
      "  Well:  5 8  Fields: 4  Channels: 3  SharpnessScore: 758.838653564\n",
      "  Well:  4 0  Fields: 4  Channels: 0  SharpnessScore: 126.180648804\n",
      "  Well:  4 0  Fields: 4  Channels: 1  SharpnessScore: 29.4399261475\n",
      "  Well:  4 0  Fields: 4  Channels: 2  SharpnessScore: 42.9439544678\n",
      "  Well:  4 0  Fields: 4  Channels: 3  SharpnessScore: 203.466415405\n",
      "  Well:  6 7  Fields: 4  Channels: 0  SharpnessScore: 165.615081787\n",
      "  Well:  6 7  Fields: 4  Channels: 1  SharpnessScore: 17.9576873779\n",
      "  Well:  6 7  Fields: 4  Channels: 2  SharpnessScore: 76.4560699463\n",
      "  Well:  6 7  Fields: 4  Channels: 3  SharpnessScore: 848.865509033\n",
      "  Well:  5 5  Fields: 4  Channels: 0  SharpnessScore: 152.339935303\n",
      "  Well:  5 5  Fields: 4  Channels: 1  SharpnessScore: 13.9904022217\n",
      "  Well:  5 5  Fields: 4  Channels: 2  SharpnessScore: 36.6115570068\n",
      "  Well:  5 5  Fields: 4  Channels: 3  SharpnessScore: 997.161865234\n",
      "  Well:  7 6  Fields: 4  Channels: 0  SharpnessScore: 185.070037842\n",
      "  Well:  7 6  Fields: 4  Channels: 1  SharpnessScore: 3.59535217285\n",
      "  Well:  7 6  Fields: 4  Channels: 2  SharpnessScore: 10.7955932617\n",
      "  Well:  7 6  Fields: 4  Channels: 3  SharpnessScore: 664.777755737\n",
      "  Well:  6 10  Fields: 4  Channels: 0  SharpnessScore: 115.032196045\n",
      "  Well:  6 10  Fields: 4  Channels: 1  SharpnessScore: 1.47819519043\n",
      "  Well:  6 10  Fields: 4  Channels: 2  SharpnessScore: 8.61167907715\n",
      "  Well:  6 10  Fields: 4  Channels: 3  SharpnessScore: 796.394348145\n",
      "  Well:  0 4  Fields: 4  Channels: 0  SharpnessScore: 112.133026123\n",
      "  Well:  0 4  Fields: 4  Channels: 1  SharpnessScore: 7.41004943848\n",
      "  Well:  0 4  Fields: 4  Channels: 2  SharpnessScore: 22.6306915283\n",
      "  Well:  0 4  Fields: 4  Channels: 3  SharpnessScore: 973.415374756\n",
      "  Well:  1 1  Fields: 4  Channels: 0  SharpnessScore: 113.153457642\n",
      "  Well:  1 1  Fields: 4  Channels: 1  SharpnessScore: 4.73976135254\n",
      "  Well:  1 1  Fields: 4  Channels: 2  SharpnessScore: 18.4535980225\n",
      "  Well:  1 1  Fields: 4  Channels: 3  SharpnessScore: 729.913711548\n",
      "  Well:  4 10  Fields: 4  Channels: 0  SharpnessScore: 86.6889953613\n",
      "  Well:  4 10  Fields: 4  Channels: 1  SharpnessScore: 2.12669372559\n",
      "  Well:  4 10  Fields: 4  Channels: 2  SharpnessScore: 6.03675842285\n",
      "  Well:  4 10  Fields: 4  Channels: 3  SharpnessScore: 687.484741211\n",
      "  Well:  3 2  Fields: 4  Channels: 0  SharpnessScore: 84.171295166\n",
      "  Well:  3 2  Fields: 4  Channels: 1  SharpnessScore: 5.21659851074\n",
      "  Well:  3 2  Fields: 4  Channels: 2  SharpnessScore: 44.0502166748\n",
      "  Well:  3 2  Fields: 4  Channels: 3  SharpnessScore: 959.033966064\n",
      "  Well:  2 6  Fields: 4  Channels: 0  SharpnessScore: 167.217254639\n",
      "  Well:  2 6  Fields: 4  Channels: 1  SharpnessScore: 5.15937805176\n",
      "  Well:  2 6  Fields: 4  Channels: 2  SharpnessScore: 19.1783905029\n",
      "  Well:  2 6  Fields: 4  Channels: 3  SharpnessScore: 845.623016357\n",
      "  Well:  5 11  Fields: 4  Channels: 0  SharpnessScore: 147.99118042\n",
      "  Well:  5 11  Fields: 4  Channels: 1  SharpnessScore: 12.3691558838\n",
      "  Well:  5 11  Fields: 4  Channels: 2  SharpnessScore: 15.1348114014\n",
      "  Well:  5 11  Fields: 4  Channels: 3  SharpnessScore: 158.281326294\n",
      "  Well:  4 5  Fields: 4  Channels: 0  SharpnessScore: 127.868652344\n",
      "  Well:  4 5  Fields: 4  Channels: 1  SharpnessScore: 8.26835632324\n",
      "  Well:  4 5  Fields: 4  Channels: 2  SharpnessScore: 32.6633453369\n",
      "  Well:  4 5  Fields: 4  Channels: 3  SharpnessScore: 752.16293335\n",
      "  Well:  6 0  Fields: 4  Channels: 0  SharpnessScore: 653.591156006\n",
      "  Well:  6 0  Fields: 4  Channels: 1  SharpnessScore: 92.8020477295\n",
      "  Well:  6 0  Fields: 4  Channels: 2  SharpnessScore: 114.412307739\n",
      "  Well:  6 0  Fields: 4  Channels: 3  SharpnessScore: 332.069396973\n",
      "  Well:  7 5  Fields: 4  Channels: 0  SharpnessScore: 163.316726685\n",
      "  Well:  7 5  Fields: 4  Channels: 1  SharpnessScore: 7.60078430176\n",
      "  Well:  7 5  Fields: 4  Channels: 2  SharpnessScore: 18.6061859131\n",
      "  Well:  7 5  Fields: 4  Channels: 3  SharpnessScore: 599.842071533\n",
      "  Well:  0 1  Fields: 4  Channels: 0  SharpnessScore: 103.311538696\n",
      "  Well:  0 1  Fields: 4  Channels: 1  SharpnessScore: 5.15937805176\n",
      "  Well:  0 1  Fields: 4  Channels: 2  SharpnessScore: 13.8759613037\n",
      "  Well:  0 1  Fields: 4  Channels: 3  SharpnessScore: 627.870559692\n",
      "  Well:  3 1  Fields: 4  Channels: 0  SharpnessScore: 119.609832764\n",
      "  Well:  3 1  Fields: 4  Channels: 1  SharpnessScore: 2.16484069824\n",
      "  Well:  3 1  Fields: 4  Channels: 2  SharpnessScore: 9.16481018066\n",
      "  Well:  3 1  Fields: 4  Channels: 3  SharpnessScore: 904.922485352\n",
      "  Well:  2 11  Fields: 4  Channels: 0  SharpnessScore: 91.1331176758\n",
      "  Well:  2 11  Fields: 4  Channels: 1  SharpnessScore: 1.44004821777\n",
      "  Well:  2 11  Fields: 4  Channels: 2  SharpnessScore: 5.65528869629\n",
      "  Well:  2 11  Fields: 4  Channels: 3  SharpnessScore: 637.426376343\n",
      "  Well:  7 8  Fields: 4  Channels: 0  SharpnessScore: 177.555084229\n",
      "  Well:  7 8  Fields: 4  Channels: 1  SharpnessScore: 4.01496887207\n",
      "  Well:  7 8  Fields: 4  Channels: 2  SharpnessScore: 14.123916626\n",
      "  Well:  7 8  Fields: 4  Channels: 3  SharpnessScore: 816.526412964\n",
      "  Well:  3 11  Fields: 4  Channels: 0  SharpnessScore: 84.342956543\n",
      "  Well:  3 11  Fields: 4  Channels: 1  SharpnessScore: 2.64167785645\n",
      "  Well:  3 11  Fields: 4  Channels: 2  SharpnessScore: 7.44819641113\n",
      "  Well:  3 11  Fields: 4  Channels: 3  SharpnessScore: 665.02571106\n",
      "  Well:  2 1  Fields: 4  Channels: 0  SharpnessScore: 112.419128418\n",
      "  Well:  2 1  Fields: 4  Channels: 1  SharpnessScore: 17.6525115967\n",
      "  Well:  2 1  Fields: 4  Channels: 2  SharpnessScore: 45.9575653076\n",
      "  Well:  2 1  Fields: 4  Channels: 3  SharpnessScore: 905.160903931\n",
      "  Well:  5 1  Fields: 4  Channels: 0  SharpnessScore: 102.310180664\n",
      "  Well:  5 1  Fields: 4  Channels: 1  SharpnessScore: 4.05311584473\n",
      "  Well:  5 1  Fields: 4  Channels: 2  SharpnessScore: 8.87870788574\n",
      "  Well:  5 1  Fields: 4  Channels: 3  SharpnessScore: 787.267684937\n",
      "  Well:  7 2  Fields: 4  Channels: 0  SharpnessScore: 101.146697998\n"
     ]
    },
    {
     "name": "stdout",
     "output_type": "stream",
     "text": [
      "  Well:  7 2  Fields: 4  Channels: 1  SharpnessScore: 3.70979309082\n",
      "  Well:  7 2  Fields: 4  Channels: 2  SharpnessScore: 6.15119934082\n",
      "  Well:  7 2  Fields: 4  Channels: 3  SharpnessScore: 746.221542358\n",
      "  Well:  1 5  Fields: 4  Channels: 0  SharpnessScore: 227.975845337\n",
      "  Well:  1 5  Fields: 4  Channels: 1  SharpnessScore: 18.3963775635\n",
      "  Well:  1 5  Fields: 4  Channels: 2  SharpnessScore: 31.7859649658\n",
      "  Well:  1 5  Fields: 4  Channels: 3  SharpnessScore: 462.284088135\n",
      "  Well:  0 11  Fields: 4  Channels: 0  SharpnessScore: 66.7762756348\n",
      "  Well:  0 11  Fields: 4  Channels: 1  SharpnessScore: 2.12669372559\n",
      "  Well:  0 11  Fields: 4  Channels: 2  SharpnessScore: 6.13212585449\n",
      "  Well:  0 11  Fields: 4  Channels: 3  SharpnessScore: 627.603530884\n",
      "  Well:  3 6  Fields: 4  Channels: 0  SharpnessScore: 159.83581543\n",
      "  Well:  3 6  Fields: 4  Channels: 1  SharpnessScore: 4.05311584473\n",
      "  Well:  3 6  Fields: 4  Channels: 2  SharpnessScore: 14.7914886475\n",
      "  Well:  3 6  Fields: 4  Channels: 3  SharpnessScore: 861.99760437\n",
      "  Well:  2 2  Fields: 4  Channels: 0  SharpnessScore: 103.950500488\n",
      "  Well:  2 2  Fields: 4  Channels: 1  SharpnessScore: 8.53538513184\n",
      "  Well:  2 2  Fields: 4  Channels: 2  SharpnessScore: 20.4753875732\n",
      "  Well:  2 2  Fields: 4  Channels: 3  SharpnessScore: 487.051010132\n",
      "  Well:  1 10  Fields: 4  Channels: 0  SharpnessScore: 82.2448730469\n",
      "  Well:  1 10  Fields: 4  Channels: 1  SharpnessScore: 0.982284545898\n",
      "  Well:  1 10  Fields: 4  Channels: 2  SharpnessScore: 6.9522857666\n",
      "  Well:  1 10  Fields: 4  Channels: 3  SharpnessScore: 807.14225769\n",
      "  Well:  4 1  Fields: 4  Channels: 0  SharpnessScore: 121.13571167\n",
      "  Well:  4 1  Fields: 4  Channels: 1  SharpnessScore: 6.17027282715\n",
      "  Well:  4 1  Fields: 4  Channels: 2  SharpnessScore: 33.9031219482\n",
      "  Well:  4 1  Fields: 4  Channels: 3  SharpnessScore: 859.346389771\n",
      "  Well:  6 4  Fields: 4  Channels: 0  SharpnessScore: 130.615234375\n",
      "  Well:  6 4  Fields: 4  Channels: 1  SharpnessScore: 38.30909729\n",
      "  Well:  6 4  Fields: 4  Channels: 2  SharpnessScore: 68.2067871094\n",
      "  Well:  6 4  Fields: 4  Channels: 3  SharpnessScore: 1106.49108887\n",
      "  Well:  5 4  Fields: 4  Channels: 0  SharpnessScore: 118.33190918\n",
      "  Well:  5 4  Fields: 4  Channels: 1  SharpnessScore: 8.00132751465\n",
      "  Well:  5 4  Fields: 4  Channels: 2  SharpnessScore: 17.1566009521\n",
      "  Well:  5 4  Fields: 4  Channels: 3  SharpnessScore: 975.26550293\n",
      "  Well:  7 1  Fields: 4  Channels: 0  SharpnessScore: 104.846954346\n",
      "  Well:  7 1  Fields: 4  Channels: 1  SharpnessScore: 4.35829162598\n",
      "  Well:  7 1  Fields: 4  Channels: 2  SharpnessScore: 8.44955444336\n",
      "  Well:  7 1  Fields: 4  Channels: 3  SharpnessScore: 426.568984985\n",
      "  Well:  6 11  Fields: 4  Channels: 0  SharpnessScore: 144.76776123\n",
      "  Well:  6 11  Fields: 4  Channels: 1  SharpnessScore: 1.76429748535\n",
      "  Well:  6 11  Fields: 4  Channels: 2  SharpnessScore: 5.21659851074\n",
      "  Well:  6 11  Fields: 4  Channels: 3  SharpnessScore: 688.371658325\n",
      "  Well:  0 5  Fields: 4  Channels: 0  SharpnessScore: 130.443572998\n",
      "  Well:  0 5  Fields: 4  Channels: 1  SharpnessScore: 11.8350982666\n",
      "  Well:  0 5  Fields: 4  Channels: 2  SharpnessScore: 29.5639038086\n",
      "  Well:  0 5  Fields: 4  Channels: 3  SharpnessScore: 1029.06227112\n",
      "  Well:  1 0  Fields: 4  Channels: 0  SharpnessScore: 184.621810913\n",
      "  Well:  1 0  Fields: 4  Channels: 1  SharpnessScore: 85.2870941162\n",
      "  Well:  1 0  Fields: 4  Channels: 2  SharpnessScore: 124.197006226\n",
      "  Well:  1 0  Fields: 4  Channels: 3  SharpnessScore: 246.915817261\n",
      "  Well:  0 8  Fields: 4  Channels: 0  SharpnessScore: 136.947631836\n",
      "  Well:  0 8  Fields: 4  Channels: 1  SharpnessScore: 27.4562835693\n",
      "  Well:  0 8  Fields: 4  Channels: 2  SharpnessScore: 52.1755218506\n",
      "  Well:  0 8  Fields: 4  Channels: 3  SharpnessScore: 795.402526855\n",
      "  Well:  4 11  Fields: 4  Channels: 0  SharpnessScore: 83.4655761719\n",
      "  Well:  4 11  Fields: 4  Channels: 1  SharpnessScore: 2.50816345215\n",
      "  Well:  4 11  Fields: 4  Channels: 2  SharpnessScore: 5.06401062012\n",
      "  Well:  4 11  Fields: 4  Channels: 3  SharpnessScore: 579.137802124\n",
      "  Well:  3 5  Fields: 4  Channels: 0  SharpnessScore: 136.566162109\n",
      "  Well:  3 5  Fields: 4  Channels: 1  SharpnessScore: 8.68797302246\n",
      "  Well:  3 5  Fields: 4  Channels: 2  SharpnessScore: 16.9658660889\n",
      "  Well:  3 5  Fields: 4  Channels: 3  SharpnessScore: 938.07220459\n",
      "  Well:  2 7  Fields: 4  Channels: 0  SharpnessScore: 151.042938232\n",
      "  Well:  2 7  Fields: 4  Channels: 1  SharpnessScore: 2.56538391113\n",
      "  Well:  2 7  Fields: 4  Channels: 2  SharpnessScore: 9.6607208252\n",
      "  Well:  2 7  Fields: 4  Channels: 3  SharpnessScore: 176.048278809\n",
      "  Well:  5 10  Fields: 4  Channels: 0  SharpnessScore: 81.3484191895\n",
      "  Well:  5 10  Fields: 4  Channels: 1  SharpnessScore: 1.82151794434\n",
      "  Well:  5 10  Fields: 4  Channels: 2  SharpnessScore: 5.3882598877\n",
      "  Well:  5 10  Fields: 4  Channels: 3  SharpnessScore: 913.095474243\n",
      "  Well:  4 6  Fields: 4  Channels: 0  SharpnessScore: 154.609680176\n",
      "  Well:  4 6  Fields: 4  Channels: 1  SharpnessScore: 3.69071960449\n",
      "  Well:  4 6  Fields: 4  Channels: 2  SharpnessScore: 15.9168243408\n",
      "  Well:  4 6  Fields: 4  Channels: 3  SharpnessScore: 908.393859863\n",
      "  Well:  6 1  Fields: 4  Channels: 0  SharpnessScore: 117.197036743\n",
      "  Well:  6 1  Fields: 4  Channels: 1  SharpnessScore: 4.07218933105\n",
      "  Well:  6 1  Fields: 4  Channels: 2  SharpnessScore: 8.32557678223\n",
      "  Well:  6 1  Fields: 4  Channels: 3  SharpnessScore: 1222.62001038\n",
      "  Well:  5 7  Fields: 4  Channels: 0  SharpnessScore: 136.775970459\n",
      "  Well:  5 7  Fields: 4  Channels: 1  SharpnessScore: 2.26020812988\n",
      "  Well:  5 7  Fields: 4  Channels: 2  SharpnessScore: 13.7996673584\n",
      "  Well:  5 7  Fields: 4  Channels: 3  SharpnessScore: 899.333953857\n",
      "  Well:  7 4  Fields: 4  Channels: 0  SharpnessScore: 154.552459717\n",
      "  Well:  7 4  Fields: 4  Channels: 1  SharpnessScore: 6.09397888184\n",
      "  Well:  7 4  Fields: 4  Channels: 2  SharpnessScore: 9.73701477051\n",
      "  Well:  7 4  Fields: 4  Channels: 3  SharpnessScore: 803.670883179\n",
      "  Well:  0 2  Fields: 4  Channels: 0  SharpnessScore: 90.9423828125\n",
      "  Well:  0 2  Fields: 4  Channels: 1  SharpnessScore: 13.5898590088\n",
      "  Well:  0 2  Fields: 4  Channels: 2  SharpnessScore: 29.7069549561\n",
      "  Well:  0 2  Fields: 4  Channels: 3  SharpnessScore: 847.787857056\n",
      "  Well:  1 3  Fields: 4  Channels: 0  SharpnessScore: 114.02130127\n",
      "  Well:  1 3  Fields: 4  Channels: 1  SharpnessScore: 18.7015533447\n",
      "  Well:  1 3  Fields: 4  Channels: 2  SharpnessScore: 54.9030303955\n",
      "  Well:  1 3  Fields: 4  Channels: 3  SharpnessScore: 481.443405151\n",
      "  Well:  4 8  Fields: 4  Channels: 0  SharpnessScore: 159.358978271\n",
      "  Well:  4 8  Fields: 4  Channels: 1  SharpnessScore: 1.17301940918\n",
      "  Well:  4 8  Fields: 4  Channels: 2  SharpnessScore: 17.6334381104\n",
      "  Well:  4 8  Fields: 4  Channels: 3  SharpnessScore: 811.204910278\n",
      "  Well:  3 0  Fields: 4  Channels: 0  SharpnessScore: 76.3893127441\n",
      "  Well:  3 0  Fields: 4  Channels: 1  SharpnessScore: 5.35011291504\n",
      "  Well:  3 0  Fields: 4  Channels: 2  SharpnessScore: 27.1511077881\n",
      "  Well:  3 0  Fields: 4  Channels: 3  SharpnessScore: 207.557678223\n",
      "  Well:  2 8  Fields: 4  Channels: 0  SharpnessScore: 118.751525879\n",
      "  Well:  2 8  Fields: 4  Channels: 1  SharpnessScore: 0.925064086914\n",
      "  Well:  2 8  Fields: 4  Channels: 2  SharpnessScore: 5.08308410645\n",
      "  Well:  2 8  Fields: 4  Channels: 3  SharpnessScore: 64.5923614502\n",
      "  Well:  6 2  Fields: 4  Channels: 0  SharpnessScore: 114.822387695\n",
      "  Well:  6 2  Fields: 4  Channels: 1  SharpnessScore: 8.66889953613\n",
      "  Well:  6 2  Fields: 4  Channels: 2  SharpnessScore: 24.5952606201\n",
      "  Well:  6 2  Fields: 4  Channels: 3  SharpnessScore: 1074.16152954\n",
      "  Well:  7 11  Fields: 4  Channels: 0  SharpnessScore: 501.928329468\n",
      "  Well:  7 11  Fields: 4  Channels: 1  SharpnessScore: 303.27796936\n",
      "  Well:  7 11  Fields: 4  Channels: 2  SharpnessScore: 458.517074585\n",
      "  Well:  7 11  Fields: 4  Channels: 3  SharpnessScore: 396.490097046\n",
      "  Well:  3 10  Fields: 4  Channels: 0  SharpnessScore: 92.945098877\n",
      "  Well:  3 10  Fields: 4  Channels: 1  SharpnessScore: 2.52723693848\n",
      "  Well:  3 10  Fields: 4  Channels: 2  SharpnessScore: 8.61167907715\n",
      "  Well:  3 10  Fields: 4  Channels: 3  SharpnessScore: 852.489471436\n",
      "  Well:  5 0  Fields: 4  Channels: 0  SharpnessScore: 103.912353516\n",
      "  Well:  5 0  Fields: 4  Channels: 1  SharpnessScore: 4.05311584473\n"
     ]
    },
    {
     "name": "stdout",
     "output_type": "stream",
     "text": [
      "  Well:  5 0  Fields: 4  Channels: 2  SharpnessScore: 9.22203063965\n",
      "  Well:  5 0  Fields: 4  Channels: 3  SharpnessScore: 451.860427856\n",
      "  Well:  1 4  Fields: 4  Channels: 0  SharpnessScore: 121.402740479\n",
      "  Well:  1 4  Fields: 4  Channels: 1  SharpnessScore: 9.29832458496\n",
      "  Well:  1 4  Fields: 4  Channels: 2  SharpnessScore: 21.8105316162\n",
      "  Well:  1 4  Fields: 4  Channels: 3  SharpnessScore: 760.288238525\n",
      "  Well:  3 9  Fields: 4  Channels: 0  SharpnessScore: 140.590667725\n",
      "  Well:  3 9  Fields: 4  Channels: 1  SharpnessScore: 3.09944152832\n",
      "  Well:  3 9  Fields: 4  Channels: 2  SharpnessScore: 61.8076324463\n",
      "  Well:  3 9  Fields: 4  Channels: 3  SharpnessScore: 819.091796875\n",
      "  Well:  2 3  Fields: 4  Channels: 0  SharpnessScore: 56.9534301758\n",
      "  Well:  2 3  Fields: 4  Channels: 1  SharpnessScore: 26.8077850342\n",
      "  Well:  2 3  Fields: 4  Channels: 2  SharpnessScore: 40.9984588623\n",
      "  Well:  2 3  Fields: 4  Channels: 3  SharpnessScore: 542.125701904\n",
      "  Well:  1 9  Fields: 4  Channels: 0  SharpnessScore: 134.544372559\n",
      "  Well:  1 9  Fields: 4  Channels: 1  SharpnessScore: 1.05857849121\n",
      "  Well:  1 9  Fields: 4  Channels: 2  SharpnessScore: 15.7260894775\n",
      "  Well:  1 9  Fields: 4  Channels: 3  SharpnessScore: 840.663909912\n",
      "  Well:  4 2  Fields: 4  Channels: 0  SharpnessScore: 90.0650024414\n",
      "  Well:  4 2  Fields: 4  Channels: 1  SharpnessScore: 14.1429901123\n",
      "  Well:  4 2  Fields: 4  Channels: 2  SharpnessScore: 66.3661956787\n",
      "  Well:  4 2  Fields: 4  Channels: 3  SharpnessScore: 552.463531494\n",
      "  Well:  6 5  Fields: 4  Channels: 0  SharpnessScore: 153.789520264\n",
      "  Well:  6 5  Fields: 4  Channels: 1  SharpnessScore: 6.36100769043\n",
      "  Well:  6 5  Fields: 4  Channels: 2  SharpnessScore: 26.1783599854\n",
      "  Well:  6 5  Fields: 4  Channels: 3  SharpnessScore: 1050.09078979\n",
      "  Well:  5 3  Fields: 4  Channels: 0  SharpnessScore: 117.702484131\n",
      "  Well:  5 3  Fields: 4  Channels: 1  SharpnessScore: 5.48362731934\n",
      "  Well:  5 3  Fields: 4  Channels: 2  SharpnessScore: 32.1483612061\n",
      "  Well:  5 3  Fields: 4  Channels: 3  SharpnessScore: 1019.51599121\n",
      "  Well:  7 0  Fields: 4  Channels: 0  SharpnessScore: 148.124694824\n",
      "  Well:  7 0  Fields: 4  Channels: 1  SharpnessScore: 20.8950042725\n",
      "  Well:  7 0  Fields: 4  Channels: 2  SharpnessScore: 34.6946716309\n",
      "  Well:  7 0  Fields: 4  Channels: 3  SharpnessScore: 261.602401733\n",
      "  Well:  6 8  Fields: 4  Channels: 0  SharpnessScore: 168.724060059\n",
      "  Well:  6 8  Fields: 4  Channels: 1  SharpnessScore: 13.89503479\n",
      "  Well:  6 8  Fields: 4  Channels: 2  SharpnessScore: 66.9574737549\n",
      "  Well:  6 8  Fields: 4  Channels: 3  SharpnessScore: 908.555984497\n",
      "  Well:  0 6  Fields: 4  Channels: 0  SharpnessScore: 145.52116394\n",
      "  Well:  0 6  Fields: 4  Channels: 1  SharpnessScore: 5.7315826416\n",
      "  Well:  0 6  Fields: 4  Channels: 2  SharpnessScore: 23.2982635498\n",
      "  Well:  0 6  Fields: 4  Channels: 3  SharpnessScore: 733.184814453\n",
      "  Well:  1 7  Fields: 4  Channels: 0  SharpnessScore: 163.3644104\n",
      "  Well:  1 7  Fields: 4  Channels: 1  SharpnessScore: 4.45365905762\n",
      "  Well:  1 7  Fields: 4  Channels: 2  SharpnessScore: 15.0203704834\n",
      "  Well:  1 7  Fields: 4  Channels: 3  SharpnessScore: 79.345703125\n",
      "  Well:  0 9  Fields: 4  Channels: 0  SharpnessScore: 118.560791016\n",
      "  Well:  0 9  Fields: 4  Channels: 1  SharpnessScore: 2.10762023926\n",
      "  Well:  0 9  Fields: 4  Channels: 2  SharpnessScore: 10.9195709229\n",
      "  Well:  0 9  Fields: 4  Channels: 3  SharpnessScore: 690.956115723\n",
      "  Well:  3 4  Fields: 4  Channels: 0  SharpnessScore: 116.767883301\n",
      "  Well:  3 4  Fields: 4  Channels: 1  SharpnessScore: 8.45909118652\n",
      "  Well:  3 4  Fields: 4  Channels: 2  SharpnessScore: 23.2982635498\n",
      "  Well:  3 4  Fields: 4  Channels: 3  SharpnessScore: 994.281768799\n",
      "  Well:  2 4  Fields: 4  Channels: 0  SharpnessScore: 140.45715332\n",
      "  Well:  2 4  Fields: 4  Channels: 1  SharpnessScore: 9.8705291748\n",
      "  Well:  2 4  Fields: 4  Channels: 2  SharpnessScore: 25.6252288818\n",
      "  Well:  2 4  Fields: 4  Channels: 3  SharpnessScore: 930.738449097\n",
      "  Well:  5 9  Fields: 4  Channels: 0  SharpnessScore: 126.113891602\n",
      "  Well:  5 9  Fields: 4  Channels: 1  SharpnessScore: 1.5926361084\n",
      "  Well:  5 9  Fields: 4  Channels: 2  SharpnessScore: 11.2247467041\n",
      "  Well:  5 9  Fields: 4  Channels: 3  SharpnessScore: 889.225006104\n",
      "  Well:  4 7  Fields: 4  Channels: 0  SharpnessScore: 151.233673096\n",
      "  Well:  4 7  Fields: 4  Channels: 1  SharpnessScore: 3.13758850098\n",
      "  Well:  4 7  Fields: 4  Channels: 2  SharpnessScore: 16.9849395752\n",
      "  Well:  4 7  Fields: 4  Channels: 3  SharpnessScore: 929.908752441\n",
      "  Well:  6 6  Fields: 4  Channels: 0  SharpnessScore: 151.233673096\n",
      "  Well:  6 6  Fields: 4  Channels: 1  SharpnessScore: 1.91688537598\n",
      "  Well:  6 6  Fields: 4  Channels: 2  SharpnessScore: 13.952255249\n",
      "  Well:  6 6  Fields: 4  Channels: 3  SharpnessScore: 543.041229248\n",
      "  Well:  5 6  Fields: 4  Channels: 0  SharpnessScore: 151.100158691\n",
      "  Well:  5 6  Fields: 4  Channels: 1  SharpnessScore: 6.13212585449\n",
      "  Well:  5 6  Fields: 4  Channels: 2  SharpnessScore: 31.9576263428\n",
      "  Well:  5 6  Fields: 4  Channels: 3  SharpnessScore: 729.551315308\n",
      "  Well:  7 7  Fields: 4  Channels: 0  SharpnessScore: 171.203613281\n",
      "  Well:  7 7  Fields: 4  Channels: 1  SharpnessScore: 7.46726989746\n",
      "  Well:  7 7  Fields: 4  Channels: 2  SharpnessScore: 38.1755828857\n",
      "  Well:  7 7  Fields: 4  Channels: 3  SharpnessScore: 922.727584839\n",
      "  Well:  0 3  Fields: 4  Channels: 0  SharpnessScore: 107.05947876\n",
      "  Well:  0 3  Fields: 4  Channels: 1  SharpnessScore: 6.6089630127\n",
      "  Well:  0 3  Fields: 4  Channels: 2  SharpnessScore: 17.3282623291\n",
      "  Well:  0 3  Fields: 4  Channels: 3  SharpnessScore: 965.366363525\n",
      "  Well:  1 2  Fields: 4  Channels: 0  SharpnessScore: 40.5120849609\n",
      "  Well:  1 2  Fields: 4  Channels: 1  SharpnessScore: 14.7533416748\n",
      "  Well:  1 2  Fields: 4  Channels: 2  SharpnessScore: 22.0966339111\n",
      "  Well:  1 2  Fields: 4  Channels: 3  SharpnessScore: 1075.13427734\n",
      "  Well:  4 9  Fields: 4  Channels: 0  SharpnessScore: 150.184631348\n",
      "  Well:  4 9  Fields: 4  Channels: 1  SharpnessScore: 3.78608703613\n",
      "  Well:  4 9  Fields: 4  Channels: 2  SharpnessScore: 17.4236297607\n",
      "  Well:  4 9  Fields: 4  Channels: 3  SharpnessScore: 867.719650269\n",
      "  Well:  3 3  Fields: 4  Channels: 0  SharpnessScore: 96.1875915527\n",
      "  Well:  3 3  Fields: 4  Channels: 1  SharpnessScore: 8.13484191895\n",
      "  Well:  3 3  Fields: 4  Channels: 2  SharpnessScore: 32.7777862549\n",
      "  Well:  3 3  Fields: 4  Channels: 3  SharpnessScore: 761.451721191\n",
      "  Well:  2 9  Fields: 4  Channels: 0  SharpnessScore: 130.891799927\n",
      "  Well:  2 9  Fields: 4  Channels: 1  SharpnessScore: 3.7670135498\n",
      "  Well:  2 9  Fields: 4  Channels: 2  SharpnessScore: 19.2356109619\n",
      "  Well:  2 9  Fields: 4  Channels: 3  SharpnessScore: 817.308425903\n",
      "  Well:  4 4  Fields: 4  Channels: 0  SharpnessScore: 114.479064941\n",
      "  Well:  4 4  Fields: 4  Channels: 1  SharpnessScore: 21.0285186768\n",
      "  Well:  4 4  Fields: 4  Channels: 2  SharpnessScore: 55.8471679688\n",
      "  Well:  4 4  Fields: 4  Channels: 3  SharpnessScore: 896.759033203\n",
      "  Well:  6 3  Fields: 4  Channels: 0  SharpnessScore: 115.165710449\n",
      "  Well:  6 3  Fields: 4  Channels: 1  SharpnessScore: 7.20024108887\n",
      "  Well:  6 3  Fields: 4  Channels: 2  SharpnessScore: 21.2001800537\n",
      "  Well:  6 3  Fields: 4  Channels: 3  SharpnessScore: 924.56817627\n",
      "  Well:  7 10  Fields: 4  Channels: 0  SharpnessScore: 78.6018371582\n",
      "  Well:  7 10  Fields: 4  Channels: 1  SharpnessScore: 1.40190124512\n",
      "  Well:  7 10  Fields: 4  Channels: 2  SharpnessScore: 6.4754486084\n",
      "  Well:  7 10  Fields: 4  Channels: 3  SharpnessScore: 550.012588501\n",
      "  Well:  0 0  Fields: 4  Channels: 0  SharpnessScore: 228.52897644\n",
      "  Well:  0 0  Fields: 4  Channels: 1  SharpnessScore: 91.3143157959\n",
      "  Well:  0 0  Fields: 4  Channels: 2  SharpnessScore: 127.49671936\n",
      "  Well:  0 0  Fields: 4  Channels: 3  SharpnessScore: 257.577896118\n",
      "  Well:  2 10  Fields: 4  Channels: 0  SharpnessScore: 93.4886932373\n",
      "  Well:  2 10  Fields: 4  Channels: 1  SharpnessScore: 2.52723693848\n",
      "  Well:  2 10  Fields: 4  Channels: 2  SharpnessScore: 6.6089630127\n",
      "  Well:  2 10  Fields: 4  Channels: 3  SharpnessScore: 779.0184021\n",
      "  Well:  7 9  Fields: 4  Channels: 0  SharpnessScore: 141.105651855\n",
      "  Well:  7 9  Fields: 4  Channels: 1  SharpnessScore: 1.63078308105\n",
      "  Well:  7 9  Fields: 4  Channels: 2  SharpnessScore: 49.2382049561\n"
     ]
    },
    {
     "name": "stdout",
     "output_type": "stream",
     "text": [
      "  Well:  7 9  Fields: 4  Channels: 3  SharpnessScore: 468.463897705\n",
      "  Well:  3 8  Fields: 4  Channels: 0  SharpnessScore: 141.658782959\n",
      "  Well:  3 8  Fields: 4  Channels: 1  SharpnessScore: 2.83241271973\n",
      "  Well:  3 8  Fields: 4  Channels: 2  SharpnessScore: 13.1511688232\n",
      "  Well:  3 8  Fields: 4  Channels: 3  SharpnessScore: 781.869888306\n",
      "  Well:  2 0  Fields: 4  Channels: 0  SharpnessScore: 86.1358642578\n",
      "  Well:  2 0  Fields: 4  Channels: 1  SharpnessScore: 11.1484527588\n",
      "  Well:  2 0  Fields: 4  Channels: 2  SharpnessScore: 51.2027740479\n",
      "  Well:  2 0  Fields: 4  Channels: 3  SharpnessScore: 183.897018433\n",
      "  Well:  1 8  Fields: 4  Channels: 0  SharpnessScore: 165.233612061\n",
      "  Well:  1 8  Fields: 4  Channels: 1  SharpnessScore: 3.21388244629\n",
      "  Well:  1 8  Fields: 4  Channels: 2  SharpnessScore: 14.123916626\n",
      "  Well:  1 8  Fields: 4  Channels: 3  SharpnessScore: 887.250900269\n",
      "  Well:  4 3  Fields: 4  Channels: 0  SharpnessScore: 99.7352600098\n",
      "  Well:  4 3  Fields: 4  Channels: 1  SharpnessScore: 6.30378723145\n",
      "  Well:  4 3  Fields: 4  Channels: 2  SharpnessScore: 16.4127349854\n",
      "  Well:  4 3  Fields: 4  Channels: 3  SharpnessScore: 893.783569336\n",
      "  Well:  5 2  Fields: 4  Channels: 0  SharpnessScore: 71.3157653809\n",
      "  Well:  5 2  Fields: 4  Channels: 1  SharpnessScore: 15.4972076416\n",
      "  Well:  5 2  Fields: 4  Channels: 2  SharpnessScore: 27.7328491211\n",
      "  Well:  5 2  Fields: 4  Channels: 3  SharpnessScore: 397.58682251\n"
     ]
    }
   ],
   "source": [
    "chnames = None\n",
    "cntr = 0\n",
    "fields = 0\n",
    "for well in plate.listChildren():\n",
    "    index = well.countWellSample()\n",
    "          \n",
    "    #Hack for writing it into an image, will be used for making omero.figures (split-view) in an automated manner \n",
    "    size_z = index\n",
    "#     for fields in xrange(0, index):\n",
    "    image = well.getImage(fields)\n",
    "    if chnames is None:\n",
    "        chnames = [ch.getLabel() for ch in image.getChannels(True)]\n",
    "    pixels = image.getPrimaryPixels()\n",
    "    size_c = image.getSizeC();\n",
    "    if cntr==0:\n",
    "        result_array = np.zeros((96, size_c, 4), dtype=float);\n",
    "    for ch in xrange(0, size_c):\n",
    "        plane = pixels.getPlane(0, ch, 0)\n",
    "        sharpness = AlgorithmList().fourierBasedSharpnessMetric()\n",
    "        result_array[((well.row)*12)+well.column, fields, ch] = sharpness\n",
    "        tempvalue = result_array[((well.row)*12)+well.column, fields, ch]\n",
    "        wellid = ((well.row)*12) + well.column\n",
    "        fieldid = (fields+ch*4)\n",
    "        cntr=cntr+1;\n",
    "        print \"  Well: \", well.row, well.column, \" Fields:\", index , \" Channels:\", ch, \" SharpnessScore:\", sharpness"
   ]
  },
  {
   "cell_type": "markdown",
   "metadata": {},
   "source": [
    "***Reshape numpy array and plot heatmaps***"
   ]
  },
  {
   "cell_type": "code",
   "execution_count": 48,
   "metadata": {},
   "outputs": [
    {
     "data": {
      "image/png": "[encoded data removed]",
      "text/plain": [
       "<matplotlib.figure.Figure at 0x7fe115bb9cd0>"
      ]
     },
     "metadata": {},
     "output_type": "display_data"
    }
   ],
   "source": [
    "plate_name = plate.getName()\n",
    "colval = 0\n",
    "planes = []\n",
    "cntr = 0\n",
    "for rowval in range (0, size_c):\n",
    "#     for colval in range (0, fields):\n",
    "        # print (result_array[:,colval,rowval])\n",
    "    data = result_array[:, colval, rowval].reshape(8,12);\n",
    "    data = np.repeat(data, 20, axis=1)\n",
    "    data = np.repeat(data, 20, axis=0)\n",
    "    planes.append(np.uint16(data))\n",
    "    data = np.flipud(data)\n",
    "    ax = plt.subplot(2,2,cntr+1)\n",
    "    plt.pcolor(data)\n",
    "    plt.axis('off')\n",
    "    plt.colorbar()\n",
    "    ax.title.set_text(rowval)\n",
    "    cntr = cntr + 1\n",
    "plt.savefig(plate_name + 'SharpnessHeatMaps.png')\n",
    "plt.show()"
   ]
  },
  {
   "cell_type": "markdown",
   "metadata": {},
   "source": [
    "***Save Results Back to OMERO as File Attachments***"
   ]
  },
  {
   "cell_type": "code",
   "execution_count": 41,
   "metadata": {},
   "outputs": [
    {
     "name": "stdout",
     "output_type": "stream",
     "text": [
      "\n",
      "Creating an OriginalFile and FileAnnotation\n",
      "Attaching FileAnnotation to Plate:  File ID: 20051 , PNL_Representative_Data_Set_96_WellSharpnessHeatMaps.png Size: 15\n"
     ]
    },
    {
     "data": {
      "text/plain": [
       "<FileAnnotationWrapper id=20051>"
      ]
     },
     "execution_count": 41,
     "metadata": {},
     "output_type": "execute_result"
    }
   ],
   "source": [
    "plate = conn.getObject(\"Plate\", plateId)\n",
    "file_to_upload = plate_name + \"SharpnessHeatMaps.png\"   # This file should already exist\n",
    "with open(file_to_upload, 'w') as f:\n",
    "    f.write('annotation test')\n",
    "# create the original file and file annotation (uploads the file etc.)\n",
    "namespace = \"dundee.users.meeting.demo\"\n",
    "print \"\\nCreating an OriginalFile and FileAnnotation\"\n",
    "file_ann = conn.createFileAnnfromLocalFile(\n",
    "    file_to_upload, mimetype=\"text/plain\", ns=namespace, desc=None)\n",
    "print \"Attaching FileAnnotation to Plate: \", \"File ID:\", file_ann.getId(), \\\n",
    "    \",\", file_ann.getFile().getName(), \"Size:\", file_ann.getFile().getSize()\n",
    "plate.linkAnnotation(file_ann)"
   ]
  },
  {
   "cell_type": "markdown",
   "metadata": {},
   "source": [
    "***Create OMERO Image from numpy sequence, feeder for createOMEROFigures script****"
   ]
  },
  {
   "cell_type": "code",
   "execution_count": 46,
   "metadata": {},
   "outputs": [
    {
     "name": "stdout",
     "output_type": "stream",
     "text": [
      "Created new Image:76335 Name:\"PNL_Representative_Data_Set_96_Wellnumpy image\"\n"
     ]
    }
   ],
   "source": [
    "size_c = 4\n",
    "size_z = 1\n",
    "size_t = 1\n",
    "def planeGen():\n",
    "    \"\"\"generator will yield planes\"\"\"\n",
    "    for p in planes:\n",
    "        yield p\n",
    "\n",
    "desc = \"Image created from a hard-coded arrays\"\n",
    "i = conn.createImageFromNumpySeq(planeGen(), plate_name + \"numpy image\", size_z, size_c, size_t, description=desc,dataset=None)\n",
    "print 'Created new Image:%s Name:\"%s\"' % (i.getId(), i.getName())"
   ]
  },
  {
   "cell_type": "markdown",
   "metadata": {},
   "source": [
    "***Close Connection***"
   ]
  },
  {
   "cell_type": "code",
   "execution_count": 49,
   "metadata": {
    "collapsed": true
   },
   "outputs": [],
   "source": [
    "conn.close()"
   ]
  }
 ],
 "metadata": {
  "kernelspec": {
   "display_name": "OMERO Python 2",
   "language": "python",
   "name": "python2"
  },
  "language_info": {
   "codemirror_mode": {
    "name": "ipython",
    "version": 2
   },
   "file_extension": ".py",
   "mimetype": "text/x-python",
   "name": "python",
   "nbconvert_exporter": "python",
   "pygments_lexer": "ipython2",
   "version": "2.7.13"
  }
 },
 "nbformat": 4,
 "nbformat_minor": 2
}
