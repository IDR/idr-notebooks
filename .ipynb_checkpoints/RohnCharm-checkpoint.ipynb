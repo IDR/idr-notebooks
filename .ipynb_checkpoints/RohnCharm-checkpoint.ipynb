{
 "cells": [
  {
   "cell_type": "code",
   "execution_count": 1,
   "metadata": {
    "collapsed": true
   },
   "outputs": [],
   "source": [
    "import os\n",
    "import numpy as np\n",
    "import matplotlib.pyplot as plt\n",
    "import shelve\n",
    "import random\n",
    "from pandas import Series,DataFrame,read_csv, merge,concat,read_hdf\n",
    "from omero.gateway import BlitzGateway\n",
    "from matplotlib.widgets import Slider\n",
    "from matplotlib import gridspec\n",
    "from sklearn.externals import joblib\n",
    "\n",
    "%matplotlib nbagg\n",
    "plt.rcParams['image.cmap']='gray'\n",
    "\n",
    "#hard coded dirs\n",
    "h5path='/home/ubuntu/idr_homes/spli/szleo-h5'\n",
    "dataDir='~/data'"
   ]
  },
  {
   "cell_type": "code",
   "execution_count": 2,
   "metadata": {
    "collapsed": true
   },
   "outputs": [],
   "source": [
    "s2w=read_csv(os.path.join(dataDir,'series_to_well.tsv'))"
   ]
  },
  {
   "cell_type": "code",
   "execution_count": null,
   "metadata": {
    "collapsed": true
   },
   "outputs": [],
   "source": []
  }
 ],
 "metadata": {
  "kernelspec": {
   "display_name": "Python 2",
   "language": "python",
   "name": "python2"
  },
  "language_info": {
   "codemirror_mode": {
    "name": "ipython",
    "version": 2
   },
   "file_extension": ".py",
   "mimetype": "text/x-python",
   "name": "python",
   "nbconvert_exporter": "python",
   "pygments_lexer": "ipython2",
   "version": "2.7.11"
  }
 },
 "nbformat": 4,
 "nbformat_minor": 0
}
