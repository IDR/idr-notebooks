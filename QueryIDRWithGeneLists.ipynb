{
 "cells": [
  {
   "cell_type": "markdown",
   "metadata": {},
   "source": [
    "### Import libraries and global variables\n",
    "The cell below will install dependencies if you choose to run the notebook in [Google Colab](https://colab.research.google.com/notebooks/intro.ipynb#recent=true)."
   ]
  },
  {
   "cell_type": "code",
   "execution_count": null,
   "metadata": {},
   "outputs": [],
   "source": [
    "%pip install idr-py"
   ]
  },
  {
   "cell_type": "code",
   "execution_count": 1,
   "metadata": {},
   "outputs": [],
   "source": [
    "import pandas\n",
    "\n",
    "from ipywidgets import widgets, interact, fixed\n",
    "from functools import wraps\n",
    "from IPython import get_ipython\n",
    "from IPython.display import display, HTML\n",
    "\n",
    "from idr import connection\n",
    "from idr import create_http_session\n",
    "from idr import genes_of_interest_go\n",
    "from idr.widgets import textbox_widget\n",
    "from idr.widgets import dropdown_widget\n",
    "from idr import get_phenotypes_for_genelist, get_similar_genes\n",
    "\n",
    "from idr.visualizations import plot_idr_attributes, plot_string_interactions\n",
    "from idr.externalDBs import genes_of_interest_from_string"
   ]
  },
  {
   "cell_type": "markdown",
   "metadata": {},
   "source": [
    "## Querying"
   ]
  },
  {
   "cell_type": "markdown",
   "metadata": {},
   "source": [
    "### Variables:"
   ]
  },
  {
   "cell_type": "code",
   "execution_count": 2,
   "metadata": {},
   "outputs": [
    {
     "data": {
      "application/vnd.jupyter.widget-view+json": {
       "model_id": "9823f09051a14b19b3c0993e6491db20",
       "version_major": 2,
       "version_minor": 0
      },
      "text/plain": [
       "Dropdown(description='Select Organism:', options=('Homo sapiens', 'Saccharomyces cerevisiae'), value='Homo sap…"
      ]
     },
     "metadata": {},
     "output_type": "display_data"
    },
    {
     "data": {
      "application/vnd.jupyter.widget-view+json": {
       "model_id": "d0ac7d808ac94c3faf5f153f2c38dc75",
       "version_major": 2,
       "version_minor": 0
      },
      "text/plain": [
       "Text(value='9606', description='Taxonomy Id:', placeholder='Enter Taxonomy Id for Organism')"
      ]
     },
     "metadata": {},
     "output_type": "display_data"
    },
    {
     "data": {
      "application/vnd.jupyter.widget-view+json": {
       "model_id": "3adbe2506dc44aab8f8876309ea9680c",
       "version_major": 2,
       "version_minor": 0
      },
      "text/plain": [
       "Text(value='GO:0008290', description='Gene Ontology Id:', placeholder='Enter GO Id')"
      ]
     },
     "metadata": {},
     "output_type": "display_data"
    },
    {
     "data": {
      "application/vnd.jupyter.widget-view+json": {
       "model_id": "fd1d058fbad64d6dba67aec9f17f8078",
       "version_major": 2,
       "version_minor": 0
      },
      "text/plain": [
       "Text(value='', description='Manual Gene List:', placeholder='Comma seperated gene symbols')"
      ]
     },
     "metadata": {},
     "output_type": "display_data"
    }
   ],
   "source": [
    "organisms_list = ['Homo sapiens', 'Saccharomyces cerevisiae']\n",
    "org_sel = dropdown_widget(organisms_list, 'Select Organism:', True)\n",
    "tax_id = textbox_widget('9606', 'Enter Taxonomy Id for Organism',\n",
    "                        \"Taxonomy Id:\", True)\n",
    "go_term = textbox_widget('GO:0008290', 'Enter GO Id',\n",
    "                         'Gene Ontology Id:', True)\n",
    "manual_gene_list = textbox_widget('', 'Comma seperated gene symbols',\n",
    "                                  'Manual Gene List:', True)"
   ]
  },
  {
   "cell_type": "markdown",
   "metadata": {},
   "source": [
    "### Import query list"
   ]
  },
  {
   "cell_type": "code",
   "execution_count": 12,
   "metadata": {},
   "outputs": [
    {
     "name": "stdout",
     "output_type": "stream",
     "text": [
      "Query list of genes: ['CAPZA3', 'CAPZA2', 'CAPZA1', 'ADD2', 'ADD1', 'CAPZB', 'HEL-S-86', 'MTPN', 'hCG_28646', 'CAPG']\n"
     ]
    }
   ],
   "source": [
    "go_gene_list = []\n",
    "if go_term.value.split(\",\") != ['']:\n",
    "    go_gene_list = genes_of_interest_go(go_term.value, tax_id.value)\n",
    "else:\n",
    "    print('Please enter a valid Gene Ontology Id')\n",
    "manual_list = manual_gene_list.value.split(\",\")\n",
    "if manual_list != ['']:\n",
    "    go_gene_list = list(set(go_gene_list + manual_list))\n",
    "print(\"Query list of genes:\", go_gene_list)"
   ]
  },
  {
   "cell_type": "markdown",
   "metadata": {},
   "source": [
    "### Query IDR for Phenotypes"
   ]
  },
  {
   "cell_type": "code",
   "execution_count": 13,
   "metadata": {},
   "outputs": [
    {
     "name": "stdout",
     "output_type": "stream",
     "text": [
      "[============================================================] 100.0% ...Iterating through gene list\r"
     ]
    },
    {
     "data": {
      "text/html": [
       "<table border=\"1\" class=\"dataframe\">\n",
       "  <thead>\n",
       "    <tr style=\"text-align: right;\">\n",
       "      <th></th>\n",
       "      <th>Entrez</th>\n",
       "      <th>Ensembl</th>\n",
       "      <th>Key</th>\n",
       "      <th>Value</th>\n",
       "      <th>PhenotypeName</th>\n",
       "      <th>PhenotypeAccession</th>\n",
       "      <th>ScreenIds</th>\n",
       "    </tr>\n",
       "  </thead>\n",
       "  <tbody>\n",
       "    <tr>\n",
       "      <th>CAPZA3</th>\n",
       "      <td>[93661]</td>\n",
       "      <td>[ENSG00000177938]</td>\n",
       "      <td>GeneName</td>\n",
       "      <td>CAPZA3</td>\n",
       "      <td>[misshapen DNA, elongated cell phenotype, fan-...</td>\n",
       "      <td>[CMPO_0000267, CMPO_0000274, CMPO_0000299, CMP...</td>\n",
       "      <td>[206, 206, 206, 206, 206, 206, 206, 206, 206, ...</td>\n",
       "    </tr>\n",
       "    <tr>\n",
       "      <th>CAPZB</th>\n",
       "      <td>[832]</td>\n",
       "      <td>[ENSG00000077549]</td>\n",
       "      <td>GeneName</td>\n",
       "      <td>CAPZB</td>\n",
       "      <td>[decreased cell numbers, fan-shaped lamellipod...</td>\n",
       "      <td>[CMPO_0000272, CMPO_0000288, CMPO_0000274, CMP...</td>\n",
       "      <td>[206, 206, 206, 206, 206, 206, 206, 206, 206, ...</td>\n",
       "    </tr>\n",
       "    <tr>\n",
       "      <th>CAPZA1</th>\n",
       "      <td>[829]</td>\n",
       "      <td>[ENSG00000116489]</td>\n",
       "      <td>GeneName</td>\n",
       "      <td>CAPZA1</td>\n",
       "      <td>[geometric cell phenotype, increased actin loc...</td>\n",
       "      <td>[CMPO_0000272, CMPO_0000288, CMPO_0000289, CMP...</td>\n",
       "      <td>[206, 206, 206, 206, 206, 206, 206, 206, 206, ...</td>\n",
       "    </tr>\n",
       "    <tr>\n",
       "      <th>CAPG</th>\n",
       "      <td>[822]</td>\n",
       "      <td>[ENSG00000042493]</td>\n",
       "      <td>GeneName</td>\n",
       "      <td>CAPG</td>\n",
       "      <td>[cell death phenotype, mitosis delayed phenoty...</td>\n",
       "      <td>[CMPO_0000305, CMPO_0000348, CMPO_0000307, CMP...</td>\n",
       "      <td>[1101, 1101, 1101, 1101, 1101, 1101, 1101, 1302]</td>\n",
       "    </tr>\n",
       "  </tbody>\n",
       "</table>"
      ],
      "text/plain": [
       "<IPython.core.display.HTML object>"
      ]
     },
     "metadata": {},
     "output_type": "display_data"
    }
   ],
   "source": [
    "session = create_http_session()\n",
    "organism = org_sel.value\n",
    "\n",
    "[query_genes_dataframe,\n",
    " screen_to_phenotype_dictionary] = get_phenotypes_for_genelist(session,\n",
    "                                                               go_gene_list,\n",
    "                                                               organism)\n",
    "display(HTML(query_genes_dataframe.to_html(escape=False)))"
   ]
  },
  {
   "cell_type": "markdown",
   "metadata": {},
   "source": [
    "### Get Other Genes from the phenotypes"
   ]
  },
  {
   "cell_type": "code",
   "execution_count": 14,
   "metadata": {},
   "outputs": [
    {
     "name": "stdout",
     "output_type": "stream",
     "text": [
      "Connected to IDR...\n",
      "[============================================================] 100.0% ...Iterating through screens\r"
     ]
    },
    {
     "data": {
      "text/html": [
       "<strong>Query Genes:</strong>"
      ],
      "text/plain": [
       "<IPython.core.display.HTML object>"
      ]
     },
     "metadata": {},
     "output_type": "display_data"
    },
    {
     "data": {
      "text/html": [
       "<table border=\"1\" class=\"dataframe\">\n",
       "  <thead>\n",
       "    <tr style=\"text-align: right;\">\n",
       "      <th></th>\n",
       "      <th>round cell phenotype</th>\n",
       "      <th>cell death phenotype</th>\n",
       "      <th>increased variability of nuclear shape in population</th>\n",
       "      <th>mitosis delayed phenotype</th>\n",
       "      <th>metaphase delayed phenotype</th>\n",
       "      <th>mitosis arrested</th>\n",
       "      <th>mitotic metaphase plate congression phenotype</th>\n",
       "      <th>abnormal cell cycle phenotype</th>\n",
       "      <th>metaphase arrested phenotype</th>\n",
       "      <th>polylobed nuclear phenotype</th>\n",
       "      <th>fan-shaped lamellipodia phenotype</th>\n",
       "      <th>increased variability of cell shape in population</th>\n",
       "      <th>increased lamellipodia width phenotype</th>\n",
       "      <th>misshapen DNA</th>\n",
       "      <th>geometric cell phenotype</th>\n",
       "      <th>increased actin localised to the cytoplasm</th>\n",
       "      <th>decreased nucleus size phenotype</th>\n",
       "      <th>increased microtubule-based processes phenotype</th>\n",
       "      <th>increased cell size phenotype</th>\n",
       "      <th>decreased cell numbers</th>\n",
       "      <th>elongated cell phenotype</th>\n",
       "      <th>increased amount of punctate actin foci phenotype</th>\n",
       "      <th>disorganised cortical actin cytoskeleton phenotype</th>\n",
       "      <th>increased cortical actin cytoskeleton mass phenotype</th>\n",
       "      <th>microtubules nuclear ring phenotype</th>\n",
       "      <th>increased amount of stress fibers phenotype</th>\n",
       "      <th>increased amount of zig-zag stress fibers</th>\n",
       "      <th>microtubules nuclear bracket phenotype</th>\n",
       "      <th>increased number of filopodia</th>\n",
       "      <th>more multinucleate cells</th>\n",
       "      <th>increased amount of transverse stress fibers</th>\n",
       "      <th>increased amount of stress fibers located in the cell cortex phenotype</th>\n",
       "      <th>star shaped cell phenotype</th>\n",
       "      <th>increased number of actin filament phenotype</th>\n",
       "      <th>loss of cell monolayer</th>\n",
       "    </tr>\n",
       "  </thead>\n",
       "  <tbody>\n",
       "    <tr>\n",
       "      <th>1101</th>\n",
       "      <td>NaN</td>\n",
       "      <td>[CAPG]</td>\n",
       "      <td>[CAPZB]</td>\n",
       "      <td>[CAPG]</td>\n",
       "      <td>[CAPG]</td>\n",
       "      <td>[CAPG]</td>\n",
       "      <td>[CAPG]</td>\n",
       "      <td>[CAPG]</td>\n",
       "      <td>[CAPG]</td>\n",
       "      <td>NaN</td>\n",
       "      <td>NaN</td>\n",
       "      <td>NaN</td>\n",
       "      <td>NaN</td>\n",
       "      <td>NaN</td>\n",
       "      <td>NaN</td>\n",
       "      <td>NaN</td>\n",
       "      <td>NaN</td>\n",
       "      <td>NaN</td>\n",
       "      <td>NaN</td>\n",
       "      <td>NaN</td>\n",
       "      <td>NaN</td>\n",
       "      <td>NaN</td>\n",
       "      <td>NaN</td>\n",
       "      <td>NaN</td>\n",
       "      <td>NaN</td>\n",
       "      <td>NaN</td>\n",
       "      <td>NaN</td>\n",
       "      <td>NaN</td>\n",
       "      <td>NaN</td>\n",
       "      <td>NaN</td>\n",
       "      <td>NaN</td>\n",
       "      <td>NaN</td>\n",
       "      <td>NaN</td>\n",
       "      <td>NaN</td>\n",
       "      <td>NaN</td>\n",
       "    </tr>\n",
       "    <tr>\n",
       "      <th>1202</th>\n",
       "      <td>[CAPZB]</td>\n",
       "      <td>NaN</td>\n",
       "      <td>NaN</td>\n",
       "      <td>NaN</td>\n",
       "      <td>NaN</td>\n",
       "      <td>NaN</td>\n",
       "      <td>NaN</td>\n",
       "      <td>NaN</td>\n",
       "      <td>NaN</td>\n",
       "      <td>NaN</td>\n",
       "      <td>NaN</td>\n",
       "      <td>NaN</td>\n",
       "      <td>NaN</td>\n",
       "      <td>NaN</td>\n",
       "      <td>NaN</td>\n",
       "      <td>NaN</td>\n",
       "      <td>NaN</td>\n",
       "      <td>NaN</td>\n",
       "      <td>NaN</td>\n",
       "      <td>NaN</td>\n",
       "      <td>NaN</td>\n",
       "      <td>NaN</td>\n",
       "      <td>NaN</td>\n",
       "      <td>NaN</td>\n",
       "      <td>NaN</td>\n",
       "      <td>NaN</td>\n",
       "      <td>NaN</td>\n",
       "      <td>NaN</td>\n",
       "      <td>NaN</td>\n",
       "      <td>NaN</td>\n",
       "      <td>NaN</td>\n",
       "      <td>NaN</td>\n",
       "      <td>NaN</td>\n",
       "      <td>NaN</td>\n",
       "      <td>NaN</td>\n",
       "    </tr>\n",
       "    <tr>\n",
       "      <th>1302</th>\n",
       "      <td>NaN</td>\n",
       "      <td>NaN</td>\n",
       "      <td>NaN</td>\n",
       "      <td>NaN</td>\n",
       "      <td>NaN</td>\n",
       "      <td>NaN</td>\n",
       "      <td>NaN</td>\n",
       "      <td>NaN</td>\n",
       "      <td>NaN</td>\n",
       "      <td>[CAPG]</td>\n",
       "      <td>NaN</td>\n",
       "      <td>NaN</td>\n",
       "      <td>NaN</td>\n",
       "      <td>NaN</td>\n",
       "      <td>NaN</td>\n",
       "      <td>NaN</td>\n",
       "      <td>NaN</td>\n",
       "      <td>NaN</td>\n",
       "      <td>NaN</td>\n",
       "      <td>NaN</td>\n",
       "      <td>NaN</td>\n",
       "      <td>NaN</td>\n",
       "      <td>NaN</td>\n",
       "      <td>NaN</td>\n",
       "      <td>NaN</td>\n",
       "      <td>NaN</td>\n",
       "      <td>NaN</td>\n",
       "      <td>NaN</td>\n",
       "      <td>NaN</td>\n",
       "      <td>NaN</td>\n",
       "      <td>NaN</td>\n",
       "      <td>NaN</td>\n",
       "      <td>NaN</td>\n",
       "      <td>NaN</td>\n",
       "      <td>NaN</td>\n",
       "    </tr>\n",
       "    <tr>\n",
       "      <th>206</th>\n",
       "      <td>NaN</td>\n",
       "      <td>NaN</td>\n",
       "      <td>NaN</td>\n",
       "      <td>NaN</td>\n",
       "      <td>NaN</td>\n",
       "      <td>NaN</td>\n",
       "      <td>NaN</td>\n",
       "      <td>NaN</td>\n",
       "      <td>NaN</td>\n",
       "      <td>NaN</td>\n",
       "      <td>[CAPZA3, CAPZB]</td>\n",
       "      <td>[CAPZA3]</td>\n",
       "      <td>[CAPZA3, CAPZB]</td>\n",
       "      <td>[CAPZA3]</td>\n",
       "      <td>[CAPZA1]</td>\n",
       "      <td>[CAPZB, CAPZA1]</td>\n",
       "      <td>[CAPZA1]</td>\n",
       "      <td>[CAPZA3, CAPZB]</td>\n",
       "      <td>[CAPZB, CAPZA1]</td>\n",
       "      <td>[CAPZB]</td>\n",
       "      <td>[CAPZA3]</td>\n",
       "      <td>[CAPZA3, CAPZB]</td>\n",
       "      <td>[CAPZA3, CAPZB]</td>\n",
       "      <td>[CAPZB, CAPZA1]</td>\n",
       "      <td>[CAPZB, CAPZA1]</td>\n",
       "      <td>[CAPZA3, CAPZA1]</td>\n",
       "      <td>[CAPZA3]</td>\n",
       "      <td>[CAPZA1]</td>\n",
       "      <td>[CAPZB]</td>\n",
       "      <td>[CAPZB]</td>\n",
       "      <td>[CAPZA3, CAPZA1]</td>\n",
       "      <td>[CAPZA3, CAPZA1]</td>\n",
       "      <td>[CAPZA3]</td>\n",
       "      <td>[CAPZB, CAPZA1]</td>\n",
       "      <td>[CAPZA3, CAPZB]</td>\n",
       "    </tr>\n",
       "  </tbody>\n",
       "</table>"
      ],
      "text/plain": [
       "<IPython.core.display.HTML object>"
      ]
     },
     "metadata": {},
     "output_type": "display_data"
    },
    {
     "data": {
      "text/html": [
       "<strong>Similar Genes:</strong>"
      ],
      "text/plain": [
       "<IPython.core.display.HTML object>"
      ]
     },
     "metadata": {},
     "output_type": "display_data"
    },
    {
     "data": {
      "text/html": [
       "<table border=\"1\" class=\"dataframe\">\n",
       "  <thead>\n",
       "    <tr style=\"text-align: right;\">\n",
       "      <th></th>\n",
       "      <th>round cell phenotype</th>\n",
       "      <th>cell death phenotype</th>\n",
       "      <th>increased variability of nuclear shape in population</th>\n",
       "      <th>mitosis delayed phenotype</th>\n",
       "      <th>metaphase delayed phenotype</th>\n",
       "      <th>mitosis arrested</th>\n",
       "      <th>mitotic metaphase plate congression phenotype</th>\n",
       "      <th>abnormal cell cycle phenotype</th>\n",
       "      <th>metaphase arrested phenotype</th>\n",
       "      <th>polylobed nuclear phenotype</th>\n",
       "      <th>fan-shaped lamellipodia phenotype</th>\n",
       "      <th>increased variability of cell shape in population</th>\n",
       "      <th>increased lamellipodia width phenotype</th>\n",
       "      <th>misshapen DNA</th>\n",
       "      <th>geometric cell phenotype</th>\n",
       "      <th>increased actin localised to the cytoplasm</th>\n",
       "      <th>decreased nucleus size phenotype</th>\n",
       "      <th>increased microtubule-based processes phenotype</th>\n",
       "      <th>increased cell size phenotype</th>\n",
       "      <th>decreased cell numbers</th>\n",
       "      <th>elongated cell phenotype</th>\n",
       "      <th>increased amount of punctate actin foci phenotype</th>\n",
       "      <th>disorganised cortical actin cytoskeleton phenotype</th>\n",
       "      <th>increased cortical actin cytoskeleton mass phenotype</th>\n",
       "      <th>microtubules nuclear ring phenotype</th>\n",
       "      <th>increased amount of stress fibers phenotype</th>\n",
       "      <th>increased amount of zig-zag stress fibers</th>\n",
       "      <th>microtubules nuclear bracket phenotype</th>\n",
       "      <th>increased number of filopodia</th>\n",
       "      <th>more multinucleate cells</th>\n",
       "      <th>increased amount of transverse stress fibers</th>\n",
       "      <th>increased amount of stress fibers located in the cell cortex phenotype</th>\n",
       "      <th>star shaped cell phenotype</th>\n",
       "      <th>increased number of actin filament phenotype</th>\n",
       "      <th>loss of cell monolayer</th>\n",
       "    </tr>\n",
       "  </thead>\n",
       "  <tbody>\n",
       "    <tr>\n",
       "      <th>1101</th>\n",
       "      <td>NaN</td>\n",
       "      <td>[ENSG00000124209, ENSG00000134955, ZDHHC17, OR...</td>\n",
       "      <td>[, C1orf126, ENSG00000131183, ICK, PPAP2B, ENS...</td>\n",
       "      <td>[ENSG00000124209, , ASCC3L1, ENSG00000164542, ...</td>\n",
       "      <td>[ENSG00000124209, , ASCC3L1, MFAP1, ENSG000001...</td>\n",
       "      <td>[ENSG00000124209, , ASCC3L1, ENSG00000164542, ...</td>\n",
       "      <td>[ENSG00000124209, , ASCC3L1, ENSG00000148136, ...</td>\n",
       "      <td>[ENSG00000124209, , ASCC3L1, ENSG00000148136, ...</td>\n",
       "      <td>[ENSG00000124209, , ASCC3L1, MFAP1, ENSG000001...</td>\n",
       "      <td>NaN</td>\n",
       "      <td>NaN</td>\n",
       "      <td>NaN</td>\n",
       "      <td>NaN</td>\n",
       "      <td>NaN</td>\n",
       "      <td>NaN</td>\n",
       "      <td>NaN</td>\n",
       "      <td>NaN</td>\n",
       "      <td>NaN</td>\n",
       "      <td>NaN</td>\n",
       "      <td>NaN</td>\n",
       "      <td>NaN</td>\n",
       "      <td>NaN</td>\n",
       "      <td>NaN</td>\n",
       "      <td>NaN</td>\n",
       "      <td>NaN</td>\n",
       "      <td>NaN</td>\n",
       "      <td>NaN</td>\n",
       "      <td>NaN</td>\n",
       "      <td>NaN</td>\n",
       "      <td>NaN</td>\n",
       "      <td>NaN</td>\n",
       "      <td>NaN</td>\n",
       "      <td>NaN</td>\n",
       "      <td>NaN</td>\n",
       "      <td>NaN</td>\n",
       "    </tr>\n",
       "    <tr>\n",
       "      <th>1202</th>\n",
       "      <td>[, SYTL4, APBB1IP, IFLTD1, BTN3A1, CDX1, FLJ16...</td>\n",
       "      <td>NaN</td>\n",
       "      <td>NaN</td>\n",
       "      <td>NaN</td>\n",
       "      <td>NaN</td>\n",
       "      <td>NaN</td>\n",
       "      <td>NaN</td>\n",
       "      <td>NaN</td>\n",
       "      <td>NaN</td>\n",
       "      <td>NaN</td>\n",
       "      <td>NaN</td>\n",
       "      <td>NaN</td>\n",
       "      <td>NaN</td>\n",
       "      <td>NaN</td>\n",
       "      <td>NaN</td>\n",
       "      <td>NaN</td>\n",
       "      <td>NaN</td>\n",
       "      <td>NaN</td>\n",
       "      <td>NaN</td>\n",
       "      <td>NaN</td>\n",
       "      <td>NaN</td>\n",
       "      <td>NaN</td>\n",
       "      <td>NaN</td>\n",
       "      <td>NaN</td>\n",
       "      <td>NaN</td>\n",
       "      <td>NaN</td>\n",
       "      <td>NaN</td>\n",
       "      <td>NaN</td>\n",
       "      <td>NaN</td>\n",
       "      <td>NaN</td>\n",
       "      <td>NaN</td>\n",
       "      <td>NaN</td>\n",
       "      <td>NaN</td>\n",
       "      <td>NaN</td>\n",
       "      <td>NaN</td>\n",
       "    </tr>\n",
       "    <tr>\n",
       "      <th>1302</th>\n",
       "      <td>NaN</td>\n",
       "      <td>NaN</td>\n",
       "      <td>NaN</td>\n",
       "      <td>NaN</td>\n",
       "      <td>NaN</td>\n",
       "      <td>NaN</td>\n",
       "      <td>NaN</td>\n",
       "      <td>NaN</td>\n",
       "      <td>NaN</td>\n",
       "      <td>[, UBL5, ENSG00000167513, CRISP2, ASCC3L1, NUF...</td>\n",
       "      <td>NaN</td>\n",
       "      <td>NaN</td>\n",
       "      <td>NaN</td>\n",
       "      <td>NaN</td>\n",
       "      <td>NaN</td>\n",
       "      <td>NaN</td>\n",
       "      <td>NaN</td>\n",
       "      <td>NaN</td>\n",
       "      <td>NaN</td>\n",
       "      <td>NaN</td>\n",
       "      <td>NaN</td>\n",
       "      <td>NaN</td>\n",
       "      <td>NaN</td>\n",
       "      <td>NaN</td>\n",
       "      <td>NaN</td>\n",
       "      <td>NaN</td>\n",
       "      <td>NaN</td>\n",
       "      <td>NaN</td>\n",
       "      <td>NaN</td>\n",
       "      <td>NaN</td>\n",
       "      <td>NaN</td>\n",
       "      <td>NaN</td>\n",
       "      <td>NaN</td>\n",
       "      <td>NaN</td>\n",
       "      <td>NaN</td>\n",
       "    </tr>\n",
       "    <tr>\n",
       "      <th>206</th>\n",
       "      <td>NaN</td>\n",
       "      <td>NaN</td>\n",
       "      <td>NaN</td>\n",
       "      <td>NaN</td>\n",
       "      <td>NaN</td>\n",
       "      <td>NaN</td>\n",
       "      <td>NaN</td>\n",
       "      <td>NaN</td>\n",
       "      <td>NaN</td>\n",
       "      <td>NaN</td>\n",
       "      <td>[C6ORF168, BAF53A, PTK2, CYFIP1, LOC201176, RR...</td>\n",
       "      <td>[C6ORF168, MAP4K3, PTK2, DMD, MYH15, RASD1, TM...</td>\n",
       "      <td>[BAF53A, ACTG1, MAP3K9, FMNL1, RAMP, ARHGAP27,...</td>\n",
       "      <td>[ACTG1, DTL, LOC201176, RAD51L3, FMN2, LASP1, ...</td>\n",
       "      <td>[C6ORF168, MAP4K3, TPM4, CYFIP1, ACTG1, RASD1,...</td>\n",
       "      <td>[RASD1, DTL, RHOT2, SPTBN1, TNNT3, LHX3, ECT2,...</td>\n",
       "      <td>[MINK1, MAP4K3, MINK, SVIL, MYH15, MYH4, WASF3...</td>\n",
       "      <td>[C6ORF168, BAF53A, PTK2, CYFIP1, LOC201176, MY...</td>\n",
       "      <td>[BAF53A, CYFIP1, ACTG1, RASD1, DTL, TMSB4X, MY...</td>\n",
       "      <td>[BAF53A, ACTG1, LASP1, MAP3K9, FMNL1, RAMP, AR...</td>\n",
       "      <td>[C6ORF168, BAF53A, PTK2, CYFIP1, MYH15, RASD1,...</td>\n",
       "      <td>[C6ORF168, BAF53A, PTK2, CYFIP1, MYH15, LOC201...</td>\n",
       "      <td>[BAF53A, MAP3K9, FMNL1, RAMP, ARHGAP27, ARHGAP...</td>\n",
       "      <td>[MAP4K3, TPM4, DMD, ACTG1, RASD1, LOC201176, M...</td>\n",
       "      <td>[MAP4K3, DMD, ACTG1, TMSB4X, MYO1F, SPTBN4, NC...</td>\n",
       "      <td>[C6ORF168, MAP4K3, CYFIP1, ACTG1, LOC201176, M...</td>\n",
       "      <td>[TPM4, CYFIP1, ACTG1, RASD1, DTL, LOC201176, M...</td>\n",
       "      <td>[EPB41L1, MINK1, MAP4K3, MINK, DBNL, MYH15, WD...</td>\n",
       "      <td>[BAF53A, CYFIP1, MYH15, RASD1, DTL, LOC201176,...</td>\n",
       "      <td>[BAF53A, PTK2, DMD, ACTG1, RASD1, DTL, LOC2011...</td>\n",
       "      <td>[MAP4K3, PTK2, CYFIP1, ACTG1, RASD1, MYO1F, RA...</td>\n",
       "      <td>[C6ORF168, MAP4K3, PTK2, CYFIP1, ACTG1, RASD1,...</td>\n",
       "      <td>[C6ORF168, BAF53A, PTK2, CYFIP1, LOC201176, RR...</td>\n",
       "      <td>[ACTG1, WDR1, DTL, RAMP, PTPN14, MYOHD1, CFL1,...</td>\n",
       "      <td>[C6ORF168, BAF53A, PTK2, DMD, MYH15, DTL, LOC2...</td>\n",
       "    </tr>\n",
       "  </tbody>\n",
       "</table>"
      ],
      "text/plain": [
       "<IPython.core.display.HTML object>"
      ]
     },
     "metadata": {},
     "output_type": "display_data"
    }
   ],
   "source": [
    "conn = connection('idr.openmicroscopy.org')\n",
    "try:\n",
    "    query_genes_list = list(query_genes_dataframe['Value'])\n",
    "    [similar_genes,\n",
    "     overlap_genes] = get_similar_genes(conn, query_genes_list,\n",
    "                                        screen_to_phenotype_dictionary)\n",
    "    overlap_genes_dataframe = pandas.DataFrame.from_dict(overlap_genes,\n",
    "                                                         orient='index')\n",
    "    display(HTML(\"<strong>Query Genes:</strong>\"))\n",
    "    display(HTML(overlap_genes_dataframe.to_html(escape=False)))\n",
    "\n",
    "    similar_genes_dataframe = pandas.DataFrame.from_dict(similar_genes,\n",
    "                                                         orient='index')\n",
    "    display(HTML(\"<strong>Similar Genes:</strong>\"))\n",
    "    display(HTML(similar_genes_dataframe.to_html(escape=False)))\n",
    "finally:\n",
    "    conn.close()"
   ]
  },
  {
   "cell_type": "markdown",
   "metadata": {},
   "source": [
    "## Visualization"
   ]
  },
  {
   "cell_type": "markdown",
   "metadata": {},
   "source": [
    "### Plot Query Genes"
   ]
  },
  {
   "cell_type": "code",
   "execution_count": 15,
   "metadata": {},
   "outputs": [
    {
     "data": {
      "application/vnd.jupyter.widget-view+json": {
       "model_id": "ec724893797d4378b9160149528dfbe4",
       "version_major": 2,
       "version_minor": 0
      },
      "text/html": [
       "<p>Failed to display Jupyter Widget of type <code>interactive</code>.</p>\n",
       "<p>\n",
       "  If you're reading this message in the Jupyter Notebook or JupyterLab Notebook, it may mean\n",
       "  that the widgets JavaScript is still loading. If this message persists, it\n",
       "  likely means that the widgets JavaScript library is either not installed or\n",
       "  not enabled. See the <a href=\"https://ipywidgets.readthedocs.io/en/stable/user_install.html\">Jupyter\n",
       "  Widgets Documentation</a> for setup instructions.\n",
       "</p>\n",
       "<p>\n",
       "  If you're reading this message in another frontend (for example, a static\n",
       "  rendering on GitHub or <a href=\"https://nbviewer.jupyter.org/\">NBViewer</a>),\n",
       "  it may mean that your frontend doesn't currently support widgets.\n",
       "</p>\n"
      ],
      "text/plain": [
       "interactive(children=(IntSlider(value=1, description=u'Threshold_for_plot', max=10, min=1), IntSlider(value=1, description=u'Threshold_for_category', max=10, min=1), Dropdown(description=u'Filter_by_category', options=('Phenotypes', 'Screens'), value='Phenotypes'), Output()), _dom_classes=('widget-interact',))"
      ]
     },
     "metadata": {},
     "output_type": "display_data"
    }
   ],
   "source": [
    "%matplotlib inline\n",
    "filter_by_category = widgets.Dropdown(description='Filter',\n",
    "                                      options=['Phenotypes', 'Screens'])\n",
    "threshold_for_category = widgets.IntSlider(description='Threshold',\n",
    "                                           min=1, max=10, step=1, value=1)\n",
    "threshold_for_plot = widgets.IntSlider(description='Threshold_for_plot',\n",
    "                                       min=1, max=10, step=1, value=1)\n",
    "\n",
    "\n",
    "@interact(primary_dictionary=fixed(overlap_genes),\n",
    "          secondary_dictionary=fixed(overlap_genes),\n",
    "          plot_title=fixed('Query Genes'),\n",
    "          filter_by_category=filter_by_category,\n",
    "          threshold_for_category=threshold_for_category,\n",
    "          threshold_for_plot=threshold_for_plot)\n",
    "@wraps(plot_idr_attributes)\n",
    "def myfun(**kwargs):\n",
    "    global screenids_removed, phenotypes_removed, genes_of_interest\n",
    "    [screenids_removed, phenotypes_removed,\n",
    "     genes_of_interest] = plot_idr_attributes(**kwargs)"
   ]
  },
  {
   "cell_type": "markdown",
   "metadata": {},
   "source": [
    "### Plot Similar Genes"
   ]
  },
  {
   "cell_type": "code",
   "execution_count": 16,
   "metadata": {},
   "outputs": [
    {
     "data": {
      "application/vnd.jupyter.widget-view+json": {
       "model_id": "029072c2cde54ba58cd8633c89d46a1d",
       "version_major": 2,
       "version_minor": 0
      },
      "text/html": [
       "<p>Failed to display Jupyter Widget of type <code>interactive</code>.</p>\n",
       "<p>\n",
       "  If you're reading this message in the Jupyter Notebook or JupyterLab Notebook, it may mean\n",
       "  that the widgets JavaScript is still loading. If this message persists, it\n",
       "  likely means that the widgets JavaScript library is either not installed or\n",
       "  not enabled. See the <a href=\"https://ipywidgets.readthedocs.io/en/stable/user_install.html\">Jupyter\n",
       "  Widgets Documentation</a> for setup instructions.\n",
       "</p>\n",
       "<p>\n",
       "  If you're reading this message in another frontend (for example, a static\n",
       "  rendering on GitHub or <a href=\"https://nbviewer.jupyter.org/\">NBViewer</a>),\n",
       "  it may mean that your frontend doesn't currently support widgets.\n",
       "</p>\n"
      ],
      "text/plain": [
       "interactive(children=(IntSlider(value=5, description=u'threshold_for_plot', max=10, min=1), Output()), _dom_classes=('widget-interact',))"
      ]
     },
     "metadata": {},
     "output_type": "display_data"
    }
   ],
   "source": [
    "for ids in screenids_removed:\n",
    "    if ids in similar_genes:\n",
    "        del similar_genes[ids]\n",
    "\n",
    "\n",
    "@interact(primary_dictionary=fixed(similar_genes),\n",
    "          secondary_dictionary=fixed(overlap_genes),\n",
    "          plot_title=fixed('Similar genes'),\n",
    "          filter_by_category=fixed(filter_by_category.value),\n",
    "          threshold_for_category=fixed(threshold_for_category.value),\n",
    "          threshold_for_plot=widgets.IntSlider(min=1, max=10, step=1, value=5))\n",
    "@wraps(plot_idr_attributes)\n",
    "def myfun2(**kwargs):\n",
    "    global screenids_removed, phenotypes_removed, genes_of_interest\n",
    "    [screenids_removed, phenotypes_removed,\n",
    "     genes_of_interest] = plot_idr_attributes(**kwargs)\n",
    "\n",
    "\n",
    "similar_genes_list = genes_of_interest"
   ]
  },
  {
   "cell_type": "markdown",
   "metadata": {},
   "source": [
    "### Get String Interactions"
   ]
  },
  {
   "cell_type": "markdown",
   "metadata": {},
   "source": [
    "### Plot interactions between similar genes and query genes/similar genes"
   ]
  },
  {
   "cell_type": "code",
   "execution_count": 17,
   "metadata": {},
   "outputs": [
    {
     "name": "stdout",
     "output_type": "stream",
     "text": [
      "Primary Interactors:\n"
     ]
    },
    {
     "data": {
      "image/png": "[encoded data removed]",
      "text/plain": [
       "<matplotlib.figure.Figure at 0x7f9f7a152dd0>"
      ]
     },
     "metadata": {},
     "output_type": "display_data"
    },
    {
     "name": "stdout",
     "output_type": "stream",
     "text": [
      "Secondary Interactors:\n"
     ]
    },
    {
     "data": {
      "image/png": "[encoded data removed]",
      "text/plain": [
       "<matplotlib.figure.Figure at 0x7f9f7a9e0510>"
      ]
     },
     "metadata": {},
     "output_type": "display_data"
    }
   ],
   "source": [
    "similar_genes_list = list(set(genes_of_interest) - set(go_gene_list))\n",
    "genes_of_interest1 = list(set(go_gene_list + similar_genes_list))\n",
    "interactions_dataframe = genes_of_interest_from_string(genes_of_interest1,\n",
    "                                                       1, tax_id.value)\n",
    "\n",
    "print('Primary Interactors:')\n",
    "df = plot_string_interactions(go_gene_list, similar_genes_list,\n",
    "                              interactions_dataframe)\n",
    "\n",
    "primary_genes = list(df.columns.values)\n",
    "secondary_genes = set(similar_genes_list) - set(primary_genes)\n",
    "print('Secondary Interactors:')\n",
    "df = plot_string_interactions(secondary_genes, primary_genes,\n",
    "                              interactions_dataframe)"
   ]
  },
  {
   "cell_type": "markdown",
   "metadata": {
    "collapsed": true
   },
   "source": [
    "### License\n",
    "Copyright (C) 2016-2020 University of Dundee. All Rights Reserved.\n",
    "This program is free software; you can redistribute it and/or modify it\n",
    "under the terms of the GNU General Public License as published by the\n",
    "Free Software Foundation; either version 2 of the License, or\n",
    "(at your option) any later version.\n",
    "This program is distributed in the hope that it will be useful, but\n",
    "WITHOUT ANY WARRANTY; without even the implied warranty of MERCHANTABILITY\n",
    "or FITNESS FOR A PARTICULAR PURPOSE. See the GNU General Public License for\n",
    "more details. You should have received a copy of the GNU General\n",
    "Public License along with this program; if not, write to the\n",
    "Free Software Foundation,\n",
    "Inc., 51 Franklin Street, Fifth Floor, Boston, MA 02110-1301 USA."
   ]
  }
 ],
 "metadata": {
  "kernelspec": {
   "display_name": "Python 3",
   "language": "python",
   "name": "python3"
  },
  "language_info": {
   "codemirror_mode": {
    "name": "ipython",
    "version": 3
   },
   "file_extension": ".py",
   "mimetype": "text/x-python",
   "name": "python",
   "nbconvert_exporter": "python",
   "pygments_lexer": "ipython3",
   "version": "3.7.10"
  }
 },
 "nbformat": 4,
 "nbformat_minor": 2
}
