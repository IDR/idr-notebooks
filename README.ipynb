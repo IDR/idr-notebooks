{
 "cells": [
  {
   "cell_type": "markdown",
   "metadata": {},
   "source": [
    "## Wrap README.md in a notebook"
   ]
  },
  {
   "cell_type": "code",
   "execution_count": 1,
   "metadata": {},
   "outputs": [
    {
     "data": {
      "text/markdown": [
       "# idr-notebooks\n",
       "\n",
       "A set of Python Notebooks to demonstrate how to access the images and metadata from the Image Data Repository (IDR, https://idr.openmicroscopy.org), including features and all descriptive tags.\n",
       "\n",
       "Full access to IDR metadata and images is provided through the standard OMERO API, documentation for which can be found [here](https://www.openmicroscopy.org/site/support/omero5.2/developers/), with the Python bindings found specifically [here](https://www.openmicroscopy.org/site/support/omero5.2/developers/Python.html). The notebooks in this repository are meant to exemplify the use of that API in the context of the IDR, and the sort of queries that can be done. In particular, they show how to reproduce Figure 1 and Figure 2 of the paper.<sup>[1](#footnote1)</sup> They also make use of the [scipy](https://www.scipy.org/) ecosystem, including [pandas](http://pandas.pydata.org).\n",
       "\n",
       "| **Notebook**                                                                         | **Lang** | **Level**     | **Description**                                                                                                                                                                                                                                                                                                                                                                         | **Launch<sup>[2](#footnote2)</sup>**                                                                              |\n",
       "|:-------------------------------------------------------------------------------------|:---------|:--------------|:----------------------------------------------------------------------------------------------------------------------------------------------------------------------------------------------------------------------------------------------------------------------------------------------------------------------------------------------------------------------------------------|:------------------------------------------------------------------------------------------------------------------|\n",
       "| **[Using Jupyter](notebooks/Using_Jupyter.ipynb)**                                   | Markdown | Intro         | Getting a login account                                                                                                                                                                                                                                                                                                                                                                 | -                                                                                                                 |\n",
       "| **[IDR API example script](notebooks/IDR_API_example_script.ipynb)**                 | Py       | Intro         | Shows an example of using the web API to extract metadata from the IDR. Can also be launched **locally**.                                                                                                                                                                                                                                                                               | [launch](https://idr.openmicroscopy.org/jupyter/user/x/notebooks/notebooks/IDR_API_example_script.ipynb)          |\n",
       "| **[Getting Started](notebooks/Getting_Started.ipynb)**                               | Py       | Intro         | How to connect, some simple data access                                                                                                                                                                                                                                                                                                                                                 | [launch](https://idr.openmicroscopy.org/jupyter/user/x/notebooks/notebooks/Getting_Started.ipynb)                 |\n",
       "| **[Figure 1 Sample of Phenotypes](notebooks/Figure_1_Sampling_of_Phenotypes.ipynb)** | Py       | Paper         | Reproduces Fig. 1 of the paper: downloads annotations from all screens and computes and plots some statistics                                                                                                                                                                                                                                                                           | [launch](https://idr.openmicroscopy.org/jupyter/user/x/notebooks/notebooks/Figure_1_Sampling_of_Phenotypes.ipynb) |\n",
       "| **[Gene Network](notebooks/GeneNetwork.ipynb)**                                      | Py       | Paper         | Reproduces Fig. 2 of the paper: downloads annotations from 3 screens,with a phenotype in common, queries StringDB for interactions and plots the resulting network.,Uses a conversion table for orthologues and gene identifiers which was built offline using biomart,(see article for more details.). It uses [bokeh](http://bokeh.pydata.org/) and py2cytoscape to display networks. | [launch](https://idr.openmicroscopy.org/jupyter/user/x/notebooks/notebooks/GeneNetwork.ipynb)                     |\n",
       "| **[Condensation Bulk Annotations](notebooks/CondensationBulkAnnotations.R.ipynb)**   | **R**    | Study details | Accesses reproduces some plots from the original paper showing how one can interact with OMERO from R                                                                                                                                                                                                                                                                                   | [launch](https://idr.openmicroscopy.org/jupyter/user/x/notebooks/notebooks/CondensationBulkAnnotations.R.ipynb)   |\n",
       "| **[PCA analysis of Charm features](notebooks/PCAanalysisOfCharmFeatures.ipynb)**     | Py       | Study details | Shows how to access the computed CHARM features using OMERO.tables,and performs some analysis on them, showing that single cell information can be accessed from generic tile-based features,without segmentation.                                                                                                                                                                      | [launch](https://idr.openmicroscopy.org/jupyter/user/x/notebooks/notebooks/PCAanalysisOfCharmFeatures.ipynb)      |\n",
       "| **[Rohn Phenotype Clustering](notebooks/RohnPhenotypeClustering.ipynb)**             | Py       | Study details | Downloads annotations from IDR008, and performs some simple phenotypic clustering, building a figure,similar to Fig. 1 of the corresponding paper. Builds a gallery of thumbnails from images of several phenotypes.                                                                                                                                                                    | [launch](https://idr.openmicroscopy.org/jupyter/user/x/notebooks/notebooks/RohnPhenotypeClustering.ipynb)         |\n",
       "| **[Sysgro ROI Length](notebooks/SysgroRoiLength.ipynb)**                             | Py       | Study details | Loads polygons which are linked to the images of idr0001-graml-sysgro and compares the length of cells labelled with a particular gene (e.g. ASH2) versus the wild type.                                                                                                                                                                                                                | [launch](https://idr.openmicroscopy.org/jupyter/user/x/notebooks/notebooks/SysgroRoiLength.ipynb)                 |\n",
       "| **[Calculate Sharpness](notebooks/CalculateSharpness.ipynb)**                        | Py       | Example       | Calculates sharpness of images and generates heatmaps.                                                                                                                                                                                                                                                                                                                                  | [launch](https://idr.openmicroscopy.org/jupyter/user/x/notebooks/notebooks/CalculateSharpness.ipynb)              |\n",
       "| **[Create OMERO.figures](notebooks/CreateOmeroFigures.ipynb)**                       | Py       | Example       | Re-uses the sharpness calculations to generate an OMERO.figure                                                                                                                                                                                                                                                                                                                          | [launch](https://idr.openmicroscopy.org/jupyter/user/x/notebooks/notebooks/CreateOmeroFigures.ipynb)              |\n",
       "\n",
       "\n",
       "----\n",
       "\n",
       "<a name=\"footnote1\">1</a>: Available on bioRxiv under https://doi.org/10.1101/089359\n",
       "\n",
       "<a name=\"footnote2\">2</a>: If you don't yet have [an account](notebooks/Using_Jupyter.ipynb), notebooks can be viewed under http://github.com/IDR/idr-metadata or more completely under https://nbviewer.jupyter.org/github/idr/idr-notebooks/tree/master/\n"
      ],
      "text/plain": [
       "<IPython.core.display.Markdown object>"
      ]
     },
     "metadata": {},
     "output_type": "display_data"
    }
   ],
   "source": [
    "from IPython.display import display, Markdown\n",
    "with open('README.md', 'r') as fh:\n",
    "  content = fh.read()\n",
    "display(Markdown(content))"
   ]
  }
 ],
 "metadata": {
  "kernelspec": {
   "display_name": "Python 3",
   "language": "python",
   "name": "python3"
  },
  "language_info": {
   "codemirror_mode": {
    "name": "ipython",
    "version": 3
   },
   "file_extension": ".py",
   "mimetype": "text/x-python",
   "name": "python",
   "nbconvert_exporter": "python",
   "pygments_lexer": "ipython3",
   "version": "3.5.2"
  }
 },
 "nbformat": 4,
 "nbformat_minor": 2
}
