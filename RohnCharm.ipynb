{
 "cells": [
  {
   "cell_type": "code",
   "execution_count": 11,
   "metadata": {
    "collapsed": true
   },
   "outputs": [],
   "source": [
    "import os\n",
    "import sys\n",
    "import numpy as np\n",
    "import matplotlib.pyplot as plt\n",
    "import shelve\n",
    "import random\n",
    "import itertools\n",
    "from pandas import Series,DataFrame,read_csv, merge,concat,read_hdf\n",
    "from omero.gateway import BlitzGateway\n",
    "from matplotlib.widgets import Slider\n",
    "from matplotlib import gridspec\n",
    "from sklearn.externals import joblib\n",
    "from contextlib import closing\n",
    "\n",
    "\n",
    "%matplotlib nbagg\n",
    "plt.rcParams['image.cmap']='gray'\n",
    "\n",
    "#hard coded dirs\n",
    "dbpath='/home/ubuntu/idr_homes/szleo/features/idr0008-rohn-actinome/screenB/output/'\n",
    "dataDir='/home/ubuntu/data'"
   ]
  },
  {
   "cell_type": "code",
   "execution_count": 3,
   "metadata": {
    "collapsed": true
   },
   "outputs": [],
   "source": [
    "def getImIDs(plns, wells,fields):\n",
    "    lids=list()\n",
    "    try:\n",
    "        conn = BlitzGateway('demo', 'cambridge', host='orca-3.openmicroscopy.org', port=4064)\n",
    "        connected = conn.connect()\n",
    "\n",
    "        for pln,wstr,f in zip(plns,wells,fields):\n",
    "        \n",
    "            r=ord(wstr[0:1])-65\n",
    "            c=int(wstr[1:])-1\n",
    "            \n",
    "#            print pln,wstr,f,r,c\n",
    "\n",
    "            Q='''select well from Well as well \n",
    "            left outer join fetch well.wellSamples as ws \n",
    "            left outer join fetch ws.image as img \n",
    "            where well.plate.name = \\'''' + pln+ '\\' and well.row='+str(r)+' and well.column='+str(c)\n",
    "\n",
    "            w=conn.getQueryService().findAllByQuery(Q,None)[0]\n",
    "            im = w.getWellSample(int(f)-1).getImage()\n",
    "            lids.append(im.getId().getValue())\n",
    "    finally:\n",
    "        conn._closeSession()\n",
    "    \n",
    "    return lids"
   ]
  },
  {
   "cell_type": "code",
   "execution_count": 4,
   "metadata": {
    "collapsed": true
   },
   "outputs": [],
   "source": [
    "def getMapAnnotationsAsDicts(imids):\n",
    "    la=list()\n",
    "    try:\n",
    "        conn = BlitzGateway('demo', 'cambridge', host='orca-3.openmicroscopy.org', port=4064)\n",
    "        connected = conn.connect()\n",
    "\n",
    "        for imid in imids:\n",
    "            im= conn.getObject(\"Image\",imid)\n",
    "            a=im.getAnnotation()\n",
    "            la.append(dict(a.getValue()))\n",
    "    finally:\n",
    "        conn._closeSession()\n",
    "    \n",
    "    return la"
   ]
  },
  {
   "cell_type": "code",
   "execution_count": 5,
   "metadata": {
    "collapsed": false
   },
   "outputs": [],
   "source": [
    "def db2pd(fin):\n",
    "#from https://gist.github.com/manics/bc003272b038027faf653d576f3c9393\n",
    "\n",
    "    # f = \"plate1_1_013_5_features.db\"\n",
    "\n",
    "#    print \"Opening %s\" % fin\n",
    "    with closing(shelve.open(fin, \"r\")) as f:\n",
    "        values = list(f.itervalues())\n",
    "\n",
    "    x = values[0]\n",
    "\n",
    "    header_meta = []\n",
    "    header_ft = []\n",
    "    header_ftn = []\n",
    "    # width_ft = []\n",
    "\n",
    "    for k in sorted(x.keys()):\n",
    "        v = x[k]\n",
    "        if isinstance(v, list):\n",
    "            header_ft.append(k)\n",
    "            header_ftn.extend('%s_%02d' % (k, i) for i in xrange(len(v)))\n",
    "            # width_ftn.append(len(v))\n",
    "        else:\n",
    "            header_meta.append(k)\n",
    "\n",
    "    assert len(header_ft) == 124\n",
    "    assert len(header_meta) == 11\n",
    "\n",
    "#    print \"Processing %s\" % fin\n",
    "    rows = []\n",
    "    for vs in values:\n",
    "        meta = [vs[h] for h in header_meta]\n",
    "        ft = [vs[h] for h in header_ft]\n",
    "        r = itertools.chain.from_iterable([meta] + ft)\n",
    "        rows.append(list(r))\n",
    "\n",
    "#    print \"Creating dataframe %s\" % fin\n",
    "    df = DataFrame(rows, columns=(header_meta + header_ftn))\n",
    "\n",
    "    #print \"Saving %s\" % fout\n",
    "    #df.to_hdf(fout, 'wndcharm', complevel=9, complib='zlib')\n",
    "\n",
    "    return df\n"
   ]
  },
  {
   "cell_type": "markdown",
   "metadata": {},
   "source": [
    "## preping data"
   ]
  },
  {
   "cell_type": "code",
   "execution_count": 6,
   "metadata": {
    "collapsed": false,
    "scrolled": true
   },
   "outputs": [
    {
     "ename": "KeyboardInterrupt",
     "evalue": "",
     "output_type": "error",
     "traceback": [
      "\u001b[1;31m---------------------------------------------------------------------------\u001b[0m",
      "\u001b[1;31mKeyboardInterrupt\u001b[0m                         Traceback (most recent call last)",
      "\u001b[1;32m<ipython-input-6-6b62700eeeeb>\u001b[0m in \u001b[0;36m<module>\u001b[1;34m()\u001b[0m\n\u001b[0;32m      2\u001b[0m \u001b[1;33m\u001b[0m\u001b[0m\n\u001b[0;32m      3\u001b[0m \u001b[0ms2w\u001b[0m\u001b[1;33m=\u001b[0m\u001b[0mread_csv\u001b[0m\u001b[1;33m(\u001b[0m\u001b[0mos\u001b[0m\u001b[1;33m.\u001b[0m\u001b[0mpath\u001b[0m\u001b[1;33m.\u001b[0m\u001b[0mjoin\u001b[0m\u001b[1;33m(\u001b[0m\u001b[0mdataDir\u001b[0m\u001b[1;33m,\u001b[0m\u001b[1;34m'series_to_well.tsv'\u001b[0m\u001b[1;33m)\u001b[0m\u001b[1;33m,\u001b[0m\u001b[0msep\u001b[0m\u001b[1;33m=\u001b[0m\u001b[1;34m'\\t'\u001b[0m\u001b[1;33m)\u001b[0m\u001b[1;33m\u001b[0m\u001b[0m\n\u001b[1;32m----> 4\u001b[1;33m \u001b[0mlids\u001b[0m\u001b[1;33m=\u001b[0m\u001b[0mgetImIDs\u001b[0m\u001b[1;33m(\u001b[0m\u001b[0ms2w\u001b[0m\u001b[1;33m.\u001b[0m\u001b[0mPLATE\u001b[0m\u001b[1;33m,\u001b[0m \u001b[0ms2w\u001b[0m\u001b[1;33m.\u001b[0m\u001b[0mWELL\u001b[0m\u001b[1;33m,\u001b[0m\u001b[0ms2w\u001b[0m\u001b[1;33m.\u001b[0m\u001b[0mFIELD\u001b[0m\u001b[1;33m)\u001b[0m\u001b[1;33m\u001b[0m\u001b[0m\n\u001b[0m\u001b[0;32m      5\u001b[0m \u001b[0ms2w\u001b[0m\u001b[1;33m[\u001b[0m\u001b[1;34m'imIds'\u001b[0m\u001b[1;33m]\u001b[0m\u001b[1;33m=\u001b[0m\u001b[0mlids\u001b[0m\u001b[1;33m\u001b[0m\u001b[0m\n\u001b[0;32m      6\u001b[0m \u001b[0mla\u001b[0m\u001b[1;33m=\u001b[0m\u001b[0mgetMapAnnotationsAsDicts\u001b[0m\u001b[1;33m(\u001b[0m\u001b[0ms2w\u001b[0m\u001b[1;33m.\u001b[0m\u001b[0mimIds\u001b[0m\u001b[1;33m)\u001b[0m\u001b[1;33m\u001b[0m\u001b[0m\n",
      "\u001b[1;32m<ipython-input-3-27090af4a6d5>\u001b[0m in \u001b[0;36mgetImIDs\u001b[1;34m(plns, wells, fields)\u001b[0m\n\u001b[0;32m     17\u001b[0m             where well.plate.name = \\'''' + pln+ '\\' and well.row='+str(r)+' and well.column='+str(c)\n\u001b[0;32m     18\u001b[0m \u001b[1;33m\u001b[0m\u001b[0m\n\u001b[1;32m---> 19\u001b[1;33m             \u001b[0mw\u001b[0m\u001b[1;33m=\u001b[0m\u001b[0mconn\u001b[0m\u001b[1;33m.\u001b[0m\u001b[0mgetQueryService\u001b[0m\u001b[1;33m(\u001b[0m\u001b[1;33m)\u001b[0m\u001b[1;33m.\u001b[0m\u001b[0mfindAllByQuery\u001b[0m\u001b[1;33m(\u001b[0m\u001b[0mQ\u001b[0m\u001b[1;33m,\u001b[0m\u001b[0mNone\u001b[0m\u001b[1;33m)\u001b[0m\u001b[1;33m[\u001b[0m\u001b[1;36m0\u001b[0m\u001b[1;33m]\u001b[0m\u001b[1;33m\u001b[0m\u001b[0m\n\u001b[0m\u001b[0;32m     20\u001b[0m             \u001b[0mim\u001b[0m \u001b[1;33m=\u001b[0m \u001b[0mw\u001b[0m\u001b[1;33m.\u001b[0m\u001b[0mgetWellSample\u001b[0m\u001b[1;33m(\u001b[0m\u001b[0mint\u001b[0m\u001b[1;33m(\u001b[0m\u001b[0mf\u001b[0m\u001b[1;33m)\u001b[0m\u001b[1;33m-\u001b[0m\u001b[1;36m1\u001b[0m\u001b[1;33m)\u001b[0m\u001b[1;33m.\u001b[0m\u001b[0mgetImage\u001b[0m\u001b[1;33m(\u001b[0m\u001b[1;33m)\u001b[0m\u001b[1;33m\u001b[0m\u001b[0m\n\u001b[0;32m     21\u001b[0m             \u001b[0mlids\u001b[0m\u001b[1;33m.\u001b[0m\u001b[0mappend\u001b[0m\u001b[1;33m(\u001b[0m\u001b[0mim\u001b[0m\u001b[1;33m.\u001b[0m\u001b[0mgetId\u001b[0m\u001b[1;33m(\u001b[0m\u001b[1;33m)\u001b[0m\u001b[1;33m.\u001b[0m\u001b[0mgetValue\u001b[0m\u001b[1;33m(\u001b[0m\u001b[1;33m)\u001b[0m\u001b[1;33m)\u001b[0m\u001b[1;33m\u001b[0m\u001b[0m\n",
      "\u001b[1;32m/home/ubuntu/OMERO.server-5.1.4-ice35-b55/lib/python/omero/gateway/__init__.pyc\u001b[0m in \u001b[0;36m__call__\u001b[1;34m(self, *args, **kwargs)\u001b[0m\n\u001b[0;32m   4158\u001b[0m     \u001b[1;32mdef\u001b[0m \u001b[0m__call__\u001b[0m\u001b[1;33m(\u001b[0m\u001b[0mself\u001b[0m\u001b[1;33m,\u001b[0m \u001b[1;33m*\u001b[0m\u001b[0margs\u001b[0m\u001b[1;33m,\u001b[0m \u001b[1;33m**\u001b[0m\u001b[0mkwargs\u001b[0m\u001b[1;33m)\u001b[0m\u001b[1;33m:\u001b[0m\u001b[1;33m\u001b[0m\u001b[0m\n\u001b[0;32m   4159\u001b[0m         \u001b[1;32mtry\u001b[0m\u001b[1;33m:\u001b[0m\u001b[1;33m\u001b[0m\u001b[0m\n\u001b[1;32m-> 4160\u001b[1;33m             \u001b[1;32mreturn\u001b[0m \u001b[0mself\u001b[0m\u001b[1;33m.\u001b[0m\u001b[0mf\u001b[0m\u001b[1;33m(\u001b[0m\u001b[1;33m*\u001b[0m\u001b[0margs\u001b[0m\u001b[1;33m,\u001b[0m \u001b[1;33m**\u001b[0m\u001b[0mkwargs\u001b[0m\u001b[1;33m)\u001b[0m\u001b[1;33m\u001b[0m\u001b[0m\n\u001b[0m\u001b[0;32m   4161\u001b[0m         \u001b[1;32mexcept\u001b[0m \u001b[0mException\u001b[0m\u001b[1;33m,\u001b[0m \u001b[0me\u001b[0m\u001b[1;33m:\u001b[0m\u001b[1;33m\u001b[0m\u001b[0m\n\u001b[0;32m   4162\u001b[0m             \u001b[0mself\u001b[0m\u001b[1;33m.\u001b[0m\u001b[0mdebug\u001b[0m\u001b[1;33m(\u001b[0m\u001b[0me\u001b[0m\u001b[1;33m.\u001b[0m\u001b[0m__class__\u001b[0m\u001b[1;33m.\u001b[0m\u001b[0m__name__\u001b[0m\u001b[1;33m,\u001b[0m \u001b[0margs\u001b[0m\u001b[1;33m,\u001b[0m \u001b[0mkwargs\u001b[0m\u001b[1;33m)\u001b[0m\u001b[1;33m\u001b[0m\u001b[0m\n",
      "\u001b[1;32m/home/ubuntu/OMERO.server-5.1.4-ice35-b55/lib/python/omero_api_IQuery_ice.pyc\u001b[0m in \u001b[0;36mfindAllByQuery\u001b[1;34m(self, query, params, _ctx)\u001b[0m\n\u001b[0;32m    236\u001b[0m \u001b[1;33m\u001b[0m\u001b[0m\n\u001b[0;32m    237\u001b[0m         \u001b[1;32mdef\u001b[0m \u001b[0mfindAllByQuery\u001b[0m\u001b[1;33m(\u001b[0m\u001b[0mself\u001b[0m\u001b[1;33m,\u001b[0m \u001b[0mquery\u001b[0m\u001b[1;33m,\u001b[0m \u001b[0mparams\u001b[0m\u001b[1;33m,\u001b[0m \u001b[0m_ctx\u001b[0m\u001b[1;33m=\u001b[0m\u001b[0mNone\u001b[0m\u001b[1;33m)\u001b[0m\u001b[1;33m:\u001b[0m\u001b[1;33m\u001b[0m\u001b[0m\n\u001b[1;32m--> 238\u001b[1;33m             \u001b[1;32mreturn\u001b[0m \u001b[0m_M_omero\u001b[0m\u001b[1;33m.\u001b[0m\u001b[0mapi\u001b[0m\u001b[1;33m.\u001b[0m\u001b[0mIQuery\u001b[0m\u001b[1;33m.\u001b[0m\u001b[0m_op_findAllByQuery\u001b[0m\u001b[1;33m.\u001b[0m\u001b[0minvoke\u001b[0m\u001b[1;33m(\u001b[0m\u001b[0mself\u001b[0m\u001b[1;33m,\u001b[0m \u001b[1;33m(\u001b[0m\u001b[1;33m(\u001b[0m\u001b[0mquery\u001b[0m\u001b[1;33m,\u001b[0m \u001b[0mparams\u001b[0m\u001b[1;33m)\u001b[0m\u001b[1;33m,\u001b[0m \u001b[0m_ctx\u001b[0m\u001b[1;33m)\u001b[0m\u001b[1;33m)\u001b[0m\u001b[1;33m\u001b[0m\u001b[0m\n\u001b[0m\u001b[0;32m    239\u001b[0m \u001b[1;33m\u001b[0m\u001b[0m\n\u001b[0;32m    240\u001b[0m         \u001b[1;32mdef\u001b[0m \u001b[0mbegin_findAllByQuery\u001b[0m\u001b[1;33m(\u001b[0m\u001b[0mself\u001b[0m\u001b[1;33m,\u001b[0m \u001b[0mquery\u001b[0m\u001b[1;33m,\u001b[0m \u001b[0mparams\u001b[0m\u001b[1;33m,\u001b[0m \u001b[0m_response\u001b[0m\u001b[1;33m=\u001b[0m\u001b[0mNone\u001b[0m\u001b[1;33m,\u001b[0m \u001b[0m_ex\u001b[0m\u001b[1;33m=\u001b[0m\u001b[0mNone\u001b[0m\u001b[1;33m,\u001b[0m \u001b[0m_sent\u001b[0m\u001b[1;33m=\u001b[0m\u001b[0mNone\u001b[0m\u001b[1;33m,\u001b[0m \u001b[0m_ctx\u001b[0m\u001b[1;33m=\u001b[0m\u001b[0mNone\u001b[0m\u001b[1;33m)\u001b[0m\u001b[1;33m:\u001b[0m\u001b[1;33m\u001b[0m\u001b[0m\n",
      "\u001b[1;32m/home/ubuntu/OMERO.server-5.1.4-ice35-b55/lib/python/omero/ObjectFactoryRegistrar.pyc\u001b[0m in \u001b[0;36mcreate\u001b[1;34m(self, type)\u001b[0m\n\u001b[0;32m   1492\u001b[0m     \u001b[1;32mfrom\u001b[0m \u001b[0momero_model_WellI\u001b[0m \u001b[1;32mimport\u001b[0m \u001b[0mWellI\u001b[0m\u001b[1;33m\u001b[0m\u001b[0m\n\u001b[0;32m   1493\u001b[0m \u001b[1;33m\u001b[0m\u001b[0m\n\u001b[1;32m-> 1494\u001b[1;33m     \u001b[1;32mdef\u001b[0m \u001b[0mcreate\u001b[0m\u001b[1;33m(\u001b[0m\u001b[0mself\u001b[0m\u001b[1;33m,\u001b[0m \u001b[0mtype\u001b[0m\u001b[1;33m)\u001b[0m\u001b[1;33m:\u001b[0m\u001b[1;33m\u001b[0m\u001b[0m\n\u001b[0m\u001b[0;32m   1495\u001b[0m         \u001b[1;32mreturn\u001b[0m \u001b[0mself\u001b[0m\u001b[1;33m.\u001b[0m\u001b[0mWellI\u001b[0m\u001b[1;33m(\u001b[0m\u001b[1;33m)\u001b[0m\u001b[1;33m\u001b[0m\u001b[0m\n\u001b[0;32m   1496\u001b[0m \u001b[1;33m\u001b[0m\u001b[0m\n",
      "\u001b[1;31mKeyboardInterrupt\u001b[0m: "
     ]
    }
   ],
   "source": [
    "#metadata: linking omero, features, annotations\n",
    "\n",
    "s2w=read_csv(os.path.join(dataDir,'series_to_well.tsv'),sep='\\t')\n",
    "lids=getImIDs(s2w.PLATE, s2w.WELL,s2w.FIELD)\n",
    "s2w['imIds']=lids\n",
    "la=getMapAnnotationsAsDicts(s2w.imIds)\n",
    "s2w['annotations']=la\n",
    "s2w.to_csv(os.path.join(dataDir,'series_to_well_IDAnnotation.tsv'),sep='\\t')"
   ]
  },
  {
   "cell_type": "code",
   "execution_count": 7,
   "metadata": {
    "collapsed": false,
    "scrolled": true
   },
   "outputs": [],
   "source": [
    "s2w=read_csv(os.path.join(dataDir,'series_to_well_IDAnnotation.tsv'),sep='\\t')"
   ]
  },
  {
   "cell_type": "code",
   "execution_count": 8,
   "metadata": {
    "collapsed": false,
    "scrolled": true
   },
   "outputs": [
    {
     "name": "stdout",
     "output_type": "stream",
     "text": [
      "0\n",
      "50\n",
      "100\n",
      "150\n",
      "200\n",
      "250\n",
      "300\n",
      "350\n",
      "400\n",
      "450\n",
      "500\n",
      "550\n",
      "600\n",
      "650\n",
      "700\n",
      "750\n",
      "800\n",
      "850\n",
      "900\n",
      "950\n",
      "1000\n",
      "1050\n",
      "1100\n"
     ]
    }
   ],
   "source": [
    "pln='Plate10_Actinome1'\n",
    "df=DataFrame()\n",
    "for s in range(s2w[s2w.PLATE==pln].SERIES.max()):\n",
    "    if s%50==0:\n",
    "        print s\n",
    "    fin=os.path.join(dbpath, pln,'116_86',pln+'_'+str(s)+'_features'+'.db')\n",
    "    df=concat((df,db2pd(fin)))"
   ]
  },
  {
   "cell_type": "code",
   "execution_count": 12,
   "metadata": {
    "collapsed": false,
    "scrolled": false
   },
   "outputs": [
    {
     "name": "stderr",
     "output_type": "stream",
     "text": [
      "/home/ubuntu/anaconda2/lib/python2.7/site-packages/pandas/io/pytables.py:257: PerformanceWarning: \n",
      "your performance may suffer as PyTables will pickle object types that it cannot\n",
      "map directly to c-types [inferred_type->unicode,key->axis0] [items->None]\n",
      "\n",
      "  f(store)\n",
      "/home/ubuntu/anaconda2/lib/python2.7/site-packages/pandas/io/pytables.py:257: PerformanceWarning: \n",
      "your performance may suffer as PyTables will pickle object types that it cannot\n",
      "map directly to c-types [inferred_type->unicode,key->block0_items] [items->None]\n",
      "\n",
      "  f(store)\n",
      "/home/ubuntu/anaconda2/lib/python2.7/site-packages/pandas/io/pytables.py:257: PerformanceWarning: \n",
      "your performance may suffer as PyTables will pickle object types that it cannot\n",
      "map directly to c-types [inferred_type->unicode,key->block1_items] [items->None]\n",
      "\n",
      "  f(store)\n",
      "/home/ubuntu/anaconda2/lib/python2.7/site-packages/pandas/core/generic.py:939: PerformanceWarning: \n",
      "your performance may suffer as PyTables will pickle object types that it cannot\n",
      "map directly to c-types [inferred_type->unicode,key->block2_values] [items->[u'img_path', u'name', u'version']]\n",
      "\n",
      "  return pytables.to_hdf(path_or_buf, key, self, **kwargs)\n",
      "/home/ubuntu/anaconda2/lib/python2.7/site-packages/pandas/io/pytables.py:257: PerformanceWarning: \n",
      "your performance may suffer as PyTables will pickle object types that it cannot\n",
      "map directly to c-types [inferred_type->unicode,key->block2_items] [items->None]\n",
      "\n",
      "  f(store)\n"
     ]
    }
   ],
   "source": [
    "fout=os.path.join(dataDir,pln+'_features'+'.h5')\n",
    "df.to_hdf(fout, 'wndcharm', complevel=9, complib='zlib')"
   ]
  },
  {
   "cell_type": "markdown",
   "metadata": {
    "collapsed": false
   },
   "source": [
    "## loading stuff"
   ]
  },
  {
   "cell_type": "code",
   "execution_count": null,
   "metadata": {
    "collapsed": true
   },
   "outputs": [],
   "source": [
    "s2w=read_csv(os.path.join(dataDir,'series_to_well_IDAnnotation.tsv'),sep='\\t')\n",
    "df=read_hdf() #TODO"
   ]
  },
  {
   "cell_type": "code",
   "execution_count": 13,
   "metadata": {
    "collapsed": true
   },
   "outputs": [],
   "source": [
    "pca= joblib.load(os.path.join(dataDir,'PCA_4condentationwells.pkl')) "
   ]
  },
  {
   "cell_type": "markdown",
   "metadata": {},
   "source": [
    "## DAPI PCA"
   ]
  },
  {
   "cell_type": "code",
   "execution_count": 19,
   "metadata": {
    "collapsed": false
   },
   "outputs": [],
   "source": [
    "dfdapi=df[df.c==0].iloc[:,11:]\n",
    "dfdapi=scale(dfdapi)\n",
    "datPCA=pca.transform(dat)"
   ]
  },
  {
   "cell_type": "code",
   "execution_count": 18,
   "metadata": {
    "collapsed": false
   },
   "outputs": [
    {
     "data": {
      "text/html": [
       "<div>\n",
       "<table border=\"1\" class=\"dataframe\">\n",
       "  <thead>\n",
       "    <tr style=\"text-align: right;\">\n",
       "      <th></th>\n",
       "      <th>chebyshev_coefficients_00</th>\n",
       "      <th>chebyshev_coefficients_01</th>\n",
       "      <th>chebyshev_coefficients_02</th>\n",
       "      <th>chebyshev_coefficients_03</th>\n",
       "      <th>chebyshev_coefficients_04</th>\n",
       "      <th>chebyshev_coefficients_05</th>\n",
       "      <th>chebyshev_coefficients_06</th>\n",
       "      <th>chebyshev_coefficients_07</th>\n",
       "      <th>chebyshev_coefficients_08</th>\n",
       "      <th>chebyshev_coefficients_09</th>\n",
       "    </tr>\n",
       "  </thead>\n",
       "  <tbody>\n",
       "    <tr>\n",
       "      <th>0</th>\n",
       "      <td>1</td>\n",
       "      <td>2</td>\n",
       "      <td>0</td>\n",
       "      <td>2</td>\n",
       "      <td>0</td>\n",
       "      <td>1</td>\n",
       "      <td>0</td>\n",
       "      <td>6</td>\n",
       "      <td>10</td>\n",
       "      <td>14</td>\n",
       "    </tr>\n",
       "    <tr>\n",
       "      <th>1</th>\n",
       "      <td>1</td>\n",
       "      <td>1</td>\n",
       "      <td>0</td>\n",
       "      <td>0</td>\n",
       "      <td>0</td>\n",
       "      <td>0</td>\n",
       "      <td>0</td>\n",
       "      <td>0</td>\n",
       "      <td>0</td>\n",
       "      <td>0</td>\n",
       "    </tr>\n",
       "    <tr>\n",
       "      <th>2</th>\n",
       "      <td>2</td>\n",
       "      <td>0</td>\n",
       "      <td>0</td>\n",
       "      <td>0</td>\n",
       "      <td>0</td>\n",
       "      <td>0</td>\n",
       "      <td>0</td>\n",
       "      <td>0</td>\n",
       "      <td>0</td>\n",
       "      <td>2</td>\n",
       "    </tr>\n",
       "    <tr>\n",
       "      <th>3</th>\n",
       "      <td>2</td>\n",
       "      <td>0</td>\n",
       "      <td>0</td>\n",
       "      <td>0</td>\n",
       "      <td>0</td>\n",
       "      <td>0</td>\n",
       "      <td>0</td>\n",
       "      <td>0</td>\n",
       "      <td>0</td>\n",
       "      <td>1</td>\n",
       "    </tr>\n",
       "    <tr>\n",
       "      <th>4</th>\n",
       "      <td>2</td>\n",
       "      <td>0</td>\n",
       "      <td>0</td>\n",
       "      <td>0</td>\n",
       "      <td>0</td>\n",
       "      <td>0</td>\n",
       "      <td>0</td>\n",
       "      <td>0</td>\n",
       "      <td>0</td>\n",
       "      <td>1</td>\n",
       "    </tr>\n",
       "  </tbody>\n",
       "</table>\n",
       "</div>"
      ],
      "text/plain": [
       "   chebyshev_coefficients_00  chebyshev_coefficients_01  \\\n",
       "0                          1                          2   \n",
       "1                          1                          1   \n",
       "2                          2                          0   \n",
       "3                          2                          0   \n",
       "4                          2                          0   \n",
       "\n",
       "   chebyshev_coefficients_02  chebyshev_coefficients_03  \\\n",
       "0                          0                          2   \n",
       "1                          0                          0   \n",
       "2                          0                          0   \n",
       "3                          0                          0   \n",
       "4                          0                          0   \n",
       "\n",
       "   chebyshev_coefficients_04  chebyshev_coefficients_05  \\\n",
       "0                          0                          1   \n",
       "1                          0                          0   \n",
       "2                          0                          0   \n",
       "3                          0                          0   \n",
       "4                          0                          0   \n",
       "\n",
       "   chebyshev_coefficients_06  chebyshev_coefficients_07  \\\n",
       "0                          0                          6   \n",
       "1                          0                          0   \n",
       "2                          0                          0   \n",
       "3                          0                          0   \n",
       "4                          0                          0   \n",
       "\n",
       "   chebyshev_coefficients_08  chebyshev_coefficients_09  \n",
       "0                         10                         14  \n",
       "1                          0                          0  \n",
       "2                          0                          2  \n",
       "3                          0                          1  \n",
       "4                          0                          1  "
      ]
     },
     "execution_count": 18,
     "metadata": {},
     "output_type": "execute_result"
    }
   ],
   "source": [
    "df.iloc[:,11:21].head()"
   ]
  },
  {
   "cell_type": "code",
   "execution_count": null,
   "metadata": {
    "collapsed": true
   },
   "outputs": [],
   "source": []
  }
 ],
 "metadata": {
  "kernelspec": {
   "display_name": "Python 2",
   "language": "python",
   "name": "python2"
  },
  "language_info": {
   "codemirror_mode": {
    "name": "ipython",
    "version": 2
   },
   "file_extension": ".py",
   "mimetype": "text/x-python",
   "name": "python",
   "nbconvert_exporter": "python",
   "pygments_lexer": "ipython2",
   "version": "2.7.11"
  }
 },
 "nbformat": 4,
 "nbformat_minor": 0
}
