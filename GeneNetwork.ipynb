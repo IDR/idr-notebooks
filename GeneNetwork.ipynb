{
 "cells": [
  {
   "cell_type": "code",
   "execution_count": 1,
   "metadata": {
    "collapsed": false
   },
   "outputs": [
    {
     "data": {
      "application/javascript": [
       "if (window['cytoscape'] === undefined) {\n",
       "    var paths = {\n",
       "        cytoscape: 'http://cytoscape.github.io/cytoscape.js/api/cytoscape.js-latest/cytoscape.min'\n",
       "    };\n",
       "\n",
       "    require.config({\n",
       "        paths: paths\n",
       "    });\n",
       "\n",
       "    require(['cytoscape'], function (cytoscape) {\n",
       "        console.log('Loading Cytoscape.js Module...');\n",
       "        window['cytoscape'] = cytoscape;\n",
       "\n",
       "        var event = document.createEvent(\"HTMLEvents\");\n",
       "        event.initEvent(\"load_cytoscape\", true, false);\n",
       "        window.dispatchEvent(event);\n",
       "    });\n",
       "}"
      ],
      "text/plain": [
       "<IPython.core.display.Javascript object>"
      ]
     },
     "metadata": {},
     "output_type": "display_data"
    }
   ],
   "source": [
    "import requests\n",
    "from pandas import DataFrame,read_csv, concat\n",
    "from io import StringIO\n",
    "import omero\n",
    "\n",
    "from py2cytoscape.data.cyrest_client import CyRestClient\n",
    "import py2cytoscape.util.dataframe as cydf\n",
    "import numpy as np\n",
    "from IPython.display import Image\n",
    "import py2cytoscape.cytoscapejs as renderer"
   ]
  },
  {
   "cell_type": "code",
   "execution_count": 2,
   "metadata": {
    "collapsed": true
   },
   "outputs": [],
   "source": [
    "\n",
    "def connection():\n",
    "    import omero\n",
    "    from omero.gateway import BlitzGateway\n",
    "    c = omero.client(\"192.168.1.10\")\n",
    "    c.enableKeepAlive(300)\n",
    "    sf = c.createSession(\"public\", \"KejDatfu\")\n",
    "    conn = BlitzGateway(client_obj=c)\n",
    "    return conn\n"
   ]
  },
  {
   "cell_type": "code",
   "execution_count": 3,
   "metadata": {
    "collapsed": false
   },
   "outputs": [],
   "source": [
    "def getBulkAnnotationAsDf(screenID,conn):\n",
    "#    ofId=8118685\n",
    "    sc=conn.getObject('Screen',screenID)\n",
    "    for ann in sc.listAnnotations():\n",
    "        if isinstance(ann, omero.gateway.FileAnnotationWrapper):\n",
    "            if (ann.getFile().getName()=='bulk_annotations'):\n",
    "                if (ann.getFile().getSize()> 147625090): #about 140Mb?\n",
    "                    print \"that's a big file...\"\n",
    "                    return None\n",
    "                ofId=ann.getFile().getId()\n",
    "                break\n",
    "\n",
    "\n",
    "    original_file = omero.model.OriginalFileI(ofId, False)\n",
    "\n",
    "    openTable = conn.c.sf.sharedResources().openTable(original_file)\n",
    "    rowCount = openTable.getNumberOfRows()\n",
    "\n",
    "    #table to df\n",
    "\n",
    "    column_names = [col.name for col in openTable.getHeaders()]\n",
    "\n",
    "    black_list = []\n",
    "    column_indices = []\n",
    "    for column_name in column_names:\n",
    "        if column_name in black_list:\n",
    "            continue\n",
    "        column_indices.append(column_names.index(column_name))\n",
    "\n",
    "    table_data = openTable.slice(column_indices, None)\n",
    "    data = []\n",
    "    for index in range(rowCount):\n",
    "        row_values = [column.values[index] for column in table_data.columns]\n",
    "        data.append(row_values)\n",
    "\n",
    "    dfAnn=DataFrame(data)\n",
    "    dfAnn.columns=column_names\n",
    "    return dfAnn\n"
   ]
  },
  {
   "cell_type": "code",
   "execution_count": 4,
   "metadata": {
    "collapsed": true
   },
   "outputs": [],
   "source": [
    "def getGenesFromPhenotype(df,phTerm):\n",
    "    colElong=[]\n",
    "    for col in df.columns:\n",
    "        if ('Term Accession' in col):\n",
    "            if (phTerm in df[col].unique()):\n",
    "                colElong.append(col)\n",
    "\n",
    "    dfElong=concat([df[df[col]!= ''] for col in colElong])\n",
    "    return dfElong['Gene Identifier'].unique()\n",
    "    "
   ]
  },
  {
   "cell_type": "code",
   "execution_count": 5,
   "metadata": {
    "collapsed": false
   },
   "outputs": [],
   "source": [
    "conn=connection()\n"
   ]
  },
  {
   "cell_type": "markdown",
   "metadata": {},
   "source": [
    "## Querying the IDR"
   ]
  },
  {
   "cell_type": "code",
   "execution_count": 6,
   "metadata": {
    "collapsed": false
   },
   "outputs": [
    {
     "name": "stdout",
     "output_type": "stream",
     "text": [
      "loading 3\n",
      "got 39 genes\n",
      "loading 206\n",
      "got 72 genes\n",
      "loading 1202\n",
      "got 89 genes\n"
     ]
    }
   ],
   "source": [
    "\n",
    "#CMPO term to look for\n",
    "phTerm='CMPO_0000077'\n",
    "\n",
    "#ids of screens:\n",
    "#scId=3 #Graml et al.\n",
    "#scId=206 #Rohn et al., B\n",
    "#scId=1202 #Fuchs et al., B\n",
    "\n",
    "screens=[3,206,1202]\n",
    "\n",
    "genes=[]\n",
    "for scId in screens:\n",
    "    print 'loading '+str(scId)\n",
    "\n",
    "    #loading bulk_annotations of screens as dataframes\n",
    "    df=getBulkAnnotationAsDf(scId,conn)\n",
    "    \n",
    "    #unique genes with CPMO term\n",
    "    cur=getGenesFromPhenotype(df,phTerm)\n",
    "    print 'got '+str(len(cur))+ ' genes'\n",
    "    genes.extend(cur)\n",
    "\n",
    "\n",
    "\n",
    "\n",
    "\n",
    "\n",
    "\n",
    "#translation; the table was build off line using biomart\n",
    "dfTrans=read_csv('TableOfGenesWithElongatedCellPhenotype.csv')\n",
    "\n",
    "#extract IDs \n",
    "genesE84=concat([dfTrans[dfTrans['Screen GeneID']==x]['Human Ortholog Ensembl 84'] for x in genes])\n",
    "genesE84=genesE84[genesE84!='(null)']"
   ]
  },
  {
   "cell_type": "code",
   "execution_count": 7,
   "metadata": {
    "collapsed": false
   },
   "outputs": [
    {
     "name": "stdout",
     "output_type": "stream",
     "text": [
      "['SPAC3G9.08', 'SPCC970.10c', 'SPCC553.08c', 'SPAC16C9.05', 'SPAC30.02c', 'SPAC3H8.05c', 'SPCC306.04c', 'SPCC338.16', 'SPCP1E11.06', 'SPAC1556.01c']\n",
      "15    ENSG00000071243\n",
      "16    ENSG00000111653\n",
      "17    ENSG00000168395\n",
      "18    ENSG00000168556\n",
      "47    ENSG00000103549\n",
      "48    ENSG00000155827\n",
      "44    ENSG00000140598\n",
      "2     ENSG00000109118\n",
      "11    ENSG00000198841\n",
      "40    ENSG00000099381\n",
      "Name: Human Ortholog Ensembl 84, dtype: object\n"
     ]
    }
   ],
   "source": [
    "print genes[:10]\n",
    "print genesE84.head(10)"
   ]
  },
  {
   "cell_type": "code",
   "execution_count": 111,
   "metadata": {
    "collapsed": false
   },
   "outputs": [],
   "source": [
    "genesIn=[]\n",
    "genesNotIn=[]\n",
    "for g in genes:\n",
    "    cur=dfTrans[dfTrans['Screen GeneID']==g]['Human Ortholog Ensembl 84']\n",
    "    if ((len(cur)>0) and (( cur != '(null)').any())):\n",
    "        genesIn.append(g)\n",
    "    else:\n",
    "        genesNotIn.append(g)\n",
    "with open('genesIn.txt', 'w') as thefile:\n",
    "    for item in genesIn:\n",
    "        print>>thefile, item\n",
    "with open('genesNotIn.txt', 'w') as thefile:\n",
    "    for item in genesNotIn:\n",
    "        print>>thefile, item\n",
    "\n"
   ]
  },
  {
   "cell_type": "code",
   "execution_count": null,
   "metadata": {
    "collapsed": true
   },
   "outputs": [],
   "source": []
  },
  {
   "cell_type": "code",
   "execution_count": 107,
   "metadata": {
    "collapsed": false
   },
   "outputs": [
    {
     "data": {
      "text/plain": [
       "17"
      ]
     },
     "execution_count": 107,
     "metadata": {},
     "output_type": "execute_result"
    }
   ],
   "source": [
    "len(genesNotIn)\n",
    "           \n"
   ]
  },
  {
   "cell_type": "markdown",
   "metadata": {},
   "source": [
    "## REST query of STRING db"
   ]
  },
  {
   "cell_type": "code",
   "execution_count": 8,
   "metadata": {
    "collapsed": false
   },
   "outputs": [],
   "source": [
    "#building STRINdb REST api query\n",
    "url='http://string-db.org/api/psi-mi-tab/interactionsList?identifiers='\n",
    "for g in genesE84:\n",
    "    url=url+g+'%250D'"
   ]
  },
  {
   "cell_type": "code",
   "execution_count": 9,
   "metadata": {
    "collapsed": false
   },
   "outputs": [],
   "source": [
    "Res = requests.get(url)"
   ]
  },
  {
   "cell_type": "code",
   "execution_count": 10,
   "metadata": {
    "collapsed": false
   },
   "outputs": [],
   "source": [
    "df=read_csv(StringIO(Res.text),sep='\\t',header=None)"
   ]
  },
  {
   "cell_type": "code",
   "execution_count": 11,
   "metadata": {
    "collapsed": false,
    "scrolled": true
   },
   "outputs": [
    {
     "data": {
      "text/html": [
       "<div>\n",
       "<table border=\"1\" class=\"dataframe\">\n",
       "  <thead>\n",
       "    <tr style=\"text-align: right;\">\n",
       "      <th></th>\n",
       "      <th>0</th>\n",
       "      <th>1</th>\n",
       "      <th>2</th>\n",
       "      <th>3</th>\n",
       "      <th>4</th>\n",
       "      <th>5</th>\n",
       "      <th>6</th>\n",
       "      <th>7</th>\n",
       "      <th>8</th>\n",
       "      <th>9</th>\n",
       "      <th>10</th>\n",
       "      <th>11</th>\n",
       "      <th>12</th>\n",
       "      <th>13</th>\n",
       "      <th>14</th>\n",
       "    </tr>\n",
       "  </thead>\n",
       "  <tbody>\n",
       "    <tr>\n",
       "      <th>0</th>\n",
       "      <td>string:9606.ENSP00000472929</td>\n",
       "      <td>string:9606.ENSP00000400175</td>\n",
       "      <td>VAV1</td>\n",
       "      <td>RHOA</td>\n",
       "      <td>-</td>\n",
       "      <td>-</td>\n",
       "      <td>-</td>\n",
       "      <td>-</td>\n",
       "      <td>-</td>\n",
       "      <td>taxid:9606</td>\n",
       "      <td>taxid:9606</td>\n",
       "      <td>-</td>\n",
       "      <td>-</td>\n",
       "      <td>-</td>\n",
       "      <td>score:0.999|escore:0.812|dscore:0.9|tscore:0.974</td>\n",
       "    </tr>\n",
       "    <tr>\n",
       "      <th>1</th>\n",
       "      <td>string:9606.ENSP00000324124</td>\n",
       "      <td>string:9606.ENSP00000215587</td>\n",
       "      <td>POLR2L</td>\n",
       "      <td>POLR2E</td>\n",
       "      <td>-</td>\n",
       "      <td>-</td>\n",
       "      <td>-</td>\n",
       "      <td>-</td>\n",
       "      <td>-</td>\n",
       "      <td>taxid:9606</td>\n",
       "      <td>taxid:9606</td>\n",
       "      <td>-</td>\n",
       "      <td>-</td>\n",
       "      <td>-</td>\n",
       "      <td>score:0.999|ascore:0.491|escore:0.999|dscore:0...</td>\n",
       "    </tr>\n",
       "    <tr>\n",
       "      <th>2</th>\n",
       "      <td>string:9606.ENSP00000325863</td>\n",
       "      <td>string:9606.ENSP00000265335</td>\n",
       "      <td>MRE11A</td>\n",
       "      <td>RAD50</td>\n",
       "      <td>-</td>\n",
       "      <td>-</td>\n",
       "      <td>-</td>\n",
       "      <td>-</td>\n",
       "      <td>-</td>\n",
       "      <td>taxid:9606</td>\n",
       "      <td>taxid:9606</td>\n",
       "      <td>-</td>\n",
       "      <td>-</td>\n",
       "      <td>-</td>\n",
       "      <td>score:0.999|nscore:0.462|ascore:0.146|escore:0...</td>\n",
       "    </tr>\n",
       "    <tr>\n",
       "      <th>3</th>\n",
       "      <td>string:9606.ENSP00000390475</td>\n",
       "      <td>string:9606.ENSP00000351446</td>\n",
       "      <td>CXXC1</td>\n",
       "      <td>WDR5</td>\n",
       "      <td>-</td>\n",
       "      <td>-</td>\n",
       "      <td>-</td>\n",
       "      <td>-</td>\n",
       "      <td>-</td>\n",
       "      <td>taxid:9606</td>\n",
       "      <td>taxid:9606</td>\n",
       "      <td>-</td>\n",
       "      <td>-</td>\n",
       "      <td>-</td>\n",
       "      <td>score:0.999|ascore:0.09|escore:0.997|dscore:0....</td>\n",
       "    </tr>\n",
       "    <tr>\n",
       "      <th>4</th>\n",
       "      <td>string:9606.ENSP00000335153</td>\n",
       "      <td>string:9606.ENSP00000305958</td>\n",
       "      <td>HSP90AA1</td>\n",
       "      <td>STIP1</td>\n",
       "      <td>-</td>\n",
       "      <td>-</td>\n",
       "      <td>-</td>\n",
       "      <td>-</td>\n",
       "      <td>-</td>\n",
       "      <td>taxid:9606</td>\n",
       "      <td>taxid:9606</td>\n",
       "      <td>-</td>\n",
       "      <td>-</td>\n",
       "      <td>-</td>\n",
       "      <td>score:0.999|ascore:0.939|escore:0.999|tscore:0.99</td>\n",
       "    </tr>\n",
       "    <tr>\n",
       "      <th>5</th>\n",
       "      <td>string:9606.ENSP00000324124</td>\n",
       "      <td>string:9606.ENSP00000301788</td>\n",
       "      <td>POLR2L</td>\n",
       "      <td>POLR2G</td>\n",
       "      <td>-</td>\n",
       "      <td>-</td>\n",
       "      <td>-</td>\n",
       "      <td>-</td>\n",
       "      <td>-</td>\n",
       "      <td>taxid:9606</td>\n",
       "      <td>taxid:9606</td>\n",
       "      <td>-</td>\n",
       "      <td>-</td>\n",
       "      <td>-</td>\n",
       "      <td>score:0.999|ascore:0.098|escore:0.999|dscore:0...</td>\n",
       "    </tr>\n",
       "    <tr>\n",
       "      <th>6</th>\n",
       "      <td>string:9606.ENSP00000264515</td>\n",
       "      <td>string:9606.ENSP00000262519</td>\n",
       "      <td>RBBP5</td>\n",
       "      <td>SETD1A</td>\n",
       "      <td>-</td>\n",
       "      <td>-</td>\n",
       "      <td>-</td>\n",
       "      <td>-</td>\n",
       "      <td>-</td>\n",
       "      <td>taxid:9606</td>\n",
       "      <td>taxid:9606</td>\n",
       "      <td>-</td>\n",
       "      <td>-</td>\n",
       "      <td>-</td>\n",
       "      <td>score:0.999|escore:0.999|dscore:0.9|tscore:0.872</td>\n",
       "    </tr>\n",
       "    <tr>\n",
       "      <th>7</th>\n",
       "      <td>string:9598.ENSPTRP00000057559</td>\n",
       "      <td>string:9598.ENSPTRP00000044421</td>\n",
       "      <td>RBBP5</td>\n",
       "      <td>ASH2L</td>\n",
       "      <td>-</td>\n",
       "      <td>-</td>\n",
       "      <td>-</td>\n",
       "      <td>-</td>\n",
       "      <td>-</td>\n",
       "      <td>taxid:9598</td>\n",
       "      <td>taxid:9598</td>\n",
       "      <td>-</td>\n",
       "      <td>-</td>\n",
       "      <td>-</td>\n",
       "      <td>score:0.999|escore:0.958|dscore:0.443|tscore:0...</td>\n",
       "    </tr>\n",
       "    <tr>\n",
       "      <th>8</th>\n",
       "      <td>string:9606.ENSP00000351446</td>\n",
       "      <td>string:9606.ENSP00000267197</td>\n",
       "      <td>WDR5</td>\n",
       "      <td>SETD1B</td>\n",
       "      <td>-</td>\n",
       "      <td>-</td>\n",
       "      <td>-</td>\n",
       "      <td>-</td>\n",
       "      <td>-</td>\n",
       "      <td>taxid:9606</td>\n",
       "      <td>taxid:9606</td>\n",
       "      <td>-</td>\n",
       "      <td>-</td>\n",
       "      <td>-</td>\n",
       "      <td>score:0.999|escore:0.975|dscore:0.9|tscore:0.919</td>\n",
       "    </tr>\n",
       "    <tr>\n",
       "      <th>9</th>\n",
       "      <td>string:9606.ENSP00000340896</td>\n",
       "      <td>string:9606.ENSP00000264515</td>\n",
       "      <td>ASH2L</td>\n",
       "      <td>RBBP5</td>\n",
       "      <td>-</td>\n",
       "      <td>-</td>\n",
       "      <td>-</td>\n",
       "      <td>-</td>\n",
       "      <td>-</td>\n",
       "      <td>taxid:9606</td>\n",
       "      <td>taxid:9606</td>\n",
       "      <td>-</td>\n",
       "      <td>-</td>\n",
       "      <td>-</td>\n",
       "      <td>score:0.999|ascore:0.065|escore:0.999|dscore:0...</td>\n",
       "    </tr>\n",
       "  </tbody>\n",
       "</table>\n",
       "</div>"
      ],
      "text/plain": [
       "                               0                               1         2   \\\n",
       "0     string:9606.ENSP00000472929     string:9606.ENSP00000400175      VAV1   \n",
       "1     string:9606.ENSP00000324124     string:9606.ENSP00000215587    POLR2L   \n",
       "2     string:9606.ENSP00000325863     string:9606.ENSP00000265335    MRE11A   \n",
       "3     string:9606.ENSP00000390475     string:9606.ENSP00000351446     CXXC1   \n",
       "4     string:9606.ENSP00000335153     string:9606.ENSP00000305958  HSP90AA1   \n",
       "5     string:9606.ENSP00000324124     string:9606.ENSP00000301788    POLR2L   \n",
       "6     string:9606.ENSP00000264515     string:9606.ENSP00000262519     RBBP5   \n",
       "7  string:9598.ENSPTRP00000057559  string:9598.ENSPTRP00000044421     RBBP5   \n",
       "8     string:9606.ENSP00000351446     string:9606.ENSP00000267197      WDR5   \n",
       "9     string:9606.ENSP00000340896     string:9606.ENSP00000264515     ASH2L   \n",
       "\n",
       "       3  4  5  6  7  8           9           10 11 12 13  \\\n",
       "0    RHOA  -  -  -  -  -  taxid:9606  taxid:9606  -  -  -   \n",
       "1  POLR2E  -  -  -  -  -  taxid:9606  taxid:9606  -  -  -   \n",
       "2   RAD50  -  -  -  -  -  taxid:9606  taxid:9606  -  -  -   \n",
       "3    WDR5  -  -  -  -  -  taxid:9606  taxid:9606  -  -  -   \n",
       "4   STIP1  -  -  -  -  -  taxid:9606  taxid:9606  -  -  -   \n",
       "5  POLR2G  -  -  -  -  -  taxid:9606  taxid:9606  -  -  -   \n",
       "6  SETD1A  -  -  -  -  -  taxid:9606  taxid:9606  -  -  -   \n",
       "7   ASH2L  -  -  -  -  -  taxid:9598  taxid:9598  -  -  -   \n",
       "8  SETD1B  -  -  -  -  -  taxid:9606  taxid:9606  -  -  -   \n",
       "9   RBBP5  -  -  -  -  -  taxid:9606  taxid:9606  -  -  -   \n",
       "\n",
       "                                                  14  \n",
       "0   score:0.999|escore:0.812|dscore:0.9|tscore:0.974  \n",
       "1  score:0.999|ascore:0.491|escore:0.999|dscore:0...  \n",
       "2  score:0.999|nscore:0.462|ascore:0.146|escore:0...  \n",
       "3  score:0.999|ascore:0.09|escore:0.997|dscore:0....  \n",
       "4  score:0.999|ascore:0.939|escore:0.999|tscore:0.99  \n",
       "5  score:0.999|ascore:0.098|escore:0.999|dscore:0...  \n",
       "6   score:0.999|escore:0.999|dscore:0.9|tscore:0.872  \n",
       "7  score:0.999|escore:0.958|dscore:0.443|tscore:0...  \n",
       "8   score:0.999|escore:0.975|dscore:0.9|tscore:0.919  \n",
       "9  score:0.999|ascore:0.065|escore:0.999|dscore:0...  "
      ]
     },
     "execution_count": 11,
     "metadata": {},
     "output_type": "execute_result"
    }
   ],
   "source": [
    "df.head(10)"
   ]
  },
  {
   "cell_type": "markdown",
   "metadata": {
    "collapsed": false
   },
   "source": [
    "## Building Cytoscape network"
   ]
  },
  {
   "cell_type": "code",
   "execution_count": null,
   "metadata": {
    "collapsed": false,
    "scrolled": true
   },
   "outputs": [],
   "source": [
    "\n",
    "### Using the cytoscape REST api, needs a cytoscape desktop app running \n",
    "\n",
    "\n",
    "# Create Client\n",
    "cy = CyRestClient()\n",
    "# Clear current session\n",
    "cy.session.delete()\n",
    "\n",
    "#create network (will appear in the cytoscape desktop windows)\n",
    "net1 = cy.network.create_from_dataframe(df, source_col=2,target_col=3,interaction_col=10)\n",
    "\n",
    "cy.layout.apply(network=net1)\n",
    "cy.layout.fit(network=net1)\n",
    "\n",
    "style_s3 = cy.style.create('Sample3')\n",
    "cy.style.apply(style=style_s3, network=net1)\n",
    "\n",
    "#get display as static render of cytoscape\n",
    "Image(net1.get_png(height=400))\n",
    "\n",
    "#dynamic rendering using cytoscape.js\n",
    "\n",
    "style_for_widget = cy.style.get(style_s3.get_name(), data_format='cytoscapejs')\n",
    "renderer.render(net1.get_first_view(), style=style_for_widget['style'], background='#000000')"
   ]
  },
  {
   "cell_type": "code",
   "execution_count": null,
   "metadata": {
    "collapsed": false
   },
   "outputs": [],
   "source": [
    "#direct dynamic rendering using cytoscape.js\n",
    "\n",
    "renderer.render(cydf.from_dataframe(df, source_col=2,target_col=3,interaction_col=10),layout_algorithm='circle',style='Big Labels')"
   ]
  },
  {
   "cell_type": "code",
   "execution_count": null,
   "metadata": {
    "collapsed": true
   },
   "outputs": [],
   "source": []
  },
  {
   "cell_type": "code",
   "execution_count": null,
   "metadata": {
    "collapsed": true
   },
   "outputs": [],
   "source": []
  }
 ],
 "metadata": {
  "kernelspec": {
   "display_name": "OMERO Python 2",
   "language": "python",
   "name": "python2"
  },
  "language_info": {
   "codemirror_mode": {
    "name": "ipython",
    "version": 2
   },
   "file_extension": ".py",
   "mimetype": "text/x-python",
   "name": "python",
   "nbconvert_exporter": "python",
   "pygments_lexer": "ipython2",
   "version": "2.7.6"
  }
 },
 "nbformat": 4,
 "nbformat_minor": 0
}
