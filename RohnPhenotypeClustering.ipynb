{
 "cells": [
  {
   "cell_type": "markdown",
   "metadata": {},
   "source": [
    "# Example of phenotypic clustering\n",
    "This notebook exemplifies some steps involved in working with annotations\n",
    "from IDR.\n",
    "It will build parts of Figure 1 of the paper from Rohn et al.\n",
    "'Comparative RNAi screening identifies a conserved core metazoan\n",
    "actinome by phenotype,'\n",
    "see http://dx.doi.org/10.1083/jcb.201103168.\n",
    "Link to screen on IDR [idr0008-rohn-actinome/screenB](https://idr.openmicroscopy.org/webclient/?show=screen-206)"
   ]
  },
  {
   "cell_type": "markdown",
   "metadata": {},
   "source": [
    "# Figure 1"
   ]
  },
  {
   "cell_type": "markdown",
   "metadata": {},
   "source": [
    "![Figure1](./includes/figure1_rohn_phenotype_clustering.png)"
   ]
  },
  {
   "cell_type": "markdown",
   "metadata": {},
   "source": [
    "### Dependencies\n",
    " * [Matplotlib](https://matplotlib.org/)\n",
    " * [NumPy](https://www.numpy.org/)\n",
    " * [Pandas](https://pandas.pydata.org/)\n",
    " * [SciPy](https://www.scipy.org/)\n",
    " * [Seaborn](https://seaborn.pydata.org/)\n",
    " \n",
    "The cell below will install dependencies if you choose to run the notebook in [Google Colab](https://colab.research.google.com/notebooks/intro.ipynb#recent=true)."
   ]
  },
  {
   "cell_type": "code",
   "execution_count": null,
   "metadata": {},
   "outputs": [],
   "source": [
    "%pip install idr-py"
   ]
  },
  {
   "cell_type": "code",
   "execution_count": 7,
   "metadata": {},
   "outputs": [],
   "source": [
    "from IPython import get_ipython\n",
    "import random\n",
    "import re\n",
    "import omero\n",
    "\n",
    "import numpy as np\n",
    "import matplotlib.pyplot as plt\n",
    "import scipy.cluster.hierarchy as hchy\n",
    "\n",
    "from seaborn import clustermap\n",
    "from pandas import DataFrame\n",
    "from idr import connection\n",
    "import warnings\n",
    "\n",
    "get_ipython().run_line_magic('matplotlib', 'inline')\n",
    "plt.rcParams['image.cmap'] = 'gray'"
   ]
  },
  {
   "cell_type": "markdown",
   "metadata": {},
   "source": [
    "### Common variables"
   ]
  },
  {
   "cell_type": "code",
   "execution_count": 8,
   "metadata": {},
   "outputs": [],
   "source": [
    "screenId = 206"
   ]
  },
  {
   "cell_type": "markdown",
   "metadata": {},
   "source": [
    "### Method definitions"
   ]
  },
  {
   "cell_type": "code",
   "execution_count": 9,
   "metadata": {},
   "outputs": [],
   "source": [
    "def buildComposite(st, n, m, smpl=None):\n",
    "    \"\"\"\n",
    "    nxm shots from st in a grid, as an image\n",
    "    \"\"\"\n",
    "    nr = st.shape[0]\n",
    "    nc = st.shape[1]\n",
    "    if smpl is None:\n",
    "        smpl = st.shape[2] // (n * m)\n",
    "    res = np.zeros((nr * n, nc * m))\n",
    "    for i in range(n):\n",
    "        for j in range(m):\n",
    "            try:\n",
    "                res[i * nr: i * nr + nr,\n",
    "                    j * nc: j * nc + nc] = st[:, :, (i * m + j)*smpl]\n",
    "            except Exception:\n",
    "                break\n",
    "    return res"
   ]
  },
  {
   "cell_type": "code",
   "execution_count": 10,
   "metadata": {},
   "outputs": [],
   "source": [
    "def getRohnTile(imid, x, y, w, h, conn, chan=0):\n",
    "    \"\"\"\n",
    "    fetches one tile from one image\n",
    "    \"\"\"\n",
    "    im = conn.getObject(\"Image\", imid)\n",
    "    pix = im.getPrimaryPixels()\n",
    "\n",
    "    tile = (x, y, w, h)\n",
    "    plane = pix.getTile(theZ=0, theT=0, theC=chan, tile=tile)\n",
    "\n",
    "    return plane"
   ]
  },
  {
   "cell_type": "code",
   "execution_count": 11,
   "metadata": {},
   "outputs": [],
   "source": [
    "def getBulkAnnotationAsDf(screenID, conn):\n",
    "    ofId = None\n",
    "    sc = conn.getObject('Screen', screenID)\n",
    "    for ann in sc.listAnnotations():\n",
    "        if isinstance(ann, omero.gateway.FileAnnotationWrapper):\n",
    "            if (ann.getFile().getName() == 'bulk_annotations'):\n",
    "                if (ann.getFile().getSize() > 1476250900):\n",
    "                    print(\"that's a big file...\")\n",
    "                    return None\n",
    "                ofId = ann.getFile().getId()\n",
    "                break\n",
    "\n",
    "    if ofId is None:\n",
    "        return None\n",
    "\n",
    "    original_file = omero.model.OriginalFileI(ofId, False)\n",
    "\n",
    "    table = conn.c.sf.sharedResources().openTable(original_file)\n",
    "    count = 0\n",
    "    try:\n",
    "        rowCount = table.getNumberOfRows()\n",
    "\n",
    "        column_names = []\n",
    "        pattern = re.compile(r\"Phenotype \\d+$\")\n",
    "        for col in table.getHeaders():\n",
    "            column_names.append(col.name)\n",
    "            if pattern.match(col.name) is not None:\n",
    "                count = count + 1\n",
    "\n",
    "        black_list = []\n",
    "        column_indices = []\n",
    "        for column_name in column_names:\n",
    "            if column_name in black_list:\n",
    "                continue\n",
    "            column_indices.append(column_names.index(column_name))\n",
    "\n",
    "        table_data = table.slice(column_indices, None)\n",
    "    finally:\n",
    "        table.close()\n",
    "\n",
    "    data = []\n",
    "    for index in range(rowCount):\n",
    "        row_values = [column.values[index] for column in table_data.columns]\n",
    "        data.append(row_values)\n",
    "\n",
    "    dfAnn = DataFrame(data)\n",
    "    dfAnn.columns = column_names\n",
    "    return dfAnn, count"
   ]
  },
  {
   "cell_type": "markdown",
   "metadata": {},
   "source": [
    "### Connect to IDR"
   ]
  },
  {
   "cell_type": "code",
   "execution_count": 12,
   "metadata": {},
   "outputs": [
    {
     "name": "stdout",
     "output_type": "stream",
     "text": [
      "Connected to IDR ...\n"
     ]
    }
   ],
   "source": [
    "conn = connection('idr.openmicroscopy.org')"
   ]
  },
  {
   "cell_type": "markdown",
   "metadata": {},
   "source": [
    "### Download the annotation file for the whole screen"
   ]
  },
  {
   "cell_type": "code",
   "execution_count": 13,
   "metadata": {},
   "outputs": [],
   "source": [
    "dfRhonAnn, phenotype_count = getBulkAnnotationAsDf(screenId, conn)"
   ]
  },
  {
   "cell_type": "markdown",
   "metadata": {},
   "source": [
    "### Phenotype clustering"
   ]
  },
  {
   "cell_type": "markdown",
   "metadata": {},
   "source": [
    "#### A. Transforming phenotypes into one-hot booleans"
   ]
  },
  {
   "cell_type": "code",
   "execution_count": 14,
   "metadata": {},
   "outputs": [],
   "source": [
    "BoolCols = []\n",
    "PhenLab = []\n",
    "total = phenotype_count + 1\n",
    "for iphen in range(1, total):\n",
    "    col = 'Phenotype ' + str(iphen)\n",
    "    dfRhonAnn['Bool' + col] = ~ (dfRhonAnn[col] == '')\n",
    "    BoolCols.append('Bool' + col)\n",
    "    PhenLab.append(dfRhonAnn[col].unique()[1])"
   ]
  },
  {
   "cell_type": "markdown",
   "metadata": {},
   "source": [
    "#### B. Performing the hierarchical linkage on the gene with a phenotype"
   ]
  },
  {
   "cell_type": "code",
   "execution_count": 15,
   "metadata": {},
   "outputs": [],
   "source": [
    "# count a gene as having a phenotype\n",
    "# if at least one well annotated with\n",
    "# it has a phenotype\n",
    "value = dfRhonAnn['Has Phenotype'] == 'yes'\n",
    "phenMap = dfRhonAnn[value].groupby('Gene Symbol')[BoolCols].sum() > 0\n",
    "phenMap = phenMap[phenMap.sum(axis=1) > 0]\n",
    "phenMap.columns = PhenLab\n",
    "phenMap.replace([False, True], [0, 1], inplace=True)\n",
    "Z = hchy.linkage(phenMap, 'ward')\n",
    "Zt = hchy.linkage(phenMap.transpose(), 'ward')"
   ]
  },
  {
   "cell_type": "code",
   "execution_count": 16,
   "metadata": {
    "scrolled": true
   },
   "outputs": [
    {
     "data": {
      "image/png": "[encoded data removed]",
      "text/plain": [
       "<Figure size 720x720 with 4 Axes>"
      ]
     },
     "metadata": {
      "needs_background": "light"
     },
     "output_type": "display_data"
    }
   ],
   "source": [
    "warnings.filterwarnings('ignore')\n",
    "\n",
    "cg = clustermap(phenMap, row_linkage=Z, col_linkage=Zt, figsize=(10, 10))\n",
    "for item in cg.ax_heatmap.get_xticklabels():\n",
    "    item.set_rotation(90)\n",
    "for item in cg.ax_heatmap.get_yticklabels():\n",
    "    item.set_rotation(0)"
   ]
  },
  {
   "cell_type": "markdown",
   "metadata": {},
   "source": [
    "### Building a gallery of images for visualization"
   ]
  },
  {
   "cell_type": "markdown",
   "metadata": {},
   "source": [
    "A. Gallery of tiles for several phenotypes"
   ]
  },
  {
   "cell_type": "code",
   "execution_count": null,
   "metadata": {
    "scrolled": true
   },
   "outputs": [],
   "source": [
    "# hard coded, but corresponds to tile size used for CHARM features computation\n",
    "X = [0, 580, 116, 348, 232, 464]\n",
    "Y = [0, 348,  87, 174, 261]\n",
    "ni = 15\n",
    "w = 116\n",
    "h = 86\n",
    "\n",
    "# some phenotype\n",
    "phs = range(20, phenotype_count - 10)\n",
    "\n",
    "tiles = np.zeros((h, w, len(phs) * ni))\n",
    "for kk, ph in enumerate(phs):\n",
    "    ws = dfRhonAnn[dfRhonAnn['Phenotype ' + str(ph)] != ''].Well\n",
    "    for ii in range(ni):\n",
    "        we = random.choice(ws.values)\n",
    "        we = conn.getObject('Well', we)\n",
    "        i = we.getImage()\n",
    "        x = random.choice(X)\n",
    "        y = random.choice(Y)\n",
    "        tiles[:, :, ii+kk*ni] = getRohnTile(i.getId(), x, y, w, h, conn,\n",
    "                                            chan=1)\n",
    "\n",
    "plt.figure(figsize=(15, 15))\n",
    "imc = buildComposite(tiles, len(phs), ni)\n",
    "plt.grid(False)\n",
    "plt.imshow(imc)"
   ]
  },
  {
   "cell_type": "markdown",
   "metadata": {},
   "source": [
    "### Disconnect when done loading data"
   ]
  },
  {
   "cell_type": "code",
   "execution_count": null,
   "metadata": {},
   "outputs": [],
   "source": [
    "conn.close()"
   ]
  },
  {
   "cell_type": "markdown",
   "metadata": {
    "collapsed": true
   },
   "source": [
    "### License\n",
    "Copyright (C) 2016-2020 University of Dundee. All Rights Reserved.\n",
    "This program is free software; you can redistribute it and/or modify it\n",
    "under the terms of the GNU General Public License as published by the\n",
    "Free Software Foundation; either version 2 of the License, or\n",
    "(at your option) any later version.\n",
    "This program is distributed in the hope that it will be useful, but\n",
    "WITHOUT ANY WARRANTY; without even the implied warranty of MERCHANTABILITY\n",
    "or FITNESS FOR A PARTICULAR PURPOSE. See the GNU General Public License for\n",
    "more details. You should have received a copy of the GNU General\n",
    "Public License along with this program; if not, write to the\n",
    "Free Software Foundation,\n",
    "Inc., 51 Franklin Street, Fifth Floor, Boston, MA 02110-1301 USA."
   ]
  },
  {
   "cell_type": "code",
   "execution_count": null,
   "metadata": {},
   "outputs": [],
   "source": []
  }
 ],
 "metadata": {
  "kernelspec": {
   "display_name": "Python 3",
   "language": "python",
   "name": "python3"
  },
  "language_info": {
   "codemirror_mode": {
    "name": "ipython",
    "version": 3
   },
   "file_extension": ".py",
   "mimetype": "text/x-python",
   "name": "python",
   "nbconvert_exporter": "python",
   "pygments_lexer": "ipython3",
   "version": "3.7.10"
  }
 },
 "nbformat": 4,
 "nbformat_minor": 2
}
