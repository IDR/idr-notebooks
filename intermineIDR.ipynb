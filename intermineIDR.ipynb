{
 "cells": [
  {
   "cell_type": "markdown",
   "id": "geographic-department",
   "metadata": {},
   "source": [
    "## Question\n",
    "\n",
    "Which genes express in the Pancreas are related to diabetes?\n",
    "For that we first query [humanmine.org](https://www.humanmine.org/humanmine), an integrated database of *Homo sapiens* genomic data.\n",
    "\n",
    "We use the intermine API and the IDR API. Inspired by [Workshop_Pax6Workflow](https://github.com/intermine/intermine-ws-python-docs/blob/master/Workshop_Pax6Workflow.ipynb)"
   ]
  },
  {
   "cell_type": "markdown",
   "id": "conscious-metabolism",
   "metadata": {},
   "source": [
    "### Install dependencies if required\n",
    "The cell below will install dependencies if you choose to run the notebook in [Google Colab](https://colab.research.google.com/notebooks/intro.ipynb#recent=true)."
   ]
  },
  {
   "cell_type": "code",
   "execution_count": 13,
   "id": "hazardous-complement",
   "metadata": {},
   "outputs": [
    {
     "name": "stdout",
     "output_type": "stream",
     "text": [
      "Requirement already satisfied: intermine in /srv/conda/envs/notebook/lib/python3.7/site-packages (1.11.0)\n",
      "Note: you may need to restart the kernel to use updated packages.\n"
     ]
    }
   ],
   "source": [
    "%pip install intermine"
   ]
  },
  {
   "cell_type": "markdown",
   "id": "external-swaziland",
   "metadata": {},
   "source": [
    "### Import libraries "
   ]
  },
  {
   "cell_type": "code",
   "execution_count": 14,
   "id": "collect-sensitivity",
   "metadata": {},
   "outputs": [],
   "source": [
    "# libraries to interact with intermine\n",
    "from intermine.webservice import Service\n",
    "\n",
    "# libraries to interact with IDR\n",
    "import requests\n",
    "import json"
   ]
  },
  {
   "cell_type": "markdown",
   "id": "accomplished-transsexual",
   "metadata": {},
   "source": [
    "## Intermine queries\n",
    "Our first query looked at whether the set of **Pax6 targets** is expressed in the pancreas. "
   ]
  },
  {
   "cell_type": "code",
   "execution_count": 15,
   "id": "supreme-battery",
   "metadata": {},
   "outputs": [],
   "source": [
    "TARGET_LIST = \"PL_Pax6_Targets\"\n",
    "TISSUE = \"Pancreas\"\n",
    "DISEASE = \"diabetes\""
   ]
  },
  {
   "cell_type": "code",
   "execution_count": 16,
   "id": "interracial-petite",
   "metadata": {},
   "outputs": [],
   "source": [
    "service = Service(\"https://www.humanmine.org/humanmine/service\")"
   ]
  },
  {
   "cell_type": "code",
   "execution_count": 17,
   "id": "empty-yeast",
   "metadata": {},
   "outputs": [],
   "source": [
    "query = service.new_query(\"Gene\")"
   ]
  },
  {
   "cell_type": "code",
   "execution_count": 18,
   "id": "miniature-sailing",
   "metadata": {},
   "outputs": [
    {
     "data": {
      "text/plain": [
       "<intermine.query.Query at 0x7f20c9ed59d0>"
      ]
     },
     "execution_count": 18,
     "metadata": {},
     "output_type": "execute_result"
    }
   ],
   "source": [
    "query.add_view(\n",
    "    \"primaryIdentifier\", \"symbol\", \"proteinAtlasExpression.cellType\",\n",
    "    \"proteinAtlasExpression.level\", \"proteinAtlasExpression.reliability\",\n",
    "    \"proteinAtlasExpression.tissue.name\"\n",
    ")"
   ]
  },
  {
   "cell_type": "markdown",
   "id": "ordered-director",
   "metadata": {},
   "source": [
    "Specify the tissue and the expression level."
   ]
  },
  {
   "cell_type": "code",
   "execution_count": 19,
   "id": "prospective-stable",
   "metadata": {},
   "outputs": [
    {
     "data": {
      "text/plain": [
       "<MultiConstraint: Gene.proteinAtlasExpression.level ONE OF ['Medium', 'High']>"
      ]
     },
     "execution_count": 19,
     "metadata": {},
     "output_type": "execute_result"
    }
   ],
   "source": [
    "query.add_constraint(\"Gene\", \"IN\", TARGET_LIST, code = \"A\")\n",
    "query.add_constraint(\"proteinAtlasExpression.tissue.name\", \"=\", TISSUE, code = \"B\")\n",
    "query.add_constraint(\"proteinAtlasExpression.level\", \"ONE OF\", [\"Medium\", \"High\"], code = \"C\")"
   ]
  },
  {
   "cell_type": "markdown",
   "id": "proved-bronze",
   "metadata": {},
   "source": [
    "Collect the genes that are upregulated."
   ]
  },
  {
   "cell_type": "code",
   "execution_count": 20,
   "id": "adopted-treaty",
   "metadata": {},
   "outputs": [],
   "source": [
    "upin_pancreas = list()\n",
    "for row in query.rows():\n",
    "    upin_pancreas.append(row[\"primaryIdentifier\"])"
   ]
  },
  {
   "cell_type": "markdown",
   "id": "annoying-david",
   "metadata": {},
   "source": [
    "The second query looks for genes that are associated with the disease **diabetes**. "
   ]
  },
  {
   "cell_type": "code",
   "execution_count": 21,
   "id": "educational-humanitarian",
   "metadata": {},
   "outputs": [
    {
     "data": {
      "text/plain": [
       "<BinaryConstraint: Gene.diseases.name CONTAINS diabetes>"
      ]
     },
     "execution_count": 21,
     "metadata": {},
     "output_type": "execute_result"
    }
   ],
   "source": [
    "query = service.new_query(\"Gene\")\n",
    "query.add_view(\"primaryIdentifier\", \"symbol\")\n",
    "query.add_constraint(\"organism.name\", \"=\", \"Homo sapiens\", code = \"A\")\n",
    "query.add_constraint(\"diseases.name\", \"CONTAINS\", DISEASE, code = \"B\")"
   ]
  },
  {
   "cell_type": "code",
   "execution_count": 22,
   "id": "sunset-scout",
   "metadata": {},
   "outputs": [],
   "source": [
    "diabetes_genes = list()\n",
    "for row in query.rows():\n",
    "    diabetes_genes.append(row[\"primaryIdentifier\"])"
   ]
  },
  {
   "cell_type": "markdown",
   "id": "synthetic-developer",
   "metadata": {},
   "source": [
    "Next, we look for those genes that are upregulated in the specified tissue e.g. Pancreas that are also associated with the specified disease e.g. diabetes. We need to intersect both list of results."
   ]
  },
  {
   "cell_type": "code",
   "execution_count": 23,
   "id": "numerous-greenhouse",
   "metadata": {},
   "outputs": [],
   "source": [
    "combined = {}\n",
    "joined_list = diabetes_genes + upin_pancreas\n",
    "for key in joined_list:\n",
    "    combined[key] = combined.get(key, 0) + 1\n",
    "\n",
    "intersected_list = list()\n",
    "for key, value in combined.items():\n",
    "    if value == 1:\n",
    "        intersected_list.append(key)"
   ]
  },
  {
   "cell_type": "markdown",
   "id": "hired-chance",
   "metadata": {},
   "source": [
    "### Second Query: GWAS\n",
    "Finally, we fed the intersected list from above back into another query to see if there was any association of these genes with diabetes phenotypes according to GWAS studies. Note that we now start our query from the GWAS class:"
   ]
  },
  {
   "cell_type": "code",
   "execution_count": 24,
   "id": "fossil-forth",
   "metadata": {},
   "outputs": [],
   "source": [
    "query = service.new_query(\"GWAS\")"
   ]
  },
  {
   "cell_type": "code",
   "execution_count": 25,
   "id": "operating-thriller",
   "metadata": {},
   "outputs": [
    {
     "data": {
      "text/plain": [
       "<intermine.query.Query at 0x7f20d818c310>"
      ]
     },
     "execution_count": 25,
     "metadata": {},
     "output_type": "execute_result"
    }
   ],
   "source": [
    "query.add_view(\n",
    "    \"results.associatedGenes.primaryIdentifier\",\n",
    "    \"results.associatedGenes.symbol\", \"results.associatedGenes.name\",\n",
    "    \"results.SNP.primaryIdentifier\", \"results.pValue\", \"results.phenotype\",\n",
    "    \"firstAuthor\", \"name\", \"publication.pubMedId\",\n",
    "    \"results.associatedGenes.organism.shortName\"\n",
    ")"
   ]
  },
  {
   "cell_type": "code",
   "execution_count": 26,
   "id": "tender-overview",
   "metadata": {},
   "outputs": [
    {
     "data": {
      "text/plain": [
       "<BinaryConstraint: GWAS.results.phenotype CONTAINS diabetes>"
      ]
     },
     "execution_count": 26,
     "metadata": {},
     "output_type": "execute_result"
    }
   ],
   "source": [
    "query.add_constraint(\"results.pValue\", \"<=\", \"1e-04\", code = \"B\")\n",
    "query.add_constraint(\"results.phenotype\", \"CONTAINS\", \"diabetes\", code = \"C\")"
   ]
  },
  {
   "cell_type": "code",
   "execution_count": 27,
   "id": "spatial-induction",
   "metadata": {
    "scrolled": true
   },
   "outputs": [],
   "source": [
    "genes_list = list()\n",
    "for row in query.rows():\n",
    "    value = row[\"results.associatedGenes.primaryIdentifier\"]\n",
    "    if value in intersected_list:\n",
    "        genes_list.append(row[\"results.associatedGenes.symbol\"])\n",
    "genes = set(genes_list)"
   ]
  },
  {
   "cell_type": "markdown",
   "id": "pending-fusion",
   "metadata": {},
   "source": [
    "## IDR queries\n",
    "\n",
    "From the list of genes found using the intermine API, we are now looking in [Image Data Resource](https://idr.openmicroscopy.org/) for studies linked to those genes and with *tissue* as a ``Sample Type`` "
   ]
  },
  {
   "cell_type": "code",
   "execution_count": 28,
   "id": "following-blues",
   "metadata": {},
   "outputs": [],
   "source": [
    "TYPE = \"gene\"\n",
    "SAMPLE_TYPE = \"tissue\"\n",
    "KEYS = {\"phenotype\":\n",
    "    (\"Phenotype\",\n",
    "     \"Phenotype Term Name\",\n",
    "     \"Phenotype Term Accession\",\n",
    "     \"Phenotype Term Accession URL\", \n",
    "    )\n",
    "}"
   ]
  },
  {
   "cell_type": "markdown",
   "id": "occupied-breakfast",
   "metadata": {},
   "source": [
    "### Set up base URLS so can use shorter variable names later on"
   ]
  },
  {
   "cell_type": "code",
   "execution_count": 30,
   "id": "intermediate-belly",
   "metadata": {},
   "outputs": [],
   "source": [
    "URL = \"https://idr.openmicroscopy.org/mapr/api/{key}/?value={value}&case_sensitive=false&orphaned=true\"\n",
    "SCREENS_PROJECTS_URL = \"https://idr.openmicroscopy.org/mapr/api/{key}/?value={value}\"\n",
    "ATTRIBUTES_URL = \"https://idr.openmicroscopy.org/webclient/api/annotations/?type=map&{object}={object_id}\""
   ]
  },
  {
   "cell_type": "markdown",
   "id": "round-dancing",
   "metadata": {},
   "source": [
    "### Set up where to query and session"
   ]
  },
  {
   "cell_type": "code",
   "execution_count": 31,
   "id": "supported-jaguar",
   "metadata": {
    "code_folding": [
     3
    ]
   },
   "outputs": [],
   "source": [
    "INDEX_PAGE = \"https://idr.openmicroscopy.org/webclient/?experimenter=-1\"\n",
    "\n",
    "# create http session\n",
    "with requests.Session() as session:\n",
    "    request = requests.Request('GET', INDEX_PAGE)\n",
    "    prepped = session.prepare_request(request)\n",
    "    response = session.send(prepped)\n",
    "    if response.status_code != 200:\n",
    "        response.raise_for_status()"
   ]
  },
  {
   "cell_type": "markdown",
   "id": "elect-batch",
   "metadata": {},
   "source": [
    "### Helper methods"
   ]
  },
  {
   "cell_type": "code",
   "execution_count": 32,
   "id": "immune-farming",
   "metadata": {},
   "outputs": [],
   "source": [
    "def find_type(data_type, id):\n",
    "    '''\n",
    "    Find the studies of type specified by the SAMPLE_TYPE parameter\n",
    "    '''\n",
    "    qs = {'object': data_type, 'object_id': id}\n",
    "    url = ATTRIBUTES_URL.format(**qs)\n",
    "    for a in session.get(url).json()['annotations']:\n",
    "        for v in a['values']:\n",
    "            if v[0] == \"Sample Type\" and v[1] == SAMPLE_TYPE:\n",
    "                return id\n",
    "    return -1"
   ]
  },
  {
   "cell_type": "code",
   "execution_count": 33,
   "id": "perfect-throw",
   "metadata": {},
   "outputs": [],
   "source": [
    "screens = list()\n",
    "projects = list()\n",
    "for gene in genes:\n",
    "    qs1 = {'key': TYPE, 'value': gene}\n",
    "    url1 = URL.format(**qs1)\n",
    "    json = session.get(url1).json()\n",
    "    for m in json['maps']:\n",
    "        qs2 = {'key': TYPE, 'value': gene}\n",
    "        url2 = SCREENS_PROJECTS_URL.format(**qs2)\n",
    "        json = session.get(url2).json()\n",
    "        for s in json['screens']:\n",
    "            value = find_type(\"screen\", s['id'])\n",
    "            if value > -1 and value not in screens:\n",
    "                screens.append(value)\n",
    "        for p in json['projects']:\n",
    "            value = find_type(\"project\", p['id'])\n",
    "            if value > -1 and value not in projects:\n",
    "                projects.append(value) "
   ]
  },
  {
   "cell_type": "code",
   "execution_count": 34,
   "id": "adapted-ethics",
   "metadata": {},
   "outputs": [
    {
     "name": "stdout",
     "output_type": "stream",
     "text": [
      "[501, 1104]\n",
      "[]\n"
     ]
    }
   ],
   "source": [
    "print(projects)\n",
    "print(screens)"
   ]
  },
  {
   "cell_type": "code",
   "execution_count": null,
   "id": "skilled-annual",
   "metadata": {},
   "outputs": [],
   "source": []
  }
 ],
 "metadata": {
  "kernelspec": {
   "display_name": "Python 3",
   "language": "python",
   "name": "python3"
  },
  "language_info": {
   "codemirror_mode": {
    "name": "ipython",
    "version": 3
   },
   "file_extension": ".py",
   "mimetype": "text/x-python",
   "name": "python",
   "nbconvert_exporter": "python",
   "pygments_lexer": "ipython3",
   "version": "3.7.10"
  }
 },
 "nbformat": 4,
 "nbformat_minor": 5
}
