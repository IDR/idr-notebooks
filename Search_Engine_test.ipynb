{
 "cells": [
  {
   "cell_type": "code",
   "execution_count": 1,
   "id": "39a371b9",
   "metadata": {},
   "outputs": [],
   "source": [
    "import requests\n",
    "import json"
   ]
  },
  {
   "cell_type": "markdown",
   "id": "dc77ab1e",
   "metadata": {},
   "source": [
    "### URL to use to search via search engine"
   ]
  },
  {
   "cell_type": "code",
   "execution_count": 2,
   "id": "d3b6c7f8",
   "metadata": {},
   "outputs": [],
   "source": [
    "INDEX_PAGE = \"https://idr-testing.openmicroscopy.org/webclient/?experimenter=-1\"\n",
    "SEARCH_ENGINE_URL = \"https://idr-testing.openmicroscopy.org/searchengine/api/v1/resources/{type}/search/\"\n",
    "KEY_VALUE_SEARCH = SEARCH_ENGINE_URL + \"?key={key}&value={value}\""
   ]
  },
  {
   "cell_type": "markdown",
   "id": "a1834176",
   "metadata": {},
   "source": [
    "### URLs to use to search via ``mapr``"
   ]
  },
  {
   "cell_type": "code",
   "execution_count": 3,
   "id": "12d45593",
   "metadata": {},
   "outputs": [],
   "source": [
    "# URL to use mapr\n",
    "MAPR_URL = \"https://idr-testing.openmicroscopy.org/mapr/api/{key}/?value={value}&case_sensitive=false&orphaned=true\"\n",
    "SCREENS_PROJECTS_URL = \"https://idr-testing.openmicroscopy.org/mapr/api/{key}/?value={value}\"\n",
    "PLATES_URL = \"https://idr-testing.openmicroscopy.org/mapr/api/{key}/plates/?value={value}&id={screen_id}\"\n",
    "DATASETS_URL = \"https://idr-testing.openmicroscopy.org/mapr/api/{key}/datasets/?value={value}&id={project_id}\"\n",
    "IMAGES_URL = \"https://idr-testing.openmicroscopy.org/mapr/api/{key}/images/?value={value}&node={parent_type}&id={parent_id}\"\n"
   ]
  },
  {
   "cell_type": "code",
   "execution_count": 4,
   "id": "a92a373d",
   "metadata": {},
   "outputs": [],
   "source": [
    "# create http session\n",
    "with requests.Session() as session:\n",
    "    request = requests.Request('GET', INDEX_PAGE)\n",
    "    prepped = session.prepare_request(request)\n",
    "    response = session.send(prepped)\n",
    "    if response.status_code != 200:\n",
    "        response.raise_for_status()"
   ]
  },
  {
   "cell_type": "code",
   "execution_count": 13,
   "id": "ec871b3e",
   "metadata": {},
   "outputs": [],
   "source": [
    "# Key used by search engine\n",
    "KEY = \"Gene Symbol\"\n",
    "# Mapr equivalent key\n",
    "KEY_MAPR = \"gene\"\n",
    "# List of items to search for\n",
    "ITEMS = [\"pax1\", \"pep\", \"blah\"]"
   ]
  },
  {
   "cell_type": "markdown",
   "id": "2c61954a",
   "metadata": {},
   "source": [
    "### Helper method to retrieve images using the search engine"
   ]
  },
  {
   "cell_type": "code",
   "execution_count": 14,
   "id": "5c606dd9",
   "metadata": {},
   "outputs": [],
   "source": [
    "# Helper method retrieving the result using directly the search api\n",
    "def load_using_search_api():\n",
    "    results = {}\n",
    "    for item in ITEMS:\n",
    "        ids = []\n",
    "        qs1 = {'type': 'image', 'key': KEY, 'value': item}\n",
    "        url = KEY_VALUE_SEARCH.format(**qs1)  \n",
    "        json = session.get(url).json()\n",
    "        if 'results' in json['results']:\n",
    "            images = json['results']['results']\n",
    "            for image in images:\n",
    "                if image['id'] not in ids:\n",
    "                    ids.append(image['id'])\n",
    "        results[item.lower()] = ids\n",
    "    return results"
   ]
  },
  {
   "cell_type": "markdown",
   "id": "7686ac38",
   "metadata": {},
   "source": [
    "### Helper method to retrieve images using ``mapr``"
   ]
  },
  {
   "cell_type": "code",
   "execution_count": 15,
   "id": "7dcf6ab8",
   "metadata": {},
   "outputs": [],
   "source": [
    "def get_items():\n",
    "    items = []\n",
    "    not_found = []\n",
    "    for item in ITEMS:\n",
    "        qs1 = {'key': KEY_MAPR, 'value': item}\n",
    "        url = MAPR_URL.format(**qs1)\n",
    "        json = session.get(url).json()\n",
    "        if len(json['maps']) == 0:\n",
    "            not_found.append(item)\n",
    "        for m in json['maps']: \n",
    "            items.append(m['id'])\n",
    "    return items, not_found\n",
    "\n",
    "def parse_annotation(images, json_data, item, name, data_type):\n",
    "    screen_name = \"-\"\n",
    "    plate_name = \"-\"\n",
    "    project_name = \"-\"\n",
    "    dataset_name = \"-\"\n",
    "    if data_type == 'datasets':\n",
    "        project_name = name\n",
    "    else:\n",
    "        screen_name = name\n",
    "     \n",
    "    for p in json_data[data_type]:\n",
    "        parent_id = p['id']\n",
    "        if data_type == 'datasets':\n",
    "            dataset_name = p['name']\n",
    "        else:\n",
    "            plate_name = p['name']\n",
    "        qs3 = {'key': KEY_MAPR, 'value': item,\n",
    "                'parent_type': data_type[:-1], 'parent_id': parent_id}\n",
    "        url3 = IMAGES_URL.format(**qs3)\n",
    "        json = session.get(url3).json()\n",
    "        for i in json['images']:\n",
    "            if i['id'] not in images:\n",
    "                images.append(i['id'])\n",
    "                                \n",
    "def load_using_mapr():\n",
    "    results = {}\n",
    "    items, not_found = get_items()\n",
    "    images = []\n",
    "    for item in items:\n",
    "        qs1 = {'key': KEY_MAPR, 'value': item}\n",
    "        url1 = MAPR_URL.format(**qs1)\n",
    "        json = session.get(url1).json()\n",
    "        for m in json['maps']:\n",
    "            qs2 = {'key': KEY_MAPR, 'value': item}\n",
    "            url2 = SCREENS_PROJECTS_URL.format(**qs2)\n",
    "            json = session.get(url2).json()\n",
    "            for s in json['screens']:\n",
    "                item = s['extra']['value']\n",
    "                qs3 = {'key': KEY_MAPR, 'value': item, 'screen_id': s['id']}\n",
    "                url3 = PLATES_URL.format(**qs3)\n",
    "                parse_annotation(images, session.get(url3).json(), item, s['name'], 'plates')\n",
    "            for p in json['projects']:\n",
    "                item = s['extra']['value']\n",
    "                qs3 = {'key': KEY_MAPR, 'value': item, 'project_id': p['id']}\n",
    "                url3 = DATASETS_URL.format(**qs3)\n",
    "                parse_annotation(images, session.get(url3).json(), item, p['name'], 'datasets')\n",
    "        results[item.lower()] = images\n",
    "    for n in not_found:\n",
    "        results[n.lower()] = []\n",
    "    return results\n",
    "    "
   ]
  },
  {
   "cell_type": "markdown",
   "id": "7454f092",
   "metadata": {},
   "source": [
    "### Search using search engine "
   ]
  },
  {
   "cell_type": "code",
   "execution_count": 16,
   "id": "0f968d98",
   "metadata": {},
   "outputs": [
    {
     "name": "stdout",
     "output_type": "stream",
     "text": [
      "CPU times: user 79.9 ms, sys: 28.3 ms, total: 108 ms\n",
      "Wall time: 1.12 s\n"
     ]
    }
   ],
   "source": [
    "%%time\n",
    "results = load_using_search_api()"
   ]
  },
  {
   "cell_type": "markdown",
   "id": "80181efd",
   "metadata": {},
   "source": [
    "### Search using ``mapr`` "
   ]
  },
  {
   "cell_type": "code",
   "execution_count": 17,
   "id": "b2e40507",
   "metadata": {},
   "outputs": [
    {
     "name": "stdout",
     "output_type": "stream",
     "text": [
      "CPU times: user 367 ms, sys: 75.4 ms, total: 443 ms\n",
      "Wall time: 3.8 s\n"
     ]
    }
   ],
   "source": [
    "%%time\n",
    "results_mapr = load_using_mapr()"
   ]
  },
  {
   "cell_type": "markdown",
   "id": "a14df6c2",
   "metadata": {},
   "source": [
    "### Compare the outputs of the search\n",
    "\n",
    "The checks below compare the keys e.g. gene list and the values i.e. image ids"
   ]
  },
  {
   "cell_type": "code",
   "execution_count": 18,
   "id": "ee10d1f5",
   "metadata": {},
   "outputs": [],
   "source": [
    "def dict_compare(d1, d2):\n",
    "    d1_keys = set(d1.keys())\n",
    "    d2_keys = set(d2.keys())\n",
    "    shared_keys = d1_keys.intersection(d2_keys)\n",
    "    added = d1_keys - d2_keys\n",
    "    removed = d2_keys - d1_keys  \n",
    "    modified = {o : (d1[o], d2[o]) for o in shared_keys if d1[o].sort() != d2[o].sort()}\n",
    "    same = set(o for o in shared_keys if d1[o].sort() == d2[o].sort())\n",
    "    return added, removed, modified, same"
   ]
  },
  {
   "cell_type": "code",
   "execution_count": 19,
   "id": "16f24578",
   "metadata": {},
   "outputs": [],
   "source": [
    "added, removed, modified, same = dict_compare(results, results_mapr)"
   ]
  },
  {
   "cell_type": "code",
   "execution_count": 20,
   "id": "4adb7c3d",
   "metadata": {},
   "outputs": [],
   "source": [
    "assert len(added) == 0\n",
    "assert len(removed) == 0\n",
    "assert len(modified) == 0\n",
    "assert len(same) == len(ITEMS)"
   ]
  }
 ],
 "metadata": {
  "kernelspec": {
   "display_name": "Python [conda env:stardist]",
   "language": "python",
   "name": "conda-env-stardist-py"
  },
  "language_info": {
   "codemirror_mode": {
    "name": "ipython",
    "version": 3
   },
   "file_extension": ".py",
   "mimetype": "text/x-python",
   "name": "python",
   "nbconvert_exporter": "python",
   "pygments_lexer": "ipython3",
   "version": "3.9.0"
  }
 },
 "nbformat": 4,
 "nbformat_minor": 5
}
