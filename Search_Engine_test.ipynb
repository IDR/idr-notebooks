{
 "cells": [
  {
   "cell_type": "code",
   "execution_count": 1,
   "id": "39a371b9",
   "metadata": {},
   "outputs": [],
   "source": [
    "import requests\n",
    "import json"
   ]
  },
  {
   "cell_type": "code",
   "execution_count": 2,
   "id": "d3b6c7f8",
   "metadata": {},
   "outputs": [],
   "source": [
    "INDEX_PAGE = \"https://idr-testing.openmicroscopy.org/webclient/?experimenter=-1\"\n",
    "SEARCH_ENGINE_URL = \"https://idr-testing.openmicroscopy.org/searchengine/api/v1/resources/{type}/search/\""
   ]
  },
  {
   "cell_type": "code",
   "execution_count": 3,
   "id": "12d45593",
   "metadata": {},
   "outputs": [],
   "source": [
    "# URL to use mapr\n",
    "MAPR_URL = \"https://idr-testing.openmicroscopy.org/mapr/api/{key}/?value={value}&case_sensitive=false&orphaned=true\"\n",
    "SCREENS_PROJECTS_URL = \"https://idr-testing.openmicroscopy.org/mapr/api/{key}/?value={value}\"\n",
    "PLATES_URL = \"https://idr-testing.openmicroscopy.org/mapr/api/{key}/plates/?value={value}&id={screen_id}\"\n",
    "DATASETS_URL = \"https://idr-testing.openmicroscopy.org/mapr/api/{key}/datasets/?value={value}&id={project_id}\"\n",
    "IMAGES_URL = \"https://idr-testing.openmicroscopy.org/mapr/api/{key}/images/?value={value}&node={parent_type}&id={parent_id}\"\n"
   ]
  },
  {
   "cell_type": "code",
   "execution_count": 4,
   "id": "a92a373d",
   "metadata": {},
   "outputs": [],
   "source": [
    "# create http session\n",
    "with requests.Session() as session:\n",
    "    request = requests.Request('GET', INDEX_PAGE)\n",
    "    prepped = session.prepare_request(request)\n",
    "    response = session.send(prepped)\n",
    "    if response.status_code != 200:\n",
    "        response.raise_for_status()"
   ]
  },
  {
   "cell_type": "code",
   "execution_count": 5,
   "id": "4ae90355",
   "metadata": {},
   "outputs": [],
   "source": [
    "KEY_VALUE_SEARCH = SEARCH_ENGINE_URL + \"?key={key}&value={value}\""
   ]
  },
  {
   "cell_type": "code",
   "execution_count": 25,
   "id": "ec871b3e",
   "metadata": {},
   "outputs": [],
   "source": [
    "KEY = \"Gene Symbol\"\n",
    "KEY_MAPR = \"gene\"\n",
    "GENES = [\"pax1\", \"pep\"]"
   ]
  },
  {
   "cell_type": "code",
   "execution_count": 26,
   "id": "5c606dd9",
   "metadata": {},
   "outputs": [],
   "source": [
    "# Helper method retrieving the result using directly the search api\n",
    "def load_using_search_api():\n",
    "    results = {}\n",
    "    for gene in GENES:\n",
    "        ids = []\n",
    "        qs1 = {'type': 'image', 'key': KEY, 'value': gene}\n",
    "        url = KEY_VALUE_SEARCH.format(**qs1)  \n",
    "        json = session.get(url).json()\n",
    "        images = json['results']['results']\n",
    "        for image in images:\n",
    "            if image['id'] not in ids:\n",
    "                ids.append(image['id'])\n",
    "        results[gene.lower()] = ids\n",
    "    return results"
   ]
  },
  {
   "cell_type": "code",
   "execution_count": 27,
   "id": "7dcf6ab8",
   "metadata": {},
   "outputs": [],
   "source": [
    "def get_genes():\n",
    "    genes = []\n",
    "    for gene in GENES:\n",
    "        qs1 = {'key': KEY_MAPR, 'value': gene}\n",
    "        url = MAPR_URL.format(**qs1)\n",
    "        json = session.get(url).json()\n",
    "        for m in json['maps']: \n",
    "            genes.append(m['id'])\n",
    "    return genes\n",
    "\n",
    "def parse_annotation(images, json_data, gene, name, data_type):\n",
    "    screen_name = \"-\"\n",
    "    plate_name = \"-\"\n",
    "    project_name = \"-\"\n",
    "    dataset_name = \"-\"\n",
    "    if data_type == 'datasets':\n",
    "        project_name = name\n",
    "    else:\n",
    "        screen_name = name\n",
    "     \n",
    "    for p in json_data[data_type]:\n",
    "        parent_id = p['id']\n",
    "        if data_type == 'datasets':\n",
    "            dataset_name = p['name']\n",
    "        else:\n",
    "            plate_name = p['name']\n",
    "        qs3 = {'key': KEY_MAPR, 'value': gene,\n",
    "                'parent_type': data_type[:-1], 'parent_id': parent_id}\n",
    "        url3 = IMAGES_URL.format(**qs3)\n",
    "        json = session.get(url3).json()\n",
    "        for i in json['images']:\n",
    "            if i['id'] not in images:\n",
    "                images.append(i['id'])\n",
    "                                \n",
    "def load_using_mapr():\n",
    "    results = {}\n",
    "    genes = get_genes()\n",
    "    images = []\n",
    "    for gene in genes:\n",
    "        qs1 = {'key': KEY_MAPR, 'value': gene}\n",
    "        url1 = MAPR_URL.format(**qs1)\n",
    "        json = session.get(url1).json()\n",
    "        for m in json['maps']:\n",
    "            qs2 = {'key': KEY_MAPR, 'value': gene}\n",
    "            url2 = SCREENS_PROJECTS_URL.format(**qs2)\n",
    "            json = session.get(url2).json()\n",
    "            for s in json['screens']:\n",
    "                gene = s['extra']['value']\n",
    "                qs3 = {'key': KEY_MAPR, 'value': gene, 'screen_id': s['id']}\n",
    "                url3 = PLATES_URL.format(**qs3)\n",
    "                parse_annotation(images, session.get(url3).json(), gene, s['name'], 'plates')\n",
    "            for p in json['projects']:\n",
    "                gene = s['extra']['value']\n",
    "                qs3 = {'key': KEY_MAPR, 'value': gene, 'project_id': p['id']}\n",
    "                url3 = DATASETS_URL.format(**qs3)\n",
    "                parse_annotation(images, session.get(url3).json(), gene, p['name'], 'datasets')\n",
    "        results[gene.lower()] = images\n",
    "    return results\n",
    "    "
   ]
  },
  {
   "cell_type": "code",
   "execution_count": 28,
   "id": "0f968d98",
   "metadata": {},
   "outputs": [
    {
     "name": "stdout",
     "output_type": "stream",
     "text": [
      "CPU times: user 62.7 ms, sys: 19.9 ms, total: 82.6 ms\n",
      "Wall time: 906 ms\n"
     ]
    }
   ],
   "source": [
    "%%time\n",
    "results = load_using_search_api()"
   ]
  },
  {
   "cell_type": "code",
   "execution_count": 29,
   "id": "b2e40507",
   "metadata": {},
   "outputs": [
    {
     "name": "stdout",
     "output_type": "stream",
     "text": [
      "CPU times: user 292 ms, sys: 50.4 ms, total: 342 ms\n",
      "Wall time: 3.83 s\n"
     ]
    }
   ],
   "source": [
    "%%time\n",
    "results_mapr = load_using_mapr()"
   ]
  },
  {
   "cell_type": "code",
   "execution_count": 30,
   "id": "ee10d1f5",
   "metadata": {},
   "outputs": [],
   "source": [
    "def dict_compare(d1, d2):\n",
    "    d1_keys = set(d1.keys())\n",
    "    d2_keys = set(d2.keys())\n",
    "    shared_keys = d1_keys.intersection(d2_keys)\n",
    "    added = d1_keys - d2_keys\n",
    "    removed = d2_keys - d1_keys  \n",
    "    modified = {o : (d1[o], d2[o]) for o in shared_keys if d1[o].sort() != d2[o].sort()}\n",
    "    same = set(o for o in shared_keys if d1[o].sort() == d2[o].sort())\n",
    "    return added, removed, modified, same"
   ]
  },
  {
   "cell_type": "code",
   "execution_count": 31,
   "id": "16f24578",
   "metadata": {},
   "outputs": [],
   "source": [
    "added, removed, modified, same = dict_compare(results, results_mapr)"
   ]
  },
  {
   "cell_type": "code",
   "execution_count": 32,
   "id": "4adb7c3d",
   "metadata": {},
   "outputs": [],
   "source": [
    "assert len(added) == 0\n",
    "assert len(removed) == 0\n",
    "assert len(modified) == 0\n",
    "assert len(same) == len(GENES)"
   ]
  },
  {
   "cell_type": "code",
   "execution_count": null,
   "id": "c2ac2158",
   "metadata": {},
   "outputs": [],
   "source": []
  }
 ],
 "metadata": {
  "kernelspec": {
   "display_name": "Python [conda env:stardist]",
   "language": "python",
   "name": "conda-env-stardist-py"
  },
  "language_info": {
   "codemirror_mode": {
    "name": "ipython",
    "version": 3
   },
   "file_extension": ".py",
   "mimetype": "text/x-python",
   "name": "python",
   "nbconvert_exporter": "python",
   "pygments_lexer": "ipython3",
   "version": "3.9.0"
  }
 },
 "nbformat": 4,
 "nbformat_minor": 5
}
