{
 "cells": [
  {
   "cell_type": "code",
   "execution_count": 17,
   "id": "39a371b9",
   "metadata": {},
   "outputs": [],
   "source": [
    "import requests\n",
    "import json"
   ]
  },
  {
   "cell_type": "markdown",
   "id": "dc77ab1e",
   "metadata": {},
   "source": [
    "### URL to use to search via search engine"
   ]
  },
  {
   "cell_type": "code",
   "execution_count": 18,
   "id": "d3b6c7f8",
   "metadata": {},
   "outputs": [],
   "source": [
    "INDEX_PAGE = \"https://idr-testing.openmicroscopy.org/webclient/?experimenter=-1\"\n",
    "SEARCH_ENGINE_URL = \"https://idr-testing.openmicroscopy.org/searchengine/api/v1/resources/{type}/\"\n",
    "KEY_VALUE_SEARCH = SEARCH_ENGINE_URL + \"search/?key={key}&value={value}\"\n",
    "KEYS_SEARCH = SEARCH_ENGINE_URL + \"searchvaluesusingkey/?key={key}\""
   ]
  },
  {
   "cell_type": "markdown",
   "id": "a1834176",
   "metadata": {},
   "source": [
    "### URLs to use to search via ``mapr``"
   ]
  },
  {
   "cell_type": "code",
   "execution_count": 19,
   "id": "12d45593",
   "metadata": {},
   "outputs": [],
   "source": [
    "# URL to use mapr\n",
    "MAPR_URL = \"https://idr-testing.openmicroscopy.org/mapr/api/{key}/?value={value}&case_sensitive=false&orphaned=true\"\n",
    "SCREENS_PROJECTS_URL = \"https://idr-testing.openmicroscopy.org/mapr/api/{key}/?value={value}\"\n",
    "PLATES_URL = \"https://idr-testing.openmicroscopy.org/mapr/api/{key}/plates/?value={value}&id={screen_id}\"\n",
    "DATASETS_URL = \"https://idr-testing.openmicroscopy.org/mapr/api/{key}/datasets/?value={value}&id={project_id}\"\n",
    "IMAGES_URL = \"https://idr-testing.openmicroscopy.org/mapr/api/{key}/images/?value={value}&node={parent_type}&id={parent_id}\"\n"
   ]
  },
  {
   "cell_type": "code",
   "execution_count": 20,
   "id": "a92a373d",
   "metadata": {},
   "outputs": [],
   "source": [
    "# create http session\n",
    "with requests.Session() as session:\n",
    "    request = requests.Request('GET', INDEX_PAGE)\n",
    "    prepped = session.prepare_request(request)\n",
    "    response = session.send(prepped)\n",
    "    if response.status_code != 200:\n",
    "        response.raise_for_status()"
   ]
  },
  {
   "cell_type": "code",
   "execution_count": 21,
   "id": "ec871b3e",
   "metadata": {},
   "outputs": [],
   "source": [
    "# Key used by search engine\n",
    "KEY = \"Gene Symbol\"\n",
    "# Mapr equivalent key\n",
    "KEY_MAPR = \"gene\""
   ]
  },
  {
   "cell_type": "markdown",
   "id": "f15c2932",
   "metadata": {},
   "source": [
    "### Load all the values for a specific key.\n",
    "Only non empty value will be considered."
   ]
  },
  {
   "cell_type": "code",
   "execution_count": 22,
   "id": "c6dfea10",
   "metadata": {},
   "outputs": [],
   "source": [
    "# Helper method to load the possible values for a given key\n",
    "def load_values_for_given_key():\n",
    "    values = []\n",
    "    qs1 = {'type': 'image', 'key': KEY}\n",
    "    url = KEYS_SEARCH.format(**qs1)  \n",
    "    json = session.get(url).json()\n",
    "    for d in json['data']:\n",
    "        if d['Value']:\n",
    "            values.append(d['Value'])\n",
    "    return values"
   ]
  },
  {
   "cell_type": "code",
   "execution_count": 47,
   "id": "10898ac8",
   "metadata": {},
   "outputs": [],
   "source": [
    "values = load_values_for_given_key()"
   ]
  },
  {
   "cell_type": "code",
   "execution_count": 48,
   "id": "1c759765",
   "metadata": {},
   "outputs": [],
   "source": [
    "values.sort()"
   ]
  },
  {
   "cell_type": "code",
   "execution_count": 49,
   "id": "599dbada",
   "metadata": {},
   "outputs": [],
   "source": [
    "#values = ['agap5']"
   ]
  },
  {
   "cell_type": "markdown",
   "id": "2c61954a",
   "metadata": {},
   "source": [
    "### Helper method to retrieve images using the search engine"
   ]
  },
  {
   "cell_type": "code",
   "execution_count": 31,
   "id": "5c606dd9",
   "metadata": {},
   "outputs": [],
   "source": [
    "# Helper method retrieving the result using directly the search api\n",
    "def load_using_search_api(values):\n",
    "    results = {}\n",
    "    for item in values:\n",
    "        ids = []\n",
    "        qs1 = {'type': 'image', 'key': KEY, 'value': item}\n",
    "        url = KEY_VALUE_SEARCH.format(**qs1)  \n",
    "        json = session.get(url).json()\n",
    "        if 'results' in json['results']:\n",
    "            images = json['results']['results']\n",
    "            for image in images:\n",
    "                if image['id'] not in ids:\n",
    "                    ids.append(image['id'])\n",
    "        results[item.lower()] = ids\n",
    "    return results"
   ]
  },
  {
   "cell_type": "markdown",
   "id": "7686ac38",
   "metadata": {},
   "source": [
    "### Helper method to retrieve images using ``mapr``"
   ]
  },
  {
   "cell_type": "code",
   "execution_count": 37,
   "id": "7dcf6ab8",
   "metadata": {},
   "outputs": [],
   "source": [
    "def get_items(values):\n",
    "    items = []\n",
    "    not_found = []\n",
    "    for item in values:\n",
    "        qs1 = {'key': KEY_MAPR, 'value': item}\n",
    "        url = MAPR_URL.format(**qs1)\n",
    "        json = session.get(url).json()\n",
    "        if len(json['maps']) == 0:\n",
    "            not_found.append(item)\n",
    "        for m in json['maps']: \n",
    "            items.append(m['id'])\n",
    "    return items, not_found\n",
    "\n",
    "def parse_annotation(images, json_data, item, name, data_type):\n",
    "    screen_name = \"-\"\n",
    "    plate_name = \"-\"\n",
    "    project_name = \"-\"\n",
    "    dataset_name = \"-\"\n",
    "    if data_type == 'datasets':\n",
    "        project_name = name\n",
    "    else:\n",
    "        screen_name = name\n",
    "     \n",
    "    for p in json_data[data_type]:\n",
    "        parent_id = p['id']\n",
    "        if data_type == 'datasets':\n",
    "            dataset_name = p['name']\n",
    "        else:\n",
    "            plate_name = p['name']\n",
    "        qs3 = {'key': KEY_MAPR, 'value': item,\n",
    "                'parent_type': data_type[:-1], 'parent_id': parent_id}\n",
    "        url3 = IMAGES_URL.format(**qs3)\n",
    "        json = session.get(url3).json()\n",
    "        for i in json['images']:\n",
    "            if i['id'] not in images:\n",
    "                images.append(i['id'])\n",
    "                                \n",
    "def load_using_mapr(values):\n",
    "    results = {}\n",
    "    items, not_found = get_items(values)\n",
    "    images = []\n",
    "    for item in items:\n",
    "        qs1 = {'key': KEY_MAPR, 'value': item}\n",
    "        url1 = MAPR_URL.format(**qs1)\n",
    "        json = session.get(url1).json()\n",
    "        for m in json['maps']:\n",
    "            qs2 = {'key': KEY_MAPR, 'value': item}\n",
    "            url2 = SCREENS_PROJECTS_URL.format(**qs2)\n",
    "            json = session.get(url2).json()\n",
    "            for s in json['screens']:\n",
    "                item = s['extra']['value']\n",
    "                qs3 = {'key': KEY_MAPR, 'value': item, 'screen_id': s['id']}\n",
    "                url3 = PLATES_URL.format(**qs3)\n",
    "                parse_annotation(images, session.get(url3).json(), item, s['name'], 'plates')\n",
    "            for p in json['projects']:\n",
    "                item = p['extra']['value']\n",
    "                qs3 = {'key': KEY_MAPR, 'value': item, 'project_id': p['id']}\n",
    "                url3 = DATASETS_URL.format(**qs3)\n",
    "                parse_annotation(images, session.get(url3).json(), item, p['name'], 'datasets')\n",
    "        results[item.lower()] = images\n",
    "    for n in not_found:\n",
    "        results[n.lower()] = []\n",
    "    return results\n",
    "    "
   ]
  },
  {
   "cell_type": "markdown",
   "id": "7454f092",
   "metadata": {},
   "source": [
    "### Search using search engine "
   ]
  },
  {
   "cell_type": "code",
   "execution_count": 50,
   "id": "3b603ab7",
   "metadata": {},
   "outputs": [],
   "source": [
    "# number of values to search for\n",
    "s = 0\n",
    "e = 500"
   ]
  },
  {
   "cell_type": "code",
   "execution_count": 51,
   "id": "0f968d98",
   "metadata": {},
   "outputs": [
    {
     "name": "stdout",
     "output_type": "stream",
     "text": [
      "CPU times: user 11.6 s, sys: 3.31 s, total: 14.9 s\n",
      "Wall time: 3min 6s\n"
     ]
    }
   ],
   "source": [
    "%%time\n",
    "results = load_using_search_api(values[s:e])"
   ]
  },
  {
   "cell_type": "markdown",
   "id": "80181efd",
   "metadata": {},
   "source": [
    "### Search using ``mapr`` "
   ]
  },
  {
   "cell_type": "code",
   "execution_count": 52,
   "id": "b2e40507",
   "metadata": {},
   "outputs": [
    {
     "name": "stdout",
     "output_type": "stream",
     "text": [
      "[' ciz1', ' spen', '128up', '14-3-3epsilon', '14-3-3zeta', '140up', '15e2_human', '18w', '26-29-p', '2mit', '312', '4ehp', '5-ht1a', '5-ht1b', '5-ht2', '5-ht2a', '5-ht2b', '5-ht7', '5ptasei', '76p', '7a5', '7b2', '7h3', '825-oak', 'a', 'a10', 'a16', 'a1bg', 'a1bg-as1', 'a1cf', 'a1l167_human', 'a2agn1_human', 'a2bp1', 'a2bp1_human', 'a2ld1', 'a2m', 'a2m-as1', 'a2ml1', 'a2rum1_human', 'a3-3', 'a3galt2', 'a4galt', 'a4gnt', 'a5', 'a6', 'aaas', 'aac1', 'aac11', 'aac3', 'aacs', 'aad10', 'aad14', 'aad15', 'aad16', 'aad3', 'aad4', 'aad6', 'aadac', 'aadacl1', 'aadacl2', 'aadacl3', 'aadacl4', 'aadat', 'aaed1', 'aagab', 'aah1', 'aah3', 'aak1', 'aamdc', 'aamp', 'aanat', 'aap1', 'aar2', 'aars', 'aars2', 'aarsd1', 'aasdh', 'aasdhppt', 'aass', 'aat', 'aat1', 'aat2', 'aatf', 'aatk', 'aatk-as1', 'aats-ala', 'aats-ala-m', 'aats-arg', 'aats-asn', 'aats-asp', 'aats-cys', 'aats-gln', 'aats-glupro', 'aats-gly', 'aats-his', 'aats-ile', 'aats-leu', 'aats-lys', 'aats-met', 'aats-phe', 'aats-pro', 'aats-ser', 'aats-thr', 'aats-trp', 'aats-tyr', 'aats-tyr-m', 'aats-val', 'aay', 'ab', 'abat', 'abba', 'abba-1', 'abc1', 'abc2', 'abc3', 'abc4', 'abca1', 'abca10', 'abca11p', 'abca12', 'abca13', 'abca17p', 'abca2', 'abca3', 'abca4', 'abca5', 'abca6', 'abca7', 'abca8', 'abca9', 'abcb1', 'abcb10', 'abcb11', 'abcb4', 'abcb5', 'abcb6', 'abcb7', 'abcb8', 'abcb9', 'abcc1', 'abcc10', 'abcc11', 'abcc12', 'abcc13', 'abcc2', 'abcc3', 'abcc4', 'abcc5', 'abcc5-as1', 'abcc6', 'abcc6p1', 'abcc8', 'abcc9', 'abcd1', 'abcd2', 'abcd3', 'abcd4', 'abce1', 'abcf1', 'abcf2', 'abcf3', 'abcg1', 'abcg2', 'abcg4', 'abcg5', 'abcg8', 'abd-a', 'abd-b', 'abd1', 'abf1', 'abf2', 'abh1', 'abhd1', 'abhd10', 'abhd11', 'abhd11-as1', 'abhd12', 'abhd12b', 'abhd13', 'abhd14a', 'abhd14a-acy1', 'abhd14b', 'abhd15', 'abhd16a', 'abhd16b', 'abhd17a', 'abhd17b', 'abhd17c', 'abhd18', 'abhd2', 'abhd3', 'abhd4', 'abhd5', 'abhd6', 'abhd7', 'abhd8', 'abhd9', 'abi', 'abi1', 'abi2', 'abi3', 'abi3bp', 'abl', 'abl1', 'abl2', 'ablim1', 'ablim2', 'ablim3', 'abm1', 'abo', 'abo1', 'abo2', 'abp1', 'abp140', 'abp2', 'abr', 'abra', 'abracl', 'abraxas1', 'abraxas2', 'abs', 'abt1', 'abtb1', 'abtb2', 'abz1', 'abz2', 'ac', 'ac002398.9', 'ac004381.6', 'ac004556.1', 'ac004754.3', 'ac004801.3', 'ac004832.3', 'ac004876.2', 'ac005020.5', 'ac005075.2', 'ac005255.6', 'ac005838.2', 'ac006207.1', 'ac006372.8', 'ac006465.3', 'ac006477.5', 'ac006538.4', 'ac007390.5', 'ac007461.8', 'ac007785.3', 'ac007881.4', 'ac008132.1', 'ac008687.1', 'ac008687.5', 'ac008695.1', 'ac009086.6', 'ac009163.4', 'ac009171.3', 'ac009237.8', 'ac009336.13', 'ac009365.3', 'ac010282.1', 'ac010336.8', 'ac010422.7', 'ac010442.7', 'ac010531.1', 'ac010654.8', 'ac010872.2', 'ac011322.3', 'ac011462.1', 'ac011477.3', 'ac011491.7', 'ac012044.15', 'ac012476.1', 'ac013269.1', 'ac013469.8', 'ac015724.2', 'ac016757.3', 'ac017104.8', 'ac018413.10', 'ac018648.5', 'ac020907.6', 'ac020931.6', 'ac022414.1', 'ac023055.1', 'ac023055.2', 'ac025260.29', 'ac027369.8', 'ac027612.6', 'ac044860.6', 'ac064843.5', 'ac068338.14', 'ac073263.5', 'ac073896.1', 'ac074378.4', 'ac074397.7', 'ac079612.1', 'ac079753.7', 'ac079776.5', 'ac084219.4', 'ac091047.10', 'ac091801.1', 'ac091842.3', 'ac091959.3', 'ac092165.4', 'ac092653.3', 'ac092718.3', 'ac092718.8', 'ac092865.1', 'ac093662.4', 'ac093726.4', 'ac097381.1', 'ac098976.2', 'ac099548.4', 'ac103819.3', 'ac104127.2', 'ac104534.3', 'ac104563.14', 'ac109446.2', 'ac109587.2', 'ac109599.4', 'ac109825.4', 'ac110781.3', 'ac113385.3', 'ac113420.1', 'ac113612.3', 'ac116655.7', 'ac117460.7', 'ac117494.2', 'ac126283.2', 'ac129492.6', 'ac130364.5', 'ac131280.9', 'ac133644.1', 'ac135776.3', 'ac135983.4', 'ac136352.1', 'ac136632.3', 'ac136759.4', 'ac138035.2', 'ac138969.4', 'ac139337.5', 'ac139425.3', 'ac13e', 'ac145212.1', 'ac145676.2', 'ac171558.1', 'ac171558.2', 'ac233263.1', 'ac240274.1', 'ac3', 'ac76e', 'ac78c', 'aca1', 'acaa1', 'acaa2', 'acaca', 'acacb', 'acad10', 'acad11', 'acad8', 'acad9', 'acadl', 'acadm', 'acads', 'acadsb', 'acadvl', 'acam', 'acan', 'acap1', 'acap2', 'acap3', 'acat1', 'acat2', 'acb1', 'acbd3', 'acbd4', 'acbd5', 'acbd6', 'acbd7', 'acc', 'acc1', 'accn1', 'accn2', 'accn3', 'accn4', 'accn5', 'accoas', 'accs', 'accsl', 'acd', 'ace', 'ace2', 'acer', 'acer1', 'acer2', 'acer3', 'acf1', 'acf2', 'acf4', 'ach1', 'ache', 'achi', 'acin1', 'acj6', 'ack', 'ack-like', 'ack1', 'ackr1', 'ackr2', 'ackr3', 'acly', 'acm1', 'acmsd', 'acn', 'acn9', 'aco1', 'aco2', 'acod1', 'acon', 'acot1', 'acot11', 'acot12', 'acot13', 'acot2', 'acot4', 'acot6', 'acot7', 'acot8', 'acot9', 'acox1', 'acox2', 'acox3', 'acox57d-d', 'acox57d-p', 'acoxl', 'acp1', 'acp2', 'acp26aa', 'acp26ab', 'acp29ab', 'acp32cd', 'acp36de', 'acp5', 'acp53c14a', 'acp53c14b', 'acp53c14c', 'acp53ea', 'acp6', 'acp62f', 'acp63f', 'acp65aa', 'acp7', 'acp70a', 'acp76a', 'acp95ef', 'acph-1', 'acpl2', 'acpp', 'acpt', 'acr', 'acrbp', 'acrc', 'acrol_human', 'acrv1', 'acs1', 'acsbg1', 'acsbg2', 'acsf2', 'acsf3', 'acsl', 'acsl1', 'acsl3', 'acsl4', 'acsl5', 'acsl6', 'acsm1', 'acsm2a', 'acsm2b', 'acsm3', 'acsm4', 'acsm5', 'acsm6', 'acss1', 'acss2', 'acss3', 'act1', 'act42a', 'act57b', 'act5c', 'act79b', 'act87e', 'act88f', 'acta1', 'acta2', 'actb', 'actbeta', 'actbl2', 'actbl3', 'actc', 'actc1', 'actg1', 'actg2', 'actl10']\n",
      "CPU times: user 3min 1s, sys: 15.4 s, total: 3min 16s\n",
      "Wall time: 18min 18s\n"
     ]
    }
   ],
   "source": [
    "%%time\n",
    "results_mapr = load_using_mapr(values[s:e])"
   ]
  },
  {
   "cell_type": "markdown",
   "id": "a14df6c2",
   "metadata": {},
   "source": [
    "### Compare the outputs of the search\n",
    "\n",
    "The checks below compare the keys e.g. gene list and the values i.e. image ids"
   ]
  },
  {
   "cell_type": "code",
   "execution_count": 41,
   "id": "ee10d1f5",
   "metadata": {},
   "outputs": [],
   "source": [
    "def dict_compare(d1, d2):\n",
    "    d1_keys = set(d1.keys())\n",
    "    d2_keys = set(d2.keys())\n",
    "    shared_keys = d1_keys.intersection(d2_keys)\n",
    "    added = d1_keys - d2_keys\n",
    "    removed = d2_keys - d1_keys  \n",
    "    modified = {o : (d1[o], d2[o]) for o in shared_keys if d1[o].sort() != d2[o].sort()}\n",
    "    same = set(o for o in shared_keys if d1[o].sort() == d2[o].sort())\n",
    "    return added, removed, modified, same"
   ]
  },
  {
   "cell_type": "code",
   "execution_count": 42,
   "id": "16f24578",
   "metadata": {},
   "outputs": [],
   "source": [
    "added, removed, modified, same = dict_compare(results, results_mapr)"
   ]
  },
  {
   "cell_type": "code",
   "execution_count": 43,
   "id": "4adb7c3d",
   "metadata": {},
   "outputs": [],
   "source": [
    "assert len(added) == 0\n",
    "assert len(removed) == 0\n",
    "assert len(modified) == 0\n",
    "assert len(same) == e - s"
   ]
  },
  {
   "cell_type": "code",
   "execution_count": null,
   "id": "8100d189",
   "metadata": {},
   "outputs": [],
   "source": []
  }
 ],
 "metadata": {
  "kernelspec": {
   "display_name": "Python [conda env:stardist]",
   "language": "python",
   "name": "conda-env-stardist-py"
  },
  "language_info": {
   "codemirror_mode": {
    "name": "ipython",
    "version": 3
   },
   "file_extension": ".py",
   "mimetype": "text/x-python",
   "name": "python",
   "nbconvert_exporter": "python",
   "pygments_lexer": "ipython3",
   "version": "3.9.0"
  }
 },
 "nbformat": 4,
 "nbformat_minor": 5
}
