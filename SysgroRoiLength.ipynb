{
 "cells": [
  {
   "cell_type": "markdown",
   "metadata": {},
   "source": [
    "# Sysgro ROI Length\n",
    "\n",
    "This notebook loads the polygons which are linked to the images of idr0001-graml-sysgro and compares the length of cells labelled with a particular gene e.g. ASH2 versus the wild type."
   ]
  },
  {
   "cell_type": "markdown",
   "metadata": {},
   "source": [
    "### Dependencies\n",
    "\n",
    " * [Matplotlib](https://matplotlib.org/)\n",
    " * [NumPy](https://www.numpy.org/)\n",
    " * [Pandas](https://pandas.pydata.org/)\n",
    " * [Scikit-image](https://scikit-image.org/)"
   ]
  },
  {
   "cell_type": "code",
   "execution_count": null,
   "metadata": {
    "collapsed": true
   },
   "outputs": [],
   "source": [
    "from idr import connection\n",
    "from pandas import Series\n",
    "from pandas import DataFrame\n",
    "from pandas import read_csv\n",
    "from pandas import merge,concat\n",
    "from pandas import read_hdf\n",
    "\n",
    "import os\n",
    "import omero\n",
    "\n",
    "import numpy as np\n",
    "import matplotlib.pyplot as plt\n",
    "import skimage.measure as skmes\n",
    "import skimage.transform as sktrans"
   ]
  },
  {
   "cell_type": "markdown",
   "metadata": {},
   "source": [
    "### Common variables"
   ]
  },
  {
   "cell_type": "code",
   "execution_count": null,
   "metadata": {
    "collapsed": true
   },
   "outputs": [],
   "source": [
    "screenId = 3  # sysgro"
   ]
  },
  {
   "cell_type": "markdown",
   "metadata": {},
   "source": [
    "### Method definitions"
   ]
  },
  {
   "cell_type": "code",
   "execution_count": 2,
   "metadata": {
    "collapsed": true
   },
   "outputs": [],
   "source": [
    "def getBulkAnnotationAsDf(screenID, conn):\n",
    "    \"\"\"\n",
    "    Download the annotation file from a screen as a Pandas DataFrame\n",
    "    \"\"\"\n",
    "    screen = conn.getObject('Screen', screenID)\n",
    "    for ann in screen.listAnnotations():\n",
    "        if isinstance(ann, omero.gateway.FileAnnotationWrapper):\n",
    "            if (ann.getFile().getName() == 'bulk_annotations'):\n",
    "                if (ann.getFile().getSize() > 147625090):\n",
    "                    print \"that's a big file...\"\n",
    "                    return None\n",
    "                ofId = ann.getFile().getId()\n",
    "                break\n",
    "\n",
    "\n",
    "    original_file = omero.model.OriginalFileI(ofId, False)\n",
    "    table = conn.c.sf.sharedResources().openTable(original_file)\n",
    "    try:\n",
    "        rowCount = table.getNumberOfRows()\n",
    "        column_names = [col.name for col in table.getHeaders()]\n",
    "\n",
    "        black_list = []\n",
    "        column_indices = []\n",
    "        for column_name in column_names:\n",
    "            if column_name in black_list:\n",
    "                continue\n",
    "            column_indices.append(column_names.index(column_name))\n",
    "\n",
    "        table_data = table.slice(column_indices, None)\n",
    "    finally:\n",
    "        table.close()\n",
    "\n",
    "    data = []\n",
    "    for index in range(rowCount):\n",
    "        row_values = [column.values[index] for column in table_data.columns]\n",
    "        data.append(row_values)\n",
    "\n",
    "    dfAnn = DataFrame(data)\n",
    "    dfAnn.columns = column_names\n",
    "    return dfAnn"
   ]
  },
  {
   "cell_type": "code",
   "execution_count": 3,
   "metadata": {
    "collapsed": true
   },
   "outputs": [],
   "source": [
    "def getLengthsFromStrain(astrain, lenlen=100):\n",
    "    lengths = []\n",
    "    for we in sysgroba[sysgroba[\"Characteristics [Strain]\"] == astrain].Well.values:\n",
    "        we = conn.getObject('Well', we)\n",
    "        ii = 0\n",
    "        while True:\n",
    "            imid = we.getImage(ii)\n",
    "            ii = ii+1\n",
    "            if imid == None:\n",
    "                break\n",
    "            imId = imid.getId()\n",
    "            result = roiService.findByImage(imId, None)\n",
    "            for ii in range(len(result.rois)):\n",
    "\n",
    "                # get the coordinates of the outline of the ROI\n",
    "                s = result.rois[ii].copyShapes()[0]\n",
    "                pts = s.getPoints().getValue()\n",
    "                pts = [int(xx) for x in pts.split(' ') for xx in x.split(',') ]\n",
    "                pts = np.reshape(pts, (len(pts)/2, 2))\n",
    "\n",
    "                # from coordinates to mask image\n",
    "                M0, m0, M1, m1 = pts[:,0].max(), pts[:,0].min(), pts[:,1].max(), pts[:,1].min()\n",
    "                imroi = np.zeros((M0-m0+1, M1-m1+1))\n",
    "                for i in range(pts.shape[0]):\n",
    "                    imroi[pts[i, 0]-m0, pts[i, 1]-m1] = 1    \n",
    "\n",
    "                iml = skmes.label(1-imroi, connectivity=1)\n",
    "                imroi = 1*(iml==iml[iml.shape[0]/2, iml.shape[1]/2])\n",
    "\n",
    "                # length of cell as length of bounding box of rotated image\n",
    "                # (thanks to the particular shape of yeast cells)\n",
    "                # default orientation is changing in 0.16 so -pi/2 to make relative to x-axis\n",
    "                # http://scikit-image.org/docs/0.14.x/release_notes_and_installation.html#deprecations\n",
    "                ori = skmes.regionprops(1 * imroi, coordinates='rc')[0].orientation - (np.pi / 2)\n",
    "                imroi = sktrans.rotate(1. * imroi, -ori/(np.pi)*180, resize=True, order=0)\n",
    "                bbox = skmes.regionprops(skmes.label(imroi), coordinates='rc')[0].bbox\n",
    "                lengths.append(bbox[3] - bbox[1])\n",
    "        if len(lengths) > lenlen: # to speed things up when there are a lot of images...\n",
    "            break\n",
    "    return lengths"
   ]
  },
  {
   "cell_type": "markdown",
   "metadata": {},
   "source": [
    "### Connect"
   ]
  },
  {
   "cell_type": "code",
   "execution_count": 4,
   "metadata": {
    "collapsed": true
   },
   "outputs": [],
   "source": [
    "conn = connection()\n"
   ]
  },
  {
   "cell_type": "markdown",
   "metadata": {},
   "source": [
    "### Load data"
   ]
  },
  {
   "cell_type": "code",
   "execution_count": 4,
   "metadata": {
    "collapsed": true
   },
   "outputs": [],
   "source": [
    "roiService = conn.getRoiService()\n",
    "sysgroba = getBulkAnnotationAsDf(screenId, conn)"
   ]
  },
  {
   "cell_type": "markdown",
   "metadata": {},
   "source": [
    "### Extract length of cells as stored in ROIs in the IDR"
   ]
  },
  {
   "cell_type": "code",
   "execution_count": 6,
   "metadata": {
    "collapsed": true
   },
   "outputs": [],
   "source": [
    "WTls = getLengthsFromStrain('MS1404', lenlen=200)\n",
    "ash2ls = getLengthsFromStrain('ash2', lenlen=200)\n",
    "\n",
    "pixsize = .11  # could be taken from IDR metadata\n",
    "ash2ls = [x * pixsize for x in ash2ls]\n",
    "WTls = [x * pixsize for x in WTls]"
   ]
  },
  {
   "cell_type": "markdown",
   "metadata": {},
   "source": [
    "### Disconnect when done loading data"
   ]
  },
  {
   "cell_type": "code",
   "execution_count": null,
   "metadata": {
    "collapsed": true
   },
   "outputs": [],
   "source": [
    "conn.close()"
   ]
  },
  {
   "cell_type": "markdown",
   "metadata": {},
   "source": [
    "### Display comparison of wild type to perturbed cells"
   ]
  },
  {
   "cell_type": "code",
   "execution_count": 7,
   "metadata": {},
   "outputs": [
    {
     "data": {
      "image/png": "[encoded data removed]",
      "text/plain": [
       "<matplotlib.figure.Figure at 0x7f2bc32282d0>"
      ]
     },
     "metadata": {},
     "output_type": "display_data"
    }
   ],
   "source": [
    "plt.figure()\n",
    "h1 = plt.hist(ash2ls, bins=50, alpha=.5)\n",
    "h2 = plt.hist(WTls, bins=50, alpha=.5) "
   ]
  },
  {
   "cell_type": "code",
   "execution_count": 8,
   "metadata": {
    "scrolled": true
   },
   "outputs": [
    {
     "data": {
      "text/plain": [
       "Ttest_indResult(statistic=-3.9099766965779321, pvalue=0.00010626848336313707)"
      ]
     },
     "execution_count": 8,
     "metadata": {},
     "output_type": "execute_result"
    }
   ],
   "source": [
    "from scipy.stats import ttest_ind\n",
    "ttest_ind(WTls, ash2ls)"
   ]
  },
  {
   "cell_type": "markdown",
   "metadata": {},
   "source": [
    "### License\n",
    "\n",
    "Copyright (C) 2017 University of Dundee. All Rights Reserved.\n",
    "\n",
    "This program is free software; you can redistribute it and/or modify it under the terms of the GNU General Public License as published by the Free Software Foundation; either version 2 of the License, or (at your option) any later version.\n",
    "\n",
    "This program is distributed in the hope that it will be useful, but WITHOUT ANY WARRANTY; without even the implied warranty of MERCHANTABILITY or FITNESS FOR A PARTICULAR PURPOSE. See the GNU General Public License for more details.\n",
    "You should have received a copy of the GNU General Public License along with this program; if not, write to the Free Software Foundation, Inc., 51 Franklin Street, Fifth Floor, Boston, MA 02110-1301 USA."
   ]
  }
 ],
 "metadata": {
  "kernelspec": {
   "display_name": "OMERO Python 2",
   "language": "python",
   "name": "python2"
  },
  "language_info": {
   "codemirror_mode": {
    "name": "ipython",
    "version": 2
   },
   "file_extension": ".py",
   "mimetype": "text/x-python",
   "name": "python",
   "nbconvert_exporter": "python",
   "pygments_lexer": "ipython2",
   "version": "2.7.13"
  }
 },
 "nbformat": 4,
 "nbformat_minor": 2
}
