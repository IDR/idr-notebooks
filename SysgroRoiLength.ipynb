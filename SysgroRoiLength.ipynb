{
 "cells": [
  {
   "cell_type": "markdown",
   "metadata": {},
   "source": [
    "# Sysgro ROI Length\n",
    "This notebook loads the polygons which are linked to the images\n",
    "of idr0001-graml-sysgro and compares the length of cells labelled\n",
    "with a particular gene e.g. ASH2 versus the wild type."
   ]
  },
  {
   "cell_type": "markdown",
   "metadata": {},
   "source": [
    "### Dependencies\n",
    " * [Matplotlib](https://matplotlib.org/)\n",
    " * [NumPy](https://www.numpy.org/)\n",
    " * [Pandas](https://pandas.pydata.org/)\n",
    " * [Scikit-image](https://scikit-image.org/)\n",
    "\n",
    "The cell below will install dependencies if you choose to run the notebook in [Google Colab](https://colab.research.google.com/notebooks/intro.ipynb#recent=true)."
   ]
  },
  {
   "cell_type": "code",
   "execution_count": null,
   "metadata": {},
   "outputs": [],
   "source": [
    "%pip install idr-py"
   ]
  },
  {
   "cell_type": "code",
   "execution_count": 1,
   "metadata": {
    "collapsed": true
   },
   "outputs": [],
   "source": [
    "from idr import connection\n",
    "from pandas import DataFrame\n",
    "import omero\n",
    "\n",
    "import numpy as np\n",
    "import matplotlib.pyplot as plt\n",
    "from scipy.stats import ttest_ind\n",
    "import skimage.measure as skmes\n",
    "import skimage.transform as sktrans"
   ]
  },
  {
   "cell_type": "markdown",
   "metadata": {},
   "source": [
    "### Common variables"
   ]
  },
  {
   "cell_type": "code",
   "execution_count": 2,
   "metadata": {
    "collapsed": true
   },
   "outputs": [],
   "source": [
    "screenId = 3  # sysgro"
   ]
  },
  {
   "cell_type": "markdown",
   "metadata": {},
   "source": [
    "### Method definitions"
   ]
  },
  {
   "cell_type": "code",
   "execution_count": 3,
   "metadata": {
    "collapsed": true
   },
   "outputs": [],
   "source": [
    "def getBulkAnnotationAsDf(screenID, conn):\n",
    "    \"\"\"\n",
    "    Download the annotation file from a screen as a Pandas DataFrame\n",
    "    \"\"\"\n",
    "    screen = conn.getObject('Screen', screenID)\n",
    "    for ann in screen.listAnnotations():\n",
    "        if isinstance(ann, omero.gateway.FileAnnotationWrapper):\n",
    "            if (ann.getFile().getName() == 'bulk_annotations'):\n",
    "                if (ann.getFile().getSize() > 147625090):\n",
    "                    print(\"that's a big file...\")\n",
    "                    return None\n",
    "                ofId = ann.getFile().getId()\n",
    "                break\n",
    "    original_file = omero.model.OriginalFileI(ofId, False)\n",
    "    table = conn.c.sf.sharedResources().openTable(original_file)\n",
    "    try:\n",
    "        rowCount = table.getNumberOfRows()\n",
    "        column_names = [col.name for col in table.getHeaders()]\n",
    "\n",
    "        black_list = []\n",
    "        column_indices = []\n",
    "        for column_name in column_names:\n",
    "            if column_name in black_list:\n",
    "                continue\n",
    "            column_indices.append(column_names.index(column_name))\n",
    "\n",
    "        table_data = table.slice(column_indices, None)\n",
    "    finally:\n",
    "        table.close()\n",
    "\n",
    "    data = []\n",
    "    for index in range(rowCount):\n",
    "        row_values = [column.values[index] for column in table_data.columns]\n",
    "        data.append(row_values)\n",
    "\n",
    "    dfAnn = DataFrame(data)\n",
    "    dfAnn.columns = column_names\n",
    "    return dfAnn"
   ]
  },
  {
   "cell_type": "code",
   "execution_count": 4,
   "metadata": {
    "collapsed": true
   },
   "outputs": [],
   "source": [
    "def getLengthsFromStrain(astrain, lenlen=100, verbose=False):\n",
    "    lengths = []\n",
    "    params = omero.sys.ParametersI()\n",
    "    key = sysgroba[\"Characteristics [Strain]\"]\n",
    "    wellids = sysgroba[key == astrain].Well.values\n",
    "    params.addIds(wellids)\n",
    "    # Wells and images that contain a ROI\n",
    "    imageswithrois = queryService.projection(\n",
    "        'SELECT w.id, i.id FROM Image i JOIN i.wellSamples s JOIN s.well w '\n",
    "        'WHERE w.id in (:ids) AND EXISTS '\n",
    "        '(SELECT 1 FROM Roi AS r WHERE r.image = i) ORDER BY i.id', params)\n",
    "    wellswithrois = {}\n",
    "    for wid, iid in omero.rtypes.unwrap(imageswithrois):\n",
    "        try:\n",
    "            wellswithrois[wid].append(iid)\n",
    "        except KeyError:\n",
    "            wellswithrois[wid] = [iid]\n",
    "\n",
    "    for wid in sorted(wellswithrois.keys()):\n",
    "        for imId in wellswithrois[wid]:\n",
    "            result = roiService.findByImage(imId, None)\n",
    "            if verbose:\n",
    "                v = 'Well-id:%d Image-id:%d rois:[%d]'\n",
    "                print(v % (wid, imId, len(result.rois)))\n",
    "            for ii in range(len(result.rois)):\n",
    "\n",
    "                # get the coordinates of the outline of the ROI\n",
    "                s = result.rois[ii].copyShapes()[0]\n",
    "                pts = s.getPoints().getValue()\n",
    "                pts = [int(xx) for x in pts.split(' ') for xx in x.split(',')]\n",
    "                pts = np.reshape(pts, (len(pts) // 2, 2))\n",
    "\n",
    "                # from coordinates to mask image\n",
    "                M0, m0 = pts[:, 0].max(), pts[:, 0].min()\n",
    "                M1, m1 = pts[:, 1].max(), pts[:, 1].min()\n",
    "                imroi = np.zeros((M0 - m0 + 1, M1 - m1 + 1))\n",
    "                for i in range(pts.shape[0]):\n",
    "                    imroi[pts[i, 0] - m0, pts[i, 1] - m1] = 1\n",
    "\n",
    "                iml = skmes.label(1-imroi, connectivity=1)\n",
    "                imroi = 1 * (iml == iml[iml.shape[0] // 2,\n",
    "                                        iml.shape[1] // 2])\n",
    "\n",
    "                # length of cell as length of bounding box of rotated image\n",
    "                # (thanks to the particular shape of yeast cells)\n",
    "                # default orientation is changing in 0.16 so -pi/2 to\n",
    "                # make relative to x-axis\n",
    "                regions = skmes.regionprops(1 * imroi, coordinates='rc')[0]\n",
    "                ori = regions.orientation - np.pi // 2\n",
    "                imroi = sktrans.rotate(1. * imroi, - ori // np.pi * 180,\n",
    "                                       resize=True, order=0)\n",
    "                regions = skmes.regionprops(skmes.label(imroi),\n",
    "                                            coordinates='rc')[0]\n",
    "                bbox = regions.bbox\n",
    "                lengths.append(bbox[3] - bbox[1])\n",
    "        # to speed things up when there are a lot of images...\n",
    "        if len(lengths) > lenlen:\n",
    "            break\n",
    "    return lengths"
   ]
  },
  {
   "cell_type": "markdown",
   "metadata": {},
   "source": [
    "### Connect to IDR"
   ]
  },
  {
   "cell_type": "code",
   "execution_count": 5,
   "metadata": {
    "collapsed": true
   },
   "outputs": [
    {
     "name": "stdout",
     "output_type": "stream",
     "text": [
      "Connected to IDR ...\n"
     ]
    }
   ],
   "source": [
    "conn = connection('idr.openmicroscopy.org')"
   ]
  },
  {
   "cell_type": "markdown",
   "metadata": {},
   "source": [
    "### Load data"
   ]
  },
  {
   "cell_type": "code",
   "execution_count": 6,
   "metadata": {
    "collapsed": true
   },
   "outputs": [],
   "source": [
    "roiService = conn.getRoiService()\n",
    "queryService = conn.getQueryService()\n",
    "sysgroba = getBulkAnnotationAsDf(screenId, conn)"
   ]
  },
  {
   "cell_type": "markdown",
   "metadata": {},
   "source": [
    "### Extract length of cells as stored in ROIs in IDR"
   ]
  },
  {
   "cell_type": "code",
   "execution_count": 7,
   "metadata": {
    "collapsed": true
   },
   "outputs": [],
   "source": [
    "WTls = getLengthsFromStrain('MS1404', lenlen=1000)\n",
    "ash2ls = getLengthsFromStrain('ash2', lenlen=1000)\n",
    "pixsize = .11  # could be taken from IDR metadata\n",
    "ash2ls = [x * pixsize for x in ash2ls]\n",
    "WTls = [x * pixsize for x in WTls]"
   ]
  },
  {
   "cell_type": "markdown",
   "metadata": {},
   "source": [
    "### Disconnect"
   ]
  },
  {
   "cell_type": "code",
   "execution_count": 8,
   "metadata": {
    "collapsed": true
   },
   "outputs": [],
   "source": [
    "conn.close()"
   ]
  },
  {
   "cell_type": "markdown",
   "metadata": {},
   "source": [
    "### Display comparison of wild type to perturbed cells"
   ]
  },
  {
   "cell_type": "code",
   "execution_count": 9,
   "metadata": {},
   "outputs": [
    {
     "data": {
      "image/png": "[encoded data removed]",
      "text/plain": [
       "<Figure size 432x288 with 1 Axes>"
      ]
     },
     "metadata": {
      "needs_background": "light"
     },
     "output_type": "display_data"
    }
   ],
   "source": [
    "plt.figure()\n",
    "h1 = plt.hist(ash2ls, bins=50, alpha=.5)\n",
    "h2 = plt.hist(WTls, bins=50, alpha=.5)"
   ]
  },
  {
   "cell_type": "code",
   "execution_count": 10,
   "metadata": {
    "scrolled": true
   },
   "outputs": [
    {
     "data": {
      "text/plain": [
       "Ttest_indResult(statistic=-13.398273380158818, pvalue=2.5160251562338347e-39)"
      ]
     },
     "execution_count": 10,
     "metadata": {},
     "output_type": "execute_result"
    }
   ],
   "source": [
    "ttest_ind(WTls, ash2ls)"
   ]
  },
  {
   "cell_type": "markdown",
   "metadata": {},
   "source": [
    "### License\n",
    "Copyright (C) 2017-2020 University of Dundee. All Rights Reserved.\n",
    "This program is free software; you can redistribute it and/or modify it\n",
    "under the terms of the GNU General Public License as published by the\n",
    "Free Software Foundation; either version 2 of the License, or\n",
    "(at your option) any later version.\n",
    "This program is distributed in the hope that it will be useful, but\n",
    "WITHOUT ANY WARRANTY; without even the implied warranty of MERCHANTABILITY\n",
    "or FITNESS FOR A PARTICULAR PURPOSE. See the GNU General Public License for\n",
    "more details. You should have received a copy of the GNU General\n",
    "Public License along with this program; if not, write to the\n",
    "Free Software Foundation,\n",
    "Inc., 51 Franklin Street, Fifth Floor, Boston, MA 02110-1301 USA."
   ]
  }
 ],
 "metadata": {
  "kernelspec": {
   "display_name": "Python 3",
   "language": "python",
   "name": "python3"
  },
  "language_info": {
   "codemirror_mode": {
    "name": "ipython",
    "version": 3
   },
   "file_extension": ".py",
   "mimetype": "text/x-python",
   "name": "python",
   "nbconvert_exporter": "python",
   "pygments_lexer": "ipython3",
   "version": "3.7.10"
  }
 },
 "nbformat": 4,
 "nbformat_minor": 2
}
