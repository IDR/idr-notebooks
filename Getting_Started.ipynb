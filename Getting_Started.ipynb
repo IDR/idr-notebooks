{
 "cells": [
  {
   "cell_type": "markdown",
   "metadata": {},
   "source": [
    "### Getting started ###\n",
    "This notebook provides a few examples of working with the IDR data.\n",
    "Functions can be found in [idr-py](https://github.com/IDR/idr-py/). Feel free\n",
    "to copy notebooks into the scratch space and edit as necessary.\n",
    "**All** changes should be considered temporary. Download a copy of\n",
    "notebooks and results when your session is complete."
   ]
  },
  {
   "cell_type": "markdown",
   "metadata": {},
   "source": [
    "### Install dependencies if required\n",
    "The cell below will install dependencies if you choose to run the notebook in [Google Colab](https://colab.research.google.com/notebooks/intro.ipynb#recent=true)."
   ]
  },
  {
   "cell_type": "code",
   "execution_count": null,
   "metadata": {},
   "outputs": [],
   "source": [
    "%pip install idr-py"
   ]
  },
  {
   "cell_type": "code",
   "execution_count": 3,
   "metadata": {},
   "outputs": [],
   "source": [
    "from IPython.display import display, Image\n",
    "from IPython import get_ipython\n",
    "from idr import connection\n",
    "from idr import images_by_phenotype, attributes_by_attributes\n",
    "from idr import simple_colocalisation\n",
    "get_ipython().run_line_magic('matplotlib', 'inline')"
   ]
  },
  {
   "cell_type": "code",
   "execution_count": 4,
   "metadata": {},
   "outputs": [
    {
     "name": "stderr",
     "output_type": "stream",
     "text": [
      "No handlers could be found for logger \"omero.gateway\"\n"
     ]
    }
   ],
   "source": [
    "conn = connection('idr.openmicroscopy.org')"
   ]
  },
  {
   "cell_type": "code",
   "execution_count": 5,
   "metadata": {},
   "outputs": [
    {
     "data": {
      "image/jpeg": "[encoded data removed]",
      "text/plain": [
       "<IPython.core.display.Image object>"
      ]
     },
     "metadata": {},
     "output_type": "display_data"
    },
    {
     "data": {
      "image/jpeg": "[encoded data removed]",
      "text/plain": [
       "<IPython.core.display.Image object>"
      ]
     },
     "metadata": {},
     "output_type": "display_data"
    },
    {
     "data": {
      "image/jpeg": "[encoded data removed]",
      "text/plain": [
       "<IPython.core.display.Image object>"
      ]
     },
     "metadata": {},
     "output_type": "display_data"
    },
    {
     "data": {
      "image/jpeg": "[encoded data removed]",
      "text/plain": [
       "<IPython.core.display.Image object>"
      ]
     },
     "metadata": {},
     "output_type": "display_data"
    },
    {
     "data": {
      "image/jpeg": "[encoded data removed]",
      "text/plain": [
       "<IPython.core.display.Image object>"
      ]
     },
     "metadata": {},
     "output_type": "display_data"
    }
   ],
   "source": [
    "images = images_by_phenotype(conn, \"CMPO_0000077\")\n",
    "display(*tuple([Image(img.getThumbnail()) for img in images[100:2500:500]]))"
   ]
  },
  {
   "cell_type": "code",
   "execution_count": 6,
   "metadata": {},
   "outputs": [
    {
     "data": {
      "image/png": "[encoded data removed]",
      "text/plain": [
       "<matplotlib.figure.Figure at 0x10d7b9210>"
      ]
     },
     "metadata": {},
     "output_type": "display_data"
    }
   ],
   "source": [
    "simple_colocalisation(images[999])"
   ]
  },
  {
   "cell_type": "code",
   "execution_count": 7,
   "metadata": {},
   "outputs": [
    {
     "data": {
      "text/plain": [
       "{('Gene Symbol', 'CDC14'): [('Phenotype Term Accession', 'CMPO_0000427'),\n",
       "  ('Phenotype Term Accession', 'CMPO_0000397'),\n",
       "  ('Phenotype', 'altered kinetochore foci'),\n",
       "  ('Phenotype Term Name', 'protein localized in nucleolus phenotype'),\n",
       "  ('Phenotype Term Name', 'kinetochore phenotype'),\n",
       "  ('Phenotype Term Accession URL', 'http://www.ebi.ac.uk/cmpo/CMPO_0000397'),\n",
       "  ('Phenotype', 'GFP localization: nucleolus'),\n",
       "  ('Phenotype Term Accession URL', 'http://www.ebi.ac.uk/cmpo/CMPO_0000427')],\n",
       " ('Gene Symbol', 'cdc14'): [('Phenotype Term Accession', 'CMPO_0000416'),\n",
       "  ('Phenotype Term Accession URL', 'http://www.ebi.ac.uk/cmpo/CMPO_0000416'),\n",
       "  ('Phenotype', 'defective cell-cell aggregation'),\n",
       "  ('Phenotype Term Name', 'fewer aggregated cells in population phenotype')]}"
      ]
     },
     "execution_count": 7,
     "metadata": {},
     "output_type": "execute_result"
    }
   ],
   "source": [
    "args = {\n",
    "    \"name\": \"Gene Symbol\",\n",
    "    \"value\": \"cdc14\",\n",
    "    \"ns\": \"openmicroscopy.org/mapr/gene\",\n",
    "    \"ns2\": \"openmicroscopy.org/mapr/phenotype\",\n",
    "    # \"name2\": \"Phenotype Term Accession\", # optional\n",
    "}\n",
    "attributes_by_attributes(conn, **args)\n"
   ]
  },
  {
   "cell_type": "markdown",
   "metadata": {},
   "source": [
    "### Close the connection to IDR"
   ]
  },
  {
   "cell_type": "code",
   "execution_count": null,
   "metadata": {
    "collapsed": true
   },
   "outputs": [],
   "source": [
    "conn.close()"
   ]
  },
  {
   "cell_type": "markdown",
   "metadata": {},
   "source": [
    "### License\n",
    "Copyright (C) 2016-2020 University of Dundee. All Rights Reserved.\n",
    "This program is free software; you can redistribute it and/or modify it\n",
    "under the terms of the GNU General Public License as published by the\n",
    "Free Software Foundation; either version 2 of the License, or\n",
    "(at your option) any later version.\n",
    "This program is distributed in the hope that it will be useful, but\n",
    "WITHOUT ANY WARRANTY; without even the implied warranty of MERCHANTABILITY\n",
    "or FITNESS FOR A PARTICULAR PURPOSE. See the GNU General Public License for\n",
    "more details. You should have received a copy of the GNU General\n",
    "Public License along with this program; if not, write to the\n",
    "Free Software Foundation,\n",
    "Inc., 51 Franklin Street, Fifth Floor, Boston, MA 02110-1301 USA."
   ]
  }
 ],
 "metadata": {
  "kernelspec": {
   "display_name": "Python 3",
   "language": "python",
   "name": "python3"
  },
  "language_info": {
   "codemirror_mode": {
    "name": "ipython",
    "version": 3
   },
   "file_extension": ".py",
   "mimetype": "text/x-python",
   "name": "python",
   "nbconvert_exporter": "python",
   "pygments_lexer": "ipython3",
   "version": "3.7.10"
  }
 },
 "nbformat": 4,
 "nbformat_minor": 2
}
