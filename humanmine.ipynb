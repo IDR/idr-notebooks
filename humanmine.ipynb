{
 "cells": [
  {
   "cell_type": "markdown",
   "id": "geographic-department",
   "metadata": {},
   "source": [
    "# Diabetes related genes expressed in pancreas\n",
    "\n",
    "This notebook shows how to integrate genomic and image data resources.\n",
    "This notebook looks at the question **Which diabetes related genes are expressed in the pancreas?**\n",
    "Tissue and disease can be modified.\n",
    "\n",
    "\n",
    "Steps:\n",
    "\n",
    "* Query [humanmine.org](https://www.humanmine.org/humanmine), an integrated database of *Homo sapiens* genomic data using the intermine API to find the genes.\n",
    "* Using the list of found genes, search in the Image Data Resource (IDR) for images linked to the genes, tissue and disease.\n",
    "\n",
    " \n",
    "We use the intermine API and the IDR API. This notebook is inspired by [Workshop_Pax6Workflow](https://github.com/intermine/intermine-ws-python-docs/blob/master/Workshop_Pax6Workflow.ipynb).\n",
    "\n",
    "## Summary:\n",
    "![Overview](./includes/HumanMineIDR.png)\n",
    "\n",
    "## Settings:\n",
    "\n",
    "\n",
    "### Auxiliary libraries used\n",
    "* [nb_conda_kernels](https://github.com/Anaconda-Platform/nb_conda_kernels): Enables a Jupyter Notebook or JupyterLab application in one conda environment to access kernels for Python, R, and other languages found in other environments.\n",
    "* [jupyter_contrib_nbextensions](https://jupyter-contrib-nbextensions.readthedocs.io/en/latest/index.html): Package containing a collection of community-contributed unofficial extensions that add functionality to the Jupyter notebook.\n",
    "\n",
    "## Launch\n",
    "\n",
    "### binder\n",
    "\n",
    "If not already running, you can launch by clicking on the logo [![Binder <](https://mybinder.org/badge_logo.svg)](https://mybinder.org/v2/gh/IDR/idr-notebooks/master?urlpath=notebooks%2Fhumanmine.ipynb)\n",
    "\n",
    "### run locally using Docker and repo2docker\n",
    "\n",
    "With ``jupyter-repo2docker`` installed, run:\n",
    "\n",
    "```\n",
    "git clone https://github.com/IDR/idr-notebooks.git\n",
    "cd idr-notebooks\n",
    "repo2docker .\n",
    "```"
   ]
  },
  {
   "cell_type": "markdown",
   "id": "conscious-metabolism",
   "metadata": {},
   "source": [
    "### Install dependencies if required\n",
    "The cell below will install dependencies if you choose to run the notebook in [Google Colab](https://colab.research.google.com/notebooks/intro.ipynb#recent=true)."
   ]
  },
  {
   "cell_type": "code",
   "execution_count": 1,
   "id": "hazardous-complement",
   "metadata": {},
   "outputs": [
    {
     "name": "stdout",
     "output_type": "stream",
     "text": [
      "Requirement already satisfied: intermine in /Users/jmarie/opt/anaconda3/envs/stardist-1/lib/python3.9/site-packages (1.13.0)\n",
      "Note: you may need to restart the kernel to use updated packages.\n"
     ]
    }
   ],
   "source": [
    "%pip install intermine"
   ]
  },
  {
   "cell_type": "markdown",
   "id": "external-swaziland",
   "metadata": {},
   "source": [
    "### Import libraries "
   ]
  },
  {
   "cell_type": "code",
   "execution_count": 2,
   "id": "collect-sensitivity",
   "metadata": {},
   "outputs": [
    {
     "name": "stderr",
     "output_type": "stream",
     "text": [
      "/var/folders/74/13j9m56j0l7cxdczjrykzqt40000gn/T/ipykernel_66080/2302067470.py:9: DeprecationWarning: Importing display from IPython.core.display is deprecated since IPython 7.14, please import from IPython display\n",
      "  from IPython.core.display import display, HTML\n"
     ]
    }
   ],
   "source": [
    "# libraries to interact with intermine\n",
    "from intermine.webservice import Service\n",
    "\n",
    "# libraries to interact with IDR\n",
    "import requests\n",
    "import json\n",
    "\n",
    "# Display the images\n",
    "from IPython.core.display import display, HTML"
   ]
  },
  {
   "cell_type": "markdown",
   "id": "accomplished-transsexual",
   "metadata": {},
   "source": [
    "## Search for genes in HumanMine\n",
    "\n",
    "We first define the output columns, then add the constraints i.e. specify the tissue and the disease."
   ]
  },
  {
   "cell_type": "code",
   "execution_count": 3,
   "id": "supreme-battery",
   "metadata": {},
   "outputs": [],
   "source": [
    "TISSUE = \"Pancreas\" # \"Cerebellum\" # \"little brain\"\n",
    "DISEASE = \"diabetes\" #\"MICROCEPHALY\""
   ]
  },
  {
   "cell_type": "code",
   "execution_count": 4,
   "id": "interracial-petite",
   "metadata": {},
   "outputs": [],
   "source": [
    "service = Service(\"https://www.humanmine.org/humanmine/service\")"
   ]
  },
  {
   "cell_type": "code",
   "execution_count": 5,
   "id": "empty-yeast",
   "metadata": {},
   "outputs": [],
   "source": [
    "query = service.new_query(\"Gene\")"
   ]
  },
  {
   "cell_type": "code",
   "execution_count": 6,
   "id": "miniature-sailing",
   "metadata": {},
   "outputs": [
    {
     "data": {
      "text/plain": [
       "<intermine.query.Query at 0x11189dfd0>"
      ]
     },
     "execution_count": 6,
     "metadata": {},
     "output_type": "execute_result"
    }
   ],
   "source": [
    "query.add_view(\n",
    "    \"primaryIdentifier\", \"symbol\", \"proteinAtlasExpression.cellType\",\n",
    "    \"proteinAtlasExpression.level\", \"proteinAtlasExpression.reliability\",\n",
    "    \"proteinAtlasExpression.tissue.name\"\n",
    ")"
   ]
  },
  {
   "cell_type": "markdown",
   "id": "ordered-director",
   "metadata": {},
   "source": [
    "We look for those genes in the specified tissue and that are also associated with the specified disease."
   ]
  },
  {
   "cell_type": "code",
   "execution_count": 7,
   "id": "prospective-stable",
   "metadata": {},
   "outputs": [
    {
     "data": {
      "text/plain": [
       "<BinaryConstraint: Gene.diseases.name CONTAINS diabetes>"
      ]
     },
     "execution_count": 7,
     "metadata": {},
     "output_type": "execute_result"
    }
   ],
   "source": [
    "query.add_constraint(\"proteinAtlasExpression.tissue.name\", \"=\", TISSUE)\n",
    "query.add_constraint(\"proteinAtlasExpression.level\", \"ONE OF\", [\"Medium\", \"High\"])\n",
    "query.add_constraint(\"organism.name\", \"=\", \"Homo sapiens\")\n",
    "query.add_constraint(\"diseases.name\", \"CONTAINS\", DISEASE)"
   ]
  },
  {
   "cell_type": "markdown",
   "id": "proved-bronze",
   "metadata": {},
   "source": [
    "Collect the genes"
   ]
  },
  {
   "cell_type": "code",
   "execution_count": 8,
   "id": "adopted-treaty",
   "metadata": {},
   "outputs": [],
   "source": [
    "upin_tissue = set()\n",
    "for row in query.rows():\n",
    "    upin_tissue.add(row[\"symbol\"])\n",
    "genes = sorted(upin_tissue, reverse=True)"
   ]
  },
  {
   "cell_type": "markdown",
   "id": "selective-pathology",
   "metadata": {},
   "source": [
    "Print out the list of genes"
   ]
  },
  {
   "cell_type": "code",
   "execution_count": 9,
   "id": "secret-labor",
   "metadata": {},
   "outputs": [
    {
     "name": "stdout",
     "output_type": "stream",
     "text": [
      "YIPF5 WFS1 VEGFA TCF7L2 TBC1D4 SOD2 SLC30A8 PTPN22 \n",
      "PDX1 MIA3 KCNJ11 IRS2 IRS1 INSR INS IGF2BP2 \n",
      "IER3IP1 HNF4A HNF1B HMGA1 HFE GPD2 GCK ENPP1 \n",
      "EIF2AK3 DNAJC3 CEL CAPN10 APPL1 AKT2 ABCC8 "
     ]
    }
   ],
   "source": [
    "for i, a in enumerate(genes):\n",
    "    print(a, end=' ')\n",
    "    if i % 8 == 7: \n",
    "        print(\"\")"
   ]
  },
  {
   "cell_type": "markdown",
   "id": "pending-fusion",
   "metadata": {},
   "source": [
    "## Search for images in IDR associated to the genes found in HumanMine\n",
    "\n",
    "From the list of genes found using the intermine API, we are now looking in [Image Data Resource](https://idr.openmicroscopy.org/) for studies linked to those genes and with **TISSUE** as a ``Sample Type``."
   ]
  },
  {
   "cell_type": "code",
   "execution_count": 62,
   "id": "following-blues",
   "metadata": {},
   "outputs": [],
   "source": [
    "TYPE = \"gene\"\n",
    "SAMPLE_TYPE = \"tissue\"\n",
    "EXPRESSION_KEY = \"Expression Pattern Description\"\n",
    "EXPRESSION = \"Islets\" # \"Brain\"\n",
    "STAGE = \"Developmental Stage\"\n",
    "KEY = \"Gene Symbol\"\n",
    "PART_KEY = \"Organism Part\"\n",
    "PATHOLOGY_KEY = \"Pathology\"\n",
    "PATHOLOGY_NORMAL_VALUE = \"Normal\""
   ]
  },
  {
   "cell_type": "markdown",
   "id": "occupied-breakfast",
   "metadata": {},
   "source": [
    "### Set up base URLS so can use shorter variable names later on"
   ]
  },
  {
   "cell_type": "code",
   "execution_count": 11,
   "id": "intermediate-belly",
   "metadata": {},
   "outputs": [],
   "source": [
    "SEARCH_URL = \"https://idr-testing.openmicroscopy.org/searchengine/api/v1/resources/{type}/search/\"\n",
    "KEY_VALUE_SEARCH = SEARCH_URL + \"?key={key}&value={value}\""
   ]
  },
  {
   "cell_type": "markdown",
   "id": "round-dancing",
   "metadata": {},
   "source": [
    "### Set up where to query and session"
   ]
  },
  {
   "cell_type": "code",
   "execution_count": 12,
   "id": "supported-jaguar",
   "metadata": {
    "code_folding": []
   },
   "outputs": [],
   "source": [
    "INDEX_PAGE = \"https://idr-testing.openmicroscopy.org/webclient/?experimenter=-1\"\n",
    "\n",
    "# create http session\n",
    "with requests.Session() as session:\n",
    "    request = requests.Request('GET', INDEX_PAGE)\n",
    "    prepped = session.prepare_request(request)\n",
    "    response = session.send(prepped)\n",
    "    if response.status_code != 200:\n",
    "        response.raise_for_status()"
   ]
  },
  {
   "cell_type": "markdown",
   "id": "elect-batch",
   "metadata": {},
   "source": [
    "### Search studies\n",
    "Search the studies related to the list of genes found in the HumanMine resource."
   ]
  },
  {
   "cell_type": "code",
   "execution_count": 41,
   "id": "perfect-throw",
   "metadata": {},
   "outputs": [
    {
     "name": "stdout",
     "output_type": "stream",
     "text": [
      "CPU times: user 39.5 ms, sys: 13 ms, total: 52.5 ms\n",
      "Wall time: 638 ms\n"
     ]
    }
   ],
   "source": [
    "%%time\n",
    "import collections\n",
    "from collections import defaultdict\n",
    "\n",
    "results = {}\n",
    "for gene in genes:\n",
    "    qs1 = {'type': 'image', 'key': KEY, 'value': gene}\n",
    "    url = KEY_VALUE_SEARCH.format(**qs1)\n",
    "    json = session.get(url).json()\n",
    "    images = json['results']['results']\n",
    "    results[gene] = images"
   ]
  },
  {
   "cell_type": "markdown",
   "id": "returning-retreat",
   "metadata": {},
   "source": [
    "**First we filter images with the development stage.**"
   ]
  },
  {
   "cell_type": "code",
   "execution_count": 43,
   "id": "65e78cd7",
   "metadata": {},
   "outputs": [],
   "source": [
    "development_stage = {}\n",
    "for k in results:\n",
    "    images = results[k]\n",
    "    result_images = defaultdict(list)\n",
    "    for image in images:\n",
    "        values = image[\"key_values\"]\n",
    "        stage = \"\"\n",
    "        for v in values:\n",
    "            name = v[\"name\"]\n",
    "            value = v['value']\n",
    "            if name == STAGE:\n",
    "                stage = value\n",
    "            if name == EXPRESSION_KEY and EXPRESSION in value:\n",
    "                result_images[stage].append(image[\"id\"])\n",
    "    development_stage[k] = result_images.items()"
   ]
  },
  {
   "cell_type": "code",
   "execution_count": 44,
   "id": "adapted-ethics",
   "metadata": {},
   "outputs": [
    {
     "name": "stdout",
     "output_type": "stream",
     "text": [
      "{'PDX1': dict_items([('15PCW', [9841210, 9841211]), ('9PCW', [9841212, 9841213, 9841218, 9841219]), ('CS21', [9841214, 9841215]), ('CS16', [9841216, 9841217])])}\n"
     ]
    }
   ],
   "source": [
    "print(development_stage)"
   ]
  },
  {
   "cell_type": "markdown",
   "id": "fallen-girlfriend",
   "metadata": {},
   "source": [
    "## Display the images\n",
    "Display the images associated to the genes."
   ]
  },
  {
   "cell_type": "code",
   "execution_count": 45,
   "id": "sunset-playlist",
   "metadata": {},
   "outputs": [],
   "source": [
    "BASE_URL = \"https://idr.openmicroscopy.org/webclient\"\n",
    "IMAGE_DATA_URL = BASE_URL + \"/render_thumbnail/{id}\"\n",
    "LINK_URL = BASE_URL + \"/?show=image-{id}\""
   ]
  },
  {
   "cell_type": "markdown",
   "id": "subjective-radius",
   "metadata": {},
   "source": [
    "## Display the images with development stage"
   ]
  },
  {
   "cell_type": "code",
   "execution_count": 46,
   "id": "detailed-oakland",
   "metadata": {},
   "outputs": [
    {
     "data": {
      "text/html": [
       "<table><tr><td><h2>Gene: PDX1</h2></td></tr><tr><tr><td><h4>Developmental stage: 15PCW</h4></td></tr><tr><td><a href=\"https://idr.openmicroscopy.org/webclient/?show=image-9841210\" target=\"_blank\"><img src=\"https://idr.openmicroscopy.org/webclient/render_thumbnail/9841210\"/></a></td><td><a href=\"https://idr.openmicroscopy.org/webclient/?show=image-9841211\" target=\"_blank\"><img src=\"https://idr.openmicroscopy.org/webclient/render_thumbnail/9841211\"/></a></td></tr><tr><td><h4>Developmental stage: 9PCW</h4></td></tr><tr><td><a href=\"https://idr.openmicroscopy.org/webclient/?show=image-9841212\" target=\"_blank\"><img src=\"https://idr.openmicroscopy.org/webclient/render_thumbnail/9841212\"/></a></td><td><a href=\"https://idr.openmicroscopy.org/webclient/?show=image-9841213\" target=\"_blank\"><img src=\"https://idr.openmicroscopy.org/webclient/render_thumbnail/9841213\"/></a></td><td><a href=\"https://idr.openmicroscopy.org/webclient/?show=image-9841218\" target=\"_blank\"><img src=\"https://idr.openmicroscopy.org/webclient/render_thumbnail/9841218\"/></a></td><td><a href=\"https://idr.openmicroscopy.org/webclient/?show=image-9841219\" target=\"_blank\"><img src=\"https://idr.openmicroscopy.org/webclient/render_thumbnail/9841219\"/></a></td></tr><tr><td><h4>Developmental stage: CS21</h4></td></tr><tr><td><a href=\"https://idr.openmicroscopy.org/webclient/?show=image-9841214\" target=\"_blank\"><img src=\"https://idr.openmicroscopy.org/webclient/render_thumbnail/9841214\"/></a></td><td><a href=\"https://idr.openmicroscopy.org/webclient/?show=image-9841215\" target=\"_blank\"><img src=\"https://idr.openmicroscopy.org/webclient/render_thumbnail/9841215\"/></a></td></tr><tr><td><h4>Developmental stage: CS16</h4></td></tr><tr><td><a href=\"https://idr.openmicroscopy.org/webclient/?show=image-9841216\" target=\"_blank\"><img src=\"https://idr.openmicroscopy.org/webclient/render_thumbnail/9841216\"/></a></td><td><a href=\"https://idr.openmicroscopy.org/webclient/?show=image-9841217\" target=\"_blank\"><img src=\"https://idr.openmicroscopy.org/webclient/render_thumbnail/9841217\"/></a></td></tr></tr></table>"
      ],
      "text/plain": [
       "<IPython.core.display.HTML object>"
      ]
     },
     "metadata": {},
     "output_type": "display_data"
    }
   ],
   "source": [
    "html = \"<table>\"\n",
    "for gene in development_stage:\n",
    "    images = development_stage[gene]\n",
    "    if len(images) > 0:\n",
    "        html += '<tr><td><h2>Gene: '+gene+'</h2></td></tr><tr>'\n",
    "        for k, v in images:\n",
    "            html += '<tr><td><h4>Developmental stage: '+k+'</h4></td></tr><tr>'\n",
    "            for i in v:\n",
    "                qs = {'id': i}\n",
    "                url = IMAGE_DATA_URL.format(**qs)\n",
    "                url_link = LINK_URL.format(**qs)\n",
    "                html += '<td><a href=\"'+url_link+'\" target=\"_blank\"><img src=\"'+url+'\"/></a></td>'\n",
    "            html += \"</tr>\"\n",
    "        html += \"</tr>\"\n",
    "html += \"</table>\"\n",
    "display(HTML(html))"
   ]
  },
  {
   "cell_type": "markdown",
   "id": "58ce82b3",
   "metadata": {},
   "source": [
    "**Now we filter images with a given Organism Part value**.\n",
    "\n",
    "We should have normal vs diseased data."
   ]
  },
  {
   "cell_type": "code",
   "execution_count": 165,
   "id": "c919ffac",
   "metadata": {},
   "outputs": [],
   "source": [
    "pathology_images = {}\n",
    "for k in results:\n",
    "    images = results[k]\n",
    "    result_images = defaultdict(list)\n",
    "    for image in images:\n",
    "        values = image[\"key_values\"]\n",
    "        part = None\n",
    "        for v in values:\n",
    "            name = v[\"name\"]\n",
    "            value = v['value']\n",
    "            if PART in name and (TISSUE or EXPRESSION in value):\n",
    "                part = value\n",
    "        for v in values:\n",
    "            name = v[\"name\"]\n",
    "            value = v['value']\n",
    "            if part is not None and name == PATHOLOGY_KEY:\n",
    "                if PATHOLOGY_NORMAL_VALUE in value:\n",
    "                    result_images[PATHOLOGY_NORMAL_VALUE].append(image[\"id\"])\n",
    "                else:\n",
    "                    result_images[value].append(image[\"id\"])\n",
    "    pathology_images[k] = result_images.items()"
   ]
  },
  {
   "cell_type": "code",
   "execution_count": 166,
   "id": "3ca68cfe",
   "metadata": {},
   "outputs": [
    {
     "ename": "NameError",
     "evalue": "name 'disease_list_values' is not defined",
     "output_type": "error",
     "traceback": [
      "\u001b[0;31m---------------------------------------------------------------------------\u001b[0m",
      "\u001b[0;31mNameError\u001b[0m                                 Traceback (most recent call last)",
      "Input \u001b[0;32mIn [166]\u001b[0m, in \u001b[0;36m<cell line: 6>\u001b[0;34m()\u001b[0m\n\u001b[1;32m      7\u001b[0m     \u001b[38;5;28;01mif\u001b[39;00m k \u001b[38;5;241m!=\u001b[39m PATHOLOGY_NORMAL_VALUE:\n\u001b[1;32m      8\u001b[0m         disease_list\u001b[38;5;241m.\u001b[39mappend(k)\n\u001b[0;32m----> 9\u001b[0m         \u001b[43mdisease_list_values\u001b[49m\u001b[38;5;241m.\u001b[39mappend(\u001b[38;5;28mlen\u001b[39m(v))\n\u001b[1;32m     10\u001b[0m df \u001b[38;5;241m=\u001b[39m pd\u001b[38;5;241m.\u001b[39mDataFrame({\n\u001b[1;32m     11\u001b[0m     \u001b[38;5;124m'\u001b[39m\u001b[38;5;124mname\u001b[39m\u001b[38;5;124m'\u001b[39m:disease_list,\n\u001b[1;32m     12\u001b[0m     \u001b[38;5;124m'\u001b[39m\u001b[38;5;124mnumber\u001b[39m\u001b[38;5;124m'\u001b[39m:disease_list_values\n\u001b[1;32m     13\u001b[0m })\n\u001b[1;32m     14\u001b[0m \u001b[38;5;28;01mimport\u001b[39;00m \u001b[38;5;21;01mmatplotlib\u001b[39;00m\u001b[38;5;21;01m.\u001b[39;00m\u001b[38;5;21;01mpyplot\u001b[39;00m \u001b[38;5;28;01mas\u001b[39;00m \u001b[38;5;21;01mplt\u001b[39;00m\n",
      "\u001b[0;31mNameError\u001b[0m: name 'disease_list_values' is not defined"
     ]
    }
   ],
   "source": [
    "import pandas as pd\n",
    "disease_list = []\n",
    "disease_list_values = []\n",
    "gene = \"PDX1\"\n",
    "images = pathology_images[gene]\n",
    "\n",
    "for k, v in images:\n",
    "    if k != PATHOLOGY_NORMAL_VALUE:\n",
    "        disease_list.append(k)\n",
    "        disease_list_values.append(len(v))\n",
    "df = pd.DataFrame({\n",
    "    'name':disease_list,\n",
    "    'number':disease_list_values\n",
    "})\n",
    "import matplotlib.pyplot as plt\n",
    "df.plot(kind='bar',x='name',y='number')"
   ]
  },
  {
   "cell_type": "code",
   "execution_count": 164,
   "id": "96514107",
   "metadata": {},
   "outputs": [
    {
     "data": {
      "application/vnd.jupyter.widget-view+json": {
       "model_id": "d06de2ae91584a9e98eba40dd39504f7",
       "version_major": 2,
       "version_minor": 0
      },
      "text/plain": [
       "AppLayout(children=(Dropdown(description='Disease: ', layout=Layout(grid_area='header'), options=('Adenocarcin…"
      ]
     },
     "metadata": {},
     "output_type": "display_data"
    }
   ],
   "source": [
    "from ipywidgets import AppLayout, widgets\n",
    " \n",
    "gene = \"PDX1\"\n",
    "disease_list = []\n",
    "images = pathology_images[gene]\n",
    "increase = 5\n",
    "max_value = increase\n",
    "min_value = 0\n",
    "\n",
    "disease = \"\"\n",
    "\n",
    "for k, v in images:\n",
    "    if k != PATHOLOGY_NORMAL_VALUE:\n",
    "        disease_list.append(k)\n",
    "\n",
    "def display_images(images, min, max):\n",
    "    html = \"<table>\"\n",
    "    html += '<tr>'\n",
    "    if min < 0:\n",
    "        min = 0\n",
    "    if max >= len(images):\n",
    "        max = len(images)\n",
    "\n",
    "    \n",
    "    for i in images[min:max]:\n",
    "        qs = {'id': i}\n",
    "        url = IMAGE_DATA_URL.format(**qs)\n",
    "        url_link = LINK_URL.format(**qs)\n",
    "        html += '<td><a href=\"'+url_link+'\" target=\"_blank\"><img src=\"'+url+'\"/></a>&nbsp;</td>'\n",
    "    html += \"</tr>\"\n",
    "    html += \"</table>\"\n",
    "    html_widget.value = html\n",
    "    \n",
    "def on_selection_change(change):\n",
    "    global disease\n",
    "    if change['name'] == 'value':\n",
    "        values = get_images(change['new']) \n",
    "        if values is None:\n",
    "            return\n",
    "        disease = change['new']\n",
    "        min_value = 0\n",
    "        max_value = increase \n",
    "        display_images(values, 0, max_value)\n",
    "                \n",
    "def get_images(disease):\n",
    "    for k, v in images:\n",
    "        if k == disease:\n",
    "            return v\n",
    "    return None\n",
    "    \n",
    "def on_click_next(b):\n",
    "    global min_value\n",
    "    global max_value\n",
    "    max_value = max_value + increase\n",
    "    min_value = min_value + increase\n",
    "    values = get_images(disease)\n",
    "    button_previous.disabled = False\n",
    "    if values is None:\n",
    "        return\n",
    "    if max_value > len(values):\n",
    "        button_next.disabled = True\n",
    "        \n",
    "    display_images(values, min_value, max_value)\n",
    "\n",
    "def on_click_previous(b):\n",
    "    global min_value\n",
    "    global max_value\n",
    "    max_value = max_value - increase\n",
    "    min_value = min_value - increase\n",
    "    button_next.disabled = False\n",
    "    if min_value <= 0:  # reset \n",
    "        min_value = 0\n",
    "        max_value = increase\n",
    "        button_previous.disabled = True\n",
    "    values = get_images(disease)\n",
    "    if values is not None:\n",
    "        display_images(values, min_value, max_value)\n",
    "            \n",
    "def dropdown_widget(disease_list,\n",
    "                    dropdown_widget_name,\n",
    "                    displaywidget=False):\n",
    "\n",
    "    selection = widgets.Dropdown(\n",
    "        options=disease_list,\n",
    "        value=disease_list[0],\n",
    "        description=dropdown_widget_name,\n",
    "        disabled=False,\n",
    "    )\n",
    "    selection.observe(on_selection_change)\n",
    "    display_images(get_images(selection.value), min_value, max_value)\n",
    "    return selection\n",
    "\n",
    "\n",
    "\n",
    "html_widget = widgets.HTML(\"\")\n",
    "disease_box = dropdown_widget(\n",
    "    disease_list,\n",
    "    'Disease: ', True\n",
    ")\n",
    "\n",
    "button_next = widgets.Button(description=\"Next>>\")\n",
    "button_next.on_click(on_click_next)\n",
    "\n",
    "button_previous = widgets.Button(description=\"<<Previous\", disabled=True)\n",
    "button_previous.on_click(on_click_previous)\n",
    "\n",
    "AppLayout(header=disease_box,\n",
    "          left_sidebar=button_previous,\n",
    "          center=html_widget,\n",
    "          right_sidebar=button_next,\n",
    "          footer=None)\n"
   ]
  },
  {
   "cell_type": "markdown",
   "id": "sought-subsection",
   "metadata": {},
   "source": [
    "### License (BSD 2-Clause)¶\n",
    "\n",
    "Copyright (C) 2021-2022 University of Dundee. All Rights Reserved.\n",
    "\n",
    "Redistribution and use in source and binary forms, with or without modification, are permitted provided that the following conditions are met:\n",
    "\n",
    "Redistributions of source code must retain the above copyright notice, this list of conditions and the following disclaimer. Redistributions in binary form must reproduce the above copyright notice, this list of conditions and the following disclaimer in the documentation and/or other materials provided with the distribution. THIS SOFTWARE IS PROVIDED BY THE COPYRIGHT HOLDERS AND CONTRIBUTORS \"AS IS\" AND ANY EXPRESS OR IMPLIED WARRANTIES, INCLUDING, BUT NOT LIMITED TO, THE IMPLIED WARRANTIES OF MERCHANTABILITY AND FITNESS FOR A PARTICULAR PURPOSE ARE DISCLAIMED. IN NO EVENT SHALL THE COPYRIGHT OWNER OR CONTRIBUTORS BE LIABLE FOR ANY DIRECT, INDIRECT, INCIDENTAL, SPECIAL, EXEMPLARY, OR CONSEQUENTIAL DAMAGES (INCLUDING, BUT NOT LIMITED TO, PROCUREMENT OF SUBSTITUTE GOODS OR SERVICES; LOSS OF USE, DATA, OR PROFITS; OR BUSINESS INTERRUPTION) HOWEVER CAUSED AND ON ANY THEORY OF LIABILITY, WHETHER IN CONTRACT, STRICT LIABILITY, OR TORT (INCLUDING NEGLIGENCE OR OTHERWISE) ARISING IN ANY WAY OUT OF THE USE OF THIS SOFTWARE, EVEN IF ADVISED OF THE POSSIBILITY OF SUCH DAMAGE. "
   ]
  },
  {
   "cell_type": "code",
   "execution_count": null,
   "id": "ab04ccfa",
   "metadata": {},
   "outputs": [],
   "source": []
  }
 ],
 "metadata": {
  "kernelspec": {
   "display_name": "stardist-1",
   "language": "python",
   "name": "stardist-1"
  },
  "language_info": {
   "codemirror_mode": {
    "name": "ipython",
    "version": 3
   },
   "file_extension": ".py",
   "mimetype": "text/x-python",
   "name": "python",
   "nbconvert_exporter": "python",
   "pygments_lexer": "ipython3",
   "version": "3.9.12"
  }
 },
 "nbformat": 4,
 "nbformat_minor": 5
}
